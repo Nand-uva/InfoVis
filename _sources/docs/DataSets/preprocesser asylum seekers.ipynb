{
 "cells": [
  {
   "cell_type": "code",
   "execution_count": 1,
   "id": "5af55931-17a3-4896-b855-54db13879fd6",
   "metadata": {},
   "outputs": [],
   "source": [
    "import pandas as pd\n",
    "\n",
    "file_path = r'asylum_seekers.csv'\n",
    "data = pd.read_csv(file_path, low_memory=False)\n",
    "\n",
    "european_countries = [\n",
    "    \"Albania\", \"Andorra\", \"Armenia\", \"Austria\", \"Azerbaijan\", \"Belarus\", \"Belgium\", \"Bosnia and Herzegovina\",\n",
    "    \"Bulgaria\", \"Croatia\", \"Cyprus\", \"Czech Republic\", \"Denmark\", \"Estonia\", \"Finland\", \"France\", \"Georgia\",\n",
    "    \"Germany\", \"Greece\", \"Hungary\", \"Iceland\", \"Ireland\", \"Italy\", \"Kazakhstan\", \"Kosovo\", \"Latvia\", \"Liechtenstein\",\n",
    "    \"Lithuania\", \"Luxembourg\", \"Malta\", \"Moldova\", \"Monaco\", \"Montenegro\", \"Netherlands\", \"North Macedonia\", \"Norway\",\n",
    "    \"Poland\", \"Portugal\", \"Romania\", \"San Marino\", \"Serbia\", \"Slovakia\", \"Slovenia\", \"Spain\", \"Sweden\",\n",
    "    \"Switzerland\", \"Turkey\", \"Ukraine\", \"United Kingdom\", \"Vatican City\"\n",
    "]\n",
    "\n",
    "europe_data = data[data['Country / territory of asylum/residence'].isin(european_countries)].copy()\n",
    "\n",
    "europe_data['Tota pending start-year'] = pd.to_numeric(europe_data['Tota pending start-year'], errors='coerce')\n",
    "\n",
    "europe_data['Tota pending start-year'] = europe_data['Tota pending start-year'].fillna(0)\n",
    "\n",
    "output_file_path = r'preprocessed_asylum_seekers.csv'\n",
    "europe_data.to_csv(output_file_path, index=False)"
   ]
  }
 ],
 "metadata": {
  "kernelspec": {
   "display_name": "Python 3 (ipykernel)",
   "language": "python",
   "name": "python3"
  },
  "language_info": {
   "codemirror_mode": {
    "name": "ipython",
    "version": 3
   },
   "file_extension": ".py",
   "mimetype": "text/x-python",
   "name": "python",
   "nbconvert_exporter": "python",
   "pygments_lexer": "ipython3",
   "version": "3.11.7"
  }
 },
 "nbformat": 4,
 "nbformat_minor": 5
}
