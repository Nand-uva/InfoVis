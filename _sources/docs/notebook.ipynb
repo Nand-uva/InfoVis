{
 "cells": [
  {
   "cell_type": "markdown",
   "id": "3b46ee32",
   "metadata": {},
   "source": [
    "# Debates about the refugee crisis in Europe\n",
    "\n",
    "Student names: Nand Rizvanolli, Stan van der Bij, Sem van Veen, Noah Hamzaoui\n",
    "\n",
    "Team number: K3"
   ]
  },
  {
   "cell_type": "code",
   "execution_count": 1,
   "id": "e180382e",
   "metadata": {
    "tags": [
     "remove-input"
    ]
   },
   "outputs": [
    {
     "ename": "ModuleNotFoundError",
     "evalue": "No module named 'plotly'",
     "output_type": "error",
     "traceback": [
      "\u001b[0;31m---------------------------------------------------------------------------\u001b[0m",
      "\u001b[0;31mModuleNotFoundError\u001b[0m                       Traceback (most recent call last)",
      "Cell \u001b[0;32mIn[1], line 1\u001b[0m\n\u001b[0;32m----> 1\u001b[0m \u001b[38;5;28;01mimport\u001b[39;00m \u001b[38;5;21;01mplotly\u001b[39;00m\u001b[38;5;21;01m.\u001b[39;00m\u001b[38;5;21;01mexpress\u001b[39;00m \u001b[38;5;28;01mas\u001b[39;00m \u001b[38;5;21;01mpx\u001b[39;00m\n\u001b[1;32m      2\u001b[0m \u001b[38;5;28;01mimport\u001b[39;00m \u001b[38;5;21;01mpandas\u001b[39;00m \u001b[38;5;28;01mas\u001b[39;00m \u001b[38;5;21;01mpd\u001b[39;00m\n\u001b[1;32m      3\u001b[0m \u001b[38;5;28;01mimport\u001b[39;00m \u001b[38;5;21;01mplotly\u001b[39;00m\u001b[38;5;21;01m.\u001b[39;00m\u001b[38;5;21;01mgraph_objects\u001b[39;00m \u001b[38;5;28;01mas\u001b[39;00m \u001b[38;5;21;01mgo\u001b[39;00m\n",
      "\u001b[0;31mModuleNotFoundError\u001b[0m: No module named 'plotly'"
     ]
    }
   ],
   "source": [
    "import plotly.express as px\n",
    "import pandas as pd\n",
    "import plotly.graph_objects as go\n",
    "import matplotlib.pyplot as plt\n",
    "import itertools\n",
    "\n",
    "\n",
    "# Load image from link\n",
    "url = 'https://carnegie-production-assets.s3.amazonaws.com/static/media/images/GettyImages-494683712_refugee_605-1.jpg'\n",
    "\n",
    "# Display image from URL with smaller size and subtitle\n",
    "from IPython.display import Image, display\n",
    "\n",
    "# Set the desired image width and height\n",
    "width = 600\n",
    "height = 300\n",
    "\n",
    "# Set the subtitle text\n",
    "subtitle = \"© Carnegie Europe / Stefan Lehne\"\n",
    "\n",
    "# Create an Image instance with the URL\n",
    "image = Image(url=url, width=width, height=height)\n",
    "\n",
    "# Display the image and subtitle\n",
    "display(image)\n",
    "print(subtitle)"
   ]
  },
  {
   "cell_type": "markdown",
   "id": "7d5fce97-8e22-41ee-a19c-6c0f0fb2f08f",
   "metadata": {},
   "source": [
    "## Introduction"
   ]
  },
  {
   "cell_type": "markdown",
   "id": "7cf81853-c237-4df2-8ed4-9deae8423fb0",
   "metadata": {},
   "source": [
    "For more than a decade, the refugee crisis has been a significant issue within Europe, especially the European Union. Human rights organizations argue that the EU has a moral obligation to assist individuals escaping war and poverty, emphasizing the need to protect these people. These groups highlight that many refugees are fleeing life-threatening situations and require immediate support and a safe place to live.\n",
    "\n",
    "Conversely, some European governments and citizens express concerns about the potential negative impacts of accepting  a large number of refugees. These concerns include the general strain on the country’s welfare, and perhaps challenges with cultural integration. The refugee crisis has sparked intense debates, with different perspectives often clashing over how best to address the situation.\n",
    "\n",
    "This data story will explore the refugee crisis in Europe by analyzing various datasets on migration and more specifically refugees to better understand the realities of the situation. We will examine the actual number of refugees entering European countries, compare this with historical data, and analyze the socioeconomic impacts on host countries. Additionally, we will delve into the narratives surrounding the crisis, assessing whether the situation is as dire as some media and politicians suggest or if the influx of refugees is consistent with past trends."
   ]
  },
  {
   "cell_type": "markdown",
   "id": "d9d4c934-c639-495f-a2bc-ed078e5659c3",
   "metadata": {},
   "source": [
    "## Dataset and Preprocessing"
   ]
  },
  {
   "cell_type": "markdown",
   "id": "850c1744-f4cc-4cc1-b0a7-9207c75837d8",
   "metadata": {},
   "source": [
    "### Datasets\n",
    "\n",
    "This study utilizes multiple datasets sourced from various reputable organizations. Below is an overview of each dataset and the variables they contain:\n",
    "\n",
    "1. [**<u>RESPOND Dataset - Refugee Protection</u>**](https://zenodo.org/records/4653406)\n",
    "   - 33 Variables\n",
    "   - (2017-2020) Responses from interviews conducted with refugees.\n",
    "\n",
    "2. [**<u>United Narions (UN) World Refugee Data</u>**](https://www.kaggle.com/datasets/avtnshm/united-nations-refugee-data-unhcr)\n",
    "   - 12 Variables\n",
    "   - (1953-2023) Yearly data on the number of refugees worldwide as reported by the United Nations.\n",
    "\n",
    "3. [**<u>World Population Data</u>**](https://www.kaggle.com/datasets/iamsouravbanerjee/world-population-dataset)\n",
    "   - 17 Variables\n",
    "   - (1960-2022) Yearly population statistics for countries around the world.\n",
    "\n",
    "4. [**<u>World GDP</u>**](https://www.kaggle.com/datasets/zgrcemta/world-gdpgdp-gdp-per-capita-and-annual-growths)\n",
    "   - 64 Variables\n",
    "   - (1960-2020) Yearly information on the Gross Domestic Product (GDP) for countries around the world.\n",
    "\n",
    "5. [**<u>Refugees Germany</u>**](https://data.mendeley.com/datasets/p7k35cghyb/2)\n",
    "   - 21 Variables\n",
    "   - (2017) German refugees their life and reasoning for migration.\n",
    "\n",
    "6. [**<u>Pending Status Refugees</u>**](https://www.kaggle.com/datasets/unitednations/refugee-data)\n",
    "   - 14 Variables\n",
    "   - (2000-2016) Yearly progress of asylum-seekers through the refugee status determination process, with data on UNHCR assistance.\n",
    "\n",
    "\n",
    "### Preprocessing\n",
    "\n",
    "The preprocessing of these datasets involved several steps to ensure that the data was suitable for analysis. The key preprocessing steps are outlined below:\n",
    "\n",
    "1. **Filtering for European Countries:**\n",
    "   - The analysis focused solely on European countries. Therefore, non-European countries were excluded from the datasets (Turkey is the only country partly in Europe that is included, since it is an interesting and insightful case)\n",
    "\n",
    "2. **Selecting Relevant Columns:**\n",
    "   - Not all columns in each dataset were necessary for the analysis. The specific columns selected for each dataset are as follows:\n",
    "     - **Refugee Interview Dataset:**\n",
    "       - Country of residence during the interview (VAR01)\n",
    "       - Rejection, first instance (VAR27)\n",
    "     - **UN World Refugee Data:**\n",
    "       - Year\n",
    "       - Country of origin\n",
    "       - Country of asylum\n",
    "       - Refugees under UNCHR's mandate\n",
    "     - **World Population Data:**\n",
    "       - Country\n",
    "       - Population over the years\n",
    "     - **World GDP:**\n",
    "       - Country\n",
    "       - GDP Per Capita (Economic output of a country per inhabitant)\n",
    "       - GDP PPP Per Capita (Economic output of a country per inhabitant adjusted for purchasing power)\n",
    "     - **Public Acceptance of Refugees:**\n",
    "       - Reasoning for moving countries (vig_reason)\n",
    "     - **Pending Status Refugees:**\n",
    "       - Year\n",
    "       - Total pending applications start of the year\n",
    "\n",
    "3. **Data Cleaning:**\n",
    "   - Missing values and inconsistencies in the data were addressed. This involved handling null values, correcting data entry errors, and ensuring uniformity in data formats.\n",
    "\n",
    "4. **Data Integration:**\n",
    "   - The datasets World Population Data, World GDP & UN World Refugee Data were merged based on country ID and the last overlapping year (2020) for the bubble chart.\n",
    "\n",
    "By following these preprocessing steps, we ensured that the datasets were clean, consistent, and ready for subsequent analysis."
   ]
  },
  {
   "cell_type": "markdown",
   "id": "d5010a07-96a0-45a7-ba76-250a56053f62",
   "metadata": {},
   "source": [
    "## Amount of refugees"
   ]
  },
  {
   "cell_type": "markdown",
   "id": "6be914ac-c5bb-4725-8dcc-d73eb14777c3",
   "metadata": {},
   "source": [
    "We aim to analyze the refugee intake per capita in various European countries to understand the magnitude of the refugee crisis and its impact on host nations. By examining the number of refugees per 1000 inhabitants, we can identify trends and disparities in how different countries are coping with the influx of refugees. The data visualizations will help illustrate the extent of the burden and the increasing pressure on public services and infrastructure due to rising refugee numbers."
   ]
  },
  {
   "cell_type": "code",
   "execution_count": null,
   "id": "2b0dc160-2204-4ccd-a622-93f215707b1f",
   "metadata": {
    "tags": [
     "remove-input"
    ]
   },
   "outputs": [],
   "source": [
    "import pandas as pd\n",
    "import matplotlib.pyplot as plt\n",
    "import itertools\n",
    "\n",
    "line_styles = ['-', '--', '-.', ':']\n",
    "striped_line = (0, (5, 10))\n",
    "remaining_colors = itertools.cycle(plt.cm.tab20.colors)\n",
    "\n",
    "# Load the datasets\n",
    "population_data = pd.read_csv('DataSets/european_population.csv')\n",
    "refugee_data = pd.read_csv('DataSets/UN_European_Countries_Refugee_Data.csv')\n",
    "\n",
    "# Define years to exclude for specific countries\n",
    "excluded_years = {\n",
    "    'Croatia': list(range(1991, 2000)),\n",
    "    'Slovenia': list(range(1991, 1996)),\n",
    "    'North Macedonia': list(range(1991, 1996)),\n",
    "    'Montenegro': list(range(1991, 1996)),\n",
    "    'Bosnia and Herzegovina': list(range(1992, 1996)),\n",
    "    'Serbia': list(range(1992, 1996))\n",
    "}\n",
    "\n",
    "# Filter the refugee data to exclude the specified years for the specified countries\n",
    "for country, years in excluded_years.items():\n",
    "    refugee_data = refugee_data[~((refugee_data['Country of asylum'] == country) & (refugee_data['Year'].isin(years)))]\n",
    "\n",
    "# Use the 2022 population data for all years\n",
    "population_2022 = population_data[['Country/Territory', '2022 Population']]\n",
    "population_2022.columns = ['Country of asylum', 'Population']\n",
    "data_with_population = refugee_data.merge(population_2022, on='Country of asylum', how='left')\n",
    "data_with_population['Refugees per 1000'] = (data_with_population['Refugees under UNHCR\\'s mandate'] / data_with_population['Population']) * 1000\n",
    "data_grouped_per_capita = data_with_population.groupby(['Year', 'Country of asylum'])['Refugees per 1000'].sum().unstack()\n",
    "average_line_per_capita = data_grouped_per_capita.mean(axis=1)\n",
    "\n",
    "average_refugees_per_year_per_capita = data_grouped_per_capita.mean()\n",
    "top_10_avg_countries_per_capita = average_refugees_per_year_per_capita.sort_values(ascending=False).head(10).index\n",
    "top_10_avg_colors_per_capita = {country: color for country, color in zip(top_10_avg_countries_per_capita, plt.cm.tab10.colors)}\n",
    "top_10_avg_countries_data_per_capita = data_grouped_per_capita[top_10_avg_countries_per_capita]\n",
    "top_10_avg_line_per_capita = top_10_avg_countries_data_per_capita.mean(axis=1)\n",
    "\n",
    "plt.figure(figsize=(14, 8))\n",
    "for country in top_10_avg_countries_per_capita:\n",
    "    plt.plot(data_grouped_per_capita.index, data_grouped_per_capita[country], label=country, linestyle='-', color=top_10_avg_colors_per_capita[country])\n",
    "plt.plot(data_grouped_per_capita.index, top_10_avg_line_per_capita, label='Top 10 Avg Countries Average', linestyle=striped_line, color='black', linewidth=3)\n",
    "plt.title('Refugee Intake Over the Years per European Country Per 1000 Inhabitants - Top 10 Avg Countries')\n",
    "plt.xlabel('Year')\n",
    "plt.ylabel('Number of Refugees per 1000 Inhabitants')\n",
    "plt.xticks(rotation=45)\n",
    "plt.yticks(rotation=45)\n",
    "plt.ticklabel_format(style='plain', axis='y')\n",
    "plt.legend(loc='upper left', bbox_to_anchor=(1, 1))\n",
    "plt.tight_layout()\n",
    "plt.show()"
   ]
  },
  {
   "cell_type": "markdown",
   "id": "207cbb49",
   "metadata": {},
   "source": [
    "*Figure 2: Refugee intake per European country per 1000 inhabitants top 10 average countries.*"
   ]
  },
  {
   "cell_type": "code",
   "execution_count": null,
   "id": "879e6beb",
   "metadata": {
    "tags": [
     "remove-input"
    ]
   },
   "outputs": [],
   "source": [
    "below_top_10_avg_countries_per_capita = average_refugees_per_year_per_capita.sort_values(ascending=False).iloc[10:].index\n",
    "below_top_10_avg_countries_data_per_capita = data_grouped_per_capita[below_top_10_avg_countries_per_capita]\n",
    "below_top_10_avg_line_per_capita = below_top_10_avg_countries_data_per_capita.mean(axis=1)\n",
    "\n",
    "plt.figure(figsize=(14, 8))\n",
    "for country in below_top_10_avg_countries_per_capita:\n",
    "    plt.plot(data_grouped_per_capita.index, data_grouped_per_capita[country], label=country, linestyle=next(itertools.cycle(line_styles)), color=next(remaining_colors))\n",
    "plt.plot(data_grouped_per_capita.index, below_top_10_avg_line_per_capita, label='Below Top 10 Avg Countries Average', linestyle=striped_line, color='black', linewidth=3)\n",
    "plt.title('Refugee Intake Over the Years per European Country Per 1000 Inhabitants - Below Top 10 Avg Countries')\n",
    "plt.xlabel('Year')\n",
    "plt.ylabel('Number of Refugees per 1000 Inhabitants')\n",
    "plt.xticks(rotation=45)\n",
    "plt.yticks(rotation=45)\n",
    "plt.ticklabel_format(style='plain', axis='y')\n",
    "plt.legend(loc='upper left', bbox_to_anchor=(1, 1))\n",
    "plt.tight_layout()\n",
    "plt.show()"
   ]
  },
  {
   "cell_type": "markdown",
   "id": "626515cc",
   "metadata": {},
   "source": [
    "*Figure 3: Refugee intake per European country per 1000 inhabitants below top 10 average countries.* \\\n",
    "*Top 10 and below top 10 split up for clarity.*"
   ]
  },
  {
   "cell_type": "code",
   "execution_count": null,
   "id": "142052b3",
   "metadata": {
    "tags": [
     "remove-input"
    ]
   },
   "outputs": [],
   "source": [
    "plt.figure(figsize=(14, 8))\n",
    "for country in data_grouped_per_capita.columns:\n",
    "    plt.plot(data_grouped_per_capita.index, data_grouped_per_capita[country], label=country, linestyle=next(itertools.cycle(line_styles)), color=next(remaining_colors))\n",
    "plt.plot(data_grouped_per_capita.index, average_line_per_capita, label='Average', linestyle=striped_line, color='black', linewidth=3)\n",
    "plt.title('Refugee Intake Over the Years per European Country Per 1000 Inhabitants')\n",
    "plt.xlabel('Year')\n",
    "plt.ylabel('Number of Refugees per 1000 Inhabitants')\n",
    "plt.xticks(rotation=45)\n",
    "plt.yticks(rotation=45)\n",
    "plt.ticklabel_format(style='plain', axis='y')\n",
    "plt.legend(loc='upper left', bbox_to_anchor=(1, 1))\n",
    "plt.tight_layout()\n",
    "plt.show()"
   ]
  },
  {
   "cell_type": "markdown",
   "id": "701b04db-531a-40e0-8e48-65350b389c83",
   "metadata": {},
   "source": [
    "*Figure 4: Refugee intake per European country per 1000 inhabitants.*"
   ]
  },
  {
   "cell_type": "markdown",
   "id": "98f5b6f2-050c-4ce5-9751-847ccf588f1a",
   "metadata": {},
   "source": [
    "The data reveals a consistent rise in the number of refugees per 1000 inhabitants across most European countries, highlighting the growing burden on these nations. The visualizations show that in 9 out of the top 10 countries, refugee numbers rose significantly, indicating substantial pressure on public services and infrastructure. To provide a clearer analysis, we removed the first few years of independence for the Yugoslav countries, as these years had abnormally high peaks due to an abnormal situation. The average line across all countries illustrates a steady increase in refugee numbers, reinforcing the overall trend of rising pressure. Notably, Montenegro stands out as the country with the highest refugee intake per 1000 inhabitants in Europe, primarily due to its ties with Ukraine, leading to a considerable influx of refugees. These trends underscore the urgency of addressing the refugee crisis comprehensively, balancing humanitarian responsibilities with practical concerns about resource allocation and integration challenges. The visualizations clearly indicate that the pressure on public services and infrastructure is escalating, necessitating a coordinated and sustainable response from European nations."
   ]
  },
  {
   "cell_type": "markdown",
   "id": "a43c3ae1-48d8-4663-8525-7d92fae83483",
   "metadata": {},
   "source": [
    "## Distribution over Europe"
   ]
  },
  {
   "cell_type": "markdown",
   "id": "f07d4a62-ad4f-4fd3-84ad-3540363a03fb",
   "metadata": {},
   "source": [
    "This map shows the distribution of refugees over Europe from 1951 to 2023. With this, we want to look further into the spread of refugees over Europe and if this is done evenly."
   ]
  },
  {
   "cell_type": "code",
   "execution_count": null,
   "id": "a9985dd6-11c7-482e-bc65-896d7fcfc470",
   "metadata": {
    "tags": [
     "remove-input"
    ]
   },
   "outputs": [],
   "source": [
    "file_path = 'DataSets/UN_European_Countries_Refugee_Data.csv'\n",
    "df = pd.read_csv(file_path)\n",
    "\n",
    "agg_df = df.groupby(['Year', 'Country of asylum', 'Country of asylum (ISO)'])['Refugees under UNHCR\\'s mandate'].sum().reset_index()\n",
    "\n",
    "fig = px.choropleth(\n",
    "    agg_df,\n",
    "    locations=\"Country of asylum (ISO)\",\n",
    "    color=\"Refugees under UNHCR's mandate\",\n",
    "    hover_name=\"Country of asylum\",\n",
    "    animation_frame=\"Year\",\n",
    "    color_continuous_scale=[\"#003f5c\", \"#2f4b7c\", \"#665191\", \"#a05195\", \"#d45087\", \"#f95d6a\", \"#ff7c43\", \"#ffa600\"],\n",
    "    title=\"Number of Refugees under UNHCR's Mandate by Country Over Time\",\n",
    "    labels={'Refugees under UNHCR\\'s mandate': 'Number of Refugees'}\n",
    ")\n",
    "\n",
    "# Layout update\n",
    "fig.update_layout(\n",
    "    geo=dict(\n",
    "        showframe=False,\n",
    "        showcoastlines=False,\n",
    "        projection_type='equirectangular',\n",
    "        lataxis=dict(range=[25, 80]), \n",
    "        lonaxis=dict(range=[-35, 65])\n",
    "    ),\n",
    "    coloraxis_colorbar=dict(\n",
    "        title=\"Number of Refugees\"\n",
    "    ),\n",
    ")\n",
    "\n",
    "fig.show()"
   ]
  },
  {
   "cell_type": "markdown",
   "id": "11b057bf-ee08-4668-9329-10c0ad0e3626",
   "metadata": {},
   "source": [
    "> *Figure 5: Choropleth Map: Amount of refugees under UNHCR's mandate vy country over time.*"
   ]
  },
  {
   "cell_type": "code",
   "execution_count": null,
   "id": "7a056d8b-d104-495e-9528-beb0539294df",
   "metadata": {},
   "outputs": [],
   "source": [
    "# Exclude Germany and Turkey\n",
    "df_excl_germany_turkey = df[(df['Country of asylum'] != 'Germany') & (df['Country of asylum'] != 'Türkiye')]\n",
    "\n",
    "agg_df_excl_germany_turkey = df_excl_germany_turkey.groupby(['Year', 'Country of asylum', 'Country of asylum (ISO)'])['Refugees under UNHCR\\'s mandate'].sum().reset_index()\n",
    "\n",
    "fig_excl_germany_turkey = px.choropleth(\n",
    "    agg_df_excl_germany_turkey,\n",
    "    locations=\"Country of asylum (ISO)\",\n",
    "    color=\"Refugees under UNHCR's mandate\",\n",
    "    hover_name=\"Country of asylum\",\n",
    "    animation_frame=\"Year\",\n",
    "    color_continuous_scale=[\"#003f5c\", \"#2f4b7c\", \"#665191\", \"#a05195\", \"#d45087\", \"#f95d6a\", \"#ff7c43\", \"#ffa600\"],\n",
    "    title=\"Number of Refugees under UNHCR's Mandate by Country Over Time (Excl. Ger & Tur)\",\n",
    "    labels={'Refugees under UNHCR\\'s mandate': 'Number of Refugees'}\n",
    ")\n",
    "\n",
    "fig_excl_germany_turkey.update_layout(\n",
    "    geo=dict(\n",
    "        showframe=False,\n",
    "        showcoastlines=False,\n",
    "        projection_type='equirectangular',\n",
    "        lataxis=dict(range=[25, 80]), \n",
    "        lonaxis=dict(range=[-35, 65])\n",
    "    ),\n",
    "    coloraxis_colorbar=dict(\n",
    "        title=\"Number of Refugees\"\n",
    "    ),\n",
    ")\n",
    "\n",
    "fig_excl_germany_turkey.show()"
   ]
  },
  {
   "cell_type": "markdown",
   "id": "7b0a5773-c167-48f4-952c-99a575051197",
   "metadata": {},
   "source": [
    "> *Figure 6: Choropleth Map: Amount of refugees under UNHCR's mandate vy country over time, excluding Turkey and Germany.*"
   ]
  },
  {
   "cell_type": "markdown",
   "id": "2b5a0919-8981-45cb-a301-602077b6aa90",
   "metadata": {},
   "source": [
    "As can be seen in both graphs, in recent years, there is a noticeable increase in the number of refugees, especially in the larger countries. Germany and Turkey specifically seems to have a substantial increase in refugees in recent years. Germany seems to have had a substantially larger number of refugees since 1985, likely because it's a large, rich country. From 2012, there is a substantial increase of refugees in Turkey. This is because Turkey provided unlimited duration of stay to Syrians, since a Syrian civil war started in 2011. Turkey is also a transit between Asia and Europe, preventing irregular migration, which results in lots of refugees staying in Turkey. These two counties indicate a poor spread of refugees. \n",
    "\n",
    "It should also be noted that Serbia and Kosovo had a notable amount of refugees between 1992 and 2005 because of the breakup of Yugoslavia combined with the Kosova war and its after effects. Another notable exception is the Ukranian war, resulting in an increased amount of refugees in especially Poland, but also in the rest of Central and Eastern Europe.\n",
    "\n",
    "Even when removing Germany and Turkey from the map, as can be seen in the second graph, the refugees don't seem to be well-distributed in Europe (keeping in mind the exceptional cases mentioned above), with especially France and the United Kingdom taking in most refugees, the rest of western, southern and northern Europe following. Most of Central and Eastern Europe seem to have fewer refugees. \n",
    "\n",
    "\n",
    "The poor distribution of refugees across Europe and most refugees going to seemingly richer countries, combined with the increased number of refugees overall in Europe, indicates a refugee crisis.\n"
   ]
  },
  {
   "cell_type": "markdown",
   "id": "6ea039b7-b7e9-4a68-82b7-3543254d48dd",
   "metadata": {},
   "source": [
    "## Influence of refugees on a country"
   ]
  },
  {
   "cell_type": "markdown",
   "id": "c7cef7f2-b8f5-4c81-b605-5cebdb5690c1",
   "metadata": {},
   "source": [
    "### Asylum applications"
   ]
  },
  {
   "cell_type": "markdown",
   "id": "bb01e374",
   "metadata": {},
   "source": [
    "The graph shows a dramatic increase in asylum applications in Europe from 2013 to 2016, with numbers peaking over 1.2 million in 2016. "
   ]
  },
  {
   "cell_type": "code",
   "execution_count": null,
   "id": "c452771d",
   "metadata": {
    "tags": [
     "remove-input"
    ]
   },
   "outputs": [],
   "source": [
    "file_path = r'DataSets/preprocessed_asylum_seekers.csv'\n",
    "data = pd.read_csv(file_path, low_memory=False)\n",
    "\n",
    "\n",
    "total_pending_start_year_europe = data.groupby('Year')['Tota pending start-year'].sum()\n",
    "\n",
    "plt.figure(figsize=(10, 6))\n",
    "total_pending_start_year_europe.plot(kind='bar', color='#003f5c')\n",
    "plt.title('Total Pending Asylum Requests at the Start of the Year in Europe')\n",
    "plt.xlabel('Year')\n",
    "plt.ylabel('Total Pending Asylum Requests per Million')\n",
    "plt.xticks(rotation=45)\n",
    "plt.tight_layout()\n",
    "plt.show()"
   ]
  },
  {
   "cell_type": "markdown",
   "id": "5614971e-3e4b-46be-a2c1-905c86b772ff",
   "metadata": {},
   "source": [
    "> *Figure 7: Barplot: Total Pending Asylum Requests at the Start of the Year in Europe.*"
   ]
  },
  {
   "cell_type": "markdown",
   "id": "c0bcecf9-e17c-477a-a229-55277d48fe64",
   "metadata": {},
   "source": [
    "\n",
    "This graph shows the number of pending asylum applications in Europe from 2000 to 2016. Here’s what it tells us about the refugee crisis:\n",
    "\n",
    "From 2013 onwards, the number of asylum applications skyrocketed, reaching over 1.2 million in 2016. This sharp rise suggests many people are coming to Europe, likely seeking better economic opportunities rather than fleeing war or persecution.\n",
    "While before 2013, the number of applications was relatively stable. This indicates that the recent surge is due to new factors, likely related to Europe’s economic appeal and more generous asylum policies.\n",
    "\n",
    "So the huge number of applications in 2016 shows that the system is under significant pressure. Managing such a large influx is challenging and suggests the crisis is getting worse.\n",
    "\n",
    "In conclusion: the graph supports the idea that the refugee crisis in Europe is escalating. The dramatic increase in asylum applications suggests many are economic migrants, putting growing pressure on European countries. This indicates a worsening situation that needs urgent attention."
   ]
  },
  {
   "cell_type": "markdown",
   "id": "dbf82375-b2e8-4a22-b5a9-2c45b960d08a",
   "metadata": {},
   "source": [
    "\n",
    "### Rejection in different countries"
   ]
  },
  {
   "cell_type": "markdown",
   "id": "ce9bee00-28fd-4a10-a820-24901e4cf7de",
   "metadata": {},
   "source": [
    "In this dataset we show the chance of rejection for refugees in different countries based on interviews held between 2017 and 2020. The amount of rejections could tell us if countries are dealing with a too large amount of refugees."
   ]
  },
  {
   "cell_type": "code",
   "execution_count": null,
   "id": "5ede34b7-02ce-41ed-9f1e-0ce384ad343c",
   "metadata": {
    "tags": [
     "remove-input"
    ]
   },
   "outputs": [],
   "source": [
    "file_path = 'DataSets/refugee_interview_filtered.csv'\n",
    "population_data = pd.read_csv(file_path)\n",
    "\n",
    "data = population_data[['VAR01', 'VAR27']].copy()\n",
    "data.columns = ['Country', 'Rejection_Rate']\n",
    "\n",
    "color_mapping = {'not rejected': 0, 'rejected': 1}\n",
    "data['Rejection_Rate_Num'] = data['Rejection_Rate'].map(color_mapping)\n",
    "\n",
    "color_scale = [(0, '#2f4b7c'), (1, '#f95d6a')]\n",
    "\n",
    "fig = px.parallel_categories(data, dimensions=['Country', 'Rejection_Rate'],\n",
    "                             labels={'Country': 'Country', 'Rejection_Rate': 'Rejection Rate'},\n",
    "                             color='Rejection_Rate_Num',\n",
    "                             color_continuous_scale=color_scale)\n",
    "\n",
    "fig.update_layout(coloraxis_showscale=False)\n",
    "fig.show()"
   ]
  },
  {
   "cell_type": "markdown",
   "id": "b503881d-2ca5-4a3a-864a-d678a3aff2c8",
   "metadata": {},
   "source": [
    "> *Figure 8: Parallel Categories Diagram: Number of asylum requests denied and accepted per country* \\"
   ]
  },
  {
   "cell_type": "markdown",
   "id": "a68ffc51-54d1-437d-b778-749d92f3cffa",
   "metadata": {},
   "source": [
    "This chart shows that when applying for asylum, a majority of the refugees get accepted. Even though this is the case, a noticable ammount of refugees also get rejected. Most countries have around as many people rejected as not, with Sweden and Turkey as exceptions, they don't reject as many refugees. It is important to realise that since there is not much data, small differences may not indicate that much. For example, Italy rejects more in this graph than they accept, but since only 19 refugees from Italy were interviewed, this difference isn't large enough to draw a valid conclusion.\n",
    "\n",
    "A large rejection rate indicates that there isn't enough place for the refugees or that these refugees aren't wanted in the country. Both of these indicate a refugee crisis. Since most countries in this graph rejects a fairly large amount of refugees, it is suggested that there is a refugee crisis in Europe.\n",
    "\n",
    "Although this is the case, it can also be stated that the rejection rate is not significant enough to conclude a refugee crisis. A large rejection rate in some countries and a low rejection rate in other countries can also indicate a good spread of refugees across Europe, which is a valid way of avoiding a refugee crisis."
   ]
  },
  {
   "cell_type": "markdown",
   "id": "f975d201-cde5-4644-85d6-49883ce4cb13",
   "metadata": {},
   "source": [
    "### Influence on the economy"
   ]
  },
  {
   "cell_type": "code",
   "execution_count": null,
   "id": "5ae52784-3c63-4621-a241-58911ddcf46c",
   "metadata": {
    "tags": [
     "remove-input"
    ]
   },
   "outputs": [],
   "source": [
    "file_path = 'DataSets/gdp_pop_ref_2020.csv'\n",
    "data = pd.read_csv(file_path)\n",
    "\n",
    " # Remove non-finite values\n",
    "data_cleaned = data.dropna(subset=['GDP per Capita 2020']).reset_index(drop=True)\n",
    "\n",
    "# Calculate refugees per 1,000 population\n",
    "data_cleaned['Refugees per 1000 Population'] = data_cleaned['Refugees 2020'] / (data_cleaned['Population 2020'] / 1000)\n",
    "\n",
    "# Bubble chart with GDP per Capita (log scale) and Refugees per 1,000 Population (log scale)\n",
    "plt.figure(figsize=(12, 8))\n",
    "bubble_size = data_cleaned['Population 2020'] / 10000\n",
    "\n",
    "plt.scatter(data_cleaned['GDP per Capita 2020'], data_cleaned['Refugees per 1000 Population'], \n",
    "            s=bubble_size, alpha=0.5, c='#003f5c')\n",
    "\n",
    "plt.xscale('log')\n",
    "plt.yscale('log')\n",
    "plt.xlabel('GDP per Capita 2020 (log scale)')\n",
    "plt.ylabel('Refugees per 1000 Population (log scale)')\n",
    "plt.title('Bubble Chart: GDP per Capita vs Refugees per 1000 Population (2020)')\n",
    "plt.grid(True, which=\"both\", ls=\"--\")\n",
    "\n",
    "# Annotate each bubble with the country name\n",
    "for i in range(data_cleaned.shape[0]):\n",
    "    plt.text(data_cleaned['GDP per Capita 2020'][i], data_cleaned['Refugees per 1000 Population'][i], \n",
    "             data_cleaned['ISO_Code'][i], fontsize=8, ha='right')\n",
    "\n",
    "plt.show()"
   ]
  },
  {
   "cell_type": "markdown",
   "id": "9d47add4-3449-4e24-a2c8-3e01191fc5d6",
   "metadata": {},
   "source": [
    "> *Figure 9: Bubble Chart: Gross Domestic Product (GDP) Per Capita compared to refugees per 1000 of the population in 2020 at log scale* \\\n",
    "> *The size of the bubble indicates the population of the country.*"
   ]
  },
  {
   "cell_type": "markdown",
   "id": "c4158ce0-fe1d-4fe7-a28c-815a46b5f6bc",
   "metadata": {},
   "source": [
    "The Pearson correlation between GDP per capita and refugees per inhabitant in the provided dataset is approximately 0.115. This indicates a very weak positive correlation, suggesting that as GDP per capita increases, the number of refugees per inhabitant also tends to increase slightly."
   ]
  },
  {
   "cell_type": "code",
   "execution_count": null,
   "id": "c609000d-6b61-4853-ad2d-ed2a1d277a24",
   "metadata": {
    "scrolled": true,
    "tags": [
     "remove-input"
    ]
   },
   "outputs": [],
   "source": [
    "file_path = 'DataSets/GDP_PPP_Per_Capita_Europe.csv'\n",
    "data = pd.read_csv(file_path)\n",
    "\n",
    "# Remove non-finite values in relevant columns\n",
    "data_cleaned = data.dropna(subset=['GDP PPP per Capita 2020', 'Population 2020', 'Refugees 2020']).reset_index(drop=True)\n",
    "\n",
    "# Calculate refugees per 1,000 population\n",
    "data_cleaned['Refugees per 1000 Population'] = data_cleaned['Refugees 2020'] / (data_cleaned['Population 2020'] / 1000)\n",
    "\n",
    "# Bubble chart with GDP per Capita (log scale) and Refugees per 1,000 Population (log scale)\n",
    "plt.figure(figsize=(12, 8))\n",
    "bubble_size = data_cleaned['Population 2020'] / 10000\n",
    "\n",
    "plt.scatter(data_cleaned['GDP PPP per Capita 2020'], data_cleaned['Refugees per 1000 Population'], \n",
    "            s=bubble_size, alpha=0.5, c='#003f5c')\n",
    "\n",
    "plt.xscale('log')\n",
    "plt.yscale('log')\n",
    "plt.xlabel('GDP PPP per Capita 2020 (log scale)')\n",
    "plt.ylabel('Refugees per 1000 Population (log scale)')\n",
    "plt.title('Bubble Chart: GDP PPP per Capita vs Refugees per 1000 Population (2020)')\n",
    "plt.grid(True, which=\"both\", ls=\"--\")\n",
    "\n",
    "# Annotate each bubble with the country name\n",
    "for i in range(data_cleaned.shape[0]):\n",
    "    plt.text(data_cleaned['GDP PPP per Capita 2020'][i], data_cleaned['Refugees per 1000 Population'][i], \n",
    "             data_cleaned['ISO_Code'][i], fontsize=8, ha='right')\n",
    "\n",
    "plt.show()"
   ]
  },
  {
   "cell_type": "markdown",
   "id": "db0f7cc8-ab09-4c0f-ad05-e44a5fcbb77e",
   "metadata": {},
   "source": [
    "> *Figure 10: Bubble Chart: Gross Domestic Product (GDP) at Purchasing Power Parity (PPP) Per Capita compared to refugees per 1000 of the population in 2020 at log scale* \\\n",
    "> *The size of the bubble indicates the population of the country.*"
   ]
  },
  {
   "cell_type": "markdown",
   "id": "9c7d6374-2f4c-4231-9075-eed071a010bd",
   "metadata": {},
   "source": [
    "The Pearson correlation between GDP PPP per capita and refugees per inhabitant in the provided dataset is approximately 0.228. This indicates a weak positive correlation, suggesting that as GDP PPP per capita increases, the number of refugees per inhabitant also tends to increase slightly"
   ]
  },
  {
   "cell_type": "markdown",
   "id": "52004ad9-1e60-4341-b179-7ddfee1f71e5",
   "metadata": {},
   "source": [
    "First of all, these charts show that wealthier European countries, like Germany, Sweden, and Austria, have more refugees per 1000 people. This suggests that refugees are targeting these countries for their better living conditions and job opportunities, indicating that many might be economic migrants rather than escaping war or political persecution.\n",
    "\n",
    "The data also shows that many European countries with higher GDP per capita have more refugees compared to poorer nations. If most refugees were fleeing political or war-related issues, we would expect a more even spread across various countries, including those with lower GDP per capita. The concentration in wealthier countries suggests economic motives.\n",
    "\n",
    "And even though the graphs focus on 2020, the trend of rising refugee numbers in wealthy European countries suggests the crisis is getting worse. The large bubbles for these countries indicate that the influx of refugees is not temporary but growing. This can strain public services and social systems, making the crisis harder to manage.\n",
    "\n",
    "Last of all the significant number of refugees in countries like Germany and Sweden, known for their strong economies and generous asylum policies, supports the idea that many are seeking better economic opportunities. The clustering in these affluent countries indicates that many migrants are economic migrants.\n",
    "\n",
    "In conclusion the graphs show that the refugee crisis in Europe is worsening and that many refugees are economic migrants. This trend puts increasing pressure on wealthier European countries, suggesting a need for comprehensive policy solutions to address the crisis."
   ]
  },
  {
   "cell_type": "markdown",
   "id": "ea8a25e5",
   "metadata": {},
   "source": [
    "## Reasoning for migration"
   ]
  },
  {
   "cell_type": "markdown",
   "id": "d42190fc-5552-4af2-bbb5-633d361d13c8",
   "metadata": {},
   "source": [
    "This pie chart reveals the varied reasons behind migration in Germany, offering some insight into the current refugee crisis in Europe. "
   ]
  },
  {
   "cell_type": "code",
   "execution_count": null,
   "id": "e094dc61",
   "metadata": {
    "tags": [
     "remove-input"
    ]
   },
   "outputs": [],
   "source": [
    "file_path = 'DataSets/Duitsland_Tabel.csv'\n",
    "data = pd.read_csv(file_path, delimiter=';')\n",
    "vig_reason_counts = data['vig_reason'].value_counts()\n",
    "colors = [\"#003f5c\", \"#bc5090\", \"#ffa600\"]\n",
    "\n",
    "plt.figure(figsize=(10, 7))\n",
    "plt.pie(vig_reason_counts, labels=vig_reason_counts.index, autopct='%1.1f%%', startangle=140, colors=colors)\n",
    "plt.title('Distribution of Migration Reasons')\n",
    "plt.show()"
   ]
  },
  {
   "cell_type": "markdown",
   "id": "92f875e0-472e-402f-86e9-22ea03126e44",
   "metadata": {},
   "source": [
    "> *Figure 11: Pie Chart: Reasons for migration* "
   ]
  },
  {
   "cell_type": "markdown",
   "id": "4b7e8c1e-1611-4d03-aaf4-ef955b36f3bd",
   "metadata": {},
   "source": [
    "Contrary to the belief that most refugees are fleeing political persecution or war, the data suggests a different narrative. The largest segment, 42.9%, comprises individuals migrating in search of prospective jobs. This significant proportion indicates that many of the newcomers are economic migrants, often labeled as economic migrants, rather than traditional refugees.\n",
    "\n",
    "Additionally, while 28.6% of migrants cite political persecution as their reason for leaving, an equal percentage is moving for a better life without specific job prospects. These individuals are not necessarily escaping immediate danger or persecution but are seeking improved living conditions, healthcare, and education.\n",
    "\n",
    "This trend highlights the increasing pressure on Europe's resources and infrastructure, as a substantial number of migrants are driven by economic motivations rather than dire necessity. "
   ]
  },
  {
   "cell_type": "markdown",
   "id": "68f6259f-5777-4667-b40f-b8b474ab8f9e",
   "metadata": {},
   "source": [
    "## Reflection\n",
    "\n",
    "Work in progress"
   ]
  },
  {
   "cell_type": "markdown",
   "id": "8799e8f6",
   "metadata": {},
   "source": [
    "## Work Distribution\n",
    "\n",
    "During this project, due to difference on locations, we communicated mostly online through group calls or chats. During our first meet, we came up with a subject, two different perspectives and six forms of visualization to support one of these perspectives. Each of the four co-operators of this project made our own visualization of a part of the data. We then also split up into groups of two to make another one. \n",
    "\n",
    "### Nand\n",
    "\n",
    "Wrote Datasets and Preprocessing with Sem, worked on his own graphs, and presented the project during the peer review with Stan and Sem.\n",
    "\n",
    "### Stan\n",
    "\n",
    "Wrote the introduction with Noah, worked on his own graphs, presented the project during the peer review with Nand and Sem, and took notes on the feedback given.\n",
    "\n",
    "### Sem\n",
    "\n",
    "Wrote Datasets and Preprocessing with Nand, worked on his own graphs, presented the project during the peer review with Nand and Stan.\n",
    "\n",
    "### Noah\n",
    "\n",
    "Wrote the introduction with Stan, worked on his own graphs, and decided the visualization."
   ]
  },
  {
   "cell_type": "markdown",
   "id": "8a61224c",
   "metadata": {},
   "source": [
    "## References\n",
    "\n",
    "Work in progress"
   ]
  }
 ],
 "metadata": {
  "celltoolbar": "Tags",
  "kernelspec": {
   "display_name": "Python 3 (ipykernel)",
   "language": "python",
   "name": "python3"
  },
  "language_info": {
   "codemirror_mode": {
    "name": "ipython",
    "version": 3
   },
   "file_extension": ".py",
   "mimetype": "text/x-python",
   "name": "python",
   "nbconvert_exporter": "python",
   "pygments_lexer": "ipython3",
   "version": "3.10.14"
  },
  "widgets": {
   "application/vnd.jupyter.widget-state+json": {
    "state": {},
    "version_major": 2,
    "version_minor": 0
   }
  }
 },
 "nbformat": 4,
 "nbformat_minor": 5
}
