{
 "cells": [
  {
   "cell_type": "code",
   "execution_count": 2,
   "metadata": {},
   "outputs": [
    {
     "name": "stdout",
     "output_type": "stream",
     "text": [
      "      ID                  VAR00 VAR00.1  VAR01  VAR02  VAR02_1  VAR03  VAR04  \\\n",
      "0      2        GAM-M-BER-06/07    DE_1      9      4   Gambia      0     19   \n",
      "1      4         IRA-M-GOE 1110    DE_2      9      4     Iran      1     33   \n",
      "2      7     SYR- M- MUN- 03.12    DE_3      9      1      NaN      0     25   \n",
      "3      8  01 - ITA23052018MICRO   ITA_1      5      4   Gambia      0    999   \n",
      "4      9  02 - ITA04032019MICRO   ITA_2      5      4   Gambia      0     22   \n",
      "..   ...                    ...     ...    ...    ...      ...    ...    ...   \n",
      "411  404                 HUN_12  HUN_12      6      2      NaN      0     40   \n",
      "412  405                 HUN_13  HUN_13      6      4   Uganda    999    999   \n",
      "413  415                 TUR_43   TR_43      3      1      NaN      1     58   \n",
      "414  502                  GRE_5   GRE_5      4      2      NaN      0     32   \n",
      "415  520                 GRE_26  GRE_26      4      4  Eritrea      0     24   \n",
      "\n",
      "     VAR05  VAR06  ...  VAR26  VAR27  VAR28  VAR29  VAR30  VAR31  VAR32  \\\n",
      "0        0      5  ...      1      1    999      1      1    999      1   \n",
      "1        0      2  ...      1      0      1      0      0    999      1   \n",
      "2        0      5  ...      1      0    999     99     99    999    999   \n",
      "3      999    999  ...      1    999    999     99     99    999      1   \n",
      "4      999      5  ...      1      1    999      1      2    999    999   \n",
      "..     ...    ...  ...    ...    ...    ...    ...    ...    ...    ...   \n",
      "411      2      2  ...      1      1    999      1      1    999    999   \n",
      "412    999    999  ...      1    999    999     99     99    999      0   \n",
      "413      2      4  ...    999    999    999     99     99    999      0   \n",
      "414      0      5  ...      1      1    999      1      0     45      1   \n",
      "415      0      5  ...      1      1     12      1      2      5      1   \n",
      "\n",
      "     VAR33  VAR34  VAR35  \n",
      "0        1      1    999  \n",
      "1        1      0      0  \n",
      "2        1      0      1  \n",
      "3        1    999    999  \n",
      "4        1    999    999  \n",
      "..     ...    ...    ...  \n",
      "411    999    999    999  \n",
      "412    999      0      1  \n",
      "413      0      1      1  \n",
      "414      1      0      1  \n",
      "415      0      0      0  \n",
      "\n",
      "[416 rows x 33 columns]\n"
     ]
    }
   ],
   "source": [
    "import pandas as pd\n",
    "import matplotlib.pyplot as plt\n",
    "import itertools\n",
    "\n",
    "file_path = 'DataSets/refugee_interview_filtered.csv'\n",
    "population_data = pd.read_csv(file_path)\n",
    "print(population_data)"
   ]
  },
  {
   "cell_type": "code",
   "execution_count": null,
   "metadata": {},
   "outputs": [],
   "source": []
  }
 ],
 "metadata": {
  "kernelspec": {
   "display_name": "Python 3 (ipykernel)",
   "language": "python",
   "name": "python3"
  },
  "language_info": {
   "codemirror_mode": {
    "name": "ipython",
    "version": 3
   },
   "file_extension": ".py",
   "mimetype": "text/x-python",
   "name": "python",
   "nbconvert_exporter": "python",
   "pygments_lexer": "ipython3",
   "version": "3.10.12"
  }
 },
 "nbformat": 4,
 "nbformat_minor": 4
}
