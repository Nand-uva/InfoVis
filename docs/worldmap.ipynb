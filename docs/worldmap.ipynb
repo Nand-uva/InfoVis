{
 "cells": [
  {
   "cell_type": "code",
   "execution_count": 5,
   "metadata": {},
   "outputs": [],
   "source": [
    "import pandas as pd\n",
    "import plotly.express as px\n",
    "\n",
    "file_path = 'DataSets/UN_European_Countries_Refugee_Data.csv'\n",
    "df = pd.read_csv(file_path)"
   ]
  },
  {
   "cell_type": "code",
   "execution_count": 27,
   "metadata": {},
   "outputs": [
    {
     "data": {
      "application/vnd.plotly.v1+json": {
       "config": {
        "plotlyServerURL": "https://plot.ly"
       },
       "data": [
        {
         "coloraxis": "coloraxis",
         "geo": "geo",
         "hovertemplate": "<b>%{hovertext}</b><br><br>Year=1951<br>Country of asylum (ISO)=%{location}<br>Number of Refugees=%{z}<extra></extra>",
         "hovertext": [
          "Austria",
          "Belgium",
          "Denmark",
          "France",
          "Germany",
          "Greece",
          "Italy",
          "Luxembourg",
          "Norway",
          "Spain",
          "Sweden",
          "Switzerland"
         ],
         "locations": [
          "AUT",
          "BEL",
          "DNK",
          "FRA",
          "DEU",
          "GRC",
          "ITA",
          "LUX",
          "NOR",
          "ESP",
          "SWE",
          "CHE"
         ],
         "name": "",
         "type": "choropleth",
         "z": [
          282000,
          55000,
          2000,
          290000,
          265000,
          18000,
          26500,
          1800,
          2500,
          2000,
          44000,
          10000
         ]
        }
       ],
       "frames": [
        {
         "data": [
          {
           "coloraxis": "coloraxis",
           "geo": "geo",
           "hovertemplate": "<b>%{hovertext}</b><br><br>Year=1951<br>Country of asylum (ISO)=%{location}<br>Number of Refugees=%{z}<extra></extra>",
           "hovertext": [
            "Austria",
            "Belgium",
            "Denmark",
            "France",
            "Germany",
            "Greece",
            "Italy",
            "Luxembourg",
            "Norway",
            "Spain",
            "Sweden",
            "Switzerland"
           ],
           "locations": [
            "AUT",
            "BEL",
            "DNK",
            "FRA",
            "DEU",
            "GRC",
            "ITA",
            "LUX",
            "NOR",
            "ESP",
            "SWE",
            "CHE"
           ],
           "name": "",
           "type": "choropleth",
           "z": [
            282000,
            55000,
            2000,
            290000,
            265000,
            18000,
            26500,
            1800,
            2500,
            2000,
            44000,
            10000
           ]
          }
         ],
         "name": "1951"
        },
        {
         "data": [
          {
           "coloraxis": "coloraxis",
           "geo": "geo",
           "hovertemplate": "<b>%{hovertext}</b><br><br>Year=1952<br>Country of asylum (ISO)=%{location}<br>Number of Refugees=%{z}<extra></extra>",
           "hovertext": [
            "Austria",
            "Belgium",
            "Denmark",
            "France",
            "Germany",
            "Greece",
            "Italy",
            "Luxembourg",
            "Norway",
            "Sweden",
            "Switzerland"
           ],
           "locations": [
            "AUT",
            "BEL",
            "DNK",
            "FRA",
            "DEU",
            "GRC",
            "ITA",
            "LUX",
            "NOR",
            "SWE",
            "CHE"
           ],
           "name": "",
           "type": "choropleth",
           "z": [
            238200,
            53500,
            1800,
            280000,
            240000,
            19000,
            25500,
            1800,
            2500,
            42000,
            9800
           ]
          }
         ],
         "name": "1952"
        },
        {
         "data": [
          {
           "coloraxis": "coloraxis",
           "geo": "geo",
           "hovertemplate": "<b>%{hovertext}</b><br><br>Year=1953<br>Country of asylum (ISO)=%{location}<br>Number of Refugees=%{z}<extra></extra>",
           "hovertext": [
            "Austria",
            "Belgium",
            "Denmark",
            "France",
            "Germany",
            "Greece",
            "Italy",
            "Luxembourg",
            "Norway",
            "Sweden",
            "Switzerland"
           ],
           "locations": [
            "AUT",
            "BEL",
            "DNK",
            "FRA",
            "DEU",
            "GRC",
            "ITA",
            "LUX",
            "NOR",
            "SWE",
            "CHE"
           ],
           "name": "",
           "type": "choropleth",
           "z": [
            215200,
            53000,
            1600,
            270000,
            228000,
            18500,
            24500,
            1800,
            2500,
            37000,
            9500
           ]
          }
         ],
         "name": "1953"
        },
        {
         "data": [
          {
           "coloraxis": "coloraxis",
           "geo": "geo",
           "hovertemplate": "<b>%{hovertext}</b><br><br>Year=1954<br>Country of asylum (ISO)=%{location}<br>Number of Refugees=%{z}<extra></extra>",
           "hovertext": [
            "Austria",
            "Belgium",
            "Denmark",
            "France",
            "Germany",
            "Greece",
            "Italy",
            "Luxembourg",
            "Norway",
            "Spain",
            "Sweden",
            "Switzerland"
           ],
           "locations": [
            "AUT",
            "BEL",
            "DNK",
            "FRA",
            "DEU",
            "GRC",
            "ITA",
            "LUX",
            "NOR",
            "ESP",
            "SWE",
            "CHE"
           ],
           "name": "",
           "type": "choropleth",
           "z": [
            150000,
            53000,
            1400,
            263000,
            225000,
            19000,
            21500,
            1800,
            2300,
            2000,
            33000,
            9400
           ]
          }
         ],
         "name": "1954"
        },
        {
         "data": [
          {
           "coloraxis": "coloraxis",
           "geo": "geo",
           "hovertemplate": "<b>%{hovertext}</b><br><br>Year=1955<br>Country of asylum (ISO)=%{location}<br>Number of Refugees=%{z}<extra></extra>",
           "hovertext": [
            "Austria",
            "Belgium",
            "Denmark",
            "France",
            "Germany",
            "Greece",
            "Italy",
            "Luxembourg",
            "Norway",
            "Sweden",
            "Switzerland"
           ],
           "locations": [
            "AUT",
            "BEL",
            "DNK",
            "FRA",
            "DEU",
            "GRC",
            "ITA",
            "LUX",
            "NOR",
            "SWE",
            "CHE"
           ],
           "name": "",
           "type": "choropleth",
           "z": [
            110000,
            53000,
            1300,
            345415,
            219000,
            17400,
            18500,
            1800,
            2300,
            28000,
            9200
           ]
          }
         ],
         "name": "1955"
        },
        {
         "data": [
          {
           "coloraxis": "coloraxis",
           "geo": "geo",
           "hovertemplate": "<b>%{hovertext}</b><br><br>Year=1956<br>Country of asylum (ISO)=%{location}<br>Number of Refugees=%{z}<extra></extra>",
           "hovertext": [
            "Austria",
            "Belgium",
            "Denmark",
            "France",
            "Germany",
            "Greece",
            "Italy",
            "Luxembourg",
            "Norway",
            "Sweden",
            "Switzerland"
           ],
           "locations": [
            "AUT",
            "BEL",
            "DNK",
            "FRA",
            "DEU",
            "GRC",
            "ITA",
            "LUX",
            "NOR",
            "SWE",
            "CHE"
           ],
           "name": "",
           "type": "choropleth",
           "z": [
            140000,
            65000,
            2500,
            363290,
            221000,
            16000,
            21500,
            1900,
            2800,
            31000,
            20700
           ]
          }
         ],
         "name": "1956"
        },
        {
         "data": [
          {
           "coloraxis": "coloraxis",
           "geo": "geo",
           "hovertemplate": "<b>%{hovertext}</b><br><br>Year=1957<br>Country of asylum (ISO)=%{location}<br>Number of Refugees=%{z}<extra></extra>",
           "hovertext": [
            "Austria",
            "Belgium",
            "Denmark",
            "France",
            "Germany",
            "Greece",
            "Italy",
            "Luxembourg",
            "Norway",
            "Sweden",
            "Switzerland"
           ],
           "locations": [
            "AUT",
            "BEL",
            "DNK",
            "FRA",
            "DEU",
            "GRC",
            "ITA",
            "LUX",
            "NOR",
            "SWE",
            "CHE"
           ],
           "name": "",
           "type": "choropleth",
           "z": [
            68000,
            69000,
            2500,
            389480,
            217000,
            16000,
            21000,
            1900,
            3400,
            33000,
            20500
           ]
          }
         ],
         "name": "1957"
        },
        {
         "data": [
          {
           "coloraxis": "coloraxis",
           "geo": "geo",
           "hovertemplate": "<b>%{hovertext}</b><br><br>Year=1958<br>Country of asylum (ISO)=%{location}<br>Number of Refugees=%{z}<extra></extra>",
           "hovertext": [
            "Austria",
            "Belgium",
            "Denmark",
            "France",
            "Germany",
            "Greece",
            "Italy",
            "Luxembourg",
            "Norway",
            "Sweden",
            "Switzerland"
           ],
           "locations": [
            "AUT",
            "BEL",
            "DNK",
            "FRA",
            "DEU",
            "GRC",
            "ITA",
            "LUX",
            "NOR",
            "SWE",
            "CHE"
           ],
           "name": "",
           "type": "choropleth",
           "z": [
            53000,
            63000,
            2500,
            381152,
            212000,
            15700,
            21000,
            1900,
            3300,
            31000,
            20000
           ]
          }
         ],
         "name": "1958"
        },
        {
         "data": [
          {
           "coloraxis": "coloraxis",
           "geo": "geo",
           "hovertemplate": "<b>%{hovertext}</b><br><br>Year=1959<br>Country of asylum (ISO)=%{location}<br>Number of Refugees=%{z}<extra></extra>",
           "hovertext": [
            "Austria",
            "Belgium",
            "Denmark",
            "France",
            "Germany",
            "Greece",
            "Italy",
            "Luxembourg",
            "Norway",
            "Sweden",
            "Switzerland"
           ],
           "locations": [
            "AUT",
            "BEL",
            "DNK",
            "FRA",
            "DEU",
            "GRC",
            "ITA",
            "LUX",
            "NOR",
            "SWE",
            "CHE"
           ],
           "name": "",
           "type": "choropleth",
           "z": [
            44000,
            58000,
            2400,
            387201,
            205000,
            15500,
            18500,
            1900,
            3100,
            28000,
            20000
           ]
          }
         ],
         "name": "1959"
        },
        {
         "data": [
          {
           "coloraxis": "coloraxis",
           "geo": "geo",
           "hovertemplate": "<b>%{hovertext}</b><br><br>Year=1960<br>Country of asylum (ISO)=%{location}<br>Number of Refugees=%{z}<extra></extra>",
           "hovertext": [
            "Austria",
            "Belgium",
            "Denmark",
            "France",
            "Germany",
            "Greece",
            "Italy",
            "Luxembourg",
            "Norway",
            "Sweden",
            "Switzerland"
           ],
           "locations": [
            "AUT",
            "BEL",
            "DNK",
            "FRA",
            "DEU",
            "GRC",
            "ITA",
            "LUX",
            "NOR",
            "SWE",
            "CHE"
           ],
           "name": "",
           "type": "choropleth",
           "z": [
            39000,
            55000,
            2300,
            245935,
            197000,
            15500,
            15500,
            1900,
            3000,
            26000,
            20000
           ]
          }
         ],
         "name": "1960"
        },
        {
         "data": [
          {
           "coloraxis": "coloraxis",
           "geo": "geo",
           "hovertemplate": "<b>%{hovertext}</b><br><br>Year=1961<br>Country of asylum (ISO)=%{location}<br>Number of Refugees=%{z}<extra></extra>",
           "hovertext": [
            "Austria",
            "Belgium",
            "Denmark",
            "France",
            "Germany",
            "Greece",
            "Italy",
            "Luxembourg",
            "Norway",
            "Spain",
            "Sweden",
            "Switzerland"
           ],
           "locations": [
            "AUT",
            "BEL",
            "DNK",
            "FRA",
            "DEU",
            "GRC",
            "ITA",
            "LUX",
            "NOR",
            "ESP",
            "SWE",
            "CHE"
           ],
           "name": "",
           "type": "choropleth",
           "z": [
            34000,
            53000,
            2200,
            253375,
            190000,
            15200,
            14500,
            1900,
            3000,
            2000,
            26000,
            20000
           ]
          }
         ],
         "name": "1961"
        },
        {
         "data": [
          {
           "coloraxis": "coloraxis",
           "geo": "geo",
           "hovertemplate": "<b>%{hovertext}</b><br><br>Year=1962<br>Country of asylum (ISO)=%{location}<br>Number of Refugees=%{z}<extra></extra>",
           "hovertext": [
            "Austria",
            "Belgium",
            "Denmark",
            "France",
            "Germany",
            "Greece",
            "Italy",
            "Luxembourg",
            "Norway",
            "Spain",
            "Sweden",
            "Switzerland"
           ],
           "locations": [
            "AUT",
            "BEL",
            "DNK",
            "FRA",
            "DEU",
            "GRC",
            "ITA",
            "LUX",
            "NOR",
            "ESP",
            "SWE",
            "CHE"
           ],
           "name": "",
           "type": "choropleth",
           "z": [
            30000,
            51000,
            2200,
            259740,
            185000,
            15700,
            14300,
            1900,
            3000,
            2000,
            26000,
            20000
           ]
          }
         ],
         "name": "1962"
        },
        {
         "data": [
          {
           "coloraxis": "coloraxis",
           "geo": "geo",
           "hovertemplate": "<b>%{hovertext}</b><br><br>Year=1963<br>Country of asylum (ISO)=%{location}<br>Number of Refugees=%{z}<extra></extra>",
           "hovertext": [
            "Austria",
            "Belgium",
            "Denmark",
            "France",
            "Germany",
            "Greece",
            "Italy",
            "Luxembourg",
            "Norway",
            "Spain",
            "Sweden",
            "Switzerland"
           ],
           "locations": [
            "AUT",
            "BEL",
            "DNK",
            "FRA",
            "DEU",
            "GRC",
            "ITA",
            "LUX",
            "NOR",
            "ESP",
            "SWE",
            "CHE"
           ],
           "name": "",
           "type": "choropleth",
           "z": [
            27000,
            50000,
            2200,
            174057,
            182000,
            15400,
            14600,
            1900,
            3000,
            2000,
            26000,
            20000
           ]
          }
         ],
         "name": "1963"
        },
        {
         "data": [
          {
           "coloraxis": "coloraxis",
           "geo": "geo",
           "hovertemplate": "<b>%{hovertext}</b><br><br>Year=1964<br>Country of asylum (ISO)=%{location}<br>Number of Refugees=%{z}<extra></extra>",
           "hovertext": [
            "Austria",
            "Belgium",
            "France",
            "Germany",
            "Greece",
            "Italy",
            "Spain",
            "Sweden",
            "Switzerland"
           ],
           "locations": [
            "AUT",
            "BEL",
            "FRA",
            "DEU",
            "GRC",
            "ITA",
            "ESP",
            "SWE",
            "CHE"
           ],
           "name": "",
           "type": "choropleth",
           "z": [
            25000,
            47000,
            175861,
            180000,
            16000,
            14000,
            14000,
            24000,
            20000
           ]
          }
         ],
         "name": "1964"
        },
        {
         "data": [
          {
           "coloraxis": "coloraxis",
           "geo": "geo",
           "hovertemplate": "<b>%{hovertext}</b><br><br>Year=1965<br>Country of asylum (ISO)=%{location}<br>Number of Refugees=%{z}<extra></extra>",
           "hovertext": [
            "Austria",
            "Belgium",
            "France",
            "Germany",
            "Greece",
            "Italy",
            "Spain",
            "Sweden",
            "Switzerland"
           ],
           "locations": [
            "AUT",
            "BEL",
            "FRA",
            "DEU",
            "GRC",
            "ITA",
            "ESP",
            "SWE",
            "CHE"
           ],
           "name": "",
           "type": "choropleth",
           "z": [
            25000,
            47000,
            177665,
            180000,
            15560,
            15000,
            14000,
            22000,
            20000
           ]
          }
         ],
         "name": "1965"
        },
        {
         "data": [
          {
           "coloraxis": "coloraxis",
           "geo": "geo",
           "hovertemplate": "<b>%{hovertext}</b><br><br>Year=1966<br>Country of asylum (ISO)=%{location}<br>Number of Refugees=%{z}<extra></extra>",
           "hovertext": [
            "Austria",
            "Belgium",
            "France",
            "Germany",
            "Greece",
            "Italy",
            "Spain",
            "Sweden",
            "Switzerland"
           ],
           "locations": [
            "AUT",
            "BEL",
            "FRA",
            "DEU",
            "GRC",
            "ITA",
            "ESP",
            "SWE",
            "CHE"
           ],
           "name": "",
           "type": "choropleth",
           "z": [
            24500,
            40000,
            179468,
            140000,
            15300,
            14000,
            17000,
            20000,
            20500
           ]
          }
         ],
         "name": "1966"
        },
        {
         "data": [
          {
           "coloraxis": "coloraxis",
           "geo": "geo",
           "hovertemplate": "<b>%{hovertext}</b><br><br>Year=1967<br>Country of asylum (ISO)=%{location}<br>Number of Refugees=%{z}<extra></extra>",
           "hovertext": [
            "Austria",
            "Belgium",
            "France",
            "Germany",
            "Greece",
            "Italy",
            "Spain",
            "Sweden",
            "Switzerland"
           ],
           "locations": [
            "AUT",
            "BEL",
            "FRA",
            "DEU",
            "GRC",
            "ITA",
            "ESP",
            "SWE",
            "CHE"
           ],
           "name": "",
           "type": "choropleth",
           "z": [
            24000,
            34000,
            177200,
            112000,
            12270,
            13000,
            20000,
            18000,
            21000
           ]
          }
         ],
         "name": "1967"
        },
        {
         "data": [
          {
           "coloraxis": "coloraxis",
           "geo": "geo",
           "hovertemplate": "<b>%{hovertext}</b><br><br>Year=1968<br>Country of asylum (ISO)=%{location}<br>Number of Refugees=%{z}<extra></extra>",
           "hovertext": [
            "Austria",
            "Belgium",
            "Cyprus",
            "France",
            "Germany",
            "Greece",
            "Italy",
            "Spain",
            "Sweden",
            "Switzerland"
           ],
           "locations": [
            "AUT",
            "BEL",
            "CYP",
            "FRA",
            "DEU",
            "GRC",
            "ITA",
            "ESP",
            "SWE",
            "CHE"
           ],
           "name": "",
           "type": "choropleth",
           "z": [
            24000,
            33000,
            200,
            176736,
            110000,
            8260,
            13000,
            20000,
            17000,
            26000
           ]
          }
         ],
         "name": "1968"
        },
        {
         "data": [
          {
           "coloraxis": "coloraxis",
           "geo": "geo",
           "hovertemplate": "<b>%{hovertext}</b><br><br>Year=1969<br>Country of asylum (ISO)=%{location}<br>Number of Refugees=%{z}<extra></extra>",
           "hovertext": [
            "Austria",
            "Belgium",
            "Cyprus",
            "France",
            "Germany",
            "Greece",
            "Italy",
            "Spain",
            "Sweden",
            "Switzerland"
           ],
           "locations": [
            "AUT",
            "BEL",
            "CYP",
            "FRA",
            "DEU",
            "GRC",
            "ITA",
            "ESP",
            "SWE",
            "CHE"
           ],
           "name": "",
           "type": "choropleth",
           "z": [
            25000,
            30000,
            200,
            175242,
            113000,
            6330,
            14000,
            23000,
            17000,
            30000
           ]
          }
         ],
         "name": "1969"
        },
        {
         "data": [
          {
           "coloraxis": "coloraxis",
           "geo": "geo",
           "hovertemplate": "<b>%{hovertext}</b><br><br>Year=1970<br>Country of asylum (ISO)=%{location}<br>Number of Refugees=%{z}<extra></extra>",
           "hovertext": [
            "Austria",
            "Belgium",
            "Cyprus",
            "Denmark",
            "France",
            "Germany",
            "Greece",
            "Italy",
            "Norway",
            "Spain",
            "Sweden",
            "Switzerland"
           ],
           "locations": [
            "AUT",
            "BEL",
            "CYP",
            "DNK",
            "FRA",
            "DEU",
            "GRC",
            "ITA",
            "NOR",
            "ESP",
            "SWE",
            "CHE"
           ],
           "name": "",
           "type": "choropleth",
           "z": [
            25300,
            31500,
            200,
            2000,
            158543,
            115000,
            5710,
            13000,
            2000,
            29500,
            20000,
            31000
           ]
          }
         ],
         "name": "1970"
        },
        {
         "data": [
          {
           "coloraxis": "coloraxis",
           "geo": "geo",
           "hovertemplate": "<b>%{hovertext}</b><br><br>Year=1971<br>Country of asylum (ISO)=%{location}<br>Number of Refugees=%{z}<extra></extra>",
           "hovertext": [
            "Austria",
            "Belgium",
            "Cyprus",
            "Denmark",
            "France",
            "Germany",
            "Greece",
            "Italy",
            "Norway",
            "Spain",
            "Sweden",
            "Switzerland"
           ],
           "locations": [
            "AUT",
            "BEL",
            "CYP",
            "DNK",
            "FRA",
            "DEU",
            "GRC",
            "ITA",
            "NOR",
            "ESP",
            "SWE",
            "CHE"
           ],
           "name": "",
           "type": "choropleth",
           "z": [
            25000,
            29000,
            200,
            4400,
            141844,
            125000,
            5780,
            12700,
            3000,
            38000,
            20000,
            30000
           ]
          }
         ],
         "name": "1971"
        },
        {
         "data": [
          {
           "coloraxis": "coloraxis",
           "geo": "geo",
           "hovertemplate": "<b>%{hovertext}</b><br><br>Year=1972<br>Country of asylum (ISO)=%{location}<br>Number of Refugees=%{z}<extra></extra>",
           "hovertext": [
            "Austria",
            "Belgium",
            "Cyprus",
            "Denmark",
            "France",
            "Germany",
            "Greece",
            "Italy",
            "Norway",
            "Spain",
            "Sweden",
            "Switzerland"
           ],
           "locations": [
            "AUT",
            "BEL",
            "CYP",
            "DNK",
            "FRA",
            "DEU",
            "GRC",
            "ITA",
            "NOR",
            "ESP",
            "SWE",
            "CHE"
           ],
           "name": "",
           "type": "choropleth",
           "z": [
            25000,
            29000,
            200,
            3687,
            98900,
            125000,
            3350,
            12600,
            3000,
            40000,
            20000,
            35000
           ]
          }
         ],
         "name": "1972"
        },
        {
         "data": [
          {
           "coloraxis": "coloraxis",
           "geo": "geo",
           "hovertemplate": "<b>%{hovertext}</b><br><br>Year=1973<br>Country of asylum (ISO)=%{location}<br>Number of Refugees=%{z}<extra></extra>",
           "hovertext": [
            "Austria",
            "Belgium",
            "Denmark",
            "France",
            "Germany",
            "Greece",
            "Italy",
            "Norway",
            "Spain",
            "Sweden",
            "Switzerland"
           ],
           "locations": [
            "AUT",
            "BEL",
            "DNK",
            "FRA",
            "DEU",
            "GRC",
            "ITA",
            "NOR",
            "ESP",
            "SWE",
            "CHE"
           ],
           "name": "",
           "type": "choropleth",
           "z": [
            25000,
            20000,
            3687,
            101830,
            125000,
            2940,
            12600,
            3000,
            26000,
            20000,
            35000
           ]
          }
         ],
         "name": "1973"
        },
        {
         "data": [
          {
           "coloraxis": "coloraxis",
           "geo": "geo",
           "hovertemplate": "<b>%{hovertext}</b><br><br>Year=1974<br>Country of asylum (ISO)=%{location}<br>Number of Refugees=%{z}<extra></extra>",
           "hovertext": [
            "Austria",
            "Belgium",
            "Denmark",
            "France",
            "Germany",
            "Greece",
            "Italy",
            "Norway",
            "Spain",
            "Sweden",
            "Switzerland"
           ],
           "locations": [
            "AUT",
            "BEL",
            "DNK",
            "FRA",
            "DEU",
            "GRC",
            "ITA",
            "NOR",
            "ESP",
            "SWE",
            "CHE"
           ],
           "name": "",
           "type": "choropleth",
           "z": [
            25000,
            11100,
            2900,
            105538,
            123000,
            2710,
            13000,
            3000,
            18000,
            20000,
            35000
           ]
          }
         ],
         "name": "1974"
        },
        {
         "data": [
          {
           "coloraxis": "coloraxis",
           "geo": "geo",
           "hovertemplate": "<b>%{hovertext}</b><br><br>Year=1975<br>Country of asylum (ISO)=%{location}<br>Number of Refugees=%{z}<extra></extra>",
           "hovertext": [
            "Austria",
            "Belgium",
            "Denmark",
            "France",
            "Germany",
            "Greece",
            "Italy",
            "Norway",
            "Portugal",
            "Spain",
            "Sweden",
            "Switzerland"
           ],
           "locations": [
            "AUT",
            "BEL",
            "DNK",
            "FRA",
            "DEU",
            "GRC",
            "ITA",
            "NOR",
            "PRT",
            "ESP",
            "SWE",
            "CHE"
           ],
           "name": "",
           "type": "choropleth",
           "z": [
            20000,
            16788,
            2125,
            109882,
            122000,
            2600,
            11900,
            3000,
            150,
            16000,
            20000,
            35000
           ]
          }
         ],
         "name": "1975"
        },
        {
         "data": [
          {
           "coloraxis": "coloraxis",
           "geo": "geo",
           "hovertemplate": "<b>%{hovertext}</b><br><br>Year=1976<br>Country of asylum (ISO)=%{location}<br>Number of Refugees=%{z}<extra></extra>",
           "hovertext": [
            "Austria",
            "Belgium",
            "Denmark",
            "France",
            "Germany",
            "Greece",
            "Italy",
            "Norway",
            "Spain",
            "Sweden",
            "Switzerland"
           ],
           "locations": [
            "AUT",
            "BEL",
            "DNK",
            "FRA",
            "DEU",
            "GRC",
            "ITA",
            "NOR",
            "ESP",
            "SWE",
            "CHE"
           ],
           "name": "",
           "type": "choropleth",
           "z": [
            25000,
            17000,
            2100,
            114634,
            122000,
            2560,
            11900,
            1000,
            16500,
            20000,
            35000
           ]
          }
         ],
         "name": "1976"
        },
        {
         "data": [
          {
           "coloraxis": "coloraxis",
           "geo": "geo",
           "hovertemplate": "<b>%{hovertext}</b><br><br>Year=1977<br>Country of asylum (ISO)=%{location}<br>Number of Refugees=%{z}<extra></extra>",
           "hovertext": [
            "Austria",
            "Belgium",
            "Cyprus",
            "Denmark",
            "France",
            "Germany",
            "Greece",
            "Italy",
            "Norway",
            "Portugal",
            "Romania",
            "Spain",
            "Sweden",
            "Switzerland"
           ],
           "locations": [
            "AUT",
            "BEL",
            "CYP",
            "DNK",
            "FRA",
            "DEU",
            "GRC",
            "ITA",
            "NOR",
            "PRT",
            "ROU",
            "ESP",
            "SWE",
            "CHE"
           ],
           "name": "",
           "type": "choropleth",
           "z": [
            20000,
            17000,
            700,
            1764,
            119413,
            120000,
            2610,
            11700,
            6000,
            7500,
            1000,
            15000,
            20000,
            30000
           ]
          }
         ],
         "name": "1977"
        },
        {
         "data": [
          {
           "coloraxis": "coloraxis",
           "geo": "geo",
           "hovertemplate": "<b>%{hovertext}</b><br><br>Year=1978<br>Country of asylum (ISO)=%{location}<br>Number of Refugees=%{z}<extra></extra>",
           "hovertext": [
            "Austria",
            "Belgium",
            "Denmark",
            "France",
            "Germany",
            "Greece",
            "Italy",
            "Norway",
            "Portugal",
            "Romania",
            "Spain",
            "Sweden",
            "Switzerland"
           ],
           "locations": [
            "AUT",
            "BEL",
            "DNK",
            "FRA",
            "DEU",
            "GRC",
            "ITA",
            "NOR",
            "PRT",
            "ROU",
            "ESP",
            "SWE",
            "CHE"
           ],
           "name": "",
           "type": "choropleth",
           "z": [
            20000,
            17000,
            1800,
            126229,
            83500,
            2520,
            11700,
            6000,
            7500,
            1000,
            15000,
            20000,
            30000
           ]
          }
         ],
         "name": "1978"
        },
        {
         "data": [
          {
           "coloraxis": "coloraxis",
           "geo": "geo",
           "hovertemplate": "<b>%{hovertext}</b><br><br>Year=1979<br>Country of asylum (ISO)=%{location}<br>Number of Refugees=%{z}<extra></extra>",
           "hovertext": [
            "Austria",
            "Belgium",
            "Denmark",
            "France",
            "Germany",
            "Greece",
            "Italy",
            "Norway",
            "Portugal",
            "Romania",
            "Spain",
            "Sweden",
            "Switzerland"
           ],
           "locations": [
            "AUT",
            "BEL",
            "DNK",
            "FRA",
            "DEU",
            "GRC",
            "ITA",
            "NOR",
            "PRT",
            "ROU",
            "ESP",
            "SWE",
            "CHE"
           ],
           "name": "",
           "type": "choropleth",
           "z": [
            25000,
            32000,
            1800,
            119489,
            87000,
            3770,
            14100,
            6000,
            7600,
            1000,
            26000,
            20000,
            30000
           ]
          }
         ],
         "name": "1979"
        },
        {
         "data": [
          {
           "coloraxis": "coloraxis",
           "geo": "geo",
           "hovertemplate": "<b>%{hovertext}</b><br><br>Year=1980<br>Country of asylum (ISO)=%{location}<br>Number of Refugees=%{z}<extra></extra>",
           "hovertext": [
            "Austria",
            "Belgium",
            "Denmark",
            "France",
            "Germany",
            "Greece",
            "Italy",
            "Norway",
            "Portugal",
            "Romania",
            "Spain",
            "Sweden",
            "Switzerland"
           ],
           "locations": [
            "AUT",
            "BEL",
            "DNK",
            "FRA",
            "DEU",
            "GRC",
            "ITA",
            "NOR",
            "PRT",
            "ROU",
            "ESP",
            "SWE",
            "CHE"
           ],
           "name": "",
           "type": "choropleth",
           "z": [
            15525,
            33000,
            1800,
            121958,
            94000,
            3750,
            21531,
            6000,
            7600,
            1000,
            21500,
            20000,
            32000
           ]
          }
         ],
         "name": "1980"
        },
        {
         "data": [
          {
           "coloraxis": "coloraxis",
           "geo": "geo",
           "hovertemplate": "<b>%{hovertext}</b><br><br>Year=1981<br>Country of asylum (ISO)=%{location}<br>Number of Refugees=%{z}<extra></extra>",
           "hovertext": [
            "Austria",
            "Belgium",
            "Denmark",
            "France",
            "Germany",
            "Greece",
            "Italy",
            "Norway",
            "Portugal",
            "Romania",
            "Spain",
            "Sweden",
            "Switzerland"
           ],
           "locations": [
            "AUT",
            "BEL",
            "DNK",
            "FRA",
            "DEU",
            "GRC",
            "ITA",
            "NOR",
            "PRT",
            "ROU",
            "ESP",
            "SWE",
            "CHE"
           ],
           "name": "",
           "type": "choropleth",
           "z": [
            17899,
            35000,
            1800,
            125597,
            100000,
            3990,
            22601,
            6000,
            7600,
            1000,
            21500,
            20000,
            40000
           ]
          }
         ],
         "name": "1981"
        },
        {
         "data": [
          {
           "coloraxis": "coloraxis",
           "geo": "geo",
           "hovertemplate": "<b>%{hovertext}</b><br><br>Year=1982<br>Country of asylum (ISO)=%{location}<br>Number of Refugees=%{z}<extra></extra>",
           "hovertext": [
            "Austria",
            "Belgium",
            "Denmark",
            "France",
            "Germany",
            "Greece",
            "Italy",
            "Norway",
            "Portugal",
            "Romania",
            "Spain",
            "Sweden",
            "Switzerland"
           ],
           "locations": [
            "AUT",
            "BEL",
            "DNK",
            "FRA",
            "DEU",
            "GRC",
            "ITA",
            "NOR",
            "PRT",
            "ROU",
            "ESP",
            "SWE",
            "CHE"
           ],
           "name": "",
           "type": "choropleth",
           "z": [
            34963,
            21000,
            1800,
            152223,
            100000,
            3950,
            22865,
            6000,
            7600,
            1000,
            23500,
            20000,
            33404
           ]
          }
         ],
         "name": "1982"
        },
        {
         "data": [
          {
           "coloraxis": "coloraxis",
           "geo": "geo",
           "hovertemplate": "<b>%{hovertext}</b><br><br>Year=1983<br>Country of asylum (ISO)=%{location}<br>Number of Refugees=%{z}<extra></extra>",
           "hovertext": [
            "Austria",
            "Belgium",
            "Denmark",
            "France",
            "Germany",
            "Greece",
            "Italy",
            "Norway",
            "Portugal",
            "Romania",
            "Spain",
            "Sweden",
            "Switzerland"
           ],
           "locations": [
            "AUT",
            "BEL",
            "DNK",
            "FRA",
            "DEU",
            "GRC",
            "ITA",
            "NOR",
            "PRT",
            "ROU",
            "ESP",
            "SWE",
            "CHE"
           ],
           "name": "",
           "type": "choropleth",
           "z": [
            37298,
            35000,
            3600,
            164113,
            115000,
            4090,
            22062,
            10000,
            700,
            1000,
            23700,
            43000,
            32312
           ]
          }
         ],
         "name": "1983"
        },
        {
         "data": [
          {
           "coloraxis": "coloraxis",
           "geo": "geo",
           "hovertemplate": "<b>%{hovertext}</b><br><br>Year=1984<br>Country of asylum (ISO)=%{location}<br>Number of Refugees=%{z}<extra></extra>",
           "hovertext": [
            "Austria",
            "Belgium",
            "Denmark",
            "Finland",
            "France",
            "Germany",
            "Greece",
            "Ireland",
            "Italy",
            "Norway",
            "Portugal",
            "Romania",
            "Spain",
            "Sweden",
            "Switzerland"
           ],
           "locations": [
            "AUT",
            "BEL",
            "DNK",
            "FIN",
            "FRA",
            "DEU",
            "GRC",
            "IRL",
            "ITA",
            "NOR",
            "PRT",
            "ROU",
            "ESP",
            "SWE",
            "CHE"
           ],
           "name": "",
           "type": "choropleth",
           "z": [
            39099,
            36400,
            8500,
            500,
            169863,
            126600,
            4320,
            500,
            21482,
            10000,
            600,
            1000,
            9900,
            90600,
            31201
           ]
          }
         ],
         "name": "1984"
        },
        {
         "data": [
          {
           "coloraxis": "coloraxis",
           "geo": "geo",
           "hovertemplate": "<b>%{hovertext}</b><br><br>Year=1985<br>Country of asylum (ISO)=%{location}<br>Number of Refugees=%{z}<extra></extra>",
           "hovertext": [
            "Austria",
            "Belgium",
            "Denmark",
            "Finland",
            "France",
            "Germany",
            "Greece",
            "Ireland",
            "Italy",
            "Norway",
            "Portugal",
            "Spain",
            "Sweden",
            "Switzerland"
           ],
           "locations": [
            "AUT",
            "BEL",
            "DNK",
            "FIN",
            "FRA",
            "DEU",
            "GRC",
            "IRL",
            "ITA",
            "NOR",
            "PRT",
            "ESP",
            "SWE",
            "CHE"
           ],
           "name": "",
           "type": "choropleth",
           "z": [
            40534,
            36600,
            8500,
            500,
            174213,
            475000,
            4360,
            600,
            22386,
            11800,
            700,
            9300,
            90600,
            30726
           ]
          }
         ],
         "name": "1985"
        },
        {
         "data": [
          {
           "coloraxis": "coloraxis",
           "geo": "geo",
           "hovertemplate": "<b>%{hovertext}</b><br><br>Year=1986<br>Country of asylum (ISO)=%{location}<br>Number of Refugees=%{z}<extra></extra>",
           "hovertext": [
            "Austria",
            "Belgium",
            "Denmark",
            "Finland",
            "France",
            "Germany",
            "Greece",
            "Ireland",
            "Italy",
            "Norway",
            "Portugal",
            "Spain",
            "Sweden",
            "Switzerland"
           ],
           "locations": [
            "AUT",
            "BEL",
            "DNK",
            "FIN",
            "FRA",
            "DEU",
            "GRC",
            "IRL",
            "ITA",
            "NOR",
            "PRT",
            "ESP",
            "SWE",
            "CHE"
           ],
           "name": "",
           "type": "choropleth",
           "z": [
            41176,
            35900,
            23000,
            500,
            180258,
            547900,
            3280,
            600,
            21505,
            13200,
            800,
            10200,
            120000,
            31343
           ]
          }
         ],
         "name": "1986"
        },
        {
         "data": [
          {
           "coloraxis": "coloraxis",
           "geo": "geo",
           "hovertemplate": "<b>%{hovertext}</b><br><br>Year=1987<br>Country of asylum (ISO)=%{location}<br>Number of Refugees=%{z}<extra></extra>",
           "hovertext": [
            "Austria",
            "Belgium",
            "Denmark",
            "Finland",
            "France",
            "Germany",
            "Greece",
            "Ireland",
            "Italy",
            "Norway",
            "Portugal",
            "Spain",
            "Sweden",
            "Switzerland"
           ],
           "locations": [
            "AUT",
            "BEL",
            "DNK",
            "FIN",
            "FRA",
            "DEU",
            "GRC",
            "IRL",
            "ITA",
            "NOR",
            "PRT",
            "ESP",
            "SWE",
            "CHE"
           ],
           "name": "",
           "type": "choropleth",
           "z": [
            41228,
            22000,
            30000,
            800,
            179306,
            596200,
            4630,
            540,
            20413,
            15000,
            800,
            9200,
            130000,
            31707
           ]
          }
         ],
         "name": "1987"
        },
        {
         "data": [
          {
           "coloraxis": "coloraxis",
           "geo": "geo",
           "hovertemplate": "<b>%{hovertext}</b><br><br>Year=1988<br>Country of asylum (ISO)=%{location}<br>Number of Refugees=%{z}<extra></extra>",
           "hovertext": [
            "Austria",
            "Belgium",
            "Cyprus",
            "Denmark",
            "Finland",
            "France",
            "Germany",
            "Greece",
            "Ireland",
            "Italy",
            "Norway",
            "Portugal",
            "Spain",
            "Sweden",
            "Switzerland"
           ],
           "locations": [
            "AUT",
            "BEL",
            "CYP",
            "DNK",
            "FIN",
            "FRA",
            "DEU",
            "GRC",
            "IRL",
            "ITA",
            "NOR",
            "PRT",
            "ESP",
            "SWE",
            "CHE"
           ],
           "name": "",
           "type": "choropleth",
           "z": [
            39830,
            23117,
            60,
            27310,
            1065,
            183946,
            610200,
            8262,
            480,
            19260,
            10952,
            789,
            8691,
            139783,
            31949
           ]
          }
         ],
         "name": "1988"
        },
        {
         "data": [
          {
           "coloraxis": "coloraxis",
           "geo": "geo",
           "hovertemplate": "<b>%{hovertext}</b><br><br>Year=1989<br>Country of asylum (ISO)=%{location}<br>Number of Refugees=%{z}<extra></extra>",
           "hovertext": [
            "Austria",
            "Belgium",
            "Denmark",
            "Finland",
            "France",
            "Germany",
            "Greece",
            "Hungary",
            "Ireland",
            "Italy",
            "Norway",
            "Portugal",
            "Spain",
            "Sweden",
            "Switzerland"
           ],
           "locations": [
            "AUT",
            "BEL",
            "DNK",
            "FIN",
            "FRA",
            "DEU",
            "GRC",
            "HUN",
            "IRL",
            "ITA",
            "NOR",
            "PRT",
            "ESP",
            "SWE",
            "CHE"
           ],
           "name": "",
           "type": "choropleth",
           "z": [
            39405,
            25531,
            30726,
            2000,
            180258,
            628500,
            7490,
            27000,
            420,
            13893,
            18500,
            657,
            8676,
            139783,
            36763
           ]
          }
         ],
         "name": "1989"
        },
        {
         "data": [
          {
           "coloraxis": "coloraxis",
           "geo": "geo",
           "hovertemplate": "<b>%{hovertext}</b><br><br>Year=1990<br>Country of asylum (ISO)=%{location}<br>Number of Refugees=%{z}<extra></extra>",
           "hovertext": [
            "Austria",
            "Belgium",
            "Cyprus",
            "Denmark",
            "Finland",
            "France",
            "Germany",
            "Greece",
            "Hungary",
            "Iceland",
            "Ireland",
            "Italy",
            "Luxembourg",
            "Norway",
            "Portugal",
            "Spain",
            "Sweden",
            "Switzerland"
           ],
           "locations": [
            "AUT",
            "BEL",
            "CYP",
            "DNK",
            "FIN",
            "FRA",
            "DEU",
            "GRC",
            "HUN",
            "ISL",
            "IRL",
            "ITA",
            "LUX",
            "NOR",
            "PRT",
            "ESP",
            "SWE",
            "CHE"
           ],
           "name": "",
           "type": "choropleth",
           "z": [
            34938,
            25911,
            31,
            32887,
            2348,
            193000,
            816000,
            8488,
            45123,
            85,
            360,
            10816,
            687,
            19581,
            867,
            8303,
            109654,
            40943
           ]
          }
         ],
         "name": "1990"
        },
        {
         "data": [
          {
           "coloraxis": "coloraxis",
           "geo": "geo",
           "hovertemplate": "<b>%{hovertext}</b><br><br>Year=1991<br>Country of asylum (ISO)=%{location}<br>Number of Refugees=%{z}<extra></extra>",
           "hovertext": [
            "Austria",
            "Belgium",
            "Cyprus",
            "Denmark",
            "Finland",
            "France",
            "Germany",
            "Greece",
            "Hungary",
            "Iceland",
            "Ireland",
            "Italy",
            "Luxembourg",
            "Norway",
            "Poland",
            "Portugal",
            "Romania",
            "Spain",
            "Sweden",
            "Switzerland"
           ],
           "locations": [
            "AUT",
            "BEL",
            "CYP",
            "DNK",
            "FIN",
            "FRA",
            "DEU",
            "GRC",
            "HUN",
            "ISL",
            "IRL",
            "ITA",
            "LUX",
            "NOR",
            "POL",
            "PRT",
            "ROU",
            "ESP",
            "SWE",
            "CHE"
           ],
           "name": "",
           "type": "choropleth",
           "z": [
            34508,
            24071,
            61,
            36100,
            4561,
            174756,
            821500,
            8989,
            73838,
            141,
            300,
            9796,
            692,
            29054,
            550,
            998,
            651,
            4005,
            124457,
            45622
           ]
          }
         ],
         "name": "1991"
        },
        {
         "data": [
          {
           "coloraxis": "coloraxis",
           "geo": "geo",
           "hovertemplate": "<b>%{hovertext}</b><br><br>Year=1992<br>Country of asylum (ISO)=%{location}<br>Number of Refugees=%{z}<extra></extra>",
           "hovertext": [
            "Albania",
            "Austria",
            "Belgium",
            "Bulgaria",
            "Croatia",
            "Cyprus",
            "Denmark",
            "Finland",
            "France",
            "Germany",
            "Greece",
            "Hungary",
            "Iceland",
            "Ireland",
            "Italy",
            "Luxembourg",
            "North Macedonia",
            "Norway",
            "Poland",
            "Portugal",
            "Romania",
            "Slovenia",
            "Spain",
            "Sweden",
            "Switzerland"
           ],
           "locations": [
            "ALB",
            "AUT",
            "BEL",
            "BGR",
            "HRV",
            "CYP",
            "DNK",
            "FIN",
            "FRA",
            "DEU",
            "GRC",
            "HUN",
            "ISL",
            "IRL",
            "ITA",
            "LUX",
            "MKD",
            "NOR",
            "POL",
            "PRT",
            "ROU",
            "SVN",
            "ESP",
            "SWE",
            "CHE"
           ],
           "name": "",
           "type": "choropleth",
           "z": [
            3000,
            62355,
            24292,
            218,
            403000,
            80,
            39124,
            5950,
            156512,
            1236000,
            8456,
            32412,
            154,
            500,
            9242,
            2208,
            32000,
            29846,
            2719,
            1778,
            520,
            74100,
            4040,
            131069,
            51930
           ]
          }
         ],
         "name": "1992"
        },
        {
         "data": [
          {
           "coloraxis": "coloraxis",
           "geo": "geo",
           "hovertemplate": "<b>%{hovertext}</b><br><br>Year=1993<br>Country of asylum (ISO)=%{location}<br>Number of Refugees=%{z}<extra></extra>",
           "hovertext": [
            "Albania",
            "Austria",
            "Belgium",
            "Bosnia and Herzegovina",
            "Bulgaria",
            "Croatia",
            "Cyprus",
            "Denmark",
            "Finland",
            "France",
            "Germany",
            "Greece",
            "Hungary",
            "Iceland",
            "Ireland",
            "Italy",
            "Luxembourg",
            "Malta",
            "North Macedonia",
            "Norway",
            "Poland",
            "Portugal",
            "Romania",
            "Slovakia",
            "Slovenia",
            "Spain",
            "Sweden",
            "Switzerland"
           ],
           "locations": [
            "ALB",
            "AUT",
            "BEL",
            "BIH",
            "BGR",
            "HRV",
            "CYP",
            "DNK",
            "FIN",
            "FRA",
            "DEU",
            "GRC",
            "HUN",
            "ISL",
            "IRL",
            "ITA",
            "LUX",
            "MLT",
            "MKD",
            "NOR",
            "POL",
            "PRT",
            "ROU",
            "SVK",
            "SVN",
            "ESP",
            "SWE",
            "CHE"
           ],
           "name": "",
           "type": "choropleth",
           "z": [
            3000,
            57687,
            24908,
            0,
            443,
            287000,
            81,
            44570,
            8511,
            166269,
            1418000,
            7859,
            3019,
            160,
            119,
            50266,
            225,
            505,
            31452,
            38375,
            810,
            600,
            1170,
            1521,
            45000,
            4990,
            162386,
            56586
           ]
          }
         ],
         "name": "1993"
        },
        {
         "data": [
          {
           "coloraxis": "coloraxis",
           "geo": "geo",
           "hovertemplate": "<b>%{hovertext}</b><br><br>Year=1994<br>Country of asylum (ISO)=%{location}<br>Number of Refugees=%{z}<extra></extra>",
           "hovertext": [
            "Albania",
            "Austria",
            "Belarus",
            "Belgium",
            "Bosnia and Herzegovina",
            "Bulgaria",
            "Croatia",
            "Cyprus",
            "Denmark",
            "Finland",
            "France",
            "Germany",
            "Greece",
            "Hungary",
            "Iceland",
            "Ireland",
            "Italy",
            "Luxembourg",
            "Malta",
            "North Macedonia",
            "Norway",
            "Poland",
            "Portugal",
            "Romania",
            "Slovakia",
            "Slovenia",
            "Spain",
            "Sweden",
            "Switzerland",
            "Ukraine"
           ],
           "locations": [
            "ALB",
            "AUT",
            "BLR",
            "BEL",
            "BIH",
            "BGR",
            "HRV",
            "CYP",
            "DNK",
            "FIN",
            "FRA",
            "DEU",
            "GRC",
            "HUN",
            "ISL",
            "IRL",
            "ITA",
            "LUX",
            "MLT",
            "MKD",
            "NOR",
            "POL",
            "PRT",
            "ROU",
            "SVK",
            "SVN",
            "ESP",
            "SWE",
            "CHE",
            "UKR"
           ],
           "name": "",
           "type": "choropleth",
           "z": [
            3000,
            40703,
            1824,
            19497,
            0,
            1054,
            183600,
            67,
            49564,
            9511,
            195288,
            1354600,
            7773,
            2904,
            160,
            400,
            73058,
            300,
            424,
            14891,
            44617,
            393,
            248,
            1170,
            159,
            29156,
            5351,
            200774,
            75295,
            5193
           ]
          }
         ],
         "name": "1994"
        },
        {
         "data": [
          {
           "coloraxis": "coloraxis",
           "geo": "geo",
           "hovertemplate": "<b>%{hovertext}</b><br><br>Year=1995<br>Country of asylum (ISO)=%{location}<br>Number of Refugees=%{z}<extra></extra>",
           "hovertext": [
            "Albania",
            "Austria",
            "Belarus",
            "Belgium",
            "Bosnia and Herzegovina",
            "Bulgaria",
            "Croatia",
            "Cyprus",
            "Denmark",
            "Finland",
            "France",
            "Germany",
            "Greece",
            "Hungary",
            "Iceland",
            "Ireland",
            "Italy",
            "Luxembourg",
            "Malta",
            "North Macedonia",
            "Norway",
            "Poland",
            "Portugal",
            "Romania",
            "Slovakia",
            "Slovenia",
            "Spain",
            "Sweden",
            "Switzerland",
            "Ukraine"
           ],
           "locations": [
            "ALB",
            "AUT",
            "BLR",
            "BEL",
            "BIH",
            "BGR",
            "HRV",
            "CYP",
            "DNK",
            "FIN",
            "FRA",
            "DEU",
            "GRC",
            "HUN",
            "ISL",
            "IRL",
            "ITA",
            "LUX",
            "MLT",
            "MKD",
            "NOR",
            "POL",
            "PRT",
            "ROU",
            "SVK",
            "SVN",
            "ESP",
            "SWE",
            "CHE",
            "UKR"
           ],
           "name": "",
           "type": "choropleth",
           "z": [
            4721,
            34385,
            28988,
            31691,
            0,
            1318,
            198647,
            53,
            64850,
            10191,
            155240,
            1267900,
            4428,
            11394,
            197,
            400,
            74298,
            700,
            410,
            9048,
            47607,
            600,
            248,
            192,
            2339,
            22314,
            5840,
            199194,
            82943,
            5193
           ]
          }
         ],
         "name": "1995"
        },
        {
         "data": [
          {
           "coloraxis": "coloraxis",
           "geo": "geo",
           "hovertemplate": "<b>%{hovertext}</b><br><br>Year=1996<br>Country of asylum (ISO)=%{location}<br>Number of Refugees=%{z}<extra></extra>",
           "hovertext": [
            "Albania",
            "Austria",
            "Belarus",
            "Belgium",
            "Bosnia and Herzegovina",
            "Bulgaria",
            "Croatia",
            "Cyprus",
            "Denmark",
            "Finland",
            "France",
            "Germany",
            "Greece",
            "Hungary",
            "Iceland",
            "Ireland",
            "Italy",
            "Luxembourg",
            "Malta",
            "North Macedonia",
            "Norway",
            "Poland",
            "Portugal",
            "Romania",
            "Slovakia",
            "Slovenia",
            "Spain",
            "Sweden",
            "Switzerland",
            "Ukraine"
           ],
           "locations": [
            "ALB",
            "AUT",
            "BLR",
            "BEL",
            "BIH",
            "BGR",
            "HRV",
            "CYP",
            "DNK",
            "FIN",
            "FRA",
            "DEU",
            "GRC",
            "HUN",
            "ISL",
            "IRL",
            "ITA",
            "LUX",
            "MLT",
            "MKD",
            "NOR",
            "POL",
            "PRT",
            "ROU",
            "SVK",
            "SVN",
            "ESP",
            "SWE",
            "CHE",
            "UKR"
           ],
           "name": "",
           "type": "choropleth",
           "z": [
            4927,
            89116,
            30525,
            36060,
            0,
            1431,
            165395,
            45,
            66371,
            11382,
            151331,
            1266000,
            5780,
            7537,
            232,
            69,
            64712,
            700,
            357,
            5089,
            48409,
            600,
            297,
            261,
            1387,
            10014,
            5672,
            191159,
            84413,
            3585
           ]
          }
         ],
         "name": "1996"
        },
        {
         "data": [
          {
           "coloraxis": "coloraxis",
           "geo": "geo",
           "hovertemplate": "<b>%{hovertext}</b><br><br>Year=1997<br>Country of asylum (ISO)=%{location}<br>Number of Refugees=%{z}<extra></extra>",
           "hovertext": [
            "Albania",
            "Austria",
            "Belarus",
            "Belgium",
            "Bosnia and Herzegovina",
            "Bulgaria",
            "Croatia",
            "Cyprus",
            "Denmark",
            "Finland",
            "France",
            "Germany",
            "Greece",
            "Hungary",
            "Iceland",
            "Ireland",
            "Italy",
            "Lithuania",
            "Luxembourg",
            "Malta",
            "North Macedonia",
            "Norway",
            "Poland",
            "Portugal",
            "Romania",
            "Slovakia",
            "Slovenia",
            "Spain",
            "Sweden",
            "Switzerland",
            "Ukraine"
           ],
           "locations": [
            "ALB",
            "AUT",
            "BLR",
            "BEL",
            "BIH",
            "BGR",
            "HRV",
            "CYP",
            "DNK",
            "FIN",
            "FRA",
            "DEU",
            "GRC",
            "HUN",
            "ISL",
            "IRL",
            "ITA",
            "LTU",
            "LUX",
            "MLT",
            "MKD",
            "NOR",
            "POL",
            "PRT",
            "ROU",
            "SVK",
            "SVN",
            "ESP",
            "SWE",
            "CHE",
            "UKR"
           ],
           "name": "",
           "type": "choropleth",
           "z": [
            34,
            84394,
            50,
            36060,
            40000,
            382,
            68863,
            38,
            68106,
            12017,
            146558,
            1049000,
            5520,
            5890,
            252,
            430,
            66601,
            5,
            700,
            334,
            3500,
            47372,
            835,
            310,
            631,
            746,
            5133,
            5512,
            186719,
            83205,
            4566
           ]
          }
         ],
         "name": "1997"
        },
        {
         "data": [
          {
           "coloraxis": "coloraxis",
           "geo": "geo",
           "hovertemplate": "<b>%{hovertext}</b><br><br>Year=1998<br>Country of asylum (ISO)=%{location}<br>Number of Refugees=%{z}<extra></extra>",
           "hovertext": [
            "Albania",
            "Austria",
            "Belarus",
            "Belgium",
            "Bosnia and Herzegovina",
            "Bulgaria",
            "Croatia",
            "Cyprus",
            "Denmark",
            "Finland",
            "France",
            "Germany",
            "Greece",
            "Hungary",
            "Iceland",
            "Ireland",
            "Italy",
            "Lithuania",
            "Luxembourg",
            "Malta",
            "North Macedonia",
            "Norway",
            "Poland",
            "Portugal",
            "Romania",
            "Slovakia",
            "Slovenia",
            "Spain",
            "Sweden",
            "Switzerland",
            "Ukraine"
           ],
           "locations": [
            "ALB",
            "AUT",
            "BLR",
            "BEL",
            "BIH",
            "BGR",
            "HRV",
            "CYP",
            "DNK",
            "FIN",
            "FRA",
            "DEU",
            "GRC",
            "HUN",
            "ISL",
            "IRL",
            "ITA",
            "LTU",
            "LUX",
            "MLT",
            "MKD",
            "NOR",
            "POL",
            "PRT",
            "ROU",
            "SVK",
            "SVN",
            "ESP",
            "SWE",
            "CHE",
            "UKR"
           ],
           "name": "",
           "type": "choropleth",
           "z": [
            22334,
            80294,
            75,
            15501,
            40000,
            241,
            29027,
            77,
            68996,
            12288,
            140213,
            949200,
            6145,
            3504,
            286,
            600,
            5440,
            30,
            700,
            291,
            1700,
            45325,
            895,
            329,
            983,
            418,
            3462,
            5918,
            178782,
            81875,
            6101
           ]
          }
         ],
         "name": "1998"
        },
        {
         "data": [
          {
           "coloraxis": "coloraxis",
           "geo": "geo",
           "hovertemplate": "<b>%{hovertext}</b><br><br>Year=1999<br>Country of asylum (ISO)=%{location}<br>Number of Refugees=%{z}<extra></extra>",
           "hovertext": [
            "Albania",
            "Austria",
            "Belarus",
            "Belgium",
            "Bosnia and Herzegovina",
            "Bulgaria",
            "Croatia",
            "Cyprus",
            "Denmark",
            "Finland",
            "France",
            "Germany",
            "Greece",
            "Hungary",
            "Iceland",
            "Ireland",
            "Italy",
            "Latvia",
            "Lithuania",
            "Luxembourg",
            "Malta",
            "North Macedonia",
            "Norway",
            "Poland",
            "Portugal",
            "Romania",
            "Slovakia",
            "Slovenia",
            "Spain",
            "Sweden",
            "Switzerland",
            "Ukraine"
           ],
           "locations": [
            "ALB",
            "AUT",
            "BLR",
            "BEL",
            "BIH",
            "BGR",
            "HRV",
            "CYP",
            "DNK",
            "FIN",
            "FRA",
            "DEU",
            "GRC",
            "HUN",
            "ISL",
            "IRL",
            "ITA",
            "LVA",
            "LTU",
            "LUX",
            "MLT",
            "MKD",
            "NOR",
            "POL",
            "PRT",
            "ROU",
            "SVK",
            "SVN",
            "ESP",
            "SWE",
            "CHE",
            "UKR"
           ],
           "name": "",
           "type": "choropleth",
           "z": [
            3932,
            82076,
            261,
            16747,
            65645,
            542,
            28374,
            112,
            68982,
            12866,
            129722,
            975500,
            6283,
            4980,
            245,
            2829,
            6004,
            5,
            38,
            700,
            271,
            21200,
            43441,
            937,
            364,
            1234,
            436,
            4380,
            6708,
            159504,
            82273,
            2687
           ]
          }
         ],
         "name": "1999"
        },
        {
         "data": [
          {
           "coloraxis": "coloraxis",
           "geo": "geo",
           "hovertemplate": "<b>%{hovertext}</b><br><br>Year=2000<br>Country of asylum (ISO)=%{location}<br>Number of Refugees=%{z}<extra></extra>",
           "hovertext": [
            "Albania",
            "Austria",
            "Belarus",
            "Belgium",
            "Bosnia and Herzegovina",
            "Bulgaria",
            "Croatia",
            "Cyprus",
            "Denmark",
            "Estonia",
            "Finland",
            "France",
            "Germany",
            "Greece",
            "Hungary",
            "Iceland",
            "Ireland",
            "Italy",
            "Latvia",
            "Liechtenstein",
            "Lithuania",
            "Luxembourg",
            "Malta",
            "North Macedonia",
            "Norway",
            "Poland",
            "Portugal",
            "Romania",
            "Slovakia",
            "Slovenia",
            "Spain",
            "Sweden",
            "Switzerland",
            "Ukraine"
           ],
           "locations": [
            "ALB",
            "AUT",
            "BLR",
            "BEL",
            "BIH",
            "BGR",
            "HRV",
            "CYP",
            "DNK",
            "EST",
            "FIN",
            "FRA",
            "DEU",
            "GRC",
            "HUN",
            "ISL",
            "IRL",
            "ITA",
            "LVA",
            "LIE",
            "LTU",
            "LUX",
            "MLT",
            "MKD",
            "NOR",
            "POL",
            "PRT",
            "ROU",
            "SVK",
            "SVN",
            "ESP",
            "SWE",
            "CHE",
            "UKR"
           ],
           "name": "",
           "type": "choropleth",
           "z": [
            521,
            15493,
            453,
            18821,
            38150,
            1470,
            22437,
            73,
            71017,
            0,
            13271,
            132508,
            906000,
            6653,
            5053,
            235,
            2530,
            6813,
            5,
            70,
            48,
            759,
            191,
            9048,
            47700,
            1011,
            416,
            1677,
            444,
            2814,
            6982,
            157206,
            57624,
            2927
           ]
          }
         ],
         "name": "2000"
        },
        {
         "data": [
          {
           "coloraxis": "coloraxis",
           "geo": "geo",
           "hovertemplate": "<b>%{hovertext}</b><br><br>Year=2001<br>Country of asylum (ISO)=%{location}<br>Number of Refugees=%{z}<extra></extra>",
           "hovertext": [
            "Albania",
            "Austria",
            "Belarus",
            "Belgium",
            "Bosnia and Herzegovina",
            "Bulgaria",
            "Croatia",
            "Cyprus",
            "Denmark",
            "Estonia",
            "Finland",
            "France",
            "Germany",
            "Greece",
            "Hungary",
            "Iceland",
            "Ireland",
            "Italy",
            "Latvia",
            "Liechtenstein",
            "Lithuania",
            "Luxembourg",
            "Malta",
            "North Macedonia",
            "Norway",
            "Poland",
            "Portugal",
            "Romania",
            "Slovakia",
            "Slovenia",
            "Spain",
            "Sweden",
            "Switzerland",
            "Ukraine"
           ],
           "locations": [
            "ALB",
            "AUT",
            "BLR",
            "BEL",
            "BIH",
            "BGR",
            "HRV",
            "CYP",
            "DNK",
            "EST",
            "FIN",
            "FRA",
            "DEU",
            "GRC",
            "HUN",
            "ISL",
            "IRL",
            "ITA",
            "LVA",
            "LIE",
            "LTU",
            "LUX",
            "MLT",
            "MKD",
            "NOR",
            "POL",
            "PRT",
            "ROU",
            "SVK",
            "SVN",
            "ESP",
            "SWE",
            "CHE",
            "UKR"
           ],
           "name": "",
           "type": "choropleth",
           "z": [
            291,
            14375,
            581,
            12252,
            32744,
            2984,
            21875,
            84,
            73284,
            6,
            12726,
            131601,
            903000,
            6927,
            4700,
            204,
            3585,
            8541,
            5,
            140,
            283,
            1201,
            175,
            4362,
            50122,
            1295,
            444,
            1792,
            461,
            2411,
            6804,
            146480,
            58471,
            2958
           ]
          }
         ],
         "name": "2001"
        },
        {
         "data": [
          {
           "coloraxis": "coloraxis",
           "geo": "geo",
           "hovertemplate": "<b>%{hovertext}</b><br><br>Year=2002<br>Country of asylum (ISO)=%{location}<br>Number of Refugees=%{z}<extra></extra>",
           "hovertext": [
            "Albania",
            "Austria",
            "Belarus",
            "Belgium",
            "Bosnia and Herzegovina",
            "Bulgaria",
            "Croatia",
            "Cyprus",
            "Denmark",
            "Estonia",
            "Finland",
            "France",
            "Germany",
            "Greece",
            "Hungary",
            "Iceland",
            "Ireland",
            "Italy",
            "Latvia",
            "Liechtenstein",
            "Lithuania",
            "Luxembourg",
            "Malta",
            "North Macedonia",
            "Norway",
            "Poland",
            "Portugal",
            "Romania",
            "Slovakia",
            "Slovenia",
            "Spain",
            "Sweden",
            "Switzerland",
            "Ukraine"
           ],
           "locations": [
            "ALB",
            "AUT",
            "BLR",
            "BEL",
            "BIH",
            "BGR",
            "HRV",
            "CYP",
            "DNK",
            "EST",
            "FIN",
            "FRA",
            "DEU",
            "GRC",
            "HUN",
            "ISL",
            "IRL",
            "ITA",
            "LVA",
            "LIE",
            "LTU",
            "LUX",
            "MLT",
            "MKD",
            "NOR",
            "POL",
            "PRT",
            "ROU",
            "SVK",
            "SVN",
            "ESP",
            "SWE",
            "CHE",
            "UKR"
           ],
           "name": "",
           "type": "choropleth",
           "z": [
            18,
            14122,
            612,
            12560,
            28020,
            3642,
            8392,
            171,
            73600,
            6,
            12485,
            132182,
            980001,
            2778,
            6075,
            197,
            5366,
            10031,
            5,
            126,
            363,
            1201,
            311,
            2815,
            50421,
            1586,
            460,
            1839,
            443,
            384,
            6783,
            142170,
            54081,
            2940
           ]
          }
         ],
         "name": "2002"
        },
        {
         "data": [
          {
           "coloraxis": "coloraxis",
           "geo": "geo",
           "hovertemplate": "<b>%{hovertext}</b><br><br>Year=2003<br>Country of asylum (ISO)=%{location}<br>Number of Refugees=%{z}<extra></extra>",
           "hovertext": [
            "Albania",
            "Austria",
            "Belarus",
            "Belgium",
            "Bosnia and Herzegovina",
            "Bulgaria",
            "Croatia",
            "Cyprus",
            "Denmark",
            "Estonia",
            "Finland",
            "France",
            "Germany",
            "Greece",
            "Hungary",
            "Iceland",
            "Ireland",
            "Italy",
            "Latvia",
            "Liechtenstein",
            "Lithuania",
            "Luxembourg",
            "Malta",
            "North Macedonia",
            "Norway",
            "Poland",
            "Portugal",
            "Romania",
            "Slovakia",
            "Slovenia",
            "Spain",
            "Sweden",
            "Switzerland",
            "Ukraine"
           ],
           "locations": [
            "ALB",
            "AUT",
            "BLR",
            "BEL",
            "BIH",
            "BGR",
            "HRV",
            "CYP",
            "DNK",
            "EST",
            "FIN",
            "FRA",
            "DEU",
            "GRC",
            "HUN",
            "ISL",
            "IRL",
            "ITA",
            "LVA",
            "LIE",
            "LTU",
            "LUX",
            "MLT",
            "MKD",
            "NOR",
            "POL",
            "PRT",
            "ROU",
            "SVK",
            "SVN",
            "ESP",
            "SWE",
            "CHE",
            "UKR"
           ],
           "name": "",
           "type": "choropleth",
           "z": [
            24,
            16097,
            631,
            12583,
            22515,
            4047,
            4385,
            339,
            69855,
            6,
            10835,
            130838,
            960393,
            2762,
            7013,
            226,
            5971,
            12812,
            16,
            147,
            399,
            1201,
            894,
            191,
            46107,
            1822,
            414,
            1991,
            412,
            2065,
            5912,
            112148,
            50126,
            2851
           ]
          }
         ],
         "name": "2003"
        },
        {
         "data": [
          {
           "coloraxis": "coloraxis",
           "geo": "geo",
           "hovertemplate": "<b>%{hovertext}</b><br><br>Year=2004<br>Country of asylum (ISO)=%{location}<br>Number of Refugees=%{z}<extra></extra>",
           "hovertext": [
            "Albania",
            "Austria",
            "Belarus",
            "Belgium",
            "Bosnia and Herzegovina",
            "Bulgaria",
            "Croatia",
            "Cyprus",
            "Denmark",
            "Estonia",
            "Finland",
            "France",
            "Germany",
            "Greece",
            "Hungary",
            "Iceland",
            "Ireland",
            "Italy",
            "Latvia",
            "Liechtenstein",
            "Lithuania",
            "Luxembourg",
            "Malta",
            "North Macedonia",
            "Norway",
            "Poland",
            "Portugal",
            "Romania",
            "Slovakia",
            "Slovenia",
            "Spain",
            "Sweden",
            "Switzerland",
            "Ukraine"
           ],
           "locations": [
            "ALB",
            "AUT",
            "BLR",
            "BEL",
            "BIH",
            "BGR",
            "HRV",
            "CYP",
            "DNK",
            "EST",
            "FIN",
            "FRA",
            "DEU",
            "GRC",
            "HUN",
            "ISL",
            "IRL",
            "ITA",
            "LVA",
            "LIE",
            "LTU",
            "LUX",
            "MLT",
            "MKD",
            "NOR",
            "POL",
            "PRT",
            "ROU",
            "SVK",
            "SVN",
            "ESP",
            "SWE",
            "CHE",
            "UKR"
           ],
           "name": "",
           "type": "choropleth",
           "z": [
            49,
            17777,
            719,
            13522,
            22209,
            4676,
            3662,
            525,
            65305,
            6,
            11309,
            139852,
            876614,
            2479,
            7702,
            226,
            6530,
            15668,
            10,
            147,
            469,
            1590,
            1561,
            1003,
            44031,
            2491,
            368,
            1610,
            396,
            299,
            5690,
            73383,
            47654,
            2442
           ]
          }
         ],
         "name": "2004"
        },
        {
         "data": [
          {
           "coloraxis": "coloraxis",
           "geo": "geo",
           "hovertemplate": "<b>%{hovertext}</b><br><br>Year=2005<br>Country of asylum (ISO)=%{location}<br>Number of Refugees=%{z}<extra></extra>",
           "hovertext": [
            "Albania",
            "Austria",
            "Belarus",
            "Belgium",
            "Bosnia and Herzegovina",
            "Bulgaria",
            "Croatia",
            "Cyprus",
            "Denmark",
            "Estonia",
            "Finland",
            "France",
            "Germany",
            "Greece",
            "Hungary",
            "Iceland",
            "Ireland",
            "Italy",
            "Latvia",
            "Liechtenstein",
            "Lithuania",
            "Luxembourg",
            "Malta",
            "North Macedonia",
            "Norway",
            "Poland",
            "Portugal",
            "Romania",
            "Slovakia",
            "Slovenia",
            "Spain",
            "Sweden",
            "Switzerland",
            "Ukraine"
           ],
           "locations": [
            "ALB",
            "AUT",
            "BLR",
            "BEL",
            "BIH",
            "BGR",
            "HRV",
            "CYP",
            "DNK",
            "EST",
            "FIN",
            "FRA",
            "DEU",
            "GRC",
            "HUN",
            "ISL",
            "IRL",
            "ITA",
            "LVA",
            "LIE",
            "LTU",
            "LUX",
            "MLT",
            "MKD",
            "NOR",
            "POL",
            "PRT",
            "ROU",
            "SVK",
            "SVN",
            "ESP",
            "SWE",
            "CHE",
            "UKR"
           ],
           "name": "",
           "type": "choropleth",
           "z": [
            53,
            21212,
            718,
            15277,
            10566,
            4388,
            2927,
            700,
            44362,
            0,
            11801,
            137316,
            699996,
            2394,
            8040,
            284,
            7103,
            20674,
            10,
            148,
            527,
            1822,
            1942,
            1273,
            43015,
            4585,
            355,
            2040,
            352,
            243,
            5369,
            74889,
            48010,
            2334
           ]
          }
         ],
         "name": "2005"
        },
        {
         "data": [
          {
           "coloraxis": "coloraxis",
           "geo": "geo",
           "hovertemplate": "<b>%{hovertext}</b><br><br>Year=2006<br>Country of asylum (ISO)=%{location}<br>Number of Refugees=%{z}<extra></extra>",
           "hovertext": [
            "Albania",
            "Austria",
            "Belarus",
            "Belgium",
            "Bosnia and Herzegovina",
            "Bulgaria",
            "Croatia",
            "Cyprus",
            "Denmark",
            "Estonia",
            "Finland",
            "France",
            "Germany",
            "Greece",
            "Hungary",
            "Iceland",
            "Ireland",
            "Italy",
            "Latvia",
            "Liechtenstein",
            "Lithuania",
            "Luxembourg",
            "Malta",
            "Montenegro",
            "North Macedonia",
            "Norway",
            "Poland",
            "Portugal",
            "Romania",
            "Slovakia",
            "Slovenia",
            "Spain",
            "Sweden",
            "Switzerland",
            "Ukraine"
           ],
           "locations": [
            "ALB",
            "AUT",
            "BLR",
            "BEL",
            "BIH",
            "BGR",
            "HRV",
            "CYP",
            "DNK",
            "EST",
            "FIN",
            "FRA",
            "DEU",
            "GRC",
            "HUN",
            "ISL",
            "IRL",
            "ITA",
            "LVA",
            "LIE",
            "LTU",
            "LUX",
            "MLT",
            "MNE",
            "MKD",
            "NOR",
            "POL",
            "PRT",
            "ROU",
            "SVK",
            "SVN",
            "ESP",
            "SWE",
            "CHE",
            "UKR"
           ],
           "name": "",
           "type": "choropleth",
           "z": [
            56,
            25475,
            683,
            16811,
            10315,
            4479,
            2442,
            926,
            36650,
            0,
            11827,
            145996,
            605329,
            2292,
            8068,
            254,
            7904,
            26870,
            22,
            274,
            527,
            2206,
            2407,
            6926,
            1239,
            43315,
            6786,
            322,
            1636,
            235,
            249,
            5269,
            79895,
            48508,
            2267
           ]
          }
         ],
         "name": "2006"
        },
        {
         "data": [
          {
           "coloraxis": "coloraxis",
           "geo": "geo",
           "hovertemplate": "<b>%{hovertext}</b><br><br>Year=2007<br>Country of asylum (ISO)=%{location}<br>Number of Refugees=%{z}<extra></extra>",
           "hovertext": [
            "Albania",
            "Austria",
            "Belarus",
            "Belgium",
            "Bosnia and Herzegovina",
            "Bulgaria",
            "Croatia",
            "Cyprus",
            "Denmark",
            "Estonia",
            "Finland",
            "France",
            "Germany",
            "Greece",
            "Hungary",
            "Iceland",
            "Ireland",
            "Italy",
            "Latvia",
            "Liechtenstein",
            "Lithuania",
            "Luxembourg",
            "Malta",
            "Montenegro",
            "North Macedonia",
            "Norway",
            "Poland",
            "Portugal",
            "Romania",
            "Slovakia",
            "Slovenia",
            "Spain",
            "Sweden",
            "Switzerland",
            "Ukraine"
           ],
           "locations": [
            "ALB",
            "AUT",
            "BLR",
            "BEL",
            "BIH",
            "BGR",
            "HRV",
            "CYP",
            "DNK",
            "EST",
            "FIN",
            "FRA",
            "DEU",
            "GRC",
            "HUN",
            "ISL",
            "IRL",
            "ITA",
            "LVA",
            "LIE",
            "LTU",
            "LUX",
            "MLT",
            "MNE",
            "MKD",
            "NOR",
            "POL",
            "PRT",
            "ROU",
            "SVK",
            "SVN",
            "ESP",
            "SWE",
            "CHE",
            "UKR"
           ],
           "name": "",
           "type": "choropleth",
           "z": [
            68,
            30767,
            643,
            17578,
            7364,
            4808,
            1641,
            1194,
            26779,
            6,
            6201,
            151789,
            578866,
            2228,
            8124,
            41,
            9318,
            38061,
            27,
            278,
            688,
            2737,
            3003,
            8527,
            1234,
            34499,
            10037,
            346,
            1741,
            265,
            255,
            5143,
            75055,
            45642,
            7272
           ]
          }
         ],
         "name": "2007"
        },
        {
         "data": [
          {
           "coloraxis": "coloraxis",
           "geo": "geo",
           "hovertemplate": "<b>%{hovertext}</b><br><br>Year=2008<br>Country of asylum (ISO)=%{location}<br>Number of Refugees=%{z}<extra></extra>",
           "hovertext": [
            "Albania",
            "Austria",
            "Belarus",
            "Belgium",
            "Bosnia and Herzegovina",
            "Bulgaria",
            "Croatia",
            "Cyprus",
            "Denmark",
            "Estonia",
            "Finland",
            "France",
            "Germany",
            "Greece",
            "Hungary",
            "Iceland",
            "Ireland",
            "Italy",
            "Latvia",
            "Liechtenstein",
            "Lithuania",
            "Luxembourg",
            "Malta",
            "Montenegro",
            "North Macedonia",
            "Norway",
            "Poland",
            "Portugal",
            "Romania",
            "Slovakia",
            "Slovenia",
            "Spain",
            "Sweden",
            "Switzerland",
            "Ukraine"
           ],
           "locations": [
            "ALB",
            "AUT",
            "BLR",
            "BEL",
            "BIH",
            "BGR",
            "HRV",
            "CYP",
            "DNK",
            "EST",
            "FIN",
            "FRA",
            "DEU",
            "GRC",
            "HUN",
            "ISL",
            "IRL",
            "ITA",
            "LVA",
            "LIE",
            "LTU",
            "LUX",
            "MLT",
            "MNE",
            "MKD",
            "NOR",
            "POL",
            "PRT",
            "ROU",
            "SVK",
            "SVN",
            "ESP",
            "SWE",
            "CHE",
            "UKR"
           ],
           "name": "",
           "type": "choropleth",
           "z": [
            57,
            37546,
            602,
            17025,
            7254,
            5108,
            1591,
            1458,
            23385,
            16,
            6621,
            171206,
            582719,
            2169,
            7740,
            39,
            9714,
            47059,
            27,
            84,
            749,
            3109,
            4329,
            24739,
            1671,
            36076,
            12761,
            393,
            1586,
            301,
            257,
            4649,
            77016,
            46131,
            7189
           ]
          }
         ],
         "name": "2008"
        },
        {
         "data": [
          {
           "coloraxis": "coloraxis",
           "geo": "geo",
           "hovertemplate": "<b>%{hovertext}</b><br><br>Year=2009<br>Country of asylum (ISO)=%{location}<br>Number of Refugees=%{z}<extra></extra>",
           "hovertext": [
            "Albania",
            "Austria",
            "Belarus",
            "Belgium",
            "Bosnia and Herzegovina",
            "Bulgaria",
            "Croatia",
            "Cyprus",
            "Denmark",
            "Estonia",
            "Finland",
            "France",
            "Germany",
            "Greece",
            "Hungary",
            "Iceland",
            "Ireland",
            "Italy",
            "Latvia",
            "Liechtenstein",
            "Lithuania",
            "Luxembourg",
            "Malta",
            "Montenegro",
            "North Macedonia",
            "Norway",
            "Poland",
            "Portugal",
            "Romania",
            "Slovakia",
            "Slovenia",
            "Spain",
            "Sweden",
            "Switzerland",
            "Ukraine"
           ],
           "locations": [
            "ALB",
            "AUT",
            "BLR",
            "BEL",
            "BIH",
            "BGR",
            "HRV",
            "CYP",
            "DNK",
            "EST",
            "FIN",
            "FRA",
            "DEU",
            "GRC",
            "HUN",
            "ISL",
            "IRL",
            "ITA",
            "LVA",
            "LIE",
            "LTU",
            "LUX",
            "MLT",
            "MNE",
            "MKD",
            "NOR",
            "POL",
            "PRT",
            "ROU",
            "SVK",
            "SVN",
            "ESP",
            "SWE",
            "CHE",
            "UKR"
           ],
           "name": "",
           "type": "choropleth",
           "z": [
            69,
            38895,
            578,
            15536,
            7130,
            5375,
            1240,
            2888,
            20340,
            16,
            7448,
            196364,
            593787,
            1700,
            6041,
            58,
            9561,
            54962,
            40,
            86,
            790,
            3230,
            5951,
            24017,
            1541,
            37806,
            15299,
            383,
            1065,
            387,
            281,
            3960,
            81346,
            46204,
            7321
           ]
          }
         ],
         "name": "2009"
        },
        {
         "data": [
          {
           "coloraxis": "coloraxis",
           "geo": "geo",
           "hovertemplate": "<b>%{hovertext}</b><br><br>Year=2010<br>Country of asylum (ISO)=%{location}<br>Number of Refugees=%{z}<extra></extra>",
           "hovertext": [
            "Albania",
            "Austria",
            "Belarus",
            "Belgium",
            "Bosnia and Herzegovina",
            "Bulgaria",
            "Croatia",
            "Cyprus",
            "Denmark",
            "Estonia",
            "Finland",
            "France",
            "Germany",
            "Greece",
            "Hungary",
            "Iceland",
            "Ireland",
            "Italy",
            "Latvia",
            "Liechtenstein",
            "Lithuania",
            "Luxembourg",
            "Malta",
            "Montenegro",
            "North Macedonia",
            "Norway",
            "Poland",
            "Portugal",
            "Romania",
            "Slovakia",
            "Slovenia",
            "Spain",
            "Sweden",
            "Switzerland",
            "Ukraine"
           ],
           "locations": [
            "ALB",
            "AUT",
            "BLR",
            "BEL",
            "BIH",
            "BGR",
            "HRV",
            "CYP",
            "DNK",
            "EST",
            "FIN",
            "FRA",
            "DEU",
            "GRC",
            "HUN",
            "ISL",
            "IRL",
            "ITA",
            "LVA",
            "LIE",
            "LTU",
            "LUX",
            "MLT",
            "MNE",
            "MKD",
            "NOR",
            "POL",
            "PRT",
            "ROU",
            "SVK",
            "SVN",
            "ESP",
            "SWE",
            "CHE",
            "UKR"
           ],
           "name": "",
           "type": "choropleth",
           "z": [
            75,
            42613,
            587,
            17891,
            7014,
            5519,
            933,
            3397,
            17907,
            31,
            8721,
            200687,
            594250,
            1443,
            5400,
            72,
            9099,
            56402,
            60,
            86,
            808,
            3254,
            6143,
            16363,
            1397,
            40245,
            15537,
            368,
            1019,
            451,
            315,
            3814,
            82620,
            48813,
            3016
           ]
          }
         ],
         "name": "2010"
        },
        {
         "data": [
          {
           "coloraxis": "coloraxis",
           "geo": "geo",
           "hovertemplate": "<b>%{hovertext}</b><br><br>Year=2011<br>Country of asylum (ISO)=%{location}<br>Number of Refugees=%{z}<extra></extra>",
           "hovertext": [
            "Albania",
            "Austria",
            "Belarus",
            "Belgium",
            "Bosnia and Herzegovina",
            "Bulgaria",
            "Croatia",
            "Cyprus",
            "Denmark",
            "Estonia",
            "Finland",
            "France",
            "Germany",
            "Greece",
            "Hungary",
            "Iceland",
            "Ireland",
            "Italy",
            "Latvia",
            "Liechtenstein",
            "Lithuania",
            "Luxembourg",
            "Malta",
            "Monaco",
            "Montenegro",
            "North Macedonia",
            "Norway",
            "Poland",
            "Portugal",
            "Romania",
            "Slovakia",
            "Slovenia",
            "Spain",
            "Sweden",
            "Switzerland",
            "Ukraine"
           ],
           "locations": [
            "ALB",
            "AUT",
            "BLR",
            "BEL",
            "BIH",
            "BGR",
            "HRV",
            "CYP",
            "DNK",
            "EST",
            "FIN",
            "FRA",
            "DEU",
            "GRC",
            "HUN",
            "ISL",
            "IRL",
            "ITA",
            "LVA",
            "LIE",
            "LTU",
            "LUX",
            "MLT",
            "MCO",
            "MNE",
            "MKD",
            "NOR",
            "POL",
            "PRT",
            "ROU",
            "SVK",
            "SVN",
            "ESP",
            "SWE",
            "CHE",
            "UKR"
           ],
           "name": "",
           "type": "choropleth",
           "z": [
            79,
            47055,
            594,
            22396,
            6932,
            5676,
            818,
            3498,
            13386,
            34,
            9170,
            210207,
            571672,
            1566,
            5085,
            55,
            8234,
            58066,
            88,
            88,
            824,
            2855,
            6948,
            37,
            12871,
            1129,
            40671,
            15834,
            399,
            1003,
            535,
            134,
            4220,
            86603,
            50401,
            3168
           ]
          }
         ],
         "name": "2011"
        },
        {
         "data": [
          {
           "coloraxis": "coloraxis",
           "geo": "geo",
           "hovertemplate": "<b>%{hovertext}</b><br><br>Year=2012<br>Country of asylum (ISO)=%{location}<br>Number of Refugees=%{z}<extra></extra>",
           "hovertext": [
            "Albania",
            "Austria",
            "Belarus",
            "Belgium",
            "Bosnia and Herzegovina",
            "Bulgaria",
            "Croatia",
            "Cyprus",
            "Denmark",
            "Estonia",
            "Finland",
            "France",
            "Germany",
            "Greece",
            "Hungary",
            "Iceland",
            "Ireland",
            "Italy",
            "Latvia",
            "Liechtenstein",
            "Lithuania",
            "Luxembourg",
            "Malta",
            "Monaco",
            "Montenegro",
            "North Macedonia",
            "Norway",
            "Poland",
            "Portugal",
            "Romania",
            "Slovakia",
            "Slovenia",
            "Spain",
            "Sweden",
            "Switzerland",
            "Ukraine"
           ],
           "locations": [
            "ALB",
            "AUT",
            "BLR",
            "BEL",
            "BIH",
            "BGR",
            "HRV",
            "CYP",
            "DNK",
            "EST",
            "FIN",
            "FRA",
            "DEU",
            "GRC",
            "HUN",
            "ISL",
            "IRL",
            "ITA",
            "LVA",
            "LIE",
            "LTU",
            "LUX",
            "MLT",
            "MCO",
            "MNE",
            "MKD",
            "NOR",
            "POL",
            "PRT",
            "ROU",
            "SVK",
            "SVN",
            "ESP",
            "SWE",
            "CHE",
            "UKR"
           ],
           "name": "",
           "type": "choropleth",
           "z": [
            84,
            51707,
            572,
            22023,
            6904,
            2273,
            722,
            3627,
            11797,
            48,
            9910,
            217865,
            589735,
            2090,
            4034,
            55,
            6309,
            64782,
            113,
            103,
            871,
            2910,
            8242,
            37,
            11193,
            1076,
            42805,
            15897,
            473,
            1263,
            650,
            169,
            4502,
            92869,
            50733,
            2790
           ]
          }
         ],
         "name": "2012"
        },
        {
         "data": [
          {
           "coloraxis": "coloraxis",
           "geo": "geo",
           "hovertemplate": "<b>%{hovertext}</b><br><br>Year=2013<br>Country of asylum (ISO)=%{location}<br>Number of Refugees=%{z}<extra></extra>",
           "hovertext": [
            "Albania",
            "Austria",
            "Belarus",
            "Belgium",
            "Bosnia and Herzegovina",
            "Bulgaria",
            "Croatia",
            "Cyprus",
            "Denmark",
            "Estonia",
            "Finland",
            "France",
            "Germany",
            "Greece",
            "Hungary",
            "Iceland",
            "Ireland",
            "Italy",
            "Latvia",
            "Liechtenstein",
            "Lithuania",
            "Luxembourg",
            "Malta",
            "Monaco",
            "Montenegro",
            "North Macedonia",
            "Norway",
            "Poland",
            "Portugal",
            "Romania",
            "Slovakia",
            "Slovenia",
            "Spain",
            "Sweden",
            "Switzerland",
            "Ukraine"
           ],
           "locations": [
            "ALB",
            "AUT",
            "BLR",
            "BEL",
            "BIH",
            "BGR",
            "HRV",
            "CYP",
            "DNK",
            "EST",
            "FIN",
            "FRA",
            "DEU",
            "GRC",
            "HUN",
            "ISL",
            "IRL",
            "ITA",
            "LVA",
            "LIE",
            "LTU",
            "LUX",
            "MLT",
            "MCO",
            "MNE",
            "MKD",
            "NOR",
            "POL",
            "PRT",
            "ROU",
            "SVK",
            "SVN",
            "ESP",
            "SWE",
            "CHE",
            "UKR"
           ],
           "name": "",
           "type": "choropleth",
           "z": [
            96,
            55575,
            599,
            25617,
            6924,
            4305,
            679,
            3879,
            13153,
            52,
            11242,
            232487,
            187545,
            3468,
            2422,
            72,
            5991,
            76248,
            149,
            96,
            918,
            901,
            9900,
            34,
            8471,
            980,
            46088,
            16428,
            596,
            1747,
            691,
            202,
            4641,
            114172,
            52448,
            2956
           ]
          }
         ],
         "name": "2013"
        },
        {
         "data": [
          {
           "coloraxis": "coloraxis",
           "geo": "geo",
           "hovertemplate": "<b>%{hovertext}</b><br><br>Year=2014<br>Country of asylum (ISO)=%{location}<br>Number of Refugees=%{z}<extra></extra>",
           "hovertext": [
            "Albania",
            "Austria",
            "Belarus",
            "Belgium",
            "Bosnia and Herzegovina",
            "Bulgaria",
            "Croatia",
            "Cyprus",
            "Denmark",
            "Estonia",
            "Finland",
            "France",
            "Germany",
            "Greece",
            "Hungary",
            "Iceland",
            "Ireland",
            "Italy",
            "Latvia",
            "Liechtenstein",
            "Lithuania",
            "Luxembourg",
            "Malta",
            "Monaco",
            "Montenegro",
            "North Macedonia",
            "Norway",
            "Poland",
            "Portugal",
            "Romania",
            "Slovakia",
            "Slovenia",
            "Spain",
            "Sweden",
            "Switzerland",
            "Ukraine"
           ],
           "locations": [
            "ALB",
            "AUT",
            "BLR",
            "BEL",
            "BIH",
            "BGR",
            "HRV",
            "CYP",
            "DNK",
            "EST",
            "FIN",
            "FRA",
            "DEU",
            "GRC",
            "HUN",
            "ISL",
            "IRL",
            "ITA",
            "LVA",
            "LIE",
            "LTU",
            "LUX",
            "MLT",
            "MCO",
            "MNE",
            "MKD",
            "NOR",
            "POL",
            "PRT",
            "ROU",
            "SVK",
            "SVN",
            "ESP",
            "SWE",
            "CHE",
            "UKR"
           ],
           "name": "",
           "type": "choropleth",
           "z": [
            111,
            60724,
            919,
            29170,
            6883,
            11026,
            724,
            5120,
            17767,
            82,
            11783,
            252248,
            216956,
            10292,
            2854,
            93,
            5832,
            93712,
            168,
            102,
            1007,
            1091,
            6095,
            33,
            6455,
            880,
            47025,
            15730,
            704,
            2171,
            791,
            251,
            5797,
            142197,
            62596,
            3206
           ]
          }
         ],
         "name": "2014"
        },
        {
         "data": [
          {
           "coloraxis": "coloraxis",
           "geo": "geo",
           "hovertemplate": "<b>%{hovertext}</b><br><br>Year=2015<br>Country of asylum (ISO)=%{location}<br>Number of Refugees=%{z}<extra></extra>",
           "hovertext": [
            "Albania",
            "Austria",
            "Belarus",
            "Belgium",
            "Bosnia and Herzegovina",
            "Bulgaria",
            "Croatia",
            "Cyprus",
            "Denmark",
            "Estonia",
            "Finland",
            "France",
            "Germany",
            "Greece",
            "Hungary",
            "Iceland",
            "Ireland",
            "Italy",
            "Latvia",
            "Liechtenstein",
            "Lithuania",
            "Luxembourg",
            "Malta",
            "Monaco",
            "Montenegro",
            "North Macedonia",
            "Norway",
            "Poland",
            "Portugal",
            "Romania",
            "Slovakia",
            "Slovenia",
            "Spain",
            "Sweden",
            "Switzerland",
            "Ukraine"
           ],
           "locations": [
            "ALB",
            "AUT",
            "BLR",
            "BEL",
            "BIH",
            "BGR",
            "HRV",
            "CYP",
            "DNK",
            "EST",
            "FIN",
            "FRA",
            "DEU",
            "GRC",
            "HUN",
            "ISL",
            "IRL",
            "ITA",
            "LVA",
            "LIE",
            "LTU",
            "LUX",
            "MLT",
            "MCO",
            "MNE",
            "MKD",
            "NOR",
            "POL",
            "PRT",
            "ROU",
            "SVK",
            "SVN",
            "ESP",
            "SWE",
            "CHE",
            "UKR"
           ],
           "name": "",
           "type": "choropleth",
           "z": [
            109,
            72198,
            1805,
            35302,
            6789,
            16543,
            517,
            7062,
            27312,
            158,
            12692,
            273117,
            316098,
            24831,
            4383,
            170,
            6108,
            118036,
            193,
            146,
            1094,
            1306,
            7068,
            32,
            1762,
            697,
            50377,
            14057,
            851,
            2581,
            816,
            284,
            6447,
            169516,
            73326,
            3261
           ]
          }
         ],
         "name": "2015"
        },
        {
         "data": [
          {
           "coloraxis": "coloraxis",
           "geo": "geo",
           "hovertemplate": "<b>%{hovertext}</b><br><br>Year=2016<br>Country of asylum (ISO)=%{location}<br>Number of Refugees=%{z}<extra></extra>",
           "hovertext": [
            "Albania",
            "Austria",
            "Belarus",
            "Belgium",
            "Bosnia and Herzegovina",
            "Bulgaria",
            "Croatia",
            "Cyprus",
            "Denmark",
            "Estonia",
            "Finland",
            "France",
            "Germany",
            "Greece",
            "Hungary",
            "Iceland",
            "Ireland",
            "Italy",
            "Latvia",
            "Liechtenstein",
            "Lithuania",
            "Luxembourg",
            "Malta",
            "Monaco",
            "Montenegro",
            "North Macedonia",
            "Norway",
            "Poland",
            "Portugal",
            "Romania",
            "Slovakia",
            "Slovenia",
            "Spain",
            "Sweden",
            "Switzerland",
            "Ukraine"
           ],
           "locations": [
            "ALB",
            "AUT",
            "BLR",
            "BEL",
            "BIH",
            "BGR",
            "HRV",
            "CYP",
            "DNK",
            "EST",
            "FIN",
            "FRA",
            "DEU",
            "GRC",
            "HUN",
            "ISL",
            "IRL",
            "ITA",
            "LVA",
            "LIE",
            "LTU",
            "LUX",
            "MLT",
            "MCO",
            "MNE",
            "MKD",
            "NOR",
            "POL",
            "PRT",
            "ROU",
            "SVK",
            "SVN",
            "ESP",
            "SWE",
            "CHE",
            "UKR"
           ],
           "name": "",
           "type": "choropleth",
           "z": [
            141,
            93242,
            1647,
            42158,
            5266,
            17794,
            300,
            8478,
            33501,
            312,
            18402,
            304527,
            669468,
            46411,
            4736,
            245,
            5720,
            147362,
            340,
            161,
            1284,
            2020,
            7941,
            27,
            970,
            634,
            59512,
            11738,
            1189,
            2880,
            980,
            454,
            12983,
            230158,
            82668,
            3292
           ]
          }
         ],
         "name": "2016"
        },
        {
         "data": [
          {
           "coloraxis": "coloraxis",
           "geo": "geo",
           "hovertemplate": "<b>%{hovertext}</b><br><br>Year=2017<br>Country of asylum (ISO)=%{location}<br>Number of Refugees=%{z}<extra></extra>",
           "hovertext": [
            "Albania",
            "Austria",
            "Belarus",
            "Belgium",
            "Bosnia and Herzegovina",
            "Bulgaria",
            "Croatia",
            "Cyprus",
            "Denmark",
            "Estonia",
            "Finland",
            "France",
            "Germany",
            "Greece",
            "Hungary",
            "Iceland",
            "Ireland",
            "Italy",
            "Latvia",
            "Liechtenstein",
            "Lithuania",
            "Luxembourg",
            "Malta",
            "Monaco",
            "Montenegro",
            "North Macedonia",
            "Norway",
            "Poland",
            "Portugal",
            "Romania",
            "Slovakia",
            "Slovenia",
            "Spain",
            "Sweden",
            "Switzerland",
            "Ukraine"
           ],
           "locations": [
            "ALB",
            "AUT",
            "BLR",
            "BEL",
            "BIH",
            "BGR",
            "HRV",
            "CYP",
            "DNK",
            "EST",
            "FIN",
            "FRA",
            "DEU",
            "GRC",
            "HUN",
            "ISL",
            "IRL",
            "ITA",
            "LVA",
            "LIE",
            "LTU",
            "LUX",
            "MLT",
            "MCO",
            "MNE",
            "MKD",
            "NOR",
            "POL",
            "PRT",
            "ROU",
            "SVK",
            "SVN",
            "ESP",
            "SWE",
            "CHE",
            "UKR"
           ],
           "name": "",
           "type": "choropleth",
           "z": [
            124,
            115252,
            2155,
            42158,
            5224,
            19166,
            508,
            9790,
            35668,
            405,
            20793,
            337158,
            970357,
            38988,
            5671,
            361,
            6394,
            167330,
            653,
            164,
            1577,
            2020,
            7994,
            25,
            794,
            414,
            59230,
            12225,
            1619,
            3911,
            912,
            611,
            17541,
            240954,
            93030,
            3241
           ]
          }
         ],
         "name": "2017"
        },
        {
         "data": [
          {
           "coloraxis": "coloraxis",
           "geo": "geo",
           "hovertemplate": "<b>%{hovertext}</b><br><br>Year=2018<br>Country of asylum (ISO)=%{location}<br>Number of Refugees=%{z}<extra></extra>",
           "hovertext": [
            "Albania",
            "Austria",
            "Belarus",
            "Belgium",
            "Bosnia and Herzegovina",
            "Bulgaria",
            "Croatia",
            "Cyprus",
            "Denmark",
            "Estonia",
            "Finland",
            "France",
            "Germany",
            "Greece",
            "Hungary",
            "Iceland",
            "Ireland",
            "Italy",
            "Latvia",
            "Liechtenstein",
            "Lithuania",
            "Luxembourg",
            "Malta",
            "Monaco",
            "Montenegro",
            "North Macedonia",
            "Norway",
            "Poland",
            "Portugal",
            "Romania",
            "Slovakia",
            "Slovenia",
            "Spain",
            "Sweden",
            "Switzerland",
            "Ukraine"
           ],
           "locations": [
            "ALB",
            "AUT",
            "BLR",
            "BEL",
            "BIH",
            "BGR",
            "HRV",
            "CYP",
            "DNK",
            "EST",
            "FIN",
            "FRA",
            "DEU",
            "GRC",
            "HUN",
            "ISL",
            "IRL",
            "ITA",
            "LVA",
            "LIE",
            "LTU",
            "LUX",
            "MLT",
            "MCO",
            "MNE",
            "MKD",
            "NOR",
            "POL",
            "PRT",
            "ROU",
            "SVK",
            "SVN",
            "ESP",
            "SWE",
            "CHE",
            "UKR"
           ],
           "name": "",
           "type": "choropleth",
           "z": [
            132,
            128779,
            2225,
            42158,
            5227,
            19906,
            787,
            11002,
            36623,
            319,
            22287,
            368345,
            1063835,
            61446,
            6019,
            549,
            6012,
            189227,
            664,
            166,
            1731,
            2020,
            8579,
            25,
            727,
            413,
            57004,
            12495,
            2130,
            4134,
            938,
            746,
            20437,
            248210,
            104011,
            2606
           ]
          }
         ],
         "name": "2018"
        },
        {
         "data": [
          {
           "coloraxis": "coloraxis",
           "geo": "geo",
           "hovertemplate": "<b>%{hovertext}</b><br><br>Year=2019<br>Country of asylum (ISO)=%{location}<br>Number of Refugees=%{z}<extra></extra>",
           "hovertext": [
            "Albania",
            "Austria",
            "Belarus",
            "Belgium",
            "Bosnia and Herzegovina",
            "Bulgaria",
            "Croatia",
            "Cyprus",
            "Denmark",
            "Estonia",
            "Finland",
            "France",
            "Germany",
            "Greece",
            "Hungary",
            "Iceland",
            "Ireland",
            "Italy",
            "Latvia",
            "Liechtenstein",
            "Lithuania",
            "Luxembourg",
            "Malta",
            "Monaco",
            "Montenegro",
            "North Macedonia",
            "Norway",
            "Poland",
            "Portugal",
            "Romania",
            "Slovakia",
            "Slovenia",
            "Spain",
            "Sweden",
            "Switzerland",
            "Ukraine"
           ],
           "locations": [
            "ALB",
            "AUT",
            "BLR",
            "BEL",
            "BIH",
            "BGR",
            "HRV",
            "CYP",
            "DNK",
            "EST",
            "FIN",
            "FRA",
            "DEU",
            "GRC",
            "HUN",
            "ISL",
            "IRL",
            "ITA",
            "LVA",
            "LIE",
            "LTU",
            "LUX",
            "MLT",
            "MCO",
            "MNE",
            "MKD",
            "NOR",
            "POL",
            "PRT",
            "ROU",
            "SVK",
            "SVN",
            "ESP",
            "SWE",
            "CHE",
            "UKR"
           ],
           "name": "",
           "type": "choropleth",
           "z": [
            120,
            135951,
            2725,
            61662,
            5241,
            20438,
            916,
            12311,
            37533,
            331,
            23458,
            407915,
            1146682,
            80454,
            5750,
            894,
            7795,
            207602,
            665,
            125,
            1822,
            2548,
            8908,
            22,
            653,
            354,
            53882,
            12658,
            2375,
            3860,
            965,
            741,
            57751,
            253787,
            110162,
            2166
           ]
          }
         ],
         "name": "2019"
        },
        {
         "data": [
          {
           "coloraxis": "coloraxis",
           "geo": "geo",
           "hovertemplate": "<b>%{hovertext}</b><br><br>Year=2020<br>Country of asylum (ISO)=%{location}<br>Number of Refugees=%{z}<extra></extra>",
           "hovertext": [
            "Albania",
            "Austria",
            "Belarus",
            "Belgium",
            "Bosnia and Herzegovina",
            "Bulgaria",
            "Croatia",
            "Cyprus",
            "Denmark",
            "Estonia",
            "Finland",
            "France",
            "Germany",
            "Greece",
            "Hungary",
            "Iceland",
            "Ireland",
            "Italy",
            "Latvia",
            "Liechtenstein",
            "Lithuania",
            "Luxembourg",
            "Malta",
            "Monaco",
            "Montenegro",
            "North Macedonia",
            "Norway",
            "Poland",
            "Portugal",
            "Romania",
            "Slovakia",
            "Slovenia",
            "Spain",
            "Sweden",
            "Switzerland",
            "Ukraine"
           ],
           "locations": [
            "ALB",
            "AUT",
            "BLR",
            "BEL",
            "BIH",
            "BGR",
            "HRV",
            "CYP",
            "DNK",
            "EST",
            "FIN",
            "FRA",
            "DEU",
            "GRC",
            "HUN",
            "ISL",
            "IRL",
            "ITA",
            "LVA",
            "LIE",
            "LTU",
            "LUX",
            "MLT",
            "MCO",
            "MNE",
            "MKD",
            "NOR",
            "POL",
            "PRT",
            "ROU",
            "SVK",
            "SVN",
            "ESP",
            "SWE",
            "CHE",
            "UKR"
           ],
           "name": "",
           "type": "choropleth",
           "z": [
            105,
            141816,
            2900,
            64973,
            5232,
            21113,
            956,
            13997,
            36643,
            277,
            23428,
            436055,
            1210596,
            103101,
            5838,
            1460,
            9035,
            128033,
            637,
            129,
            1880,
            5158,
            9168,
            22,
            166,
            303,
            49653,
            2771,
            2405,
            3581,
            1006,
            823,
            103624,
            248372,
            115798,
            2249
           ]
          }
         ],
         "name": "2020"
        },
        {
         "data": [
          {
           "coloraxis": "coloraxis",
           "geo": "geo",
           "hovertemplate": "<b>%{hovertext}</b><br><br>Year=2021<br>Country of asylum (ISO)=%{location}<br>Number of Refugees=%{z}<extra></extra>",
           "hovertext": [
            "Albania",
            "Austria",
            "Belarus",
            "Belgium",
            "Bosnia and Herzegovina",
            "Bulgaria",
            "Croatia",
            "Cyprus",
            "Denmark",
            "Estonia",
            "Finland",
            "France",
            "Germany",
            "Greece",
            "Hungary",
            "Iceland",
            "Ireland",
            "Italy",
            "Latvia",
            "Liechtenstein",
            "Lithuania",
            "Luxembourg",
            "Malta",
            "Monaco",
            "Montenegro",
            "North Macedonia",
            "Norway",
            "Poland",
            "Portugal",
            "Romania",
            "Slovakia",
            "Slovenia",
            "Spain",
            "Sweden",
            "Switzerland",
            "Ukraine"
           ],
           "locations": [
            "ALB",
            "AUT",
            "BLR",
            "BEL",
            "BIH",
            "BGR",
            "HRV",
            "CYP",
            "DNK",
            "EST",
            "FIN",
            "FRA",
            "DEU",
            "GRC",
            "HUN",
            "ISL",
            "IRL",
            "ITA",
            "LVA",
            "LIE",
            "LTU",
            "LUX",
            "MLT",
            "MCO",
            "MNE",
            "MKD",
            "NOR",
            "POL",
            "PRT",
            "ROU",
            "SVK",
            "SVN",
            "ESP",
            "SWE",
            "CHE",
            "UKR"
           ],
           "name": "",
           "type": "choropleth",
           "z": [
            109,
            152514,
            2729,
            74063,
            240,
            22830,
            1020,
            16277,
            36023,
            321,
            24078,
            499914,
            1255694,
            119650,
            5676,
            1830,
            9571,
            144862,
            705,
            133,
            1880,
            6011,
            9335,
            17,
            175,
            292,
            46042,
            4875,
            2651,
            4200,
            1046,
            839,
            122539,
            240854,
            118829,
            2382
           ]
          }
         ],
         "name": "2021"
        },
        {
         "data": [
          {
           "coloraxis": "coloraxis",
           "geo": "geo",
           "hovertemplate": "<b>%{hovertext}</b><br><br>Year=2022<br>Country of asylum (ISO)=%{location}<br>Number of Refugees=%{z}<extra></extra>",
           "hovertext": [
            "Albania",
            "Austria",
            "Belarus",
            "Belgium",
            "Bosnia and Herzegovina",
            "Bulgaria",
            "Croatia",
            "Cyprus",
            "Denmark",
            "Estonia",
            "Finland",
            "France",
            "Germany",
            "Greece",
            "Hungary",
            "Iceland",
            "Ireland",
            "Italy",
            "Latvia",
            "Liechtenstein",
            "Lithuania",
            "Luxembourg",
            "Malta",
            "Monaco",
            "Montenegro",
            "North Macedonia",
            "Norway",
            "Poland",
            "Portugal",
            "Romania",
            "Slovakia",
            "Slovenia",
            "Spain",
            "Sweden",
            "Switzerland",
            "Ukraine"
           ],
           "locations": [
            "ALB",
            "AUT",
            "BLR",
            "BEL",
            "BIH",
            "BGR",
            "HRV",
            "CYP",
            "DNK",
            "EST",
            "FIN",
            "FRA",
            "DEU",
            "GRC",
            "HUN",
            "ISL",
            "IRL",
            "ITA",
            "LVA",
            "LIE",
            "LTU",
            "LUX",
            "MLT",
            "MCO",
            "MNE",
            "MKD",
            "NOR",
            "POL",
            "PRT",
            "ROU",
            "SVK",
            "SVN",
            "ESP",
            "SWE",
            "CHE",
            "UKR"
           ],
           "name": "",
           "type": "choropleth",
           "z": [
            2676,
            258613,
            19715,
            150713,
            274,
            176297,
            20638,
            29280,
            67772,
            40806,
            69553,
            612934,
            2075445,
            160761,
            35370,
            5240,
            81256,
            296181,
            39055,
            524,
            67638,
            11952,
            11098,
            17,
            32438,
            7065,
            75311,
            971129,
            59777,
            105621,
            96563,
            8705,
            314490,
            277726,
            182474,
            2520
           ]
          }
         ],
         "name": "2022"
        },
        {
         "data": [
          {
           "coloraxis": "coloraxis",
           "geo": "geo",
           "hovertemplate": "<b>%{hovertext}</b><br><br>Year=2023<br>Country of asylum (ISO)=%{location}<br>Number of Refugees=%{z}<extra></extra>",
           "hovertext": [
            "Albania",
            "Austria",
            "Belarus",
            "Belgium",
            "Bosnia and Herzegovina",
            "Bulgaria",
            "Croatia",
            "Cyprus",
            "Denmark",
            "Estonia",
            "Finland",
            "France",
            "Germany",
            "Greece",
            "Hungary",
            "Iceland",
            "Ireland",
            "Italy",
            "Latvia",
            "Liechtenstein",
            "Lithuania",
            "Luxembourg",
            "Malta",
            "Monaco",
            "Montenegro",
            "North Macedonia",
            "Norway",
            "Poland",
            "Portugal",
            "Romania",
            "Slovakia",
            "Slovenia",
            "Spain",
            "Sweden",
            "Switzerland",
            "Ukraine"
           ],
           "locations": [
            "ALB",
            "AUT",
            "BLR",
            "BEL",
            "BIH",
            "BGR",
            "HRV",
            "CYP",
            "DNK",
            "EST",
            "FIN",
            "FRA",
            "DEU",
            "GRC",
            "HUN",
            "ISL",
            "IRL",
            "ITA",
            "LVA",
            "LIE",
            "LTU",
            "LUX",
            "MLT",
            "MCO",
            "MNE",
            "MKD",
            "NOR",
            "POL",
            "PRT",
            "ROU",
            "SVK",
            "SVN",
            "ESP",
            "SWE",
            "CHE",
            "UKR"
           ],
           "name": "",
           "type": "choropleth",
           "z": [
            3828,
            277158,
            31602,
            156921,
            310,
            189577,
            23789,
            33872,
            69337,
            40371,
            80189,
            641626,
            2509506,
            169393,
            57939,
            6193,
            99048,
            308663,
            45237,
            605,
            73170,
            10639,
            11413,
            17,
            40597,
            8252,
            86449,
            989877,
            59311,
            139081,
            105104,
            10684,
            369722,
            258117,
            189100,
            2532
           ]
          }
         ],
         "name": "2023"
        }
       ],
       "layout": {
        "coloraxis": {
         "colorbar": {
          "title": {
           "text": "Number of Refugees"
          }
         },
         "colorscale": [
          [
           0,
           "#0d0887"
          ],
          [
           0.1111111111111111,
           "#46039f"
          ],
          [
           0.2222222222222222,
           "#7201a8"
          ],
          [
           0.3333333333333333,
           "#9c179e"
          ],
          [
           0.4444444444444444,
           "#bd3786"
          ],
          [
           0.5555555555555556,
           "#d8576b"
          ],
          [
           0.6666666666666666,
           "#ed7953"
          ],
          [
           0.7777777777777778,
           "#fb9f3a"
          ],
          [
           0.8888888888888888,
           "#fdca26"
          ],
          [
           1,
           "#f0f921"
          ]
         ]
        },
        "geo": {
         "center": {},
         "domain": {
          "x": [
           0,
           1
          ],
          "y": [
           0,
           1
          ]
         },
         "lataxis": {
          "range": [
           25,
           80
          ]
         },
         "lonaxis": {
          "range": [
           -35,
           65
          ]
         },
         "projection": {
          "type": "equirectangular"
         },
         "showcoastlines": false,
         "showframe": false
        },
        "height": 800,
        "legend": {
         "tracegroupgap": 0
        },
        "sliders": [
         {
          "active": 0,
          "currentvalue": {
           "prefix": "Year="
          },
          "len": 0.9,
          "pad": {
           "b": 10,
           "t": 60
          },
          "steps": [
           {
            "args": [
             [
              "1951"
             ],
             {
              "frame": {
               "duration": 0,
               "redraw": true
              },
              "fromcurrent": true,
              "mode": "immediate",
              "transition": {
               "duration": 0,
               "easing": "linear"
              }
             }
            ],
            "label": "1951",
            "method": "animate"
           },
           {
            "args": [
             [
              "1952"
             ],
             {
              "frame": {
               "duration": 0,
               "redraw": true
              },
              "fromcurrent": true,
              "mode": "immediate",
              "transition": {
               "duration": 0,
               "easing": "linear"
              }
             }
            ],
            "label": "1952",
            "method": "animate"
           },
           {
            "args": [
             [
              "1953"
             ],
             {
              "frame": {
               "duration": 0,
               "redraw": true
              },
              "fromcurrent": true,
              "mode": "immediate",
              "transition": {
               "duration": 0,
               "easing": "linear"
              }
             }
            ],
            "label": "1953",
            "method": "animate"
           },
           {
            "args": [
             [
              "1954"
             ],
             {
              "frame": {
               "duration": 0,
               "redraw": true
              },
              "fromcurrent": true,
              "mode": "immediate",
              "transition": {
               "duration": 0,
               "easing": "linear"
              }
             }
            ],
            "label": "1954",
            "method": "animate"
           },
           {
            "args": [
             [
              "1955"
             ],
             {
              "frame": {
               "duration": 0,
               "redraw": true
              },
              "fromcurrent": true,
              "mode": "immediate",
              "transition": {
               "duration": 0,
               "easing": "linear"
              }
             }
            ],
            "label": "1955",
            "method": "animate"
           },
           {
            "args": [
             [
              "1956"
             ],
             {
              "frame": {
               "duration": 0,
               "redraw": true
              },
              "fromcurrent": true,
              "mode": "immediate",
              "transition": {
               "duration": 0,
               "easing": "linear"
              }
             }
            ],
            "label": "1956",
            "method": "animate"
           },
           {
            "args": [
             [
              "1957"
             ],
             {
              "frame": {
               "duration": 0,
               "redraw": true
              },
              "fromcurrent": true,
              "mode": "immediate",
              "transition": {
               "duration": 0,
               "easing": "linear"
              }
             }
            ],
            "label": "1957",
            "method": "animate"
           },
           {
            "args": [
             [
              "1958"
             ],
             {
              "frame": {
               "duration": 0,
               "redraw": true
              },
              "fromcurrent": true,
              "mode": "immediate",
              "transition": {
               "duration": 0,
               "easing": "linear"
              }
             }
            ],
            "label": "1958",
            "method": "animate"
           },
           {
            "args": [
             [
              "1959"
             ],
             {
              "frame": {
               "duration": 0,
               "redraw": true
              },
              "fromcurrent": true,
              "mode": "immediate",
              "transition": {
               "duration": 0,
               "easing": "linear"
              }
             }
            ],
            "label": "1959",
            "method": "animate"
           },
           {
            "args": [
             [
              "1960"
             ],
             {
              "frame": {
               "duration": 0,
               "redraw": true
              },
              "fromcurrent": true,
              "mode": "immediate",
              "transition": {
               "duration": 0,
               "easing": "linear"
              }
             }
            ],
            "label": "1960",
            "method": "animate"
           },
           {
            "args": [
             [
              "1961"
             ],
             {
              "frame": {
               "duration": 0,
               "redraw": true
              },
              "fromcurrent": true,
              "mode": "immediate",
              "transition": {
               "duration": 0,
               "easing": "linear"
              }
             }
            ],
            "label": "1961",
            "method": "animate"
           },
           {
            "args": [
             [
              "1962"
             ],
             {
              "frame": {
               "duration": 0,
               "redraw": true
              },
              "fromcurrent": true,
              "mode": "immediate",
              "transition": {
               "duration": 0,
               "easing": "linear"
              }
             }
            ],
            "label": "1962",
            "method": "animate"
           },
           {
            "args": [
             [
              "1963"
             ],
             {
              "frame": {
               "duration": 0,
               "redraw": true
              },
              "fromcurrent": true,
              "mode": "immediate",
              "transition": {
               "duration": 0,
               "easing": "linear"
              }
             }
            ],
            "label": "1963",
            "method": "animate"
           },
           {
            "args": [
             [
              "1964"
             ],
             {
              "frame": {
               "duration": 0,
               "redraw": true
              },
              "fromcurrent": true,
              "mode": "immediate",
              "transition": {
               "duration": 0,
               "easing": "linear"
              }
             }
            ],
            "label": "1964",
            "method": "animate"
           },
           {
            "args": [
             [
              "1965"
             ],
             {
              "frame": {
               "duration": 0,
               "redraw": true
              },
              "fromcurrent": true,
              "mode": "immediate",
              "transition": {
               "duration": 0,
               "easing": "linear"
              }
             }
            ],
            "label": "1965",
            "method": "animate"
           },
           {
            "args": [
             [
              "1966"
             ],
             {
              "frame": {
               "duration": 0,
               "redraw": true
              },
              "fromcurrent": true,
              "mode": "immediate",
              "transition": {
               "duration": 0,
               "easing": "linear"
              }
             }
            ],
            "label": "1966",
            "method": "animate"
           },
           {
            "args": [
             [
              "1967"
             ],
             {
              "frame": {
               "duration": 0,
               "redraw": true
              },
              "fromcurrent": true,
              "mode": "immediate",
              "transition": {
               "duration": 0,
               "easing": "linear"
              }
             }
            ],
            "label": "1967",
            "method": "animate"
           },
           {
            "args": [
             [
              "1968"
             ],
             {
              "frame": {
               "duration": 0,
               "redraw": true
              },
              "fromcurrent": true,
              "mode": "immediate",
              "transition": {
               "duration": 0,
               "easing": "linear"
              }
             }
            ],
            "label": "1968",
            "method": "animate"
           },
           {
            "args": [
             [
              "1969"
             ],
             {
              "frame": {
               "duration": 0,
               "redraw": true
              },
              "fromcurrent": true,
              "mode": "immediate",
              "transition": {
               "duration": 0,
               "easing": "linear"
              }
             }
            ],
            "label": "1969",
            "method": "animate"
           },
           {
            "args": [
             [
              "1970"
             ],
             {
              "frame": {
               "duration": 0,
               "redraw": true
              },
              "fromcurrent": true,
              "mode": "immediate",
              "transition": {
               "duration": 0,
               "easing": "linear"
              }
             }
            ],
            "label": "1970",
            "method": "animate"
           },
           {
            "args": [
             [
              "1971"
             ],
             {
              "frame": {
               "duration": 0,
               "redraw": true
              },
              "fromcurrent": true,
              "mode": "immediate",
              "transition": {
               "duration": 0,
               "easing": "linear"
              }
             }
            ],
            "label": "1971",
            "method": "animate"
           },
           {
            "args": [
             [
              "1972"
             ],
             {
              "frame": {
               "duration": 0,
               "redraw": true
              },
              "fromcurrent": true,
              "mode": "immediate",
              "transition": {
               "duration": 0,
               "easing": "linear"
              }
             }
            ],
            "label": "1972",
            "method": "animate"
           },
           {
            "args": [
             [
              "1973"
             ],
             {
              "frame": {
               "duration": 0,
               "redraw": true
              },
              "fromcurrent": true,
              "mode": "immediate",
              "transition": {
               "duration": 0,
               "easing": "linear"
              }
             }
            ],
            "label": "1973",
            "method": "animate"
           },
           {
            "args": [
             [
              "1974"
             ],
             {
              "frame": {
               "duration": 0,
               "redraw": true
              },
              "fromcurrent": true,
              "mode": "immediate",
              "transition": {
               "duration": 0,
               "easing": "linear"
              }
             }
            ],
            "label": "1974",
            "method": "animate"
           },
           {
            "args": [
             [
              "1975"
             ],
             {
              "frame": {
               "duration": 0,
               "redraw": true
              },
              "fromcurrent": true,
              "mode": "immediate",
              "transition": {
               "duration": 0,
               "easing": "linear"
              }
             }
            ],
            "label": "1975",
            "method": "animate"
           },
           {
            "args": [
             [
              "1976"
             ],
             {
              "frame": {
               "duration": 0,
               "redraw": true
              },
              "fromcurrent": true,
              "mode": "immediate",
              "transition": {
               "duration": 0,
               "easing": "linear"
              }
             }
            ],
            "label": "1976",
            "method": "animate"
           },
           {
            "args": [
             [
              "1977"
             ],
             {
              "frame": {
               "duration": 0,
               "redraw": true
              },
              "fromcurrent": true,
              "mode": "immediate",
              "transition": {
               "duration": 0,
               "easing": "linear"
              }
             }
            ],
            "label": "1977",
            "method": "animate"
           },
           {
            "args": [
             [
              "1978"
             ],
             {
              "frame": {
               "duration": 0,
               "redraw": true
              },
              "fromcurrent": true,
              "mode": "immediate",
              "transition": {
               "duration": 0,
               "easing": "linear"
              }
             }
            ],
            "label": "1978",
            "method": "animate"
           },
           {
            "args": [
             [
              "1979"
             ],
             {
              "frame": {
               "duration": 0,
               "redraw": true
              },
              "fromcurrent": true,
              "mode": "immediate",
              "transition": {
               "duration": 0,
               "easing": "linear"
              }
             }
            ],
            "label": "1979",
            "method": "animate"
           },
           {
            "args": [
             [
              "1980"
             ],
             {
              "frame": {
               "duration": 0,
               "redraw": true
              },
              "fromcurrent": true,
              "mode": "immediate",
              "transition": {
               "duration": 0,
               "easing": "linear"
              }
             }
            ],
            "label": "1980",
            "method": "animate"
           },
           {
            "args": [
             [
              "1981"
             ],
             {
              "frame": {
               "duration": 0,
               "redraw": true
              },
              "fromcurrent": true,
              "mode": "immediate",
              "transition": {
               "duration": 0,
               "easing": "linear"
              }
             }
            ],
            "label": "1981",
            "method": "animate"
           },
           {
            "args": [
             [
              "1982"
             ],
             {
              "frame": {
               "duration": 0,
               "redraw": true
              },
              "fromcurrent": true,
              "mode": "immediate",
              "transition": {
               "duration": 0,
               "easing": "linear"
              }
             }
            ],
            "label": "1982",
            "method": "animate"
           },
           {
            "args": [
             [
              "1983"
             ],
             {
              "frame": {
               "duration": 0,
               "redraw": true
              },
              "fromcurrent": true,
              "mode": "immediate",
              "transition": {
               "duration": 0,
               "easing": "linear"
              }
             }
            ],
            "label": "1983",
            "method": "animate"
           },
           {
            "args": [
             [
              "1984"
             ],
             {
              "frame": {
               "duration": 0,
               "redraw": true
              },
              "fromcurrent": true,
              "mode": "immediate",
              "transition": {
               "duration": 0,
               "easing": "linear"
              }
             }
            ],
            "label": "1984",
            "method": "animate"
           },
           {
            "args": [
             [
              "1985"
             ],
             {
              "frame": {
               "duration": 0,
               "redraw": true
              },
              "fromcurrent": true,
              "mode": "immediate",
              "transition": {
               "duration": 0,
               "easing": "linear"
              }
             }
            ],
            "label": "1985",
            "method": "animate"
           },
           {
            "args": [
             [
              "1986"
             ],
             {
              "frame": {
               "duration": 0,
               "redraw": true
              },
              "fromcurrent": true,
              "mode": "immediate",
              "transition": {
               "duration": 0,
               "easing": "linear"
              }
             }
            ],
            "label": "1986",
            "method": "animate"
           },
           {
            "args": [
             [
              "1987"
             ],
             {
              "frame": {
               "duration": 0,
               "redraw": true
              },
              "fromcurrent": true,
              "mode": "immediate",
              "transition": {
               "duration": 0,
               "easing": "linear"
              }
             }
            ],
            "label": "1987",
            "method": "animate"
           },
           {
            "args": [
             [
              "1988"
             ],
             {
              "frame": {
               "duration": 0,
               "redraw": true
              },
              "fromcurrent": true,
              "mode": "immediate",
              "transition": {
               "duration": 0,
               "easing": "linear"
              }
             }
            ],
            "label": "1988",
            "method": "animate"
           },
           {
            "args": [
             [
              "1989"
             ],
             {
              "frame": {
               "duration": 0,
               "redraw": true
              },
              "fromcurrent": true,
              "mode": "immediate",
              "transition": {
               "duration": 0,
               "easing": "linear"
              }
             }
            ],
            "label": "1989",
            "method": "animate"
           },
           {
            "args": [
             [
              "1990"
             ],
             {
              "frame": {
               "duration": 0,
               "redraw": true
              },
              "fromcurrent": true,
              "mode": "immediate",
              "transition": {
               "duration": 0,
               "easing": "linear"
              }
             }
            ],
            "label": "1990",
            "method": "animate"
           },
           {
            "args": [
             [
              "1991"
             ],
             {
              "frame": {
               "duration": 0,
               "redraw": true
              },
              "fromcurrent": true,
              "mode": "immediate",
              "transition": {
               "duration": 0,
               "easing": "linear"
              }
             }
            ],
            "label": "1991",
            "method": "animate"
           },
           {
            "args": [
             [
              "1992"
             ],
             {
              "frame": {
               "duration": 0,
               "redraw": true
              },
              "fromcurrent": true,
              "mode": "immediate",
              "transition": {
               "duration": 0,
               "easing": "linear"
              }
             }
            ],
            "label": "1992",
            "method": "animate"
           },
           {
            "args": [
             [
              "1993"
             ],
             {
              "frame": {
               "duration": 0,
               "redraw": true
              },
              "fromcurrent": true,
              "mode": "immediate",
              "transition": {
               "duration": 0,
               "easing": "linear"
              }
             }
            ],
            "label": "1993",
            "method": "animate"
           },
           {
            "args": [
             [
              "1994"
             ],
             {
              "frame": {
               "duration": 0,
               "redraw": true
              },
              "fromcurrent": true,
              "mode": "immediate",
              "transition": {
               "duration": 0,
               "easing": "linear"
              }
             }
            ],
            "label": "1994",
            "method": "animate"
           },
           {
            "args": [
             [
              "1995"
             ],
             {
              "frame": {
               "duration": 0,
               "redraw": true
              },
              "fromcurrent": true,
              "mode": "immediate",
              "transition": {
               "duration": 0,
               "easing": "linear"
              }
             }
            ],
            "label": "1995",
            "method": "animate"
           },
           {
            "args": [
             [
              "1996"
             ],
             {
              "frame": {
               "duration": 0,
               "redraw": true
              },
              "fromcurrent": true,
              "mode": "immediate",
              "transition": {
               "duration": 0,
               "easing": "linear"
              }
             }
            ],
            "label": "1996",
            "method": "animate"
           },
           {
            "args": [
             [
              "1997"
             ],
             {
              "frame": {
               "duration": 0,
               "redraw": true
              },
              "fromcurrent": true,
              "mode": "immediate",
              "transition": {
               "duration": 0,
               "easing": "linear"
              }
             }
            ],
            "label": "1997",
            "method": "animate"
           },
           {
            "args": [
             [
              "1998"
             ],
             {
              "frame": {
               "duration": 0,
               "redraw": true
              },
              "fromcurrent": true,
              "mode": "immediate",
              "transition": {
               "duration": 0,
               "easing": "linear"
              }
             }
            ],
            "label": "1998",
            "method": "animate"
           },
           {
            "args": [
             [
              "1999"
             ],
             {
              "frame": {
               "duration": 0,
               "redraw": true
              },
              "fromcurrent": true,
              "mode": "immediate",
              "transition": {
               "duration": 0,
               "easing": "linear"
              }
             }
            ],
            "label": "1999",
            "method": "animate"
           },
           {
            "args": [
             [
              "2000"
             ],
             {
              "frame": {
               "duration": 0,
               "redraw": true
              },
              "fromcurrent": true,
              "mode": "immediate",
              "transition": {
               "duration": 0,
               "easing": "linear"
              }
             }
            ],
            "label": "2000",
            "method": "animate"
           },
           {
            "args": [
             [
              "2001"
             ],
             {
              "frame": {
               "duration": 0,
               "redraw": true
              },
              "fromcurrent": true,
              "mode": "immediate",
              "transition": {
               "duration": 0,
               "easing": "linear"
              }
             }
            ],
            "label": "2001",
            "method": "animate"
           },
           {
            "args": [
             [
              "2002"
             ],
             {
              "frame": {
               "duration": 0,
               "redraw": true
              },
              "fromcurrent": true,
              "mode": "immediate",
              "transition": {
               "duration": 0,
               "easing": "linear"
              }
             }
            ],
            "label": "2002",
            "method": "animate"
           },
           {
            "args": [
             [
              "2003"
             ],
             {
              "frame": {
               "duration": 0,
               "redraw": true
              },
              "fromcurrent": true,
              "mode": "immediate",
              "transition": {
               "duration": 0,
               "easing": "linear"
              }
             }
            ],
            "label": "2003",
            "method": "animate"
           },
           {
            "args": [
             [
              "2004"
             ],
             {
              "frame": {
               "duration": 0,
               "redraw": true
              },
              "fromcurrent": true,
              "mode": "immediate",
              "transition": {
               "duration": 0,
               "easing": "linear"
              }
             }
            ],
            "label": "2004",
            "method": "animate"
           },
           {
            "args": [
             [
              "2005"
             ],
             {
              "frame": {
               "duration": 0,
               "redraw": true
              },
              "fromcurrent": true,
              "mode": "immediate",
              "transition": {
               "duration": 0,
               "easing": "linear"
              }
             }
            ],
            "label": "2005",
            "method": "animate"
           },
           {
            "args": [
             [
              "2006"
             ],
             {
              "frame": {
               "duration": 0,
               "redraw": true
              },
              "fromcurrent": true,
              "mode": "immediate",
              "transition": {
               "duration": 0,
               "easing": "linear"
              }
             }
            ],
            "label": "2006",
            "method": "animate"
           },
           {
            "args": [
             [
              "2007"
             ],
             {
              "frame": {
               "duration": 0,
               "redraw": true
              },
              "fromcurrent": true,
              "mode": "immediate",
              "transition": {
               "duration": 0,
               "easing": "linear"
              }
             }
            ],
            "label": "2007",
            "method": "animate"
           },
           {
            "args": [
             [
              "2008"
             ],
             {
              "frame": {
               "duration": 0,
               "redraw": true
              },
              "fromcurrent": true,
              "mode": "immediate",
              "transition": {
               "duration": 0,
               "easing": "linear"
              }
             }
            ],
            "label": "2008",
            "method": "animate"
           },
           {
            "args": [
             [
              "2009"
             ],
             {
              "frame": {
               "duration": 0,
               "redraw": true
              },
              "fromcurrent": true,
              "mode": "immediate",
              "transition": {
               "duration": 0,
               "easing": "linear"
              }
             }
            ],
            "label": "2009",
            "method": "animate"
           },
           {
            "args": [
             [
              "2010"
             ],
             {
              "frame": {
               "duration": 0,
               "redraw": true
              },
              "fromcurrent": true,
              "mode": "immediate",
              "transition": {
               "duration": 0,
               "easing": "linear"
              }
             }
            ],
            "label": "2010",
            "method": "animate"
           },
           {
            "args": [
             [
              "2011"
             ],
             {
              "frame": {
               "duration": 0,
               "redraw": true
              },
              "fromcurrent": true,
              "mode": "immediate",
              "transition": {
               "duration": 0,
               "easing": "linear"
              }
             }
            ],
            "label": "2011",
            "method": "animate"
           },
           {
            "args": [
             [
              "2012"
             ],
             {
              "frame": {
               "duration": 0,
               "redraw": true
              },
              "fromcurrent": true,
              "mode": "immediate",
              "transition": {
               "duration": 0,
               "easing": "linear"
              }
             }
            ],
            "label": "2012",
            "method": "animate"
           },
           {
            "args": [
             [
              "2013"
             ],
             {
              "frame": {
               "duration": 0,
               "redraw": true
              },
              "fromcurrent": true,
              "mode": "immediate",
              "transition": {
               "duration": 0,
               "easing": "linear"
              }
             }
            ],
            "label": "2013",
            "method": "animate"
           },
           {
            "args": [
             [
              "2014"
             ],
             {
              "frame": {
               "duration": 0,
               "redraw": true
              },
              "fromcurrent": true,
              "mode": "immediate",
              "transition": {
               "duration": 0,
               "easing": "linear"
              }
             }
            ],
            "label": "2014",
            "method": "animate"
           },
           {
            "args": [
             [
              "2015"
             ],
             {
              "frame": {
               "duration": 0,
               "redraw": true
              },
              "fromcurrent": true,
              "mode": "immediate",
              "transition": {
               "duration": 0,
               "easing": "linear"
              }
             }
            ],
            "label": "2015",
            "method": "animate"
           },
           {
            "args": [
             [
              "2016"
             ],
             {
              "frame": {
               "duration": 0,
               "redraw": true
              },
              "fromcurrent": true,
              "mode": "immediate",
              "transition": {
               "duration": 0,
               "easing": "linear"
              }
             }
            ],
            "label": "2016",
            "method": "animate"
           },
           {
            "args": [
             [
              "2017"
             ],
             {
              "frame": {
               "duration": 0,
               "redraw": true
              },
              "fromcurrent": true,
              "mode": "immediate",
              "transition": {
               "duration": 0,
               "easing": "linear"
              }
             }
            ],
            "label": "2017",
            "method": "animate"
           },
           {
            "args": [
             [
              "2018"
             ],
             {
              "frame": {
               "duration": 0,
               "redraw": true
              },
              "fromcurrent": true,
              "mode": "immediate",
              "transition": {
               "duration": 0,
               "easing": "linear"
              }
             }
            ],
            "label": "2018",
            "method": "animate"
           },
           {
            "args": [
             [
              "2019"
             ],
             {
              "frame": {
               "duration": 0,
               "redraw": true
              },
              "fromcurrent": true,
              "mode": "immediate",
              "transition": {
               "duration": 0,
               "easing": "linear"
              }
             }
            ],
            "label": "2019",
            "method": "animate"
           },
           {
            "args": [
             [
              "2020"
             ],
             {
              "frame": {
               "duration": 0,
               "redraw": true
              },
              "fromcurrent": true,
              "mode": "immediate",
              "transition": {
               "duration": 0,
               "easing": "linear"
              }
             }
            ],
            "label": "2020",
            "method": "animate"
           },
           {
            "args": [
             [
              "2021"
             ],
             {
              "frame": {
               "duration": 0,
               "redraw": true
              },
              "fromcurrent": true,
              "mode": "immediate",
              "transition": {
               "duration": 0,
               "easing": "linear"
              }
             }
            ],
            "label": "2021",
            "method": "animate"
           },
           {
            "args": [
             [
              "2022"
             ],
             {
              "frame": {
               "duration": 0,
               "redraw": true
              },
              "fromcurrent": true,
              "mode": "immediate",
              "transition": {
               "duration": 0,
               "easing": "linear"
              }
             }
            ],
            "label": "2022",
            "method": "animate"
           },
           {
            "args": [
             [
              "2023"
             ],
             {
              "frame": {
               "duration": 0,
               "redraw": true
              },
              "fromcurrent": true,
              "mode": "immediate",
              "transition": {
               "duration": 0,
               "easing": "linear"
              }
             }
            ],
            "label": "2023",
            "method": "animate"
           }
          ],
          "x": 0.1,
          "xanchor": "left",
          "y": 0,
          "yanchor": "top"
         }
        ],
        "template": {
         "data": {
          "bar": [
           {
            "error_x": {
             "color": "#2a3f5f"
            },
            "error_y": {
             "color": "#2a3f5f"
            },
            "marker": {
             "line": {
              "color": "#E5ECF6",
              "width": 0.5
             },
             "pattern": {
              "fillmode": "overlay",
              "size": 10,
              "solidity": 0.2
             }
            },
            "type": "bar"
           }
          ],
          "barpolar": [
           {
            "marker": {
             "line": {
              "color": "#E5ECF6",
              "width": 0.5
             },
             "pattern": {
              "fillmode": "overlay",
              "size": 10,
              "solidity": 0.2
             }
            },
            "type": "barpolar"
           }
          ],
          "carpet": [
           {
            "aaxis": {
             "endlinecolor": "#2a3f5f",
             "gridcolor": "white",
             "linecolor": "white",
             "minorgridcolor": "white",
             "startlinecolor": "#2a3f5f"
            },
            "baxis": {
             "endlinecolor": "#2a3f5f",
             "gridcolor": "white",
             "linecolor": "white",
             "minorgridcolor": "white",
             "startlinecolor": "#2a3f5f"
            },
            "type": "carpet"
           }
          ],
          "choropleth": [
           {
            "colorbar": {
             "outlinewidth": 0,
             "ticks": ""
            },
            "type": "choropleth"
           }
          ],
          "contour": [
           {
            "colorbar": {
             "outlinewidth": 0,
             "ticks": ""
            },
            "colorscale": [
             [
              0,
              "#0d0887"
             ],
             [
              0.1111111111111111,
              "#46039f"
             ],
             [
              0.2222222222222222,
              "#7201a8"
             ],
             [
              0.3333333333333333,
              "#9c179e"
             ],
             [
              0.4444444444444444,
              "#bd3786"
             ],
             [
              0.5555555555555556,
              "#d8576b"
             ],
             [
              0.6666666666666666,
              "#ed7953"
             ],
             [
              0.7777777777777778,
              "#fb9f3a"
             ],
             [
              0.8888888888888888,
              "#fdca26"
             ],
             [
              1,
              "#f0f921"
             ]
            ],
            "type": "contour"
           }
          ],
          "contourcarpet": [
           {
            "colorbar": {
             "outlinewidth": 0,
             "ticks": ""
            },
            "type": "contourcarpet"
           }
          ],
          "heatmap": [
           {
            "colorbar": {
             "outlinewidth": 0,
             "ticks": ""
            },
            "colorscale": [
             [
              0,
              "#0d0887"
             ],
             [
              0.1111111111111111,
              "#46039f"
             ],
             [
              0.2222222222222222,
              "#7201a8"
             ],
             [
              0.3333333333333333,
              "#9c179e"
             ],
             [
              0.4444444444444444,
              "#bd3786"
             ],
             [
              0.5555555555555556,
              "#d8576b"
             ],
             [
              0.6666666666666666,
              "#ed7953"
             ],
             [
              0.7777777777777778,
              "#fb9f3a"
             ],
             [
              0.8888888888888888,
              "#fdca26"
             ],
             [
              1,
              "#f0f921"
             ]
            ],
            "type": "heatmap"
           }
          ],
          "heatmapgl": [
           {
            "colorbar": {
             "outlinewidth": 0,
             "ticks": ""
            },
            "colorscale": [
             [
              0,
              "#0d0887"
             ],
             [
              0.1111111111111111,
              "#46039f"
             ],
             [
              0.2222222222222222,
              "#7201a8"
             ],
             [
              0.3333333333333333,
              "#9c179e"
             ],
             [
              0.4444444444444444,
              "#bd3786"
             ],
             [
              0.5555555555555556,
              "#d8576b"
             ],
             [
              0.6666666666666666,
              "#ed7953"
             ],
             [
              0.7777777777777778,
              "#fb9f3a"
             ],
             [
              0.8888888888888888,
              "#fdca26"
             ],
             [
              1,
              "#f0f921"
             ]
            ],
            "type": "heatmapgl"
           }
          ],
          "histogram": [
           {
            "marker": {
             "pattern": {
              "fillmode": "overlay",
              "size": 10,
              "solidity": 0.2
             }
            },
            "type": "histogram"
           }
          ],
          "histogram2d": [
           {
            "colorbar": {
             "outlinewidth": 0,
             "ticks": ""
            },
            "colorscale": [
             [
              0,
              "#0d0887"
             ],
             [
              0.1111111111111111,
              "#46039f"
             ],
             [
              0.2222222222222222,
              "#7201a8"
             ],
             [
              0.3333333333333333,
              "#9c179e"
             ],
             [
              0.4444444444444444,
              "#bd3786"
             ],
             [
              0.5555555555555556,
              "#d8576b"
             ],
             [
              0.6666666666666666,
              "#ed7953"
             ],
             [
              0.7777777777777778,
              "#fb9f3a"
             ],
             [
              0.8888888888888888,
              "#fdca26"
             ],
             [
              1,
              "#f0f921"
             ]
            ],
            "type": "histogram2d"
           }
          ],
          "histogram2dcontour": [
           {
            "colorbar": {
             "outlinewidth": 0,
             "ticks": ""
            },
            "colorscale": [
             [
              0,
              "#0d0887"
             ],
             [
              0.1111111111111111,
              "#46039f"
             ],
             [
              0.2222222222222222,
              "#7201a8"
             ],
             [
              0.3333333333333333,
              "#9c179e"
             ],
             [
              0.4444444444444444,
              "#bd3786"
             ],
             [
              0.5555555555555556,
              "#d8576b"
             ],
             [
              0.6666666666666666,
              "#ed7953"
             ],
             [
              0.7777777777777778,
              "#fb9f3a"
             ],
             [
              0.8888888888888888,
              "#fdca26"
             ],
             [
              1,
              "#f0f921"
             ]
            ],
            "type": "histogram2dcontour"
           }
          ],
          "mesh3d": [
           {
            "colorbar": {
             "outlinewidth": 0,
             "ticks": ""
            },
            "type": "mesh3d"
           }
          ],
          "parcoords": [
           {
            "line": {
             "colorbar": {
              "outlinewidth": 0,
              "ticks": ""
             }
            },
            "type": "parcoords"
           }
          ],
          "pie": [
           {
            "automargin": true,
            "type": "pie"
           }
          ],
          "scatter": [
           {
            "fillpattern": {
             "fillmode": "overlay",
             "size": 10,
             "solidity": 0.2
            },
            "type": "scatter"
           }
          ],
          "scatter3d": [
           {
            "line": {
             "colorbar": {
              "outlinewidth": 0,
              "ticks": ""
             }
            },
            "marker": {
             "colorbar": {
              "outlinewidth": 0,
              "ticks": ""
             }
            },
            "type": "scatter3d"
           }
          ],
          "scattercarpet": [
           {
            "marker": {
             "colorbar": {
              "outlinewidth": 0,
              "ticks": ""
             }
            },
            "type": "scattercarpet"
           }
          ],
          "scattergeo": [
           {
            "marker": {
             "colorbar": {
              "outlinewidth": 0,
              "ticks": ""
             }
            },
            "type": "scattergeo"
           }
          ],
          "scattergl": [
           {
            "marker": {
             "colorbar": {
              "outlinewidth": 0,
              "ticks": ""
             }
            },
            "type": "scattergl"
           }
          ],
          "scattermapbox": [
           {
            "marker": {
             "colorbar": {
              "outlinewidth": 0,
              "ticks": ""
             }
            },
            "type": "scattermapbox"
           }
          ],
          "scatterpolar": [
           {
            "marker": {
             "colorbar": {
              "outlinewidth": 0,
              "ticks": ""
             }
            },
            "type": "scatterpolar"
           }
          ],
          "scatterpolargl": [
           {
            "marker": {
             "colorbar": {
              "outlinewidth": 0,
              "ticks": ""
             }
            },
            "type": "scatterpolargl"
           }
          ],
          "scatterternary": [
           {
            "marker": {
             "colorbar": {
              "outlinewidth": 0,
              "ticks": ""
             }
            },
            "type": "scatterternary"
           }
          ],
          "surface": [
           {
            "colorbar": {
             "outlinewidth": 0,
             "ticks": ""
            },
            "colorscale": [
             [
              0,
              "#0d0887"
             ],
             [
              0.1111111111111111,
              "#46039f"
             ],
             [
              0.2222222222222222,
              "#7201a8"
             ],
             [
              0.3333333333333333,
              "#9c179e"
             ],
             [
              0.4444444444444444,
              "#bd3786"
             ],
             [
              0.5555555555555556,
              "#d8576b"
             ],
             [
              0.6666666666666666,
              "#ed7953"
             ],
             [
              0.7777777777777778,
              "#fb9f3a"
             ],
             [
              0.8888888888888888,
              "#fdca26"
             ],
             [
              1,
              "#f0f921"
             ]
            ],
            "type": "surface"
           }
          ],
          "table": [
           {
            "cells": {
             "fill": {
              "color": "#EBF0F8"
             },
             "line": {
              "color": "white"
             }
            },
            "header": {
             "fill": {
              "color": "#C8D4E3"
             },
             "line": {
              "color": "white"
             }
            },
            "type": "table"
           }
          ]
         },
         "layout": {
          "annotationdefaults": {
           "arrowcolor": "#2a3f5f",
           "arrowhead": 0,
           "arrowwidth": 1
          },
          "autotypenumbers": "strict",
          "coloraxis": {
           "colorbar": {
            "outlinewidth": 0,
            "ticks": ""
           }
          },
          "colorscale": {
           "diverging": [
            [
             0,
             "#8e0152"
            ],
            [
             0.1,
             "#c51b7d"
            ],
            [
             0.2,
             "#de77ae"
            ],
            [
             0.3,
             "#f1b6da"
            ],
            [
             0.4,
             "#fde0ef"
            ],
            [
             0.5,
             "#f7f7f7"
            ],
            [
             0.6,
             "#e6f5d0"
            ],
            [
             0.7,
             "#b8e186"
            ],
            [
             0.8,
             "#7fbc41"
            ],
            [
             0.9,
             "#4d9221"
            ],
            [
             1,
             "#276419"
            ]
           ],
           "sequential": [
            [
             0,
             "#0d0887"
            ],
            [
             0.1111111111111111,
             "#46039f"
            ],
            [
             0.2222222222222222,
             "#7201a8"
            ],
            [
             0.3333333333333333,
             "#9c179e"
            ],
            [
             0.4444444444444444,
             "#bd3786"
            ],
            [
             0.5555555555555556,
             "#d8576b"
            ],
            [
             0.6666666666666666,
             "#ed7953"
            ],
            [
             0.7777777777777778,
             "#fb9f3a"
            ],
            [
             0.8888888888888888,
             "#fdca26"
            ],
            [
             1,
             "#f0f921"
            ]
           ],
           "sequentialminus": [
            [
             0,
             "#0d0887"
            ],
            [
             0.1111111111111111,
             "#46039f"
            ],
            [
             0.2222222222222222,
             "#7201a8"
            ],
            [
             0.3333333333333333,
             "#9c179e"
            ],
            [
             0.4444444444444444,
             "#bd3786"
            ],
            [
             0.5555555555555556,
             "#d8576b"
            ],
            [
             0.6666666666666666,
             "#ed7953"
            ],
            [
             0.7777777777777778,
             "#fb9f3a"
            ],
            [
             0.8888888888888888,
             "#fdca26"
            ],
            [
             1,
             "#f0f921"
            ]
           ]
          },
          "colorway": [
           "#636efa",
           "#EF553B",
           "#00cc96",
           "#ab63fa",
           "#FFA15A",
           "#19d3f3",
           "#FF6692",
           "#B6E880",
           "#FF97FF",
           "#FECB52"
          ],
          "font": {
           "color": "#2a3f5f"
          },
          "geo": {
           "bgcolor": "white",
           "lakecolor": "white",
           "landcolor": "#E5ECF6",
           "showlakes": true,
           "showland": true,
           "subunitcolor": "white"
          },
          "hoverlabel": {
           "align": "left"
          },
          "hovermode": "closest",
          "mapbox": {
           "style": "light"
          },
          "paper_bgcolor": "white",
          "plot_bgcolor": "#E5ECF6",
          "polar": {
           "angularaxis": {
            "gridcolor": "white",
            "linecolor": "white",
            "ticks": ""
           },
           "bgcolor": "#E5ECF6",
           "radialaxis": {
            "gridcolor": "white",
            "linecolor": "white",
            "ticks": ""
           }
          },
          "scene": {
           "xaxis": {
            "backgroundcolor": "#E5ECF6",
            "gridcolor": "white",
            "gridwidth": 2,
            "linecolor": "white",
            "showbackground": true,
            "ticks": "",
            "zerolinecolor": "white"
           },
           "yaxis": {
            "backgroundcolor": "#E5ECF6",
            "gridcolor": "white",
            "gridwidth": 2,
            "linecolor": "white",
            "showbackground": true,
            "ticks": "",
            "zerolinecolor": "white"
           },
           "zaxis": {
            "backgroundcolor": "#E5ECF6",
            "gridcolor": "white",
            "gridwidth": 2,
            "linecolor": "white",
            "showbackground": true,
            "ticks": "",
            "zerolinecolor": "white"
           }
          },
          "shapedefaults": {
           "line": {
            "color": "#2a3f5f"
           }
          },
          "ternary": {
           "aaxis": {
            "gridcolor": "white",
            "linecolor": "white",
            "ticks": ""
           },
           "baxis": {
            "gridcolor": "white",
            "linecolor": "white",
            "ticks": ""
           },
           "bgcolor": "#E5ECF6",
           "caxis": {
            "gridcolor": "white",
            "linecolor": "white",
            "ticks": ""
           }
          },
          "title": {
           "x": 0.05
          },
          "xaxis": {
           "automargin": true,
           "gridcolor": "white",
           "linecolor": "white",
           "ticks": "",
           "title": {
            "standoff": 15
           },
           "zerolinecolor": "white",
           "zerolinewidth": 2
          },
          "yaxis": {
           "automargin": true,
           "gridcolor": "white",
           "linecolor": "white",
           "ticks": "",
           "title": {
            "standoff": 15
           },
           "zerolinecolor": "white",
           "zerolinewidth": 2
          }
         }
        },
        "title": {
         "text": "Number of Refugees under UNHCR's Mandate by Country Over Time"
        },
        "updatemenus": [
         {
          "buttons": [
           {
            "args": [
             null,
             {
              "frame": {
               "duration": 500,
               "redraw": true
              },
              "fromcurrent": true,
              "mode": "immediate",
              "transition": {
               "duration": 500,
               "easing": "linear"
              }
             }
            ],
            "label": "&#9654;",
            "method": "animate"
           },
           {
            "args": [
             [
              null
             ],
             {
              "frame": {
               "duration": 0,
               "redraw": true
              },
              "fromcurrent": true,
              "mode": "immediate",
              "transition": {
               "duration": 0,
               "easing": "linear"
              }
             }
            ],
            "label": "&#9724;",
            "method": "animate"
           }
          ],
          "direction": "left",
          "pad": {
           "r": 10,
           "t": 70
          },
          "showactive": false,
          "type": "buttons",
          "x": 0.1,
          "xanchor": "right",
          "y": 0,
          "yanchor": "top"
         }
        ],
        "width": 1200
       }
      },
      "image/png": "[encoded data removed]",
      "text/html": [
       "<div>                            <div id=\"e4f43c35-3b63-473e-aba3-43ce3d1b7412\" class=\"plotly-graph-div\" style=\"height:800px; width:1200px;\"></div>            <script type=\"text/javascript\">                require([\"plotly\"], function(Plotly) {                    window.PLOTLYENV=window.PLOTLYENV || {};                                    if (document.getElementById(\"e4f43c35-3b63-473e-aba3-43ce3d1b7412\")) {                    Plotly.newPlot(                        \"e4f43c35-3b63-473e-aba3-43ce3d1b7412\",                        [{\"coloraxis\":\"coloraxis\",\"geo\":\"geo\",\"hovertemplate\":\"\\u003cb\\u003e%{hovertext}\\u003c\\u002fb\\u003e\\u003cbr\\u003e\\u003cbr\\u003eYear=1951\\u003cbr\\u003eCountry of asylum (ISO)=%{location}\\u003cbr\\u003eNumber of Refugees=%{z}\\u003cextra\\u003e\\u003c\\u002fextra\\u003e\",\"hovertext\":[\"Austria\",\"Belgium\",\"Denmark\",\"France\",\"Germany\",\"Greece\",\"Italy\",\"Luxembourg\",\"Norway\",\"Spain\",\"Sweden\",\"Switzerland\"],\"locations\":[\"AUT\",\"BEL\",\"DNK\",\"FRA\",\"DEU\",\"GRC\",\"ITA\",\"LUX\",\"NOR\",\"ESP\",\"SWE\",\"CHE\"],\"name\":\"\",\"z\":[282000,55000,2000,290000,265000,18000,26500,1800,2500,2000,44000,10000],\"type\":\"choropleth\"}],                        {\"template\":{\"data\":{\"histogram2dcontour\":[{\"type\":\"histogram2dcontour\",\"colorbar\":{\"outlinewidth\":0,\"ticks\":\"\"},\"colorscale\":[[0.0,\"#0d0887\"],[0.1111111111111111,\"#46039f\"],[0.2222222222222222,\"#7201a8\"],[0.3333333333333333,\"#9c179e\"],[0.4444444444444444,\"#bd3786\"],[0.5555555555555556,\"#d8576b\"],[0.6666666666666666,\"#ed7953\"],[0.7777777777777778,\"#fb9f3a\"],[0.8888888888888888,\"#fdca26\"],[1.0,\"#f0f921\"]]}],\"choropleth\":[{\"type\":\"choropleth\",\"colorbar\":{\"outlinewidth\":0,\"ticks\":\"\"}}],\"histogram2d\":[{\"type\":\"histogram2d\",\"colorbar\":{\"outlinewidth\":0,\"ticks\":\"\"},\"colorscale\":[[0.0,\"#0d0887\"],[0.1111111111111111,\"#46039f\"],[0.2222222222222222,\"#7201a8\"],[0.3333333333333333,\"#9c179e\"],[0.4444444444444444,\"#bd3786\"],[0.5555555555555556,\"#d8576b\"],[0.6666666666666666,\"#ed7953\"],[0.7777777777777778,\"#fb9f3a\"],[0.8888888888888888,\"#fdca26\"],[1.0,\"#f0f921\"]]}],\"heatmap\":[{\"type\":\"heatmap\",\"colorbar\":{\"outlinewidth\":0,\"ticks\":\"\"},\"colorscale\":[[0.0,\"#0d0887\"],[0.1111111111111111,\"#46039f\"],[0.2222222222222222,\"#7201a8\"],[0.3333333333333333,\"#9c179e\"],[0.4444444444444444,\"#bd3786\"],[0.5555555555555556,\"#d8576b\"],[0.6666666666666666,\"#ed7953\"],[0.7777777777777778,\"#fb9f3a\"],[0.8888888888888888,\"#fdca26\"],[1.0,\"#f0f921\"]]}],\"heatmapgl\":[{\"type\":\"heatmapgl\",\"colorbar\":{\"outlinewidth\":0,\"ticks\":\"\"},\"colorscale\":[[0.0,\"#0d0887\"],[0.1111111111111111,\"#46039f\"],[0.2222222222222222,\"#7201a8\"],[0.3333333333333333,\"#9c179e\"],[0.4444444444444444,\"#bd3786\"],[0.5555555555555556,\"#d8576b\"],[0.6666666666666666,\"#ed7953\"],[0.7777777777777778,\"#fb9f3a\"],[0.8888888888888888,\"#fdca26\"],[1.0,\"#f0f921\"]]}],\"contourcarpet\":[{\"type\":\"contourcarpet\",\"colorbar\":{\"outlinewidth\":0,\"ticks\":\"\"}}],\"contour\":[{\"type\":\"contour\",\"colorbar\":{\"outlinewidth\":0,\"ticks\":\"\"},\"colorscale\":[[0.0,\"#0d0887\"],[0.1111111111111111,\"#46039f\"],[0.2222222222222222,\"#7201a8\"],[0.3333333333333333,\"#9c179e\"],[0.4444444444444444,\"#bd3786\"],[0.5555555555555556,\"#d8576b\"],[0.6666666666666666,\"#ed7953\"],[0.7777777777777778,\"#fb9f3a\"],[0.8888888888888888,\"#fdca26\"],[1.0,\"#f0f921\"]]}],\"surface\":[{\"type\":\"surface\",\"colorbar\":{\"outlinewidth\":0,\"ticks\":\"\"},\"colorscale\":[[0.0,\"#0d0887\"],[0.1111111111111111,\"#46039f\"],[0.2222222222222222,\"#7201a8\"],[0.3333333333333333,\"#9c179e\"],[0.4444444444444444,\"#bd3786\"],[0.5555555555555556,\"#d8576b\"],[0.6666666666666666,\"#ed7953\"],[0.7777777777777778,\"#fb9f3a\"],[0.8888888888888888,\"#fdca26\"],[1.0,\"#f0f921\"]]}],\"mesh3d\":[{\"type\":\"mesh3d\",\"colorbar\":{\"outlinewidth\":0,\"ticks\":\"\"}}],\"scatter\":[{\"fillpattern\":{\"fillmode\":\"overlay\",\"size\":10,\"solidity\":0.2},\"type\":\"scatter\"}],\"parcoords\":[{\"type\":\"parcoords\",\"line\":{\"colorbar\":{\"outlinewidth\":0,\"ticks\":\"\"}}}],\"scatterpolargl\":[{\"type\":\"scatterpolargl\",\"marker\":{\"colorbar\":{\"outlinewidth\":0,\"ticks\":\"\"}}}],\"bar\":[{\"error_x\":{\"color\":\"#2a3f5f\"},\"error_y\":{\"color\":\"#2a3f5f\"},\"marker\":{\"line\":{\"color\":\"#E5ECF6\",\"width\":0.5},\"pattern\":{\"fillmode\":\"overlay\",\"size\":10,\"solidity\":0.2}},\"type\":\"bar\"}],\"scattergeo\":[{\"type\":\"scattergeo\",\"marker\":{\"colorbar\":{\"outlinewidth\":0,\"ticks\":\"\"}}}],\"scatterpolar\":[{\"type\":\"scatterpolar\",\"marker\":{\"colorbar\":{\"outlinewidth\":0,\"ticks\":\"\"}}}],\"histogram\":[{\"marker\":{\"pattern\":{\"fillmode\":\"overlay\",\"size\":10,\"solidity\":0.2}},\"type\":\"histogram\"}],\"scattergl\":[{\"type\":\"scattergl\",\"marker\":{\"colorbar\":{\"outlinewidth\":0,\"ticks\":\"\"}}}],\"scatter3d\":[{\"type\":\"scatter3d\",\"line\":{\"colorbar\":{\"outlinewidth\":0,\"ticks\":\"\"}},\"marker\":{\"colorbar\":{\"outlinewidth\":0,\"ticks\":\"\"}}}],\"scattermapbox\":[{\"type\":\"scattermapbox\",\"marker\":{\"colorbar\":{\"outlinewidth\":0,\"ticks\":\"\"}}}],\"scatterternary\":[{\"type\":\"scatterternary\",\"marker\":{\"colorbar\":{\"outlinewidth\":0,\"ticks\":\"\"}}}],\"scattercarpet\":[{\"type\":\"scattercarpet\",\"marker\":{\"colorbar\":{\"outlinewidth\":0,\"ticks\":\"\"}}}],\"carpet\":[{\"aaxis\":{\"endlinecolor\":\"#2a3f5f\",\"gridcolor\":\"white\",\"linecolor\":\"white\",\"minorgridcolor\":\"white\",\"startlinecolor\":\"#2a3f5f\"},\"baxis\":{\"endlinecolor\":\"#2a3f5f\",\"gridcolor\":\"white\",\"linecolor\":\"white\",\"minorgridcolor\":\"white\",\"startlinecolor\":\"#2a3f5f\"},\"type\":\"carpet\"}],\"table\":[{\"cells\":{\"fill\":{\"color\":\"#EBF0F8\"},\"line\":{\"color\":\"white\"}},\"header\":{\"fill\":{\"color\":\"#C8D4E3\"},\"line\":{\"color\":\"white\"}},\"type\":\"table\"}],\"barpolar\":[{\"marker\":{\"line\":{\"color\":\"#E5ECF6\",\"width\":0.5},\"pattern\":{\"fillmode\":\"overlay\",\"size\":10,\"solidity\":0.2}},\"type\":\"barpolar\"}],\"pie\":[{\"automargin\":true,\"type\":\"pie\"}]},\"layout\":{\"autotypenumbers\":\"strict\",\"colorway\":[\"#636efa\",\"#EF553B\",\"#00cc96\",\"#ab63fa\",\"#FFA15A\",\"#19d3f3\",\"#FF6692\",\"#B6E880\",\"#FF97FF\",\"#FECB52\"],\"font\":{\"color\":\"#2a3f5f\"},\"hovermode\":\"closest\",\"hoverlabel\":{\"align\":\"left\"},\"paper_bgcolor\":\"white\",\"plot_bgcolor\":\"#E5ECF6\",\"polar\":{\"bgcolor\":\"#E5ECF6\",\"angularaxis\":{\"gridcolor\":\"white\",\"linecolor\":\"white\",\"ticks\":\"\"},\"radialaxis\":{\"gridcolor\":\"white\",\"linecolor\":\"white\",\"ticks\":\"\"}},\"ternary\":{\"bgcolor\":\"#E5ECF6\",\"aaxis\":{\"gridcolor\":\"white\",\"linecolor\":\"white\",\"ticks\":\"\"},\"baxis\":{\"gridcolor\":\"white\",\"linecolor\":\"white\",\"ticks\":\"\"},\"caxis\":{\"gridcolor\":\"white\",\"linecolor\":\"white\",\"ticks\":\"\"}},\"coloraxis\":{\"colorbar\":{\"outlinewidth\":0,\"ticks\":\"\"}},\"colorscale\":{\"sequential\":[[0.0,\"#0d0887\"],[0.1111111111111111,\"#46039f\"],[0.2222222222222222,\"#7201a8\"],[0.3333333333333333,\"#9c179e\"],[0.4444444444444444,\"#bd3786\"],[0.5555555555555556,\"#d8576b\"],[0.6666666666666666,\"#ed7953\"],[0.7777777777777778,\"#fb9f3a\"],[0.8888888888888888,\"#fdca26\"],[1.0,\"#f0f921\"]],\"sequentialminus\":[[0.0,\"#0d0887\"],[0.1111111111111111,\"#46039f\"],[0.2222222222222222,\"#7201a8\"],[0.3333333333333333,\"#9c179e\"],[0.4444444444444444,\"#bd3786\"],[0.5555555555555556,\"#d8576b\"],[0.6666666666666666,\"#ed7953\"],[0.7777777777777778,\"#fb9f3a\"],[0.8888888888888888,\"#fdca26\"],[1.0,\"#f0f921\"]],\"diverging\":[[0,\"#8e0152\"],[0.1,\"#c51b7d\"],[0.2,\"#de77ae\"],[0.3,\"#f1b6da\"],[0.4,\"#fde0ef\"],[0.5,\"#f7f7f7\"],[0.6,\"#e6f5d0\"],[0.7,\"#b8e186\"],[0.8,\"#7fbc41\"],[0.9,\"#4d9221\"],[1,\"#276419\"]]},\"xaxis\":{\"gridcolor\":\"white\",\"linecolor\":\"white\",\"ticks\":\"\",\"title\":{\"standoff\":15},\"zerolinecolor\":\"white\",\"automargin\":true,\"zerolinewidth\":2},\"yaxis\":{\"gridcolor\":\"white\",\"linecolor\":\"white\",\"ticks\":\"\",\"title\":{\"standoff\":15},\"zerolinecolor\":\"white\",\"automargin\":true,\"zerolinewidth\":2},\"scene\":{\"xaxis\":{\"backgroundcolor\":\"#E5ECF6\",\"gridcolor\":\"white\",\"linecolor\":\"white\",\"showbackground\":true,\"ticks\":\"\",\"zerolinecolor\":\"white\",\"gridwidth\":2},\"yaxis\":{\"backgroundcolor\":\"#E5ECF6\",\"gridcolor\":\"white\",\"linecolor\":\"white\",\"showbackground\":true,\"ticks\":\"\",\"zerolinecolor\":\"white\",\"gridwidth\":2},\"zaxis\":{\"backgroundcolor\":\"#E5ECF6\",\"gridcolor\":\"white\",\"linecolor\":\"white\",\"showbackground\":true,\"ticks\":\"\",\"zerolinecolor\":\"white\",\"gridwidth\":2}},\"shapedefaults\":{\"line\":{\"color\":\"#2a3f5f\"}},\"annotationdefaults\":{\"arrowcolor\":\"#2a3f5f\",\"arrowhead\":0,\"arrowwidth\":1},\"geo\":{\"bgcolor\":\"white\",\"landcolor\":\"#E5ECF6\",\"subunitcolor\":\"white\",\"showland\":true,\"showlakes\":true,\"lakecolor\":\"white\"},\"title\":{\"x\":0.05},\"mapbox\":{\"style\":\"light\"}}},\"geo\":{\"domain\":{\"x\":[0.0,1.0],\"y\":[0.0,1.0]},\"center\":{},\"projection\":{\"type\":\"equirectangular\"},\"lataxis\":{\"range\":[25,80]},\"lonaxis\":{\"range\":[-35,65]},\"showframe\":false,\"showcoastlines\":false},\"coloraxis\":{\"colorbar\":{\"title\":{\"text\":\"Number of Refugees\"}},\"colorscale\":[[0.0,\"#0d0887\"],[0.1111111111111111,\"#46039f\"],[0.2222222222222222,\"#7201a8\"],[0.3333333333333333,\"#9c179e\"],[0.4444444444444444,\"#bd3786\"],[0.5555555555555556,\"#d8576b\"],[0.6666666666666666,\"#ed7953\"],[0.7777777777777778,\"#fb9f3a\"],[0.8888888888888888,\"#fdca26\"],[1.0,\"#f0f921\"]]},\"legend\":{\"tracegroupgap\":0},\"title\":{\"text\":\"Number of Refugees under UNHCR's Mandate by Country Over Time\"},\"updatemenus\":[{\"buttons\":[{\"args\":[null,{\"frame\":{\"duration\":500,\"redraw\":true},\"mode\":\"immediate\",\"fromcurrent\":true,\"transition\":{\"duration\":500,\"easing\":\"linear\"}}],\"label\":\"&#9654;\",\"method\":\"animate\"},{\"args\":[[null],{\"frame\":{\"duration\":0,\"redraw\":true},\"mode\":\"immediate\",\"fromcurrent\":true,\"transition\":{\"duration\":0,\"easing\":\"linear\"}}],\"label\":\"&#9724;\",\"method\":\"animate\"}],\"direction\":\"left\",\"pad\":{\"r\":10,\"t\":70},\"showactive\":false,\"type\":\"buttons\",\"x\":0.1,\"xanchor\":\"right\",\"y\":0,\"yanchor\":\"top\"}],\"sliders\":[{\"active\":0,\"currentvalue\":{\"prefix\":\"Year=\"},\"len\":0.9,\"pad\":{\"b\":10,\"t\":60},\"steps\":[{\"args\":[[\"1951\"],{\"frame\":{\"duration\":0,\"redraw\":true},\"mode\":\"immediate\",\"fromcurrent\":true,\"transition\":{\"duration\":0,\"easing\":\"linear\"}}],\"label\":\"1951\",\"method\":\"animate\"},{\"args\":[[\"1952\"],{\"frame\":{\"duration\":0,\"redraw\":true},\"mode\":\"immediate\",\"fromcurrent\":true,\"transition\":{\"duration\":0,\"easing\":\"linear\"}}],\"label\":\"1952\",\"method\":\"animate\"},{\"args\":[[\"1953\"],{\"frame\":{\"duration\":0,\"redraw\":true},\"mode\":\"immediate\",\"fromcurrent\":true,\"transition\":{\"duration\":0,\"easing\":\"linear\"}}],\"label\":\"1953\",\"method\":\"animate\"},{\"args\":[[\"1954\"],{\"frame\":{\"duration\":0,\"redraw\":true},\"mode\":\"immediate\",\"fromcurrent\":true,\"transition\":{\"duration\":0,\"easing\":\"linear\"}}],\"label\":\"1954\",\"method\":\"animate\"},{\"args\":[[\"1955\"],{\"frame\":{\"duration\":0,\"redraw\":true},\"mode\":\"immediate\",\"fromcurrent\":true,\"transition\":{\"duration\":0,\"easing\":\"linear\"}}],\"label\":\"1955\",\"method\":\"animate\"},{\"args\":[[\"1956\"],{\"frame\":{\"duration\":0,\"redraw\":true},\"mode\":\"immediate\",\"fromcurrent\":true,\"transition\":{\"duration\":0,\"easing\":\"linear\"}}],\"label\":\"1956\",\"method\":\"animate\"},{\"args\":[[\"1957\"],{\"frame\":{\"duration\":0,\"redraw\":true},\"mode\":\"immediate\",\"fromcurrent\":true,\"transition\":{\"duration\":0,\"easing\":\"linear\"}}],\"label\":\"1957\",\"method\":\"animate\"},{\"args\":[[\"1958\"],{\"frame\":{\"duration\":0,\"redraw\":true},\"mode\":\"immediate\",\"fromcurrent\":true,\"transition\":{\"duration\":0,\"easing\":\"linear\"}}],\"label\":\"1958\",\"method\":\"animate\"},{\"args\":[[\"1959\"],{\"frame\":{\"duration\":0,\"redraw\":true},\"mode\":\"immediate\",\"fromcurrent\":true,\"transition\":{\"duration\":0,\"easing\":\"linear\"}}],\"label\":\"1959\",\"method\":\"animate\"},{\"args\":[[\"1960\"],{\"frame\":{\"duration\":0,\"redraw\":true},\"mode\":\"immediate\",\"fromcurrent\":true,\"transition\":{\"duration\":0,\"easing\":\"linear\"}}],\"label\":\"1960\",\"method\":\"animate\"},{\"args\":[[\"1961\"],{\"frame\":{\"duration\":0,\"redraw\":true},\"mode\":\"immediate\",\"fromcurrent\":true,\"transition\":{\"duration\":0,\"easing\":\"linear\"}}],\"label\":\"1961\",\"method\":\"animate\"},{\"args\":[[\"1962\"],{\"frame\":{\"duration\":0,\"redraw\":true},\"mode\":\"immediate\",\"fromcurrent\":true,\"transition\":{\"duration\":0,\"easing\":\"linear\"}}],\"label\":\"1962\",\"method\":\"animate\"},{\"args\":[[\"1963\"],{\"frame\":{\"duration\":0,\"redraw\":true},\"mode\":\"immediate\",\"fromcurrent\":true,\"transition\":{\"duration\":0,\"easing\":\"linear\"}}],\"label\":\"1963\",\"method\":\"animate\"},{\"args\":[[\"1964\"],{\"frame\":{\"duration\":0,\"redraw\":true},\"mode\":\"immediate\",\"fromcurrent\":true,\"transition\":{\"duration\":0,\"easing\":\"linear\"}}],\"label\":\"1964\",\"method\":\"animate\"},{\"args\":[[\"1965\"],{\"frame\":{\"duration\":0,\"redraw\":true},\"mode\":\"immediate\",\"fromcurrent\":true,\"transition\":{\"duration\":0,\"easing\":\"linear\"}}],\"label\":\"1965\",\"method\":\"animate\"},{\"args\":[[\"1966\"],{\"frame\":{\"duration\":0,\"redraw\":true},\"mode\":\"immediate\",\"fromcurrent\":true,\"transition\":{\"duration\":0,\"easing\":\"linear\"}}],\"label\":\"1966\",\"method\":\"animate\"},{\"args\":[[\"1967\"],{\"frame\":{\"duration\":0,\"redraw\":true},\"mode\":\"immediate\",\"fromcurrent\":true,\"transition\":{\"duration\":0,\"easing\":\"linear\"}}],\"label\":\"1967\",\"method\":\"animate\"},{\"args\":[[\"1968\"],{\"frame\":{\"duration\":0,\"redraw\":true},\"mode\":\"immediate\",\"fromcurrent\":true,\"transition\":{\"duration\":0,\"easing\":\"linear\"}}],\"label\":\"1968\",\"method\":\"animate\"},{\"args\":[[\"1969\"],{\"frame\":{\"duration\":0,\"redraw\":true},\"mode\":\"immediate\",\"fromcurrent\":true,\"transition\":{\"duration\":0,\"easing\":\"linear\"}}],\"label\":\"1969\",\"method\":\"animate\"},{\"args\":[[\"1970\"],{\"frame\":{\"duration\":0,\"redraw\":true},\"mode\":\"immediate\",\"fromcurrent\":true,\"transition\":{\"duration\":0,\"easing\":\"linear\"}}],\"label\":\"1970\",\"method\":\"animate\"},{\"args\":[[\"1971\"],{\"frame\":{\"duration\":0,\"redraw\":true},\"mode\":\"immediate\",\"fromcurrent\":true,\"transition\":{\"duration\":0,\"easing\":\"linear\"}}],\"label\":\"1971\",\"method\":\"animate\"},{\"args\":[[\"1972\"],{\"frame\":{\"duration\":0,\"redraw\":true},\"mode\":\"immediate\",\"fromcurrent\":true,\"transition\":{\"duration\":0,\"easing\":\"linear\"}}],\"label\":\"1972\",\"method\":\"animate\"},{\"args\":[[\"1973\"],{\"frame\":{\"duration\":0,\"redraw\":true},\"mode\":\"immediate\",\"fromcurrent\":true,\"transition\":{\"duration\":0,\"easing\":\"linear\"}}],\"label\":\"1973\",\"method\":\"animate\"},{\"args\":[[\"1974\"],{\"frame\":{\"duration\":0,\"redraw\":true},\"mode\":\"immediate\",\"fromcurrent\":true,\"transition\":{\"duration\":0,\"easing\":\"linear\"}}],\"label\":\"1974\",\"method\":\"animate\"},{\"args\":[[\"1975\"],{\"frame\":{\"duration\":0,\"redraw\":true},\"mode\":\"immediate\",\"fromcurrent\":true,\"transition\":{\"duration\":0,\"easing\":\"linear\"}}],\"label\":\"1975\",\"method\":\"animate\"},{\"args\":[[\"1976\"],{\"frame\":{\"duration\":0,\"redraw\":true},\"mode\":\"immediate\",\"fromcurrent\":true,\"transition\":{\"duration\":0,\"easing\":\"linear\"}}],\"label\":\"1976\",\"method\":\"animate\"},{\"args\":[[\"1977\"],{\"frame\":{\"duration\":0,\"redraw\":true},\"mode\":\"immediate\",\"fromcurrent\":true,\"transition\":{\"duration\":0,\"easing\":\"linear\"}}],\"label\":\"1977\",\"method\":\"animate\"},{\"args\":[[\"1978\"],{\"frame\":{\"duration\":0,\"redraw\":true},\"mode\":\"immediate\",\"fromcurrent\":true,\"transition\":{\"duration\":0,\"easing\":\"linear\"}}],\"label\":\"1978\",\"method\":\"animate\"},{\"args\":[[\"1979\"],{\"frame\":{\"duration\":0,\"redraw\":true},\"mode\":\"immediate\",\"fromcurrent\":true,\"transition\":{\"duration\":0,\"easing\":\"linear\"}}],\"label\":\"1979\",\"method\":\"animate\"},{\"args\":[[\"1980\"],{\"frame\":{\"duration\":0,\"redraw\":true},\"mode\":\"immediate\",\"fromcurrent\":true,\"transition\":{\"duration\":0,\"easing\":\"linear\"}}],\"label\":\"1980\",\"method\":\"animate\"},{\"args\":[[\"1981\"],{\"frame\":{\"duration\":0,\"redraw\":true},\"mode\":\"immediate\",\"fromcurrent\":true,\"transition\":{\"duration\":0,\"easing\":\"linear\"}}],\"label\":\"1981\",\"method\":\"animate\"},{\"args\":[[\"1982\"],{\"frame\":{\"duration\":0,\"redraw\":true},\"mode\":\"immediate\",\"fromcurrent\":true,\"transition\":{\"duration\":0,\"easing\":\"linear\"}}],\"label\":\"1982\",\"method\":\"animate\"},{\"args\":[[\"1983\"],{\"frame\":{\"duration\":0,\"redraw\":true},\"mode\":\"immediate\",\"fromcurrent\":true,\"transition\":{\"duration\":0,\"easing\":\"linear\"}}],\"label\":\"1983\",\"method\":\"animate\"},{\"args\":[[\"1984\"],{\"frame\":{\"duration\":0,\"redraw\":true},\"mode\":\"immediate\",\"fromcurrent\":true,\"transition\":{\"duration\":0,\"easing\":\"linear\"}}],\"label\":\"1984\",\"method\":\"animate\"},{\"args\":[[\"1985\"],{\"frame\":{\"duration\":0,\"redraw\":true},\"mode\":\"immediate\",\"fromcurrent\":true,\"transition\":{\"duration\":0,\"easing\":\"linear\"}}],\"label\":\"1985\",\"method\":\"animate\"},{\"args\":[[\"1986\"],{\"frame\":{\"duration\":0,\"redraw\":true},\"mode\":\"immediate\",\"fromcurrent\":true,\"transition\":{\"duration\":0,\"easing\":\"linear\"}}],\"label\":\"1986\",\"method\":\"animate\"},{\"args\":[[\"1987\"],{\"frame\":{\"duration\":0,\"redraw\":true},\"mode\":\"immediate\",\"fromcurrent\":true,\"transition\":{\"duration\":0,\"easing\":\"linear\"}}],\"label\":\"1987\",\"method\":\"animate\"},{\"args\":[[\"1988\"],{\"frame\":{\"duration\":0,\"redraw\":true},\"mode\":\"immediate\",\"fromcurrent\":true,\"transition\":{\"duration\":0,\"easing\":\"linear\"}}],\"label\":\"1988\",\"method\":\"animate\"},{\"args\":[[\"1989\"],{\"frame\":{\"duration\":0,\"redraw\":true},\"mode\":\"immediate\",\"fromcurrent\":true,\"transition\":{\"duration\":0,\"easing\":\"linear\"}}],\"label\":\"1989\",\"method\":\"animate\"},{\"args\":[[\"1990\"],{\"frame\":{\"duration\":0,\"redraw\":true},\"mode\":\"immediate\",\"fromcurrent\":true,\"transition\":{\"duration\":0,\"easing\":\"linear\"}}],\"label\":\"1990\",\"method\":\"animate\"},{\"args\":[[\"1991\"],{\"frame\":{\"duration\":0,\"redraw\":true},\"mode\":\"immediate\",\"fromcurrent\":true,\"transition\":{\"duration\":0,\"easing\":\"linear\"}}],\"label\":\"1991\",\"method\":\"animate\"},{\"args\":[[\"1992\"],{\"frame\":{\"duration\":0,\"redraw\":true},\"mode\":\"immediate\",\"fromcurrent\":true,\"transition\":{\"duration\":0,\"easing\":\"linear\"}}],\"label\":\"1992\",\"method\":\"animate\"},{\"args\":[[\"1993\"],{\"frame\":{\"duration\":0,\"redraw\":true},\"mode\":\"immediate\",\"fromcurrent\":true,\"transition\":{\"duration\":0,\"easing\":\"linear\"}}],\"label\":\"1993\",\"method\":\"animate\"},{\"args\":[[\"1994\"],{\"frame\":{\"duration\":0,\"redraw\":true},\"mode\":\"immediate\",\"fromcurrent\":true,\"transition\":{\"duration\":0,\"easing\":\"linear\"}}],\"label\":\"1994\",\"method\":\"animate\"},{\"args\":[[\"1995\"],{\"frame\":{\"duration\":0,\"redraw\":true},\"mode\":\"immediate\",\"fromcurrent\":true,\"transition\":{\"duration\":0,\"easing\":\"linear\"}}],\"label\":\"1995\",\"method\":\"animate\"},{\"args\":[[\"1996\"],{\"frame\":{\"duration\":0,\"redraw\":true},\"mode\":\"immediate\",\"fromcurrent\":true,\"transition\":{\"duration\":0,\"easing\":\"linear\"}}],\"label\":\"1996\",\"method\":\"animate\"},{\"args\":[[\"1997\"],{\"frame\":{\"duration\":0,\"redraw\":true},\"mode\":\"immediate\",\"fromcurrent\":true,\"transition\":{\"duration\":0,\"easing\":\"linear\"}}],\"label\":\"1997\",\"method\":\"animate\"},{\"args\":[[\"1998\"],{\"frame\":{\"duration\":0,\"redraw\":true},\"mode\":\"immediate\",\"fromcurrent\":true,\"transition\":{\"duration\":0,\"easing\":\"linear\"}}],\"label\":\"1998\",\"method\":\"animate\"},{\"args\":[[\"1999\"],{\"frame\":{\"duration\":0,\"redraw\":true},\"mode\":\"immediate\",\"fromcurrent\":true,\"transition\":{\"duration\":0,\"easing\":\"linear\"}}],\"label\":\"1999\",\"method\":\"animate\"},{\"args\":[[\"2000\"],{\"frame\":{\"duration\":0,\"redraw\":true},\"mode\":\"immediate\",\"fromcurrent\":true,\"transition\":{\"duration\":0,\"easing\":\"linear\"}}],\"label\":\"2000\",\"method\":\"animate\"},{\"args\":[[\"2001\"],{\"frame\":{\"duration\":0,\"redraw\":true},\"mode\":\"immediate\",\"fromcurrent\":true,\"transition\":{\"duration\":0,\"easing\":\"linear\"}}],\"label\":\"2001\",\"method\":\"animate\"},{\"args\":[[\"2002\"],{\"frame\":{\"duration\":0,\"redraw\":true},\"mode\":\"immediate\",\"fromcurrent\":true,\"transition\":{\"duration\":0,\"easing\":\"linear\"}}],\"label\":\"2002\",\"method\":\"animate\"},{\"args\":[[\"2003\"],{\"frame\":{\"duration\":0,\"redraw\":true},\"mode\":\"immediate\",\"fromcurrent\":true,\"transition\":{\"duration\":0,\"easing\":\"linear\"}}],\"label\":\"2003\",\"method\":\"animate\"},{\"args\":[[\"2004\"],{\"frame\":{\"duration\":0,\"redraw\":true},\"mode\":\"immediate\",\"fromcurrent\":true,\"transition\":{\"duration\":0,\"easing\":\"linear\"}}],\"label\":\"2004\",\"method\":\"animate\"},{\"args\":[[\"2005\"],{\"frame\":{\"duration\":0,\"redraw\":true},\"mode\":\"immediate\",\"fromcurrent\":true,\"transition\":{\"duration\":0,\"easing\":\"linear\"}}],\"label\":\"2005\",\"method\":\"animate\"},{\"args\":[[\"2006\"],{\"frame\":{\"duration\":0,\"redraw\":true},\"mode\":\"immediate\",\"fromcurrent\":true,\"transition\":{\"duration\":0,\"easing\":\"linear\"}}],\"label\":\"2006\",\"method\":\"animate\"},{\"args\":[[\"2007\"],{\"frame\":{\"duration\":0,\"redraw\":true},\"mode\":\"immediate\",\"fromcurrent\":true,\"transition\":{\"duration\":0,\"easing\":\"linear\"}}],\"label\":\"2007\",\"method\":\"animate\"},{\"args\":[[\"2008\"],{\"frame\":{\"duration\":0,\"redraw\":true},\"mode\":\"immediate\",\"fromcurrent\":true,\"transition\":{\"duration\":0,\"easing\":\"linear\"}}],\"label\":\"2008\",\"method\":\"animate\"},{\"args\":[[\"2009\"],{\"frame\":{\"duration\":0,\"redraw\":true},\"mode\":\"immediate\",\"fromcurrent\":true,\"transition\":{\"duration\":0,\"easing\":\"linear\"}}],\"label\":\"2009\",\"method\":\"animate\"},{\"args\":[[\"2010\"],{\"frame\":{\"duration\":0,\"redraw\":true},\"mode\":\"immediate\",\"fromcurrent\":true,\"transition\":{\"duration\":0,\"easing\":\"linear\"}}],\"label\":\"2010\",\"method\":\"animate\"},{\"args\":[[\"2011\"],{\"frame\":{\"duration\":0,\"redraw\":true},\"mode\":\"immediate\",\"fromcurrent\":true,\"transition\":{\"duration\":0,\"easing\":\"linear\"}}],\"label\":\"2011\",\"method\":\"animate\"},{\"args\":[[\"2012\"],{\"frame\":{\"duration\":0,\"redraw\":true},\"mode\":\"immediate\",\"fromcurrent\":true,\"transition\":{\"duration\":0,\"easing\":\"linear\"}}],\"label\":\"2012\",\"method\":\"animate\"},{\"args\":[[\"2013\"],{\"frame\":{\"duration\":0,\"redraw\":true},\"mode\":\"immediate\",\"fromcurrent\":true,\"transition\":{\"duration\":0,\"easing\":\"linear\"}}],\"label\":\"2013\",\"method\":\"animate\"},{\"args\":[[\"2014\"],{\"frame\":{\"duration\":0,\"redraw\":true},\"mode\":\"immediate\",\"fromcurrent\":true,\"transition\":{\"duration\":0,\"easing\":\"linear\"}}],\"label\":\"2014\",\"method\":\"animate\"},{\"args\":[[\"2015\"],{\"frame\":{\"duration\":0,\"redraw\":true},\"mode\":\"immediate\",\"fromcurrent\":true,\"transition\":{\"duration\":0,\"easing\":\"linear\"}}],\"label\":\"2015\",\"method\":\"animate\"},{\"args\":[[\"2016\"],{\"frame\":{\"duration\":0,\"redraw\":true},\"mode\":\"immediate\",\"fromcurrent\":true,\"transition\":{\"duration\":0,\"easing\":\"linear\"}}],\"label\":\"2016\",\"method\":\"animate\"},{\"args\":[[\"2017\"],{\"frame\":{\"duration\":0,\"redraw\":true},\"mode\":\"immediate\",\"fromcurrent\":true,\"transition\":{\"duration\":0,\"easing\":\"linear\"}}],\"label\":\"2017\",\"method\":\"animate\"},{\"args\":[[\"2018\"],{\"frame\":{\"duration\":0,\"redraw\":true},\"mode\":\"immediate\",\"fromcurrent\":true,\"transition\":{\"duration\":0,\"easing\":\"linear\"}}],\"label\":\"2018\",\"method\":\"animate\"},{\"args\":[[\"2019\"],{\"frame\":{\"duration\":0,\"redraw\":true},\"mode\":\"immediate\",\"fromcurrent\":true,\"transition\":{\"duration\":0,\"easing\":\"linear\"}}],\"label\":\"2019\",\"method\":\"animate\"},{\"args\":[[\"2020\"],{\"frame\":{\"duration\":0,\"redraw\":true},\"mode\":\"immediate\",\"fromcurrent\":true,\"transition\":{\"duration\":0,\"easing\":\"linear\"}}],\"label\":\"2020\",\"method\":\"animate\"},{\"args\":[[\"2021\"],{\"frame\":{\"duration\":0,\"redraw\":true},\"mode\":\"immediate\",\"fromcurrent\":true,\"transition\":{\"duration\":0,\"easing\":\"linear\"}}],\"label\":\"2021\",\"method\":\"animate\"},{\"args\":[[\"2022\"],{\"frame\":{\"duration\":0,\"redraw\":true},\"mode\":\"immediate\",\"fromcurrent\":true,\"transition\":{\"duration\":0,\"easing\":\"linear\"}}],\"label\":\"2022\",\"method\":\"animate\"},{\"args\":[[\"2023\"],{\"frame\":{\"duration\":0,\"redraw\":true},\"mode\":\"immediate\",\"fromcurrent\":true,\"transition\":{\"duration\":0,\"easing\":\"linear\"}}],\"label\":\"2023\",\"method\":\"animate\"}],\"x\":0.1,\"xanchor\":\"left\",\"y\":0,\"yanchor\":\"top\"}],\"width\":1200,\"height\":800},                        {\"responsive\": true}                    ).then(function(){\n",
       "                            Plotly.addFrames('e4f43c35-3b63-473e-aba3-43ce3d1b7412', [{\"data\":[{\"coloraxis\":\"coloraxis\",\"geo\":\"geo\",\"hovertemplate\":\"\\u003cb\\u003e%{hovertext}\\u003c\\u002fb\\u003e\\u003cbr\\u003e\\u003cbr\\u003eYear=1951\\u003cbr\\u003eCountry of asylum (ISO)=%{location}\\u003cbr\\u003eNumber of Refugees=%{z}\\u003cextra\\u003e\\u003c\\u002fextra\\u003e\",\"hovertext\":[\"Austria\",\"Belgium\",\"Denmark\",\"France\",\"Germany\",\"Greece\",\"Italy\",\"Luxembourg\",\"Norway\",\"Spain\",\"Sweden\",\"Switzerland\"],\"locations\":[\"AUT\",\"BEL\",\"DNK\",\"FRA\",\"DEU\",\"GRC\",\"ITA\",\"LUX\",\"NOR\",\"ESP\",\"SWE\",\"CHE\"],\"name\":\"\",\"z\":[282000,55000,2000,290000,265000,18000,26500,1800,2500,2000,44000,10000],\"type\":\"choropleth\"}],\"name\":\"1951\"},{\"data\":[{\"coloraxis\":\"coloraxis\",\"geo\":\"geo\",\"hovertemplate\":\"\\u003cb\\u003e%{hovertext}\\u003c\\u002fb\\u003e\\u003cbr\\u003e\\u003cbr\\u003eYear=1952\\u003cbr\\u003eCountry of asylum (ISO)=%{location}\\u003cbr\\u003eNumber of Refugees=%{z}\\u003cextra\\u003e\\u003c\\u002fextra\\u003e\",\"hovertext\":[\"Austria\",\"Belgium\",\"Denmark\",\"France\",\"Germany\",\"Greece\",\"Italy\",\"Luxembourg\",\"Norway\",\"Sweden\",\"Switzerland\"],\"locations\":[\"AUT\",\"BEL\",\"DNK\",\"FRA\",\"DEU\",\"GRC\",\"ITA\",\"LUX\",\"NOR\",\"SWE\",\"CHE\"],\"name\":\"\",\"z\":[238200,53500,1800,280000,240000,19000,25500,1800,2500,42000,9800],\"type\":\"choropleth\"}],\"name\":\"1952\"},{\"data\":[{\"coloraxis\":\"coloraxis\",\"geo\":\"geo\",\"hovertemplate\":\"\\u003cb\\u003e%{hovertext}\\u003c\\u002fb\\u003e\\u003cbr\\u003e\\u003cbr\\u003eYear=1953\\u003cbr\\u003eCountry of asylum (ISO)=%{location}\\u003cbr\\u003eNumber of Refugees=%{z}\\u003cextra\\u003e\\u003c\\u002fextra\\u003e\",\"hovertext\":[\"Austria\",\"Belgium\",\"Denmark\",\"France\",\"Germany\",\"Greece\",\"Italy\",\"Luxembourg\",\"Norway\",\"Sweden\",\"Switzerland\"],\"locations\":[\"AUT\",\"BEL\",\"DNK\",\"FRA\",\"DEU\",\"GRC\",\"ITA\",\"LUX\",\"NOR\",\"SWE\",\"CHE\"],\"name\":\"\",\"z\":[215200,53000,1600,270000,228000,18500,24500,1800,2500,37000,9500],\"type\":\"choropleth\"}],\"name\":\"1953\"},{\"data\":[{\"coloraxis\":\"coloraxis\",\"geo\":\"geo\",\"hovertemplate\":\"\\u003cb\\u003e%{hovertext}\\u003c\\u002fb\\u003e\\u003cbr\\u003e\\u003cbr\\u003eYear=1954\\u003cbr\\u003eCountry of asylum (ISO)=%{location}\\u003cbr\\u003eNumber of Refugees=%{z}\\u003cextra\\u003e\\u003c\\u002fextra\\u003e\",\"hovertext\":[\"Austria\",\"Belgium\",\"Denmark\",\"France\",\"Germany\",\"Greece\",\"Italy\",\"Luxembourg\",\"Norway\",\"Spain\",\"Sweden\",\"Switzerland\"],\"locations\":[\"AUT\",\"BEL\",\"DNK\",\"FRA\",\"DEU\",\"GRC\",\"ITA\",\"LUX\",\"NOR\",\"ESP\",\"SWE\",\"CHE\"],\"name\":\"\",\"z\":[150000,53000,1400,263000,225000,19000,21500,1800,2300,2000,33000,9400],\"type\":\"choropleth\"}],\"name\":\"1954\"},{\"data\":[{\"coloraxis\":\"coloraxis\",\"geo\":\"geo\",\"hovertemplate\":\"\\u003cb\\u003e%{hovertext}\\u003c\\u002fb\\u003e\\u003cbr\\u003e\\u003cbr\\u003eYear=1955\\u003cbr\\u003eCountry of asylum (ISO)=%{location}\\u003cbr\\u003eNumber of Refugees=%{z}\\u003cextra\\u003e\\u003c\\u002fextra\\u003e\",\"hovertext\":[\"Austria\",\"Belgium\",\"Denmark\",\"France\",\"Germany\",\"Greece\",\"Italy\",\"Luxembourg\",\"Norway\",\"Sweden\",\"Switzerland\"],\"locations\":[\"AUT\",\"BEL\",\"DNK\",\"FRA\",\"DEU\",\"GRC\",\"ITA\",\"LUX\",\"NOR\",\"SWE\",\"CHE\"],\"name\":\"\",\"z\":[110000,53000,1300,345415,219000,17400,18500,1800,2300,28000,9200],\"type\":\"choropleth\"}],\"name\":\"1955\"},{\"data\":[{\"coloraxis\":\"coloraxis\",\"geo\":\"geo\",\"hovertemplate\":\"\\u003cb\\u003e%{hovertext}\\u003c\\u002fb\\u003e\\u003cbr\\u003e\\u003cbr\\u003eYear=1956\\u003cbr\\u003eCountry of asylum (ISO)=%{location}\\u003cbr\\u003eNumber of Refugees=%{z}\\u003cextra\\u003e\\u003c\\u002fextra\\u003e\",\"hovertext\":[\"Austria\",\"Belgium\",\"Denmark\",\"France\",\"Germany\",\"Greece\",\"Italy\",\"Luxembourg\",\"Norway\",\"Sweden\",\"Switzerland\"],\"locations\":[\"AUT\",\"BEL\",\"DNK\",\"FRA\",\"DEU\",\"GRC\",\"ITA\",\"LUX\",\"NOR\",\"SWE\",\"CHE\"],\"name\":\"\",\"z\":[140000,65000,2500,363290,221000,16000,21500,1900,2800,31000,20700],\"type\":\"choropleth\"}],\"name\":\"1956\"},{\"data\":[{\"coloraxis\":\"coloraxis\",\"geo\":\"geo\",\"hovertemplate\":\"\\u003cb\\u003e%{hovertext}\\u003c\\u002fb\\u003e\\u003cbr\\u003e\\u003cbr\\u003eYear=1957\\u003cbr\\u003eCountry of asylum (ISO)=%{location}\\u003cbr\\u003eNumber of Refugees=%{z}\\u003cextra\\u003e\\u003c\\u002fextra\\u003e\",\"hovertext\":[\"Austria\",\"Belgium\",\"Denmark\",\"France\",\"Germany\",\"Greece\",\"Italy\",\"Luxembourg\",\"Norway\",\"Sweden\",\"Switzerland\"],\"locations\":[\"AUT\",\"BEL\",\"DNK\",\"FRA\",\"DEU\",\"GRC\",\"ITA\",\"LUX\",\"NOR\",\"SWE\",\"CHE\"],\"name\":\"\",\"z\":[68000,69000,2500,389480,217000,16000,21000,1900,3400,33000,20500],\"type\":\"choropleth\"}],\"name\":\"1957\"},{\"data\":[{\"coloraxis\":\"coloraxis\",\"geo\":\"geo\",\"hovertemplate\":\"\\u003cb\\u003e%{hovertext}\\u003c\\u002fb\\u003e\\u003cbr\\u003e\\u003cbr\\u003eYear=1958\\u003cbr\\u003eCountry of asylum (ISO)=%{location}\\u003cbr\\u003eNumber of Refugees=%{z}\\u003cextra\\u003e\\u003c\\u002fextra\\u003e\",\"hovertext\":[\"Austria\",\"Belgium\",\"Denmark\",\"France\",\"Germany\",\"Greece\",\"Italy\",\"Luxembourg\",\"Norway\",\"Sweden\",\"Switzerland\"],\"locations\":[\"AUT\",\"BEL\",\"DNK\",\"FRA\",\"DEU\",\"GRC\",\"ITA\",\"LUX\",\"NOR\",\"SWE\",\"CHE\"],\"name\":\"\",\"z\":[53000,63000,2500,381152,212000,15700,21000,1900,3300,31000,20000],\"type\":\"choropleth\"}],\"name\":\"1958\"},{\"data\":[{\"coloraxis\":\"coloraxis\",\"geo\":\"geo\",\"hovertemplate\":\"\\u003cb\\u003e%{hovertext}\\u003c\\u002fb\\u003e\\u003cbr\\u003e\\u003cbr\\u003eYear=1959\\u003cbr\\u003eCountry of asylum (ISO)=%{location}\\u003cbr\\u003eNumber of Refugees=%{z}\\u003cextra\\u003e\\u003c\\u002fextra\\u003e\",\"hovertext\":[\"Austria\",\"Belgium\",\"Denmark\",\"France\",\"Germany\",\"Greece\",\"Italy\",\"Luxembourg\",\"Norway\",\"Sweden\",\"Switzerland\"],\"locations\":[\"AUT\",\"BEL\",\"DNK\",\"FRA\",\"DEU\",\"GRC\",\"ITA\",\"LUX\",\"NOR\",\"SWE\",\"CHE\"],\"name\":\"\",\"z\":[44000,58000,2400,387201,205000,15500,18500,1900,3100,28000,20000],\"type\":\"choropleth\"}],\"name\":\"1959\"},{\"data\":[{\"coloraxis\":\"coloraxis\",\"geo\":\"geo\",\"hovertemplate\":\"\\u003cb\\u003e%{hovertext}\\u003c\\u002fb\\u003e\\u003cbr\\u003e\\u003cbr\\u003eYear=1960\\u003cbr\\u003eCountry of asylum (ISO)=%{location}\\u003cbr\\u003eNumber of Refugees=%{z}\\u003cextra\\u003e\\u003c\\u002fextra\\u003e\",\"hovertext\":[\"Austria\",\"Belgium\",\"Denmark\",\"France\",\"Germany\",\"Greece\",\"Italy\",\"Luxembourg\",\"Norway\",\"Sweden\",\"Switzerland\"],\"locations\":[\"AUT\",\"BEL\",\"DNK\",\"FRA\",\"DEU\",\"GRC\",\"ITA\",\"LUX\",\"NOR\",\"SWE\",\"CHE\"],\"name\":\"\",\"z\":[39000,55000,2300,245935,197000,15500,15500,1900,3000,26000,20000],\"type\":\"choropleth\"}],\"name\":\"1960\"},{\"data\":[{\"coloraxis\":\"coloraxis\",\"geo\":\"geo\",\"hovertemplate\":\"\\u003cb\\u003e%{hovertext}\\u003c\\u002fb\\u003e\\u003cbr\\u003e\\u003cbr\\u003eYear=1961\\u003cbr\\u003eCountry of asylum (ISO)=%{location}\\u003cbr\\u003eNumber of Refugees=%{z}\\u003cextra\\u003e\\u003c\\u002fextra\\u003e\",\"hovertext\":[\"Austria\",\"Belgium\",\"Denmark\",\"France\",\"Germany\",\"Greece\",\"Italy\",\"Luxembourg\",\"Norway\",\"Spain\",\"Sweden\",\"Switzerland\"],\"locations\":[\"AUT\",\"BEL\",\"DNK\",\"FRA\",\"DEU\",\"GRC\",\"ITA\",\"LUX\",\"NOR\",\"ESP\",\"SWE\",\"CHE\"],\"name\":\"\",\"z\":[34000,53000,2200,253375,190000,15200,14500,1900,3000,2000,26000,20000],\"type\":\"choropleth\"}],\"name\":\"1961\"},{\"data\":[{\"coloraxis\":\"coloraxis\",\"geo\":\"geo\",\"hovertemplate\":\"\\u003cb\\u003e%{hovertext}\\u003c\\u002fb\\u003e\\u003cbr\\u003e\\u003cbr\\u003eYear=1962\\u003cbr\\u003eCountry of asylum (ISO)=%{location}\\u003cbr\\u003eNumber of Refugees=%{z}\\u003cextra\\u003e\\u003c\\u002fextra\\u003e\",\"hovertext\":[\"Austria\",\"Belgium\",\"Denmark\",\"France\",\"Germany\",\"Greece\",\"Italy\",\"Luxembourg\",\"Norway\",\"Spain\",\"Sweden\",\"Switzerland\"],\"locations\":[\"AUT\",\"BEL\",\"DNK\",\"FRA\",\"DEU\",\"GRC\",\"ITA\",\"LUX\",\"NOR\",\"ESP\",\"SWE\",\"CHE\"],\"name\":\"\",\"z\":[30000,51000,2200,259740,185000,15700,14300,1900,3000,2000,26000,20000],\"type\":\"choropleth\"}],\"name\":\"1962\"},{\"data\":[{\"coloraxis\":\"coloraxis\",\"geo\":\"geo\",\"hovertemplate\":\"\\u003cb\\u003e%{hovertext}\\u003c\\u002fb\\u003e\\u003cbr\\u003e\\u003cbr\\u003eYear=1963\\u003cbr\\u003eCountry of asylum (ISO)=%{location}\\u003cbr\\u003eNumber of Refugees=%{z}\\u003cextra\\u003e\\u003c\\u002fextra\\u003e\",\"hovertext\":[\"Austria\",\"Belgium\",\"Denmark\",\"France\",\"Germany\",\"Greece\",\"Italy\",\"Luxembourg\",\"Norway\",\"Spain\",\"Sweden\",\"Switzerland\"],\"locations\":[\"AUT\",\"BEL\",\"DNK\",\"FRA\",\"DEU\",\"GRC\",\"ITA\",\"LUX\",\"NOR\",\"ESP\",\"SWE\",\"CHE\"],\"name\":\"\",\"z\":[27000,50000,2200,174057,182000,15400,14600,1900,3000,2000,26000,20000],\"type\":\"choropleth\"}],\"name\":\"1963\"},{\"data\":[{\"coloraxis\":\"coloraxis\",\"geo\":\"geo\",\"hovertemplate\":\"\\u003cb\\u003e%{hovertext}\\u003c\\u002fb\\u003e\\u003cbr\\u003e\\u003cbr\\u003eYear=1964\\u003cbr\\u003eCountry of asylum (ISO)=%{location}\\u003cbr\\u003eNumber of Refugees=%{z}\\u003cextra\\u003e\\u003c\\u002fextra\\u003e\",\"hovertext\":[\"Austria\",\"Belgium\",\"France\",\"Germany\",\"Greece\",\"Italy\",\"Spain\",\"Sweden\",\"Switzerland\"],\"locations\":[\"AUT\",\"BEL\",\"FRA\",\"DEU\",\"GRC\",\"ITA\",\"ESP\",\"SWE\",\"CHE\"],\"name\":\"\",\"z\":[25000,47000,175861,180000,16000,14000,14000,24000,20000],\"type\":\"choropleth\"}],\"name\":\"1964\"},{\"data\":[{\"coloraxis\":\"coloraxis\",\"geo\":\"geo\",\"hovertemplate\":\"\\u003cb\\u003e%{hovertext}\\u003c\\u002fb\\u003e\\u003cbr\\u003e\\u003cbr\\u003eYear=1965\\u003cbr\\u003eCountry of asylum (ISO)=%{location}\\u003cbr\\u003eNumber of Refugees=%{z}\\u003cextra\\u003e\\u003c\\u002fextra\\u003e\",\"hovertext\":[\"Austria\",\"Belgium\",\"France\",\"Germany\",\"Greece\",\"Italy\",\"Spain\",\"Sweden\",\"Switzerland\"],\"locations\":[\"AUT\",\"BEL\",\"FRA\",\"DEU\",\"GRC\",\"ITA\",\"ESP\",\"SWE\",\"CHE\"],\"name\":\"\",\"z\":[25000,47000,177665,180000,15560,15000,14000,22000,20000],\"type\":\"choropleth\"}],\"name\":\"1965\"},{\"data\":[{\"coloraxis\":\"coloraxis\",\"geo\":\"geo\",\"hovertemplate\":\"\\u003cb\\u003e%{hovertext}\\u003c\\u002fb\\u003e\\u003cbr\\u003e\\u003cbr\\u003eYear=1966\\u003cbr\\u003eCountry of asylum (ISO)=%{location}\\u003cbr\\u003eNumber of Refugees=%{z}\\u003cextra\\u003e\\u003c\\u002fextra\\u003e\",\"hovertext\":[\"Austria\",\"Belgium\",\"France\",\"Germany\",\"Greece\",\"Italy\",\"Spain\",\"Sweden\",\"Switzerland\"],\"locations\":[\"AUT\",\"BEL\",\"FRA\",\"DEU\",\"GRC\",\"ITA\",\"ESP\",\"SWE\",\"CHE\"],\"name\":\"\",\"z\":[24500,40000,179468,140000,15300,14000,17000,20000,20500],\"type\":\"choropleth\"}],\"name\":\"1966\"},{\"data\":[{\"coloraxis\":\"coloraxis\",\"geo\":\"geo\",\"hovertemplate\":\"\\u003cb\\u003e%{hovertext}\\u003c\\u002fb\\u003e\\u003cbr\\u003e\\u003cbr\\u003eYear=1967\\u003cbr\\u003eCountry of asylum (ISO)=%{location}\\u003cbr\\u003eNumber of Refugees=%{z}\\u003cextra\\u003e\\u003c\\u002fextra\\u003e\",\"hovertext\":[\"Austria\",\"Belgium\",\"France\",\"Germany\",\"Greece\",\"Italy\",\"Spain\",\"Sweden\",\"Switzerland\"],\"locations\":[\"AUT\",\"BEL\",\"FRA\",\"DEU\",\"GRC\",\"ITA\",\"ESP\",\"SWE\",\"CHE\"],\"name\":\"\",\"z\":[24000,34000,177200,112000,12270,13000,20000,18000,21000],\"type\":\"choropleth\"}],\"name\":\"1967\"},{\"data\":[{\"coloraxis\":\"coloraxis\",\"geo\":\"geo\",\"hovertemplate\":\"\\u003cb\\u003e%{hovertext}\\u003c\\u002fb\\u003e\\u003cbr\\u003e\\u003cbr\\u003eYear=1968\\u003cbr\\u003eCountry of asylum (ISO)=%{location}\\u003cbr\\u003eNumber of Refugees=%{z}\\u003cextra\\u003e\\u003c\\u002fextra\\u003e\",\"hovertext\":[\"Austria\",\"Belgium\",\"Cyprus\",\"France\",\"Germany\",\"Greece\",\"Italy\",\"Spain\",\"Sweden\",\"Switzerland\"],\"locations\":[\"AUT\",\"BEL\",\"CYP\",\"FRA\",\"DEU\",\"GRC\",\"ITA\",\"ESP\",\"SWE\",\"CHE\"],\"name\":\"\",\"z\":[24000,33000,200,176736,110000,8260,13000,20000,17000,26000],\"type\":\"choropleth\"}],\"name\":\"1968\"},{\"data\":[{\"coloraxis\":\"coloraxis\",\"geo\":\"geo\",\"hovertemplate\":\"\\u003cb\\u003e%{hovertext}\\u003c\\u002fb\\u003e\\u003cbr\\u003e\\u003cbr\\u003eYear=1969\\u003cbr\\u003eCountry of asylum (ISO)=%{location}\\u003cbr\\u003eNumber of Refugees=%{z}\\u003cextra\\u003e\\u003c\\u002fextra\\u003e\",\"hovertext\":[\"Austria\",\"Belgium\",\"Cyprus\",\"France\",\"Germany\",\"Greece\",\"Italy\",\"Spain\",\"Sweden\",\"Switzerland\"],\"locations\":[\"AUT\",\"BEL\",\"CYP\",\"FRA\",\"DEU\",\"GRC\",\"ITA\",\"ESP\",\"SWE\",\"CHE\"],\"name\":\"\",\"z\":[25000,30000,200,175242,113000,6330,14000,23000,17000,30000],\"type\":\"choropleth\"}],\"name\":\"1969\"},{\"data\":[{\"coloraxis\":\"coloraxis\",\"geo\":\"geo\",\"hovertemplate\":\"\\u003cb\\u003e%{hovertext}\\u003c\\u002fb\\u003e\\u003cbr\\u003e\\u003cbr\\u003eYear=1970\\u003cbr\\u003eCountry of asylum (ISO)=%{location}\\u003cbr\\u003eNumber of Refugees=%{z}\\u003cextra\\u003e\\u003c\\u002fextra\\u003e\",\"hovertext\":[\"Austria\",\"Belgium\",\"Cyprus\",\"Denmark\",\"France\",\"Germany\",\"Greece\",\"Italy\",\"Norway\",\"Spain\",\"Sweden\",\"Switzerland\"],\"locations\":[\"AUT\",\"BEL\",\"CYP\",\"DNK\",\"FRA\",\"DEU\",\"GRC\",\"ITA\",\"NOR\",\"ESP\",\"SWE\",\"CHE\"],\"name\":\"\",\"z\":[25300,31500,200,2000,158543,115000,5710,13000,2000,29500,20000,31000],\"type\":\"choropleth\"}],\"name\":\"1970\"},{\"data\":[{\"coloraxis\":\"coloraxis\",\"geo\":\"geo\",\"hovertemplate\":\"\\u003cb\\u003e%{hovertext}\\u003c\\u002fb\\u003e\\u003cbr\\u003e\\u003cbr\\u003eYear=1971\\u003cbr\\u003eCountry of asylum (ISO)=%{location}\\u003cbr\\u003eNumber of Refugees=%{z}\\u003cextra\\u003e\\u003c\\u002fextra\\u003e\",\"hovertext\":[\"Austria\",\"Belgium\",\"Cyprus\",\"Denmark\",\"France\",\"Germany\",\"Greece\",\"Italy\",\"Norway\",\"Spain\",\"Sweden\",\"Switzerland\"],\"locations\":[\"AUT\",\"BEL\",\"CYP\",\"DNK\",\"FRA\",\"DEU\",\"GRC\",\"ITA\",\"NOR\",\"ESP\",\"SWE\",\"CHE\"],\"name\":\"\",\"z\":[25000,29000,200,4400,141844,125000,5780,12700,3000,38000,20000,30000],\"type\":\"choropleth\"}],\"name\":\"1971\"},{\"data\":[{\"coloraxis\":\"coloraxis\",\"geo\":\"geo\",\"hovertemplate\":\"\\u003cb\\u003e%{hovertext}\\u003c\\u002fb\\u003e\\u003cbr\\u003e\\u003cbr\\u003eYear=1972\\u003cbr\\u003eCountry of asylum (ISO)=%{location}\\u003cbr\\u003eNumber of Refugees=%{z}\\u003cextra\\u003e\\u003c\\u002fextra\\u003e\",\"hovertext\":[\"Austria\",\"Belgium\",\"Cyprus\",\"Denmark\",\"France\",\"Germany\",\"Greece\",\"Italy\",\"Norway\",\"Spain\",\"Sweden\",\"Switzerland\"],\"locations\":[\"AUT\",\"BEL\",\"CYP\",\"DNK\",\"FRA\",\"DEU\",\"GRC\",\"ITA\",\"NOR\",\"ESP\",\"SWE\",\"CHE\"],\"name\":\"\",\"z\":[25000,29000,200,3687,98900,125000,3350,12600,3000,40000,20000,35000],\"type\":\"choropleth\"}],\"name\":\"1972\"},{\"data\":[{\"coloraxis\":\"coloraxis\",\"geo\":\"geo\",\"hovertemplate\":\"\\u003cb\\u003e%{hovertext}\\u003c\\u002fb\\u003e\\u003cbr\\u003e\\u003cbr\\u003eYear=1973\\u003cbr\\u003eCountry of asylum (ISO)=%{location}\\u003cbr\\u003eNumber of Refugees=%{z}\\u003cextra\\u003e\\u003c\\u002fextra\\u003e\",\"hovertext\":[\"Austria\",\"Belgium\",\"Denmark\",\"France\",\"Germany\",\"Greece\",\"Italy\",\"Norway\",\"Spain\",\"Sweden\",\"Switzerland\"],\"locations\":[\"AUT\",\"BEL\",\"DNK\",\"FRA\",\"DEU\",\"GRC\",\"ITA\",\"NOR\",\"ESP\",\"SWE\",\"CHE\"],\"name\":\"\",\"z\":[25000,20000,3687,101830,125000,2940,12600,3000,26000,20000,35000],\"type\":\"choropleth\"}],\"name\":\"1973\"},{\"data\":[{\"coloraxis\":\"coloraxis\",\"geo\":\"geo\",\"hovertemplate\":\"\\u003cb\\u003e%{hovertext}\\u003c\\u002fb\\u003e\\u003cbr\\u003e\\u003cbr\\u003eYear=1974\\u003cbr\\u003eCountry of asylum (ISO)=%{location}\\u003cbr\\u003eNumber of Refugees=%{z}\\u003cextra\\u003e\\u003c\\u002fextra\\u003e\",\"hovertext\":[\"Austria\",\"Belgium\",\"Denmark\",\"France\",\"Germany\",\"Greece\",\"Italy\",\"Norway\",\"Spain\",\"Sweden\",\"Switzerland\"],\"locations\":[\"AUT\",\"BEL\",\"DNK\",\"FRA\",\"DEU\",\"GRC\",\"ITA\",\"NOR\",\"ESP\",\"SWE\",\"CHE\"],\"name\":\"\",\"z\":[25000,11100,2900,105538,123000,2710,13000,3000,18000,20000,35000],\"type\":\"choropleth\"}],\"name\":\"1974\"},{\"data\":[{\"coloraxis\":\"coloraxis\",\"geo\":\"geo\",\"hovertemplate\":\"\\u003cb\\u003e%{hovertext}\\u003c\\u002fb\\u003e\\u003cbr\\u003e\\u003cbr\\u003eYear=1975\\u003cbr\\u003eCountry of asylum (ISO)=%{location}\\u003cbr\\u003eNumber of Refugees=%{z}\\u003cextra\\u003e\\u003c\\u002fextra\\u003e\",\"hovertext\":[\"Austria\",\"Belgium\",\"Denmark\",\"France\",\"Germany\",\"Greece\",\"Italy\",\"Norway\",\"Portugal\",\"Spain\",\"Sweden\",\"Switzerland\"],\"locations\":[\"AUT\",\"BEL\",\"DNK\",\"FRA\",\"DEU\",\"GRC\",\"ITA\",\"NOR\",\"PRT\",\"ESP\",\"SWE\",\"CHE\"],\"name\":\"\",\"z\":[20000,16788,2125,109882,122000,2600,11900,3000,150,16000,20000,35000],\"type\":\"choropleth\"}],\"name\":\"1975\"},{\"data\":[{\"coloraxis\":\"coloraxis\",\"geo\":\"geo\",\"hovertemplate\":\"\\u003cb\\u003e%{hovertext}\\u003c\\u002fb\\u003e\\u003cbr\\u003e\\u003cbr\\u003eYear=1976\\u003cbr\\u003eCountry of asylum (ISO)=%{location}\\u003cbr\\u003eNumber of Refugees=%{z}\\u003cextra\\u003e\\u003c\\u002fextra\\u003e\",\"hovertext\":[\"Austria\",\"Belgium\",\"Denmark\",\"France\",\"Germany\",\"Greece\",\"Italy\",\"Norway\",\"Spain\",\"Sweden\",\"Switzerland\"],\"locations\":[\"AUT\",\"BEL\",\"DNK\",\"FRA\",\"DEU\",\"GRC\",\"ITA\",\"NOR\",\"ESP\",\"SWE\",\"CHE\"],\"name\":\"\",\"z\":[25000,17000,2100,114634,122000,2560,11900,1000,16500,20000,35000],\"type\":\"choropleth\"}],\"name\":\"1976\"},{\"data\":[{\"coloraxis\":\"coloraxis\",\"geo\":\"geo\",\"hovertemplate\":\"\\u003cb\\u003e%{hovertext}\\u003c\\u002fb\\u003e\\u003cbr\\u003e\\u003cbr\\u003eYear=1977\\u003cbr\\u003eCountry of asylum (ISO)=%{location}\\u003cbr\\u003eNumber of Refugees=%{z}\\u003cextra\\u003e\\u003c\\u002fextra\\u003e\",\"hovertext\":[\"Austria\",\"Belgium\",\"Cyprus\",\"Denmark\",\"France\",\"Germany\",\"Greece\",\"Italy\",\"Norway\",\"Portugal\",\"Romania\",\"Spain\",\"Sweden\",\"Switzerland\"],\"locations\":[\"AUT\",\"BEL\",\"CYP\",\"DNK\",\"FRA\",\"DEU\",\"GRC\",\"ITA\",\"NOR\",\"PRT\",\"ROU\",\"ESP\",\"SWE\",\"CHE\"],\"name\":\"\",\"z\":[20000,17000,700,1764,119413,120000,2610,11700,6000,7500,1000,15000,20000,30000],\"type\":\"choropleth\"}],\"name\":\"1977\"},{\"data\":[{\"coloraxis\":\"coloraxis\",\"geo\":\"geo\",\"hovertemplate\":\"\\u003cb\\u003e%{hovertext}\\u003c\\u002fb\\u003e\\u003cbr\\u003e\\u003cbr\\u003eYear=1978\\u003cbr\\u003eCountry of asylum (ISO)=%{location}\\u003cbr\\u003eNumber of Refugees=%{z}\\u003cextra\\u003e\\u003c\\u002fextra\\u003e\",\"hovertext\":[\"Austria\",\"Belgium\",\"Denmark\",\"France\",\"Germany\",\"Greece\",\"Italy\",\"Norway\",\"Portugal\",\"Romania\",\"Spain\",\"Sweden\",\"Switzerland\"],\"locations\":[\"AUT\",\"BEL\",\"DNK\",\"FRA\",\"DEU\",\"GRC\",\"ITA\",\"NOR\",\"PRT\",\"ROU\",\"ESP\",\"SWE\",\"CHE\"],\"name\":\"\",\"z\":[20000,17000,1800,126229,83500,2520,11700,6000,7500,1000,15000,20000,30000],\"type\":\"choropleth\"}],\"name\":\"1978\"},{\"data\":[{\"coloraxis\":\"coloraxis\",\"geo\":\"geo\",\"hovertemplate\":\"\\u003cb\\u003e%{hovertext}\\u003c\\u002fb\\u003e\\u003cbr\\u003e\\u003cbr\\u003eYear=1979\\u003cbr\\u003eCountry of asylum (ISO)=%{location}\\u003cbr\\u003eNumber of Refugees=%{z}\\u003cextra\\u003e\\u003c\\u002fextra\\u003e\",\"hovertext\":[\"Austria\",\"Belgium\",\"Denmark\",\"France\",\"Germany\",\"Greece\",\"Italy\",\"Norway\",\"Portugal\",\"Romania\",\"Spain\",\"Sweden\",\"Switzerland\"],\"locations\":[\"AUT\",\"BEL\",\"DNK\",\"FRA\",\"DEU\",\"GRC\",\"ITA\",\"NOR\",\"PRT\",\"ROU\",\"ESP\",\"SWE\",\"CHE\"],\"name\":\"\",\"z\":[25000,32000,1800,119489,87000,3770,14100,6000,7600,1000,26000,20000,30000],\"type\":\"choropleth\"}],\"name\":\"1979\"},{\"data\":[{\"coloraxis\":\"coloraxis\",\"geo\":\"geo\",\"hovertemplate\":\"\\u003cb\\u003e%{hovertext}\\u003c\\u002fb\\u003e\\u003cbr\\u003e\\u003cbr\\u003eYear=1980\\u003cbr\\u003eCountry of asylum (ISO)=%{location}\\u003cbr\\u003eNumber of Refugees=%{z}\\u003cextra\\u003e\\u003c\\u002fextra\\u003e\",\"hovertext\":[\"Austria\",\"Belgium\",\"Denmark\",\"France\",\"Germany\",\"Greece\",\"Italy\",\"Norway\",\"Portugal\",\"Romania\",\"Spain\",\"Sweden\",\"Switzerland\"],\"locations\":[\"AUT\",\"BEL\",\"DNK\",\"FRA\",\"DEU\",\"GRC\",\"ITA\",\"NOR\",\"PRT\",\"ROU\",\"ESP\",\"SWE\",\"CHE\"],\"name\":\"\",\"z\":[15525,33000,1800,121958,94000,3750,21531,6000,7600,1000,21500,20000,32000],\"type\":\"choropleth\"}],\"name\":\"1980\"},{\"data\":[{\"coloraxis\":\"coloraxis\",\"geo\":\"geo\",\"hovertemplate\":\"\\u003cb\\u003e%{hovertext}\\u003c\\u002fb\\u003e\\u003cbr\\u003e\\u003cbr\\u003eYear=1981\\u003cbr\\u003eCountry of asylum (ISO)=%{location}\\u003cbr\\u003eNumber of Refugees=%{z}\\u003cextra\\u003e\\u003c\\u002fextra\\u003e\",\"hovertext\":[\"Austria\",\"Belgium\",\"Denmark\",\"France\",\"Germany\",\"Greece\",\"Italy\",\"Norway\",\"Portugal\",\"Romania\",\"Spain\",\"Sweden\",\"Switzerland\"],\"locations\":[\"AUT\",\"BEL\",\"DNK\",\"FRA\",\"DEU\",\"GRC\",\"ITA\",\"NOR\",\"PRT\",\"ROU\",\"ESP\",\"SWE\",\"CHE\"],\"name\":\"\",\"z\":[17899,35000,1800,125597,100000,3990,22601,6000,7600,1000,21500,20000,40000],\"type\":\"choropleth\"}],\"name\":\"1981\"},{\"data\":[{\"coloraxis\":\"coloraxis\",\"geo\":\"geo\",\"hovertemplate\":\"\\u003cb\\u003e%{hovertext}\\u003c\\u002fb\\u003e\\u003cbr\\u003e\\u003cbr\\u003eYear=1982\\u003cbr\\u003eCountry of asylum (ISO)=%{location}\\u003cbr\\u003eNumber of Refugees=%{z}\\u003cextra\\u003e\\u003c\\u002fextra\\u003e\",\"hovertext\":[\"Austria\",\"Belgium\",\"Denmark\",\"France\",\"Germany\",\"Greece\",\"Italy\",\"Norway\",\"Portugal\",\"Romania\",\"Spain\",\"Sweden\",\"Switzerland\"],\"locations\":[\"AUT\",\"BEL\",\"DNK\",\"FRA\",\"DEU\",\"GRC\",\"ITA\",\"NOR\",\"PRT\",\"ROU\",\"ESP\",\"SWE\",\"CHE\"],\"name\":\"\",\"z\":[34963,21000,1800,152223,100000,3950,22865,6000,7600,1000,23500,20000,33404],\"type\":\"choropleth\"}],\"name\":\"1982\"},{\"data\":[{\"coloraxis\":\"coloraxis\",\"geo\":\"geo\",\"hovertemplate\":\"\\u003cb\\u003e%{hovertext}\\u003c\\u002fb\\u003e\\u003cbr\\u003e\\u003cbr\\u003eYear=1983\\u003cbr\\u003eCountry of asylum (ISO)=%{location}\\u003cbr\\u003eNumber of Refugees=%{z}\\u003cextra\\u003e\\u003c\\u002fextra\\u003e\",\"hovertext\":[\"Austria\",\"Belgium\",\"Denmark\",\"France\",\"Germany\",\"Greece\",\"Italy\",\"Norway\",\"Portugal\",\"Romania\",\"Spain\",\"Sweden\",\"Switzerland\"],\"locations\":[\"AUT\",\"BEL\",\"DNK\",\"FRA\",\"DEU\",\"GRC\",\"ITA\",\"NOR\",\"PRT\",\"ROU\",\"ESP\",\"SWE\",\"CHE\"],\"name\":\"\",\"z\":[37298,35000,3600,164113,115000,4090,22062,10000,700,1000,23700,43000,32312],\"type\":\"choropleth\"}],\"name\":\"1983\"},{\"data\":[{\"coloraxis\":\"coloraxis\",\"geo\":\"geo\",\"hovertemplate\":\"\\u003cb\\u003e%{hovertext}\\u003c\\u002fb\\u003e\\u003cbr\\u003e\\u003cbr\\u003eYear=1984\\u003cbr\\u003eCountry of asylum (ISO)=%{location}\\u003cbr\\u003eNumber of Refugees=%{z}\\u003cextra\\u003e\\u003c\\u002fextra\\u003e\",\"hovertext\":[\"Austria\",\"Belgium\",\"Denmark\",\"Finland\",\"France\",\"Germany\",\"Greece\",\"Ireland\",\"Italy\",\"Norway\",\"Portugal\",\"Romania\",\"Spain\",\"Sweden\",\"Switzerland\"],\"locations\":[\"AUT\",\"BEL\",\"DNK\",\"FIN\",\"FRA\",\"DEU\",\"GRC\",\"IRL\",\"ITA\",\"NOR\",\"PRT\",\"ROU\",\"ESP\",\"SWE\",\"CHE\"],\"name\":\"\",\"z\":[39099,36400,8500,500,169863,126600,4320,500,21482,10000,600,1000,9900,90600,31201],\"type\":\"choropleth\"}],\"name\":\"1984\"},{\"data\":[{\"coloraxis\":\"coloraxis\",\"geo\":\"geo\",\"hovertemplate\":\"\\u003cb\\u003e%{hovertext}\\u003c\\u002fb\\u003e\\u003cbr\\u003e\\u003cbr\\u003eYear=1985\\u003cbr\\u003eCountry of asylum (ISO)=%{location}\\u003cbr\\u003eNumber of Refugees=%{z}\\u003cextra\\u003e\\u003c\\u002fextra\\u003e\",\"hovertext\":[\"Austria\",\"Belgium\",\"Denmark\",\"Finland\",\"France\",\"Germany\",\"Greece\",\"Ireland\",\"Italy\",\"Norway\",\"Portugal\",\"Spain\",\"Sweden\",\"Switzerland\"],\"locations\":[\"AUT\",\"BEL\",\"DNK\",\"FIN\",\"FRA\",\"DEU\",\"GRC\",\"IRL\",\"ITA\",\"NOR\",\"PRT\",\"ESP\",\"SWE\",\"CHE\"],\"name\":\"\",\"z\":[40534,36600,8500,500,174213,475000,4360,600,22386,11800,700,9300,90600,30726],\"type\":\"choropleth\"}],\"name\":\"1985\"},{\"data\":[{\"coloraxis\":\"coloraxis\",\"geo\":\"geo\",\"hovertemplate\":\"\\u003cb\\u003e%{hovertext}\\u003c\\u002fb\\u003e\\u003cbr\\u003e\\u003cbr\\u003eYear=1986\\u003cbr\\u003eCountry of asylum (ISO)=%{location}\\u003cbr\\u003eNumber of Refugees=%{z}\\u003cextra\\u003e\\u003c\\u002fextra\\u003e\",\"hovertext\":[\"Austria\",\"Belgium\",\"Denmark\",\"Finland\",\"France\",\"Germany\",\"Greece\",\"Ireland\",\"Italy\",\"Norway\",\"Portugal\",\"Spain\",\"Sweden\",\"Switzerland\"],\"locations\":[\"AUT\",\"BEL\",\"DNK\",\"FIN\",\"FRA\",\"DEU\",\"GRC\",\"IRL\",\"ITA\",\"NOR\",\"PRT\",\"ESP\",\"SWE\",\"CHE\"],\"name\":\"\",\"z\":[41176,35900,23000,500,180258,547900,3280,600,21505,13200,800,10200,120000,31343],\"type\":\"choropleth\"}],\"name\":\"1986\"},{\"data\":[{\"coloraxis\":\"coloraxis\",\"geo\":\"geo\",\"hovertemplate\":\"\\u003cb\\u003e%{hovertext}\\u003c\\u002fb\\u003e\\u003cbr\\u003e\\u003cbr\\u003eYear=1987\\u003cbr\\u003eCountry of asylum (ISO)=%{location}\\u003cbr\\u003eNumber of Refugees=%{z}\\u003cextra\\u003e\\u003c\\u002fextra\\u003e\",\"hovertext\":[\"Austria\",\"Belgium\",\"Denmark\",\"Finland\",\"France\",\"Germany\",\"Greece\",\"Ireland\",\"Italy\",\"Norway\",\"Portugal\",\"Spain\",\"Sweden\",\"Switzerland\"],\"locations\":[\"AUT\",\"BEL\",\"DNK\",\"FIN\",\"FRA\",\"DEU\",\"GRC\",\"IRL\",\"ITA\",\"NOR\",\"PRT\",\"ESP\",\"SWE\",\"CHE\"],\"name\":\"\",\"z\":[41228,22000,30000,800,179306,596200,4630,540,20413,15000,800,9200,130000,31707],\"type\":\"choropleth\"}],\"name\":\"1987\"},{\"data\":[{\"coloraxis\":\"coloraxis\",\"geo\":\"geo\",\"hovertemplate\":\"\\u003cb\\u003e%{hovertext}\\u003c\\u002fb\\u003e\\u003cbr\\u003e\\u003cbr\\u003eYear=1988\\u003cbr\\u003eCountry of asylum (ISO)=%{location}\\u003cbr\\u003eNumber of Refugees=%{z}\\u003cextra\\u003e\\u003c\\u002fextra\\u003e\",\"hovertext\":[\"Austria\",\"Belgium\",\"Cyprus\",\"Denmark\",\"Finland\",\"France\",\"Germany\",\"Greece\",\"Ireland\",\"Italy\",\"Norway\",\"Portugal\",\"Spain\",\"Sweden\",\"Switzerland\"],\"locations\":[\"AUT\",\"BEL\",\"CYP\",\"DNK\",\"FIN\",\"FRA\",\"DEU\",\"GRC\",\"IRL\",\"ITA\",\"NOR\",\"PRT\",\"ESP\",\"SWE\",\"CHE\"],\"name\":\"\",\"z\":[39830,23117,60,27310,1065,183946,610200,8262,480,19260,10952,789,8691,139783,31949],\"type\":\"choropleth\"}],\"name\":\"1988\"},{\"data\":[{\"coloraxis\":\"coloraxis\",\"geo\":\"geo\",\"hovertemplate\":\"\\u003cb\\u003e%{hovertext}\\u003c\\u002fb\\u003e\\u003cbr\\u003e\\u003cbr\\u003eYear=1989\\u003cbr\\u003eCountry of asylum (ISO)=%{location}\\u003cbr\\u003eNumber of Refugees=%{z}\\u003cextra\\u003e\\u003c\\u002fextra\\u003e\",\"hovertext\":[\"Austria\",\"Belgium\",\"Denmark\",\"Finland\",\"France\",\"Germany\",\"Greece\",\"Hungary\",\"Ireland\",\"Italy\",\"Norway\",\"Portugal\",\"Spain\",\"Sweden\",\"Switzerland\"],\"locations\":[\"AUT\",\"BEL\",\"DNK\",\"FIN\",\"FRA\",\"DEU\",\"GRC\",\"HUN\",\"IRL\",\"ITA\",\"NOR\",\"PRT\",\"ESP\",\"SWE\",\"CHE\"],\"name\":\"\",\"z\":[39405,25531,30726,2000,180258,628500,7490,27000,420,13893,18500,657,8676,139783,36763],\"type\":\"choropleth\"}],\"name\":\"1989\"},{\"data\":[{\"coloraxis\":\"coloraxis\",\"geo\":\"geo\",\"hovertemplate\":\"\\u003cb\\u003e%{hovertext}\\u003c\\u002fb\\u003e\\u003cbr\\u003e\\u003cbr\\u003eYear=1990\\u003cbr\\u003eCountry of asylum (ISO)=%{location}\\u003cbr\\u003eNumber of Refugees=%{z}\\u003cextra\\u003e\\u003c\\u002fextra\\u003e\",\"hovertext\":[\"Austria\",\"Belgium\",\"Cyprus\",\"Denmark\",\"Finland\",\"France\",\"Germany\",\"Greece\",\"Hungary\",\"Iceland\",\"Ireland\",\"Italy\",\"Luxembourg\",\"Norway\",\"Portugal\",\"Spain\",\"Sweden\",\"Switzerland\"],\"locations\":[\"AUT\",\"BEL\",\"CYP\",\"DNK\",\"FIN\",\"FRA\",\"DEU\",\"GRC\",\"HUN\",\"ISL\",\"IRL\",\"ITA\",\"LUX\",\"NOR\",\"PRT\",\"ESP\",\"SWE\",\"CHE\"],\"name\":\"\",\"z\":[34938,25911,31,32887,2348,193000,816000,8488,45123,85,360,10816,687,19581,867,8303,109654,40943],\"type\":\"choropleth\"}],\"name\":\"1990\"},{\"data\":[{\"coloraxis\":\"coloraxis\",\"geo\":\"geo\",\"hovertemplate\":\"\\u003cb\\u003e%{hovertext}\\u003c\\u002fb\\u003e\\u003cbr\\u003e\\u003cbr\\u003eYear=1991\\u003cbr\\u003eCountry of asylum (ISO)=%{location}\\u003cbr\\u003eNumber of Refugees=%{z}\\u003cextra\\u003e\\u003c\\u002fextra\\u003e\",\"hovertext\":[\"Austria\",\"Belgium\",\"Cyprus\",\"Denmark\",\"Finland\",\"France\",\"Germany\",\"Greece\",\"Hungary\",\"Iceland\",\"Ireland\",\"Italy\",\"Luxembourg\",\"Norway\",\"Poland\",\"Portugal\",\"Romania\",\"Spain\",\"Sweden\",\"Switzerland\"],\"locations\":[\"AUT\",\"BEL\",\"CYP\",\"DNK\",\"FIN\",\"FRA\",\"DEU\",\"GRC\",\"HUN\",\"ISL\",\"IRL\",\"ITA\",\"LUX\",\"NOR\",\"POL\",\"PRT\",\"ROU\",\"ESP\",\"SWE\",\"CHE\"],\"name\":\"\",\"z\":[34508,24071,61,36100,4561,174756,821500,8989,73838,141,300,9796,692,29054,550,998,651,4005,124457,45622],\"type\":\"choropleth\"}],\"name\":\"1991\"},{\"data\":[{\"coloraxis\":\"coloraxis\",\"geo\":\"geo\",\"hovertemplate\":\"\\u003cb\\u003e%{hovertext}\\u003c\\u002fb\\u003e\\u003cbr\\u003e\\u003cbr\\u003eYear=1992\\u003cbr\\u003eCountry of asylum (ISO)=%{location}\\u003cbr\\u003eNumber of Refugees=%{z}\\u003cextra\\u003e\\u003c\\u002fextra\\u003e\",\"hovertext\":[\"Albania\",\"Austria\",\"Belgium\",\"Bulgaria\",\"Croatia\",\"Cyprus\",\"Denmark\",\"Finland\",\"France\",\"Germany\",\"Greece\",\"Hungary\",\"Iceland\",\"Ireland\",\"Italy\",\"Luxembourg\",\"North Macedonia\",\"Norway\",\"Poland\",\"Portugal\",\"Romania\",\"Slovenia\",\"Spain\",\"Sweden\",\"Switzerland\"],\"locations\":[\"ALB\",\"AUT\",\"BEL\",\"BGR\",\"HRV\",\"CYP\",\"DNK\",\"FIN\",\"FRA\",\"DEU\",\"GRC\",\"HUN\",\"ISL\",\"IRL\",\"ITA\",\"LUX\",\"MKD\",\"NOR\",\"POL\",\"PRT\",\"ROU\",\"SVN\",\"ESP\",\"SWE\",\"CHE\"],\"name\":\"\",\"z\":[3000,62355,24292,218,403000,80,39124,5950,156512,1236000,8456,32412,154,500,9242,2208,32000,29846,2719,1778,520,74100,4040,131069,51930],\"type\":\"choropleth\"}],\"name\":\"1992\"},{\"data\":[{\"coloraxis\":\"coloraxis\",\"geo\":\"geo\",\"hovertemplate\":\"\\u003cb\\u003e%{hovertext}\\u003c\\u002fb\\u003e\\u003cbr\\u003e\\u003cbr\\u003eYear=1993\\u003cbr\\u003eCountry of asylum (ISO)=%{location}\\u003cbr\\u003eNumber of Refugees=%{z}\\u003cextra\\u003e\\u003c\\u002fextra\\u003e\",\"hovertext\":[\"Albania\",\"Austria\",\"Belgium\",\"Bosnia and Herzegovina\",\"Bulgaria\",\"Croatia\",\"Cyprus\",\"Denmark\",\"Finland\",\"France\",\"Germany\",\"Greece\",\"Hungary\",\"Iceland\",\"Ireland\",\"Italy\",\"Luxembourg\",\"Malta\",\"North Macedonia\",\"Norway\",\"Poland\",\"Portugal\",\"Romania\",\"Slovakia\",\"Slovenia\",\"Spain\",\"Sweden\",\"Switzerland\"],\"locations\":[\"ALB\",\"AUT\",\"BEL\",\"BIH\",\"BGR\",\"HRV\",\"CYP\",\"DNK\",\"FIN\",\"FRA\",\"DEU\",\"GRC\",\"HUN\",\"ISL\",\"IRL\",\"ITA\",\"LUX\",\"MLT\",\"MKD\",\"NOR\",\"POL\",\"PRT\",\"ROU\",\"SVK\",\"SVN\",\"ESP\",\"SWE\",\"CHE\"],\"name\":\"\",\"z\":[3000,57687,24908,0,443,287000,81,44570,8511,166269,1418000,7859,3019,160,119,50266,225,505,31452,38375,810,600,1170,1521,45000,4990,162386,56586],\"type\":\"choropleth\"}],\"name\":\"1993\"},{\"data\":[{\"coloraxis\":\"coloraxis\",\"geo\":\"geo\",\"hovertemplate\":\"\\u003cb\\u003e%{hovertext}\\u003c\\u002fb\\u003e\\u003cbr\\u003e\\u003cbr\\u003eYear=1994\\u003cbr\\u003eCountry of asylum (ISO)=%{location}\\u003cbr\\u003eNumber of Refugees=%{z}\\u003cextra\\u003e\\u003c\\u002fextra\\u003e\",\"hovertext\":[\"Albania\",\"Austria\",\"Belarus\",\"Belgium\",\"Bosnia and Herzegovina\",\"Bulgaria\",\"Croatia\",\"Cyprus\",\"Denmark\",\"Finland\",\"France\",\"Germany\",\"Greece\",\"Hungary\",\"Iceland\",\"Ireland\",\"Italy\",\"Luxembourg\",\"Malta\",\"North Macedonia\",\"Norway\",\"Poland\",\"Portugal\",\"Romania\",\"Slovakia\",\"Slovenia\",\"Spain\",\"Sweden\",\"Switzerland\",\"Ukraine\"],\"locations\":[\"ALB\",\"AUT\",\"BLR\",\"BEL\",\"BIH\",\"BGR\",\"HRV\",\"CYP\",\"DNK\",\"FIN\",\"FRA\",\"DEU\",\"GRC\",\"HUN\",\"ISL\",\"IRL\",\"ITA\",\"LUX\",\"MLT\",\"MKD\",\"NOR\",\"POL\",\"PRT\",\"ROU\",\"SVK\",\"SVN\",\"ESP\",\"SWE\",\"CHE\",\"UKR\"],\"name\":\"\",\"z\":[3000,40703,1824,19497,0,1054,183600,67,49564,9511,195288,1354600,7773,2904,160,400,73058,300,424,14891,44617,393,248,1170,159,29156,5351,200774,75295,5193],\"type\":\"choropleth\"}],\"name\":\"1994\"},{\"data\":[{\"coloraxis\":\"coloraxis\",\"geo\":\"geo\",\"hovertemplate\":\"\\u003cb\\u003e%{hovertext}\\u003c\\u002fb\\u003e\\u003cbr\\u003e\\u003cbr\\u003eYear=1995\\u003cbr\\u003eCountry of asylum (ISO)=%{location}\\u003cbr\\u003eNumber of Refugees=%{z}\\u003cextra\\u003e\\u003c\\u002fextra\\u003e\",\"hovertext\":[\"Albania\",\"Austria\",\"Belarus\",\"Belgium\",\"Bosnia and Herzegovina\",\"Bulgaria\",\"Croatia\",\"Cyprus\",\"Denmark\",\"Finland\",\"France\",\"Germany\",\"Greece\",\"Hungary\",\"Iceland\",\"Ireland\",\"Italy\",\"Luxembourg\",\"Malta\",\"North Macedonia\",\"Norway\",\"Poland\",\"Portugal\",\"Romania\",\"Slovakia\",\"Slovenia\",\"Spain\",\"Sweden\",\"Switzerland\",\"Ukraine\"],\"locations\":[\"ALB\",\"AUT\",\"BLR\",\"BEL\",\"BIH\",\"BGR\",\"HRV\",\"CYP\",\"DNK\",\"FIN\",\"FRA\",\"DEU\",\"GRC\",\"HUN\",\"ISL\",\"IRL\",\"ITA\",\"LUX\",\"MLT\",\"MKD\",\"NOR\",\"POL\",\"PRT\",\"ROU\",\"SVK\",\"SVN\",\"ESP\",\"SWE\",\"CHE\",\"UKR\"],\"name\":\"\",\"z\":[4721,34385,28988,31691,0,1318,198647,53,64850,10191,155240,1267900,4428,11394,197,400,74298,700,410,9048,47607,600,248,192,2339,22314,5840,199194,82943,5193],\"type\":\"choropleth\"}],\"name\":\"1995\"},{\"data\":[{\"coloraxis\":\"coloraxis\",\"geo\":\"geo\",\"hovertemplate\":\"\\u003cb\\u003e%{hovertext}\\u003c\\u002fb\\u003e\\u003cbr\\u003e\\u003cbr\\u003eYear=1996\\u003cbr\\u003eCountry of asylum (ISO)=%{location}\\u003cbr\\u003eNumber of Refugees=%{z}\\u003cextra\\u003e\\u003c\\u002fextra\\u003e\",\"hovertext\":[\"Albania\",\"Austria\",\"Belarus\",\"Belgium\",\"Bosnia and Herzegovina\",\"Bulgaria\",\"Croatia\",\"Cyprus\",\"Denmark\",\"Finland\",\"France\",\"Germany\",\"Greece\",\"Hungary\",\"Iceland\",\"Ireland\",\"Italy\",\"Luxembourg\",\"Malta\",\"North Macedonia\",\"Norway\",\"Poland\",\"Portugal\",\"Romania\",\"Slovakia\",\"Slovenia\",\"Spain\",\"Sweden\",\"Switzerland\",\"Ukraine\"],\"locations\":[\"ALB\",\"AUT\",\"BLR\",\"BEL\",\"BIH\",\"BGR\",\"HRV\",\"CYP\",\"DNK\",\"FIN\",\"FRA\",\"DEU\",\"GRC\",\"HUN\",\"ISL\",\"IRL\",\"ITA\",\"LUX\",\"MLT\",\"MKD\",\"NOR\",\"POL\",\"PRT\",\"ROU\",\"SVK\",\"SVN\",\"ESP\",\"SWE\",\"CHE\",\"UKR\"],\"name\":\"\",\"z\":[4927,89116,30525,36060,0,1431,165395,45,66371,11382,151331,1266000,5780,7537,232,69,64712,700,357,5089,48409,600,297,261,1387,10014,5672,191159,84413,3585],\"type\":\"choropleth\"}],\"name\":\"1996\"},{\"data\":[{\"coloraxis\":\"coloraxis\",\"geo\":\"geo\",\"hovertemplate\":\"\\u003cb\\u003e%{hovertext}\\u003c\\u002fb\\u003e\\u003cbr\\u003e\\u003cbr\\u003eYear=1997\\u003cbr\\u003eCountry of asylum (ISO)=%{location}\\u003cbr\\u003eNumber of Refugees=%{z}\\u003cextra\\u003e\\u003c\\u002fextra\\u003e\",\"hovertext\":[\"Albania\",\"Austria\",\"Belarus\",\"Belgium\",\"Bosnia and Herzegovina\",\"Bulgaria\",\"Croatia\",\"Cyprus\",\"Denmark\",\"Finland\",\"France\",\"Germany\",\"Greece\",\"Hungary\",\"Iceland\",\"Ireland\",\"Italy\",\"Lithuania\",\"Luxembourg\",\"Malta\",\"North Macedonia\",\"Norway\",\"Poland\",\"Portugal\",\"Romania\",\"Slovakia\",\"Slovenia\",\"Spain\",\"Sweden\",\"Switzerland\",\"Ukraine\"],\"locations\":[\"ALB\",\"AUT\",\"BLR\",\"BEL\",\"BIH\",\"BGR\",\"HRV\",\"CYP\",\"DNK\",\"FIN\",\"FRA\",\"DEU\",\"GRC\",\"HUN\",\"ISL\",\"IRL\",\"ITA\",\"LTU\",\"LUX\",\"MLT\",\"MKD\",\"NOR\",\"POL\",\"PRT\",\"ROU\",\"SVK\",\"SVN\",\"ESP\",\"SWE\",\"CHE\",\"UKR\"],\"name\":\"\",\"z\":[34,84394,50,36060,40000,382,68863,38,68106,12017,146558,1049000,5520,5890,252,430,66601,5,700,334,3500,47372,835,310,631,746,5133,5512,186719,83205,4566],\"type\":\"choropleth\"}],\"name\":\"1997\"},{\"data\":[{\"coloraxis\":\"coloraxis\",\"geo\":\"geo\",\"hovertemplate\":\"\\u003cb\\u003e%{hovertext}\\u003c\\u002fb\\u003e\\u003cbr\\u003e\\u003cbr\\u003eYear=1998\\u003cbr\\u003eCountry of asylum (ISO)=%{location}\\u003cbr\\u003eNumber of Refugees=%{z}\\u003cextra\\u003e\\u003c\\u002fextra\\u003e\",\"hovertext\":[\"Albania\",\"Austria\",\"Belarus\",\"Belgium\",\"Bosnia and Herzegovina\",\"Bulgaria\",\"Croatia\",\"Cyprus\",\"Denmark\",\"Finland\",\"France\",\"Germany\",\"Greece\",\"Hungary\",\"Iceland\",\"Ireland\",\"Italy\",\"Lithuania\",\"Luxembourg\",\"Malta\",\"North Macedonia\",\"Norway\",\"Poland\",\"Portugal\",\"Romania\",\"Slovakia\",\"Slovenia\",\"Spain\",\"Sweden\",\"Switzerland\",\"Ukraine\"],\"locations\":[\"ALB\",\"AUT\",\"BLR\",\"BEL\",\"BIH\",\"BGR\",\"HRV\",\"CYP\",\"DNK\",\"FIN\",\"FRA\",\"DEU\",\"GRC\",\"HUN\",\"ISL\",\"IRL\",\"ITA\",\"LTU\",\"LUX\",\"MLT\",\"MKD\",\"NOR\",\"POL\",\"PRT\",\"ROU\",\"SVK\",\"SVN\",\"ESP\",\"SWE\",\"CHE\",\"UKR\"],\"name\":\"\",\"z\":[22334,80294,75,15501,40000,241,29027,77,68996,12288,140213,949200,6145,3504,286,600,5440,30,700,291,1700,45325,895,329,983,418,3462,5918,178782,81875,6101],\"type\":\"choropleth\"}],\"name\":\"1998\"},{\"data\":[{\"coloraxis\":\"coloraxis\",\"geo\":\"geo\",\"hovertemplate\":\"\\u003cb\\u003e%{hovertext}\\u003c\\u002fb\\u003e\\u003cbr\\u003e\\u003cbr\\u003eYear=1999\\u003cbr\\u003eCountry of asylum (ISO)=%{location}\\u003cbr\\u003eNumber of Refugees=%{z}\\u003cextra\\u003e\\u003c\\u002fextra\\u003e\",\"hovertext\":[\"Albania\",\"Austria\",\"Belarus\",\"Belgium\",\"Bosnia and Herzegovina\",\"Bulgaria\",\"Croatia\",\"Cyprus\",\"Denmark\",\"Finland\",\"France\",\"Germany\",\"Greece\",\"Hungary\",\"Iceland\",\"Ireland\",\"Italy\",\"Latvia\",\"Lithuania\",\"Luxembourg\",\"Malta\",\"North Macedonia\",\"Norway\",\"Poland\",\"Portugal\",\"Romania\",\"Slovakia\",\"Slovenia\",\"Spain\",\"Sweden\",\"Switzerland\",\"Ukraine\"],\"locations\":[\"ALB\",\"AUT\",\"BLR\",\"BEL\",\"BIH\",\"BGR\",\"HRV\",\"CYP\",\"DNK\",\"FIN\",\"FRA\",\"DEU\",\"GRC\",\"HUN\",\"ISL\",\"IRL\",\"ITA\",\"LVA\",\"LTU\",\"LUX\",\"MLT\",\"MKD\",\"NOR\",\"POL\",\"PRT\",\"ROU\",\"SVK\",\"SVN\",\"ESP\",\"SWE\",\"CHE\",\"UKR\"],\"name\":\"\",\"z\":[3932,82076,261,16747,65645,542,28374,112,68982,12866,129722,975500,6283,4980,245,2829,6004,5,38,700,271,21200,43441,937,364,1234,436,4380,6708,159504,82273,2687],\"type\":\"choropleth\"}],\"name\":\"1999\"},{\"data\":[{\"coloraxis\":\"coloraxis\",\"geo\":\"geo\",\"hovertemplate\":\"\\u003cb\\u003e%{hovertext}\\u003c\\u002fb\\u003e\\u003cbr\\u003e\\u003cbr\\u003eYear=2000\\u003cbr\\u003eCountry of asylum (ISO)=%{location}\\u003cbr\\u003eNumber of Refugees=%{z}\\u003cextra\\u003e\\u003c\\u002fextra\\u003e\",\"hovertext\":[\"Albania\",\"Austria\",\"Belarus\",\"Belgium\",\"Bosnia and Herzegovina\",\"Bulgaria\",\"Croatia\",\"Cyprus\",\"Denmark\",\"Estonia\",\"Finland\",\"France\",\"Germany\",\"Greece\",\"Hungary\",\"Iceland\",\"Ireland\",\"Italy\",\"Latvia\",\"Liechtenstein\",\"Lithuania\",\"Luxembourg\",\"Malta\",\"North Macedonia\",\"Norway\",\"Poland\",\"Portugal\",\"Romania\",\"Slovakia\",\"Slovenia\",\"Spain\",\"Sweden\",\"Switzerland\",\"Ukraine\"],\"locations\":[\"ALB\",\"AUT\",\"BLR\",\"BEL\",\"BIH\",\"BGR\",\"HRV\",\"CYP\",\"DNK\",\"EST\",\"FIN\",\"FRA\",\"DEU\",\"GRC\",\"HUN\",\"ISL\",\"IRL\",\"ITA\",\"LVA\",\"LIE\",\"LTU\",\"LUX\",\"MLT\",\"MKD\",\"NOR\",\"POL\",\"PRT\",\"ROU\",\"SVK\",\"SVN\",\"ESP\",\"SWE\",\"CHE\",\"UKR\"],\"name\":\"\",\"z\":[521,15493,453,18821,38150,1470,22437,73,71017,0,13271,132508,906000,6653,5053,235,2530,6813,5,70,48,759,191,9048,47700,1011,416,1677,444,2814,6982,157206,57624,2927],\"type\":\"choropleth\"}],\"name\":\"2000\"},{\"data\":[{\"coloraxis\":\"coloraxis\",\"geo\":\"geo\",\"hovertemplate\":\"\\u003cb\\u003e%{hovertext}\\u003c\\u002fb\\u003e\\u003cbr\\u003e\\u003cbr\\u003eYear=2001\\u003cbr\\u003eCountry of asylum (ISO)=%{location}\\u003cbr\\u003eNumber of Refugees=%{z}\\u003cextra\\u003e\\u003c\\u002fextra\\u003e\",\"hovertext\":[\"Albania\",\"Austria\",\"Belarus\",\"Belgium\",\"Bosnia and Herzegovina\",\"Bulgaria\",\"Croatia\",\"Cyprus\",\"Denmark\",\"Estonia\",\"Finland\",\"France\",\"Germany\",\"Greece\",\"Hungary\",\"Iceland\",\"Ireland\",\"Italy\",\"Latvia\",\"Liechtenstein\",\"Lithuania\",\"Luxembourg\",\"Malta\",\"North Macedonia\",\"Norway\",\"Poland\",\"Portugal\",\"Romania\",\"Slovakia\",\"Slovenia\",\"Spain\",\"Sweden\",\"Switzerland\",\"Ukraine\"],\"locations\":[\"ALB\",\"AUT\",\"BLR\",\"BEL\",\"BIH\",\"BGR\",\"HRV\",\"CYP\",\"DNK\",\"EST\",\"FIN\",\"FRA\",\"DEU\",\"GRC\",\"HUN\",\"ISL\",\"IRL\",\"ITA\",\"LVA\",\"LIE\",\"LTU\",\"LUX\",\"MLT\",\"MKD\",\"NOR\",\"POL\",\"PRT\",\"ROU\",\"SVK\",\"SVN\",\"ESP\",\"SWE\",\"CHE\",\"UKR\"],\"name\":\"\",\"z\":[291,14375,581,12252,32744,2984,21875,84,73284,6,12726,131601,903000,6927,4700,204,3585,8541,5,140,283,1201,175,4362,50122,1295,444,1792,461,2411,6804,146480,58471,2958],\"type\":\"choropleth\"}],\"name\":\"2001\"},{\"data\":[{\"coloraxis\":\"coloraxis\",\"geo\":\"geo\",\"hovertemplate\":\"\\u003cb\\u003e%{hovertext}\\u003c\\u002fb\\u003e\\u003cbr\\u003e\\u003cbr\\u003eYear=2002\\u003cbr\\u003eCountry of asylum (ISO)=%{location}\\u003cbr\\u003eNumber of Refugees=%{z}\\u003cextra\\u003e\\u003c\\u002fextra\\u003e\",\"hovertext\":[\"Albania\",\"Austria\",\"Belarus\",\"Belgium\",\"Bosnia and Herzegovina\",\"Bulgaria\",\"Croatia\",\"Cyprus\",\"Denmark\",\"Estonia\",\"Finland\",\"France\",\"Germany\",\"Greece\",\"Hungary\",\"Iceland\",\"Ireland\",\"Italy\",\"Latvia\",\"Liechtenstein\",\"Lithuania\",\"Luxembourg\",\"Malta\",\"North Macedonia\",\"Norway\",\"Poland\",\"Portugal\",\"Romania\",\"Slovakia\",\"Slovenia\",\"Spain\",\"Sweden\",\"Switzerland\",\"Ukraine\"],\"locations\":[\"ALB\",\"AUT\",\"BLR\",\"BEL\",\"BIH\",\"BGR\",\"HRV\",\"CYP\",\"DNK\",\"EST\",\"FIN\",\"FRA\",\"DEU\",\"GRC\",\"HUN\",\"ISL\",\"IRL\",\"ITA\",\"LVA\",\"LIE\",\"LTU\",\"LUX\",\"MLT\",\"MKD\",\"NOR\",\"POL\",\"PRT\",\"ROU\",\"SVK\",\"SVN\",\"ESP\",\"SWE\",\"CHE\",\"UKR\"],\"name\":\"\",\"z\":[18,14122,612,12560,28020,3642,8392,171,73600,6,12485,132182,980001,2778,6075,197,5366,10031,5,126,363,1201,311,2815,50421,1586,460,1839,443,384,6783,142170,54081,2940],\"type\":\"choropleth\"}],\"name\":\"2002\"},{\"data\":[{\"coloraxis\":\"coloraxis\",\"geo\":\"geo\",\"hovertemplate\":\"\\u003cb\\u003e%{hovertext}\\u003c\\u002fb\\u003e\\u003cbr\\u003e\\u003cbr\\u003eYear=2003\\u003cbr\\u003eCountry of asylum (ISO)=%{location}\\u003cbr\\u003eNumber of Refugees=%{z}\\u003cextra\\u003e\\u003c\\u002fextra\\u003e\",\"hovertext\":[\"Albania\",\"Austria\",\"Belarus\",\"Belgium\",\"Bosnia and Herzegovina\",\"Bulgaria\",\"Croatia\",\"Cyprus\",\"Denmark\",\"Estonia\",\"Finland\",\"France\",\"Germany\",\"Greece\",\"Hungary\",\"Iceland\",\"Ireland\",\"Italy\",\"Latvia\",\"Liechtenstein\",\"Lithuania\",\"Luxembourg\",\"Malta\",\"North Macedonia\",\"Norway\",\"Poland\",\"Portugal\",\"Romania\",\"Slovakia\",\"Slovenia\",\"Spain\",\"Sweden\",\"Switzerland\",\"Ukraine\"],\"locations\":[\"ALB\",\"AUT\",\"BLR\",\"BEL\",\"BIH\",\"BGR\",\"HRV\",\"CYP\",\"DNK\",\"EST\",\"FIN\",\"FRA\",\"DEU\",\"GRC\",\"HUN\",\"ISL\",\"IRL\",\"ITA\",\"LVA\",\"LIE\",\"LTU\",\"LUX\",\"MLT\",\"MKD\",\"NOR\",\"POL\",\"PRT\",\"ROU\",\"SVK\",\"SVN\",\"ESP\",\"SWE\",\"CHE\",\"UKR\"],\"name\":\"\",\"z\":[24,16097,631,12583,22515,4047,4385,339,69855,6,10835,130838,960393,2762,7013,226,5971,12812,16,147,399,1201,894,191,46107,1822,414,1991,412,2065,5912,112148,50126,2851],\"type\":\"choropleth\"}],\"name\":\"2003\"},{\"data\":[{\"coloraxis\":\"coloraxis\",\"geo\":\"geo\",\"hovertemplate\":\"\\u003cb\\u003e%{hovertext}\\u003c\\u002fb\\u003e\\u003cbr\\u003e\\u003cbr\\u003eYear=2004\\u003cbr\\u003eCountry of asylum (ISO)=%{location}\\u003cbr\\u003eNumber of Refugees=%{z}\\u003cextra\\u003e\\u003c\\u002fextra\\u003e\",\"hovertext\":[\"Albania\",\"Austria\",\"Belarus\",\"Belgium\",\"Bosnia and Herzegovina\",\"Bulgaria\",\"Croatia\",\"Cyprus\",\"Denmark\",\"Estonia\",\"Finland\",\"France\",\"Germany\",\"Greece\",\"Hungary\",\"Iceland\",\"Ireland\",\"Italy\",\"Latvia\",\"Liechtenstein\",\"Lithuania\",\"Luxembourg\",\"Malta\",\"North Macedonia\",\"Norway\",\"Poland\",\"Portugal\",\"Romania\",\"Slovakia\",\"Slovenia\",\"Spain\",\"Sweden\",\"Switzerland\",\"Ukraine\"],\"locations\":[\"ALB\",\"AUT\",\"BLR\",\"BEL\",\"BIH\",\"BGR\",\"HRV\",\"CYP\",\"DNK\",\"EST\",\"FIN\",\"FRA\",\"DEU\",\"GRC\",\"HUN\",\"ISL\",\"IRL\",\"ITA\",\"LVA\",\"LIE\",\"LTU\",\"LUX\",\"MLT\",\"MKD\",\"NOR\",\"POL\",\"PRT\",\"ROU\",\"SVK\",\"SVN\",\"ESP\",\"SWE\",\"CHE\",\"UKR\"],\"name\":\"\",\"z\":[49,17777,719,13522,22209,4676,3662,525,65305,6,11309,139852,876614,2479,7702,226,6530,15668,10,147,469,1590,1561,1003,44031,2491,368,1610,396,299,5690,73383,47654,2442],\"type\":\"choropleth\"}],\"name\":\"2004\"},{\"data\":[{\"coloraxis\":\"coloraxis\",\"geo\":\"geo\",\"hovertemplate\":\"\\u003cb\\u003e%{hovertext}\\u003c\\u002fb\\u003e\\u003cbr\\u003e\\u003cbr\\u003eYear=2005\\u003cbr\\u003eCountry of asylum (ISO)=%{location}\\u003cbr\\u003eNumber of Refugees=%{z}\\u003cextra\\u003e\\u003c\\u002fextra\\u003e\",\"hovertext\":[\"Albania\",\"Austria\",\"Belarus\",\"Belgium\",\"Bosnia and Herzegovina\",\"Bulgaria\",\"Croatia\",\"Cyprus\",\"Denmark\",\"Estonia\",\"Finland\",\"France\",\"Germany\",\"Greece\",\"Hungary\",\"Iceland\",\"Ireland\",\"Italy\",\"Latvia\",\"Liechtenstein\",\"Lithuania\",\"Luxembourg\",\"Malta\",\"North Macedonia\",\"Norway\",\"Poland\",\"Portugal\",\"Romania\",\"Slovakia\",\"Slovenia\",\"Spain\",\"Sweden\",\"Switzerland\",\"Ukraine\"],\"locations\":[\"ALB\",\"AUT\",\"BLR\",\"BEL\",\"BIH\",\"BGR\",\"HRV\",\"CYP\",\"DNK\",\"EST\",\"FIN\",\"FRA\",\"DEU\",\"GRC\",\"HUN\",\"ISL\",\"IRL\",\"ITA\",\"LVA\",\"LIE\",\"LTU\",\"LUX\",\"MLT\",\"MKD\",\"NOR\",\"POL\",\"PRT\",\"ROU\",\"SVK\",\"SVN\",\"ESP\",\"SWE\",\"CHE\",\"UKR\"],\"name\":\"\",\"z\":[53,21212,718,15277,10566,4388,2927,700,44362,0,11801,137316,699996,2394,8040,284,7103,20674,10,148,527,1822,1942,1273,43015,4585,355,2040,352,243,5369,74889,48010,2334],\"type\":\"choropleth\"}],\"name\":\"2005\"},{\"data\":[{\"coloraxis\":\"coloraxis\",\"geo\":\"geo\",\"hovertemplate\":\"\\u003cb\\u003e%{hovertext}\\u003c\\u002fb\\u003e\\u003cbr\\u003e\\u003cbr\\u003eYear=2006\\u003cbr\\u003eCountry of asylum (ISO)=%{location}\\u003cbr\\u003eNumber of Refugees=%{z}\\u003cextra\\u003e\\u003c\\u002fextra\\u003e\",\"hovertext\":[\"Albania\",\"Austria\",\"Belarus\",\"Belgium\",\"Bosnia and Herzegovina\",\"Bulgaria\",\"Croatia\",\"Cyprus\",\"Denmark\",\"Estonia\",\"Finland\",\"France\",\"Germany\",\"Greece\",\"Hungary\",\"Iceland\",\"Ireland\",\"Italy\",\"Latvia\",\"Liechtenstein\",\"Lithuania\",\"Luxembourg\",\"Malta\",\"Montenegro\",\"North Macedonia\",\"Norway\",\"Poland\",\"Portugal\",\"Romania\",\"Slovakia\",\"Slovenia\",\"Spain\",\"Sweden\",\"Switzerland\",\"Ukraine\"],\"locations\":[\"ALB\",\"AUT\",\"BLR\",\"BEL\",\"BIH\",\"BGR\",\"HRV\",\"CYP\",\"DNK\",\"EST\",\"FIN\",\"FRA\",\"DEU\",\"GRC\",\"HUN\",\"ISL\",\"IRL\",\"ITA\",\"LVA\",\"LIE\",\"LTU\",\"LUX\",\"MLT\",\"MNE\",\"MKD\",\"NOR\",\"POL\",\"PRT\",\"ROU\",\"SVK\",\"SVN\",\"ESP\",\"SWE\",\"CHE\",\"UKR\"],\"name\":\"\",\"z\":[56,25475,683,16811,10315,4479,2442,926,36650,0,11827,145996,605329,2292,8068,254,7904,26870,22,274,527,2206,2407,6926,1239,43315,6786,322,1636,235,249,5269,79895,48508,2267],\"type\":\"choropleth\"}],\"name\":\"2006\"},{\"data\":[{\"coloraxis\":\"coloraxis\",\"geo\":\"geo\",\"hovertemplate\":\"\\u003cb\\u003e%{hovertext}\\u003c\\u002fb\\u003e\\u003cbr\\u003e\\u003cbr\\u003eYear=2007\\u003cbr\\u003eCountry of asylum (ISO)=%{location}\\u003cbr\\u003eNumber of Refugees=%{z}\\u003cextra\\u003e\\u003c\\u002fextra\\u003e\",\"hovertext\":[\"Albania\",\"Austria\",\"Belarus\",\"Belgium\",\"Bosnia and Herzegovina\",\"Bulgaria\",\"Croatia\",\"Cyprus\",\"Denmark\",\"Estonia\",\"Finland\",\"France\",\"Germany\",\"Greece\",\"Hungary\",\"Iceland\",\"Ireland\",\"Italy\",\"Latvia\",\"Liechtenstein\",\"Lithuania\",\"Luxembourg\",\"Malta\",\"Montenegro\",\"North Macedonia\",\"Norway\",\"Poland\",\"Portugal\",\"Romania\",\"Slovakia\",\"Slovenia\",\"Spain\",\"Sweden\",\"Switzerland\",\"Ukraine\"],\"locations\":[\"ALB\",\"AUT\",\"BLR\",\"BEL\",\"BIH\",\"BGR\",\"HRV\",\"CYP\",\"DNK\",\"EST\",\"FIN\",\"FRA\",\"DEU\",\"GRC\",\"HUN\",\"ISL\",\"IRL\",\"ITA\",\"LVA\",\"LIE\",\"LTU\",\"LUX\",\"MLT\",\"MNE\",\"MKD\",\"NOR\",\"POL\",\"PRT\",\"ROU\",\"SVK\",\"SVN\",\"ESP\",\"SWE\",\"CHE\",\"UKR\"],\"name\":\"\",\"z\":[68,30767,643,17578,7364,4808,1641,1194,26779,6,6201,151789,578866,2228,8124,41,9318,38061,27,278,688,2737,3003,8527,1234,34499,10037,346,1741,265,255,5143,75055,45642,7272],\"type\":\"choropleth\"}],\"name\":\"2007\"},{\"data\":[{\"coloraxis\":\"coloraxis\",\"geo\":\"geo\",\"hovertemplate\":\"\\u003cb\\u003e%{hovertext}\\u003c\\u002fb\\u003e\\u003cbr\\u003e\\u003cbr\\u003eYear=2008\\u003cbr\\u003eCountry of asylum (ISO)=%{location}\\u003cbr\\u003eNumber of Refugees=%{z}\\u003cextra\\u003e\\u003c\\u002fextra\\u003e\",\"hovertext\":[\"Albania\",\"Austria\",\"Belarus\",\"Belgium\",\"Bosnia and Herzegovina\",\"Bulgaria\",\"Croatia\",\"Cyprus\",\"Denmark\",\"Estonia\",\"Finland\",\"France\",\"Germany\",\"Greece\",\"Hungary\",\"Iceland\",\"Ireland\",\"Italy\",\"Latvia\",\"Liechtenstein\",\"Lithuania\",\"Luxembourg\",\"Malta\",\"Montenegro\",\"North Macedonia\",\"Norway\",\"Poland\",\"Portugal\",\"Romania\",\"Slovakia\",\"Slovenia\",\"Spain\",\"Sweden\",\"Switzerland\",\"Ukraine\"],\"locations\":[\"ALB\",\"AUT\",\"BLR\",\"BEL\",\"BIH\",\"BGR\",\"HRV\",\"CYP\",\"DNK\",\"EST\",\"FIN\",\"FRA\",\"DEU\",\"GRC\",\"HUN\",\"ISL\",\"IRL\",\"ITA\",\"LVA\",\"LIE\",\"LTU\",\"LUX\",\"MLT\",\"MNE\",\"MKD\",\"NOR\",\"POL\",\"PRT\",\"ROU\",\"SVK\",\"SVN\",\"ESP\",\"SWE\",\"CHE\",\"UKR\"],\"name\":\"\",\"z\":[57,37546,602,17025,7254,5108,1591,1458,23385,16,6621,171206,582719,2169,7740,39,9714,47059,27,84,749,3109,4329,24739,1671,36076,12761,393,1586,301,257,4649,77016,46131,7189],\"type\":\"choropleth\"}],\"name\":\"2008\"},{\"data\":[{\"coloraxis\":\"coloraxis\",\"geo\":\"geo\",\"hovertemplate\":\"\\u003cb\\u003e%{hovertext}\\u003c\\u002fb\\u003e\\u003cbr\\u003e\\u003cbr\\u003eYear=2009\\u003cbr\\u003eCountry of asylum (ISO)=%{location}\\u003cbr\\u003eNumber of Refugees=%{z}\\u003cextra\\u003e\\u003c\\u002fextra\\u003e\",\"hovertext\":[\"Albania\",\"Austria\",\"Belarus\",\"Belgium\",\"Bosnia and Herzegovina\",\"Bulgaria\",\"Croatia\",\"Cyprus\",\"Denmark\",\"Estonia\",\"Finland\",\"France\",\"Germany\",\"Greece\",\"Hungary\",\"Iceland\",\"Ireland\",\"Italy\",\"Latvia\",\"Liechtenstein\",\"Lithuania\",\"Luxembourg\",\"Malta\",\"Montenegro\",\"North Macedonia\",\"Norway\",\"Poland\",\"Portugal\",\"Romania\",\"Slovakia\",\"Slovenia\",\"Spain\",\"Sweden\",\"Switzerland\",\"Ukraine\"],\"locations\":[\"ALB\",\"AUT\",\"BLR\",\"BEL\",\"BIH\",\"BGR\",\"HRV\",\"CYP\",\"DNK\",\"EST\",\"FIN\",\"FRA\",\"DEU\",\"GRC\",\"HUN\",\"ISL\",\"IRL\",\"ITA\",\"LVA\",\"LIE\",\"LTU\",\"LUX\",\"MLT\",\"MNE\",\"MKD\",\"NOR\",\"POL\",\"PRT\",\"ROU\",\"SVK\",\"SVN\",\"ESP\",\"SWE\",\"CHE\",\"UKR\"],\"name\":\"\",\"z\":[69,38895,578,15536,7130,5375,1240,2888,20340,16,7448,196364,593787,1700,6041,58,9561,54962,40,86,790,3230,5951,24017,1541,37806,15299,383,1065,387,281,3960,81346,46204,7321],\"type\":\"choropleth\"}],\"name\":\"2009\"},{\"data\":[{\"coloraxis\":\"coloraxis\",\"geo\":\"geo\",\"hovertemplate\":\"\\u003cb\\u003e%{hovertext}\\u003c\\u002fb\\u003e\\u003cbr\\u003e\\u003cbr\\u003eYear=2010\\u003cbr\\u003eCountry of asylum (ISO)=%{location}\\u003cbr\\u003eNumber of Refugees=%{z}\\u003cextra\\u003e\\u003c\\u002fextra\\u003e\",\"hovertext\":[\"Albania\",\"Austria\",\"Belarus\",\"Belgium\",\"Bosnia and Herzegovina\",\"Bulgaria\",\"Croatia\",\"Cyprus\",\"Denmark\",\"Estonia\",\"Finland\",\"France\",\"Germany\",\"Greece\",\"Hungary\",\"Iceland\",\"Ireland\",\"Italy\",\"Latvia\",\"Liechtenstein\",\"Lithuania\",\"Luxembourg\",\"Malta\",\"Montenegro\",\"North Macedonia\",\"Norway\",\"Poland\",\"Portugal\",\"Romania\",\"Slovakia\",\"Slovenia\",\"Spain\",\"Sweden\",\"Switzerland\",\"Ukraine\"],\"locations\":[\"ALB\",\"AUT\",\"BLR\",\"BEL\",\"BIH\",\"BGR\",\"HRV\",\"CYP\",\"DNK\",\"EST\",\"FIN\",\"FRA\",\"DEU\",\"GRC\",\"HUN\",\"ISL\",\"IRL\",\"ITA\",\"LVA\",\"LIE\",\"LTU\",\"LUX\",\"MLT\",\"MNE\",\"MKD\",\"NOR\",\"POL\",\"PRT\",\"ROU\",\"SVK\",\"SVN\",\"ESP\",\"SWE\",\"CHE\",\"UKR\"],\"name\":\"\",\"z\":[75,42613,587,17891,7014,5519,933,3397,17907,31,8721,200687,594250,1443,5400,72,9099,56402,60,86,808,3254,6143,16363,1397,40245,15537,368,1019,451,315,3814,82620,48813,3016],\"type\":\"choropleth\"}],\"name\":\"2010\"},{\"data\":[{\"coloraxis\":\"coloraxis\",\"geo\":\"geo\",\"hovertemplate\":\"\\u003cb\\u003e%{hovertext}\\u003c\\u002fb\\u003e\\u003cbr\\u003e\\u003cbr\\u003eYear=2011\\u003cbr\\u003eCountry of asylum (ISO)=%{location}\\u003cbr\\u003eNumber of Refugees=%{z}\\u003cextra\\u003e\\u003c\\u002fextra\\u003e\",\"hovertext\":[\"Albania\",\"Austria\",\"Belarus\",\"Belgium\",\"Bosnia and Herzegovina\",\"Bulgaria\",\"Croatia\",\"Cyprus\",\"Denmark\",\"Estonia\",\"Finland\",\"France\",\"Germany\",\"Greece\",\"Hungary\",\"Iceland\",\"Ireland\",\"Italy\",\"Latvia\",\"Liechtenstein\",\"Lithuania\",\"Luxembourg\",\"Malta\",\"Monaco\",\"Montenegro\",\"North Macedonia\",\"Norway\",\"Poland\",\"Portugal\",\"Romania\",\"Slovakia\",\"Slovenia\",\"Spain\",\"Sweden\",\"Switzerland\",\"Ukraine\"],\"locations\":[\"ALB\",\"AUT\",\"BLR\",\"BEL\",\"BIH\",\"BGR\",\"HRV\",\"CYP\",\"DNK\",\"EST\",\"FIN\",\"FRA\",\"DEU\",\"GRC\",\"HUN\",\"ISL\",\"IRL\",\"ITA\",\"LVA\",\"LIE\",\"LTU\",\"LUX\",\"MLT\",\"MCO\",\"MNE\",\"MKD\",\"NOR\",\"POL\",\"PRT\",\"ROU\",\"SVK\",\"SVN\",\"ESP\",\"SWE\",\"CHE\",\"UKR\"],\"name\":\"\",\"z\":[79,47055,594,22396,6932,5676,818,3498,13386,34,9170,210207,571672,1566,5085,55,8234,58066,88,88,824,2855,6948,37,12871,1129,40671,15834,399,1003,535,134,4220,86603,50401,3168],\"type\":\"choropleth\"}],\"name\":\"2011\"},{\"data\":[{\"coloraxis\":\"coloraxis\",\"geo\":\"geo\",\"hovertemplate\":\"\\u003cb\\u003e%{hovertext}\\u003c\\u002fb\\u003e\\u003cbr\\u003e\\u003cbr\\u003eYear=2012\\u003cbr\\u003eCountry of asylum (ISO)=%{location}\\u003cbr\\u003eNumber of Refugees=%{z}\\u003cextra\\u003e\\u003c\\u002fextra\\u003e\",\"hovertext\":[\"Albania\",\"Austria\",\"Belarus\",\"Belgium\",\"Bosnia and Herzegovina\",\"Bulgaria\",\"Croatia\",\"Cyprus\",\"Denmark\",\"Estonia\",\"Finland\",\"France\",\"Germany\",\"Greece\",\"Hungary\",\"Iceland\",\"Ireland\",\"Italy\",\"Latvia\",\"Liechtenstein\",\"Lithuania\",\"Luxembourg\",\"Malta\",\"Monaco\",\"Montenegro\",\"North Macedonia\",\"Norway\",\"Poland\",\"Portugal\",\"Romania\",\"Slovakia\",\"Slovenia\",\"Spain\",\"Sweden\",\"Switzerland\",\"Ukraine\"],\"locations\":[\"ALB\",\"AUT\",\"BLR\",\"BEL\",\"BIH\",\"BGR\",\"HRV\",\"CYP\",\"DNK\",\"EST\",\"FIN\",\"FRA\",\"DEU\",\"GRC\",\"HUN\",\"ISL\",\"IRL\",\"ITA\",\"LVA\",\"LIE\",\"LTU\",\"LUX\",\"MLT\",\"MCO\",\"MNE\",\"MKD\",\"NOR\",\"POL\",\"PRT\",\"ROU\",\"SVK\",\"SVN\",\"ESP\",\"SWE\",\"CHE\",\"UKR\"],\"name\":\"\",\"z\":[84,51707,572,22023,6904,2273,722,3627,11797,48,9910,217865,589735,2090,4034,55,6309,64782,113,103,871,2910,8242,37,11193,1076,42805,15897,473,1263,650,169,4502,92869,50733,2790],\"type\":\"choropleth\"}],\"name\":\"2012\"},{\"data\":[{\"coloraxis\":\"coloraxis\",\"geo\":\"geo\",\"hovertemplate\":\"\\u003cb\\u003e%{hovertext}\\u003c\\u002fb\\u003e\\u003cbr\\u003e\\u003cbr\\u003eYear=2013\\u003cbr\\u003eCountry of asylum (ISO)=%{location}\\u003cbr\\u003eNumber of Refugees=%{z}\\u003cextra\\u003e\\u003c\\u002fextra\\u003e\",\"hovertext\":[\"Albania\",\"Austria\",\"Belarus\",\"Belgium\",\"Bosnia and Herzegovina\",\"Bulgaria\",\"Croatia\",\"Cyprus\",\"Denmark\",\"Estonia\",\"Finland\",\"France\",\"Germany\",\"Greece\",\"Hungary\",\"Iceland\",\"Ireland\",\"Italy\",\"Latvia\",\"Liechtenstein\",\"Lithuania\",\"Luxembourg\",\"Malta\",\"Monaco\",\"Montenegro\",\"North Macedonia\",\"Norway\",\"Poland\",\"Portugal\",\"Romania\",\"Slovakia\",\"Slovenia\",\"Spain\",\"Sweden\",\"Switzerland\",\"Ukraine\"],\"locations\":[\"ALB\",\"AUT\",\"BLR\",\"BEL\",\"BIH\",\"BGR\",\"HRV\",\"CYP\",\"DNK\",\"EST\",\"FIN\",\"FRA\",\"DEU\",\"GRC\",\"HUN\",\"ISL\",\"IRL\",\"ITA\",\"LVA\",\"LIE\",\"LTU\",\"LUX\",\"MLT\",\"MCO\",\"MNE\",\"MKD\",\"NOR\",\"POL\",\"PRT\",\"ROU\",\"SVK\",\"SVN\",\"ESP\",\"SWE\",\"CHE\",\"UKR\"],\"name\":\"\",\"z\":[96,55575,599,25617,6924,4305,679,3879,13153,52,11242,232487,187545,3468,2422,72,5991,76248,149,96,918,901,9900,34,8471,980,46088,16428,596,1747,691,202,4641,114172,52448,2956],\"type\":\"choropleth\"}],\"name\":\"2013\"},{\"data\":[{\"coloraxis\":\"coloraxis\",\"geo\":\"geo\",\"hovertemplate\":\"\\u003cb\\u003e%{hovertext}\\u003c\\u002fb\\u003e\\u003cbr\\u003e\\u003cbr\\u003eYear=2014\\u003cbr\\u003eCountry of asylum (ISO)=%{location}\\u003cbr\\u003eNumber of Refugees=%{z}\\u003cextra\\u003e\\u003c\\u002fextra\\u003e\",\"hovertext\":[\"Albania\",\"Austria\",\"Belarus\",\"Belgium\",\"Bosnia and Herzegovina\",\"Bulgaria\",\"Croatia\",\"Cyprus\",\"Denmark\",\"Estonia\",\"Finland\",\"France\",\"Germany\",\"Greece\",\"Hungary\",\"Iceland\",\"Ireland\",\"Italy\",\"Latvia\",\"Liechtenstein\",\"Lithuania\",\"Luxembourg\",\"Malta\",\"Monaco\",\"Montenegro\",\"North Macedonia\",\"Norway\",\"Poland\",\"Portugal\",\"Romania\",\"Slovakia\",\"Slovenia\",\"Spain\",\"Sweden\",\"Switzerland\",\"Ukraine\"],\"locations\":[\"ALB\",\"AUT\",\"BLR\",\"BEL\",\"BIH\",\"BGR\",\"HRV\",\"CYP\",\"DNK\",\"EST\",\"FIN\",\"FRA\",\"DEU\",\"GRC\",\"HUN\",\"ISL\",\"IRL\",\"ITA\",\"LVA\",\"LIE\",\"LTU\",\"LUX\",\"MLT\",\"MCO\",\"MNE\",\"MKD\",\"NOR\",\"POL\",\"PRT\",\"ROU\",\"SVK\",\"SVN\",\"ESP\",\"SWE\",\"CHE\",\"UKR\"],\"name\":\"\",\"z\":[111,60724,919,29170,6883,11026,724,5120,17767,82,11783,252248,216956,10292,2854,93,5832,93712,168,102,1007,1091,6095,33,6455,880,47025,15730,704,2171,791,251,5797,142197,62596,3206],\"type\":\"choropleth\"}],\"name\":\"2014\"},{\"data\":[{\"coloraxis\":\"coloraxis\",\"geo\":\"geo\",\"hovertemplate\":\"\\u003cb\\u003e%{hovertext}\\u003c\\u002fb\\u003e\\u003cbr\\u003e\\u003cbr\\u003eYear=2015\\u003cbr\\u003eCountry of asylum (ISO)=%{location}\\u003cbr\\u003eNumber of Refugees=%{z}\\u003cextra\\u003e\\u003c\\u002fextra\\u003e\",\"hovertext\":[\"Albania\",\"Austria\",\"Belarus\",\"Belgium\",\"Bosnia and Herzegovina\",\"Bulgaria\",\"Croatia\",\"Cyprus\",\"Denmark\",\"Estonia\",\"Finland\",\"France\",\"Germany\",\"Greece\",\"Hungary\",\"Iceland\",\"Ireland\",\"Italy\",\"Latvia\",\"Liechtenstein\",\"Lithuania\",\"Luxembourg\",\"Malta\",\"Monaco\",\"Montenegro\",\"North Macedonia\",\"Norway\",\"Poland\",\"Portugal\",\"Romania\",\"Slovakia\",\"Slovenia\",\"Spain\",\"Sweden\",\"Switzerland\",\"Ukraine\"],\"locations\":[\"ALB\",\"AUT\",\"BLR\",\"BEL\",\"BIH\",\"BGR\",\"HRV\",\"CYP\",\"DNK\",\"EST\",\"FIN\",\"FRA\",\"DEU\",\"GRC\",\"HUN\",\"ISL\",\"IRL\",\"ITA\",\"LVA\",\"LIE\",\"LTU\",\"LUX\",\"MLT\",\"MCO\",\"MNE\",\"MKD\",\"NOR\",\"POL\",\"PRT\",\"ROU\",\"SVK\",\"SVN\",\"ESP\",\"SWE\",\"CHE\",\"UKR\"],\"name\":\"\",\"z\":[109,72198,1805,35302,6789,16543,517,7062,27312,158,12692,273117,316098,24831,4383,170,6108,118036,193,146,1094,1306,7068,32,1762,697,50377,14057,851,2581,816,284,6447,169516,73326,3261],\"type\":\"choropleth\"}],\"name\":\"2015\"},{\"data\":[{\"coloraxis\":\"coloraxis\",\"geo\":\"geo\",\"hovertemplate\":\"\\u003cb\\u003e%{hovertext}\\u003c\\u002fb\\u003e\\u003cbr\\u003e\\u003cbr\\u003eYear=2016\\u003cbr\\u003eCountry of asylum (ISO)=%{location}\\u003cbr\\u003eNumber of Refugees=%{z}\\u003cextra\\u003e\\u003c\\u002fextra\\u003e\",\"hovertext\":[\"Albania\",\"Austria\",\"Belarus\",\"Belgium\",\"Bosnia and Herzegovina\",\"Bulgaria\",\"Croatia\",\"Cyprus\",\"Denmark\",\"Estonia\",\"Finland\",\"France\",\"Germany\",\"Greece\",\"Hungary\",\"Iceland\",\"Ireland\",\"Italy\",\"Latvia\",\"Liechtenstein\",\"Lithuania\",\"Luxembourg\",\"Malta\",\"Monaco\",\"Montenegro\",\"North Macedonia\",\"Norway\",\"Poland\",\"Portugal\",\"Romania\",\"Slovakia\",\"Slovenia\",\"Spain\",\"Sweden\",\"Switzerland\",\"Ukraine\"],\"locations\":[\"ALB\",\"AUT\",\"BLR\",\"BEL\",\"BIH\",\"BGR\",\"HRV\",\"CYP\",\"DNK\",\"EST\",\"FIN\",\"FRA\",\"DEU\",\"GRC\",\"HUN\",\"ISL\",\"IRL\",\"ITA\",\"LVA\",\"LIE\",\"LTU\",\"LUX\",\"MLT\",\"MCO\",\"MNE\",\"MKD\",\"NOR\",\"POL\",\"PRT\",\"ROU\",\"SVK\",\"SVN\",\"ESP\",\"SWE\",\"CHE\",\"UKR\"],\"name\":\"\",\"z\":[141,93242,1647,42158,5266,17794,300,8478,33501,312,18402,304527,669468,46411,4736,245,5720,147362,340,161,1284,2020,7941,27,970,634,59512,11738,1189,2880,980,454,12983,230158,82668,3292],\"type\":\"choropleth\"}],\"name\":\"2016\"},{\"data\":[{\"coloraxis\":\"coloraxis\",\"geo\":\"geo\",\"hovertemplate\":\"\\u003cb\\u003e%{hovertext}\\u003c\\u002fb\\u003e\\u003cbr\\u003e\\u003cbr\\u003eYear=2017\\u003cbr\\u003eCountry of asylum (ISO)=%{location}\\u003cbr\\u003eNumber of Refugees=%{z}\\u003cextra\\u003e\\u003c\\u002fextra\\u003e\",\"hovertext\":[\"Albania\",\"Austria\",\"Belarus\",\"Belgium\",\"Bosnia and Herzegovina\",\"Bulgaria\",\"Croatia\",\"Cyprus\",\"Denmark\",\"Estonia\",\"Finland\",\"France\",\"Germany\",\"Greece\",\"Hungary\",\"Iceland\",\"Ireland\",\"Italy\",\"Latvia\",\"Liechtenstein\",\"Lithuania\",\"Luxembourg\",\"Malta\",\"Monaco\",\"Montenegro\",\"North Macedonia\",\"Norway\",\"Poland\",\"Portugal\",\"Romania\",\"Slovakia\",\"Slovenia\",\"Spain\",\"Sweden\",\"Switzerland\",\"Ukraine\"],\"locations\":[\"ALB\",\"AUT\",\"BLR\",\"BEL\",\"BIH\",\"BGR\",\"HRV\",\"CYP\",\"DNK\",\"EST\",\"FIN\",\"FRA\",\"DEU\",\"GRC\",\"HUN\",\"ISL\",\"IRL\",\"ITA\",\"LVA\",\"LIE\",\"LTU\",\"LUX\",\"MLT\",\"MCO\",\"MNE\",\"MKD\",\"NOR\",\"POL\",\"PRT\",\"ROU\",\"SVK\",\"SVN\",\"ESP\",\"SWE\",\"CHE\",\"UKR\"],\"name\":\"\",\"z\":[124,115252,2155,42158,5224,19166,508,9790,35668,405,20793,337158,970357,38988,5671,361,6394,167330,653,164,1577,2020,7994,25,794,414,59230,12225,1619,3911,912,611,17541,240954,93030,3241],\"type\":\"choropleth\"}],\"name\":\"2017\"},{\"data\":[{\"coloraxis\":\"coloraxis\",\"geo\":\"geo\",\"hovertemplate\":\"\\u003cb\\u003e%{hovertext}\\u003c\\u002fb\\u003e\\u003cbr\\u003e\\u003cbr\\u003eYear=2018\\u003cbr\\u003eCountry of asylum (ISO)=%{location}\\u003cbr\\u003eNumber of Refugees=%{z}\\u003cextra\\u003e\\u003c\\u002fextra\\u003e\",\"hovertext\":[\"Albania\",\"Austria\",\"Belarus\",\"Belgium\",\"Bosnia and Herzegovina\",\"Bulgaria\",\"Croatia\",\"Cyprus\",\"Denmark\",\"Estonia\",\"Finland\",\"France\",\"Germany\",\"Greece\",\"Hungary\",\"Iceland\",\"Ireland\",\"Italy\",\"Latvia\",\"Liechtenstein\",\"Lithuania\",\"Luxembourg\",\"Malta\",\"Monaco\",\"Montenegro\",\"North Macedonia\",\"Norway\",\"Poland\",\"Portugal\",\"Romania\",\"Slovakia\",\"Slovenia\",\"Spain\",\"Sweden\",\"Switzerland\",\"Ukraine\"],\"locations\":[\"ALB\",\"AUT\",\"BLR\",\"BEL\",\"BIH\",\"BGR\",\"HRV\",\"CYP\",\"DNK\",\"EST\",\"FIN\",\"FRA\",\"DEU\",\"GRC\",\"HUN\",\"ISL\",\"IRL\",\"ITA\",\"LVA\",\"LIE\",\"LTU\",\"LUX\",\"MLT\",\"MCO\",\"MNE\",\"MKD\",\"NOR\",\"POL\",\"PRT\",\"ROU\",\"SVK\",\"SVN\",\"ESP\",\"SWE\",\"CHE\",\"UKR\"],\"name\":\"\",\"z\":[132,128779,2225,42158,5227,19906,787,11002,36623,319,22287,368345,1063835,61446,6019,549,6012,189227,664,166,1731,2020,8579,25,727,413,57004,12495,2130,4134,938,746,20437,248210,104011,2606],\"type\":\"choropleth\"}],\"name\":\"2018\"},{\"data\":[{\"coloraxis\":\"coloraxis\",\"geo\":\"geo\",\"hovertemplate\":\"\\u003cb\\u003e%{hovertext}\\u003c\\u002fb\\u003e\\u003cbr\\u003e\\u003cbr\\u003eYear=2019\\u003cbr\\u003eCountry of asylum (ISO)=%{location}\\u003cbr\\u003eNumber of Refugees=%{z}\\u003cextra\\u003e\\u003c\\u002fextra\\u003e\",\"hovertext\":[\"Albania\",\"Austria\",\"Belarus\",\"Belgium\",\"Bosnia and Herzegovina\",\"Bulgaria\",\"Croatia\",\"Cyprus\",\"Denmark\",\"Estonia\",\"Finland\",\"France\",\"Germany\",\"Greece\",\"Hungary\",\"Iceland\",\"Ireland\",\"Italy\",\"Latvia\",\"Liechtenstein\",\"Lithuania\",\"Luxembourg\",\"Malta\",\"Monaco\",\"Montenegro\",\"North Macedonia\",\"Norway\",\"Poland\",\"Portugal\",\"Romania\",\"Slovakia\",\"Slovenia\",\"Spain\",\"Sweden\",\"Switzerland\",\"Ukraine\"],\"locations\":[\"ALB\",\"AUT\",\"BLR\",\"BEL\",\"BIH\",\"BGR\",\"HRV\",\"CYP\",\"DNK\",\"EST\",\"FIN\",\"FRA\",\"DEU\",\"GRC\",\"HUN\",\"ISL\",\"IRL\",\"ITA\",\"LVA\",\"LIE\",\"LTU\",\"LUX\",\"MLT\",\"MCO\",\"MNE\",\"MKD\",\"NOR\",\"POL\",\"PRT\",\"ROU\",\"SVK\",\"SVN\",\"ESP\",\"SWE\",\"CHE\",\"UKR\"],\"name\":\"\",\"z\":[120,135951,2725,61662,5241,20438,916,12311,37533,331,23458,407915,1146682,80454,5750,894,7795,207602,665,125,1822,2548,8908,22,653,354,53882,12658,2375,3860,965,741,57751,253787,110162,2166],\"type\":\"choropleth\"}],\"name\":\"2019\"},{\"data\":[{\"coloraxis\":\"coloraxis\",\"geo\":\"geo\",\"hovertemplate\":\"\\u003cb\\u003e%{hovertext}\\u003c\\u002fb\\u003e\\u003cbr\\u003e\\u003cbr\\u003eYear=2020\\u003cbr\\u003eCountry of asylum (ISO)=%{location}\\u003cbr\\u003eNumber of Refugees=%{z}\\u003cextra\\u003e\\u003c\\u002fextra\\u003e\",\"hovertext\":[\"Albania\",\"Austria\",\"Belarus\",\"Belgium\",\"Bosnia and Herzegovina\",\"Bulgaria\",\"Croatia\",\"Cyprus\",\"Denmark\",\"Estonia\",\"Finland\",\"France\",\"Germany\",\"Greece\",\"Hungary\",\"Iceland\",\"Ireland\",\"Italy\",\"Latvia\",\"Liechtenstein\",\"Lithuania\",\"Luxembourg\",\"Malta\",\"Monaco\",\"Montenegro\",\"North Macedonia\",\"Norway\",\"Poland\",\"Portugal\",\"Romania\",\"Slovakia\",\"Slovenia\",\"Spain\",\"Sweden\",\"Switzerland\",\"Ukraine\"],\"locations\":[\"ALB\",\"AUT\",\"BLR\",\"BEL\",\"BIH\",\"BGR\",\"HRV\",\"CYP\",\"DNK\",\"EST\",\"FIN\",\"FRA\",\"DEU\",\"GRC\",\"HUN\",\"ISL\",\"IRL\",\"ITA\",\"LVA\",\"LIE\",\"LTU\",\"LUX\",\"MLT\",\"MCO\",\"MNE\",\"MKD\",\"NOR\",\"POL\",\"PRT\",\"ROU\",\"SVK\",\"SVN\",\"ESP\",\"SWE\",\"CHE\",\"UKR\"],\"name\":\"\",\"z\":[105,141816,2900,64973,5232,21113,956,13997,36643,277,23428,436055,1210596,103101,5838,1460,9035,128033,637,129,1880,5158,9168,22,166,303,49653,2771,2405,3581,1006,823,103624,248372,115798,2249],\"type\":\"choropleth\"}],\"name\":\"2020\"},{\"data\":[{\"coloraxis\":\"coloraxis\",\"geo\":\"geo\",\"hovertemplate\":\"\\u003cb\\u003e%{hovertext}\\u003c\\u002fb\\u003e\\u003cbr\\u003e\\u003cbr\\u003eYear=2021\\u003cbr\\u003eCountry of asylum (ISO)=%{location}\\u003cbr\\u003eNumber of Refugees=%{z}\\u003cextra\\u003e\\u003c\\u002fextra\\u003e\",\"hovertext\":[\"Albania\",\"Austria\",\"Belarus\",\"Belgium\",\"Bosnia and Herzegovina\",\"Bulgaria\",\"Croatia\",\"Cyprus\",\"Denmark\",\"Estonia\",\"Finland\",\"France\",\"Germany\",\"Greece\",\"Hungary\",\"Iceland\",\"Ireland\",\"Italy\",\"Latvia\",\"Liechtenstein\",\"Lithuania\",\"Luxembourg\",\"Malta\",\"Monaco\",\"Montenegro\",\"North Macedonia\",\"Norway\",\"Poland\",\"Portugal\",\"Romania\",\"Slovakia\",\"Slovenia\",\"Spain\",\"Sweden\",\"Switzerland\",\"Ukraine\"],\"locations\":[\"ALB\",\"AUT\",\"BLR\",\"BEL\",\"BIH\",\"BGR\",\"HRV\",\"CYP\",\"DNK\",\"EST\",\"FIN\",\"FRA\",\"DEU\",\"GRC\",\"HUN\",\"ISL\",\"IRL\",\"ITA\",\"LVA\",\"LIE\",\"LTU\",\"LUX\",\"MLT\",\"MCO\",\"MNE\",\"MKD\",\"NOR\",\"POL\",\"PRT\",\"ROU\",\"SVK\",\"SVN\",\"ESP\",\"SWE\",\"CHE\",\"UKR\"],\"name\":\"\",\"z\":[109,152514,2729,74063,240,22830,1020,16277,36023,321,24078,499914,1255694,119650,5676,1830,9571,144862,705,133,1880,6011,9335,17,175,292,46042,4875,2651,4200,1046,839,122539,240854,118829,2382],\"type\":\"choropleth\"}],\"name\":\"2021\"},{\"data\":[{\"coloraxis\":\"coloraxis\",\"geo\":\"geo\",\"hovertemplate\":\"\\u003cb\\u003e%{hovertext}\\u003c\\u002fb\\u003e\\u003cbr\\u003e\\u003cbr\\u003eYear=2022\\u003cbr\\u003eCountry of asylum (ISO)=%{location}\\u003cbr\\u003eNumber of Refugees=%{z}\\u003cextra\\u003e\\u003c\\u002fextra\\u003e\",\"hovertext\":[\"Albania\",\"Austria\",\"Belarus\",\"Belgium\",\"Bosnia and Herzegovina\",\"Bulgaria\",\"Croatia\",\"Cyprus\",\"Denmark\",\"Estonia\",\"Finland\",\"France\",\"Germany\",\"Greece\",\"Hungary\",\"Iceland\",\"Ireland\",\"Italy\",\"Latvia\",\"Liechtenstein\",\"Lithuania\",\"Luxembourg\",\"Malta\",\"Monaco\",\"Montenegro\",\"North Macedonia\",\"Norway\",\"Poland\",\"Portugal\",\"Romania\",\"Slovakia\",\"Slovenia\",\"Spain\",\"Sweden\",\"Switzerland\",\"Ukraine\"],\"locations\":[\"ALB\",\"AUT\",\"BLR\",\"BEL\",\"BIH\",\"BGR\",\"HRV\",\"CYP\",\"DNK\",\"EST\",\"FIN\",\"FRA\",\"DEU\",\"GRC\",\"HUN\",\"ISL\",\"IRL\",\"ITA\",\"LVA\",\"LIE\",\"LTU\",\"LUX\",\"MLT\",\"MCO\",\"MNE\",\"MKD\",\"NOR\",\"POL\",\"PRT\",\"ROU\",\"SVK\",\"SVN\",\"ESP\",\"SWE\",\"CHE\",\"UKR\"],\"name\":\"\",\"z\":[2676,258613,19715,150713,274,176297,20638,29280,67772,40806,69553,612934,2075445,160761,35370,5240,81256,296181,39055,524,67638,11952,11098,17,32438,7065,75311,971129,59777,105621,96563,8705,314490,277726,182474,2520],\"type\":\"choropleth\"}],\"name\":\"2022\"},{\"data\":[{\"coloraxis\":\"coloraxis\",\"geo\":\"geo\",\"hovertemplate\":\"\\u003cb\\u003e%{hovertext}\\u003c\\u002fb\\u003e\\u003cbr\\u003e\\u003cbr\\u003eYear=2023\\u003cbr\\u003eCountry of asylum (ISO)=%{location}\\u003cbr\\u003eNumber of Refugees=%{z}\\u003cextra\\u003e\\u003c\\u002fextra\\u003e\",\"hovertext\":[\"Albania\",\"Austria\",\"Belarus\",\"Belgium\",\"Bosnia and Herzegovina\",\"Bulgaria\",\"Croatia\",\"Cyprus\",\"Denmark\",\"Estonia\",\"Finland\",\"France\",\"Germany\",\"Greece\",\"Hungary\",\"Iceland\",\"Ireland\",\"Italy\",\"Latvia\",\"Liechtenstein\",\"Lithuania\",\"Luxembourg\",\"Malta\",\"Monaco\",\"Montenegro\",\"North Macedonia\",\"Norway\",\"Poland\",\"Portugal\",\"Romania\",\"Slovakia\",\"Slovenia\",\"Spain\",\"Sweden\",\"Switzerland\",\"Ukraine\"],\"locations\":[\"ALB\",\"AUT\",\"BLR\",\"BEL\",\"BIH\",\"BGR\",\"HRV\",\"CYP\",\"DNK\",\"EST\",\"FIN\",\"FRA\",\"DEU\",\"GRC\",\"HUN\",\"ISL\",\"IRL\",\"ITA\",\"LVA\",\"LIE\",\"LTU\",\"LUX\",\"MLT\",\"MCO\",\"MNE\",\"MKD\",\"NOR\",\"POL\",\"PRT\",\"ROU\",\"SVK\",\"SVN\",\"ESP\",\"SWE\",\"CHE\",\"UKR\"],\"name\":\"\",\"z\":[3828,277158,31602,156921,310,189577,23789,33872,69337,40371,80189,641626,2509506,169393,57939,6193,99048,308663,45237,605,73170,10639,11413,17,40597,8252,86449,989877,59311,139081,105104,10684,369722,258117,189100,2532],\"type\":\"choropleth\"}],\"name\":\"2023\"}]);\n",
       "                        }).then(function(){\n",
       "                            \n",
       "var gd = document.getElementById('e4f43c35-3b63-473e-aba3-43ce3d1b7412');\n",
       "var x = new MutationObserver(function (mutations, observer) {{\n",
       "        var display = window.getComputedStyle(gd).display;\n",
       "        if (!display || display === 'none') {{\n",
       "            console.log([gd, 'removed!']);\n",
       "            Plotly.purge(gd);\n",
       "            observer.disconnect();\n",
       "        }}\n",
       "}});\n",
       "\n",
       "// Listen for the removal of the full notebook cells\n",
       "var notebookContainer = gd.closest('#notebook-container');\n",
       "if (notebookContainer) {{\n",
       "    x.observe(notebookContainer, {childList: true});\n",
       "}}\n",
       "\n",
       "// Listen for the clearing of the current output cell\n",
       "var outputEl = gd.closest('.output');\n",
       "if (outputEl) {{\n",
       "    x.observe(outputEl, {childList: true});\n",
       "}}\n",
       "\n",
       "                        })                };                });            </script>        </div>"
      ]
     },
     "metadata": {},
     "output_type": "display_data"
    },
    {
     "data": {
      "application/vnd.plotly.v1+json": {
       "config": {
        "plotlyServerURL": "https://plot.ly"
       },
       "data": [
        {
         "coloraxis": "coloraxis",
         "geo": "geo",
         "hovertemplate": "<b>%{hovertext}</b><br><br>Year=1951<br>Country of asylum (ISO)=%{location}<br>Number of Refugees=%{z}<extra></extra>",
         "hovertext": [
          "Austria",
          "Belgium",
          "Denmark",
          "France",
          "Greece",
          "Italy",
          "Luxembourg",
          "Norway",
          "Spain",
          "Sweden",
          "Switzerland"
         ],
         "locations": [
          "AUT",
          "BEL",
          "DNK",
          "FRA",
          "GRC",
          "ITA",
          "LUX",
          "NOR",
          "ESP",
          "SWE",
          "CHE"
         ],
         "name": "",
         "type": "choropleth",
         "z": [
          282000,
          55000,
          2000,
          290000,
          18000,
          26500,
          1800,
          2500,
          2000,
          44000,
          10000
         ]
        }
       ],
       "frames": [
        {
         "data": [
          {
           "coloraxis": "coloraxis",
           "geo": "geo",
           "hovertemplate": "<b>%{hovertext}</b><br><br>Year=1951<br>Country of asylum (ISO)=%{location}<br>Number of Refugees=%{z}<extra></extra>",
           "hovertext": [
            "Austria",
            "Belgium",
            "Denmark",
            "France",
            "Greece",
            "Italy",
            "Luxembourg",
            "Norway",
            "Spain",
            "Sweden",
            "Switzerland"
           ],
           "locations": [
            "AUT",
            "BEL",
            "DNK",
            "FRA",
            "GRC",
            "ITA",
            "LUX",
            "NOR",
            "ESP",
            "SWE",
            "CHE"
           ],
           "name": "",
           "type": "choropleth",
           "z": [
            282000,
            55000,
            2000,
            290000,
            18000,
            26500,
            1800,
            2500,
            2000,
            44000,
            10000
           ]
          }
         ],
         "name": "1951"
        },
        {
         "data": [
          {
           "coloraxis": "coloraxis",
           "geo": "geo",
           "hovertemplate": "<b>%{hovertext}</b><br><br>Year=1952<br>Country of asylum (ISO)=%{location}<br>Number of Refugees=%{z}<extra></extra>",
           "hovertext": [
            "Austria",
            "Belgium",
            "Denmark",
            "France",
            "Greece",
            "Italy",
            "Luxembourg",
            "Norway",
            "Sweden",
            "Switzerland"
           ],
           "locations": [
            "AUT",
            "BEL",
            "DNK",
            "FRA",
            "GRC",
            "ITA",
            "LUX",
            "NOR",
            "SWE",
            "CHE"
           ],
           "name": "",
           "type": "choropleth",
           "z": [
            238200,
            53500,
            1800,
            280000,
            19000,
            25500,
            1800,
            2500,
            42000,
            9800
           ]
          }
         ],
         "name": "1952"
        },
        {
         "data": [
          {
           "coloraxis": "coloraxis",
           "geo": "geo",
           "hovertemplate": "<b>%{hovertext}</b><br><br>Year=1953<br>Country of asylum (ISO)=%{location}<br>Number of Refugees=%{z}<extra></extra>",
           "hovertext": [
            "Austria",
            "Belgium",
            "Denmark",
            "France",
            "Greece",
            "Italy",
            "Luxembourg",
            "Norway",
            "Sweden",
            "Switzerland"
           ],
           "locations": [
            "AUT",
            "BEL",
            "DNK",
            "FRA",
            "GRC",
            "ITA",
            "LUX",
            "NOR",
            "SWE",
            "CHE"
           ],
           "name": "",
           "type": "choropleth",
           "z": [
            215200,
            53000,
            1600,
            270000,
            18500,
            24500,
            1800,
            2500,
            37000,
            9500
           ]
          }
         ],
         "name": "1953"
        },
        {
         "data": [
          {
           "coloraxis": "coloraxis",
           "geo": "geo",
           "hovertemplate": "<b>%{hovertext}</b><br><br>Year=1954<br>Country of asylum (ISO)=%{location}<br>Number of Refugees=%{z}<extra></extra>",
           "hovertext": [
            "Austria",
            "Belgium",
            "Denmark",
            "France",
            "Greece",
            "Italy",
            "Luxembourg",
            "Norway",
            "Spain",
            "Sweden",
            "Switzerland"
           ],
           "locations": [
            "AUT",
            "BEL",
            "DNK",
            "FRA",
            "GRC",
            "ITA",
            "LUX",
            "NOR",
            "ESP",
            "SWE",
            "CHE"
           ],
           "name": "",
           "type": "choropleth",
           "z": [
            150000,
            53000,
            1400,
            263000,
            19000,
            21500,
            1800,
            2300,
            2000,
            33000,
            9400
           ]
          }
         ],
         "name": "1954"
        },
        {
         "data": [
          {
           "coloraxis": "coloraxis",
           "geo": "geo",
           "hovertemplate": "<b>%{hovertext}</b><br><br>Year=1955<br>Country of asylum (ISO)=%{location}<br>Number of Refugees=%{z}<extra></extra>",
           "hovertext": [
            "Austria",
            "Belgium",
            "Denmark",
            "France",
            "Greece",
            "Italy",
            "Luxembourg",
            "Norway",
            "Sweden",
            "Switzerland"
           ],
           "locations": [
            "AUT",
            "BEL",
            "DNK",
            "FRA",
            "GRC",
            "ITA",
            "LUX",
            "NOR",
            "SWE",
            "CHE"
           ],
           "name": "",
           "type": "choropleth",
           "z": [
            110000,
            53000,
            1300,
            345415,
            17400,
            18500,
            1800,
            2300,
            28000,
            9200
           ]
          }
         ],
         "name": "1955"
        },
        {
         "data": [
          {
           "coloraxis": "coloraxis",
           "geo": "geo",
           "hovertemplate": "<b>%{hovertext}</b><br><br>Year=1956<br>Country of asylum (ISO)=%{location}<br>Number of Refugees=%{z}<extra></extra>",
           "hovertext": [
            "Austria",
            "Belgium",
            "Denmark",
            "France",
            "Greece",
            "Italy",
            "Luxembourg",
            "Norway",
            "Sweden",
            "Switzerland"
           ],
           "locations": [
            "AUT",
            "BEL",
            "DNK",
            "FRA",
            "GRC",
            "ITA",
            "LUX",
            "NOR",
            "SWE",
            "CHE"
           ],
           "name": "",
           "type": "choropleth",
           "z": [
            140000,
            65000,
            2500,
            363290,
            16000,
            21500,
            1900,
            2800,
            31000,
            20700
           ]
          }
         ],
         "name": "1956"
        },
        {
         "data": [
          {
           "coloraxis": "coloraxis",
           "geo": "geo",
           "hovertemplate": "<b>%{hovertext}</b><br><br>Year=1957<br>Country of asylum (ISO)=%{location}<br>Number of Refugees=%{z}<extra></extra>",
           "hovertext": [
            "Austria",
            "Belgium",
            "Denmark",
            "France",
            "Greece",
            "Italy",
            "Luxembourg",
            "Norway",
            "Sweden",
            "Switzerland"
           ],
           "locations": [
            "AUT",
            "BEL",
            "DNK",
            "FRA",
            "GRC",
            "ITA",
            "LUX",
            "NOR",
            "SWE",
            "CHE"
           ],
           "name": "",
           "type": "choropleth",
           "z": [
            68000,
            69000,
            2500,
            389480,
            16000,
            21000,
            1900,
            3400,
            33000,
            20500
           ]
          }
         ],
         "name": "1957"
        },
        {
         "data": [
          {
           "coloraxis": "coloraxis",
           "geo": "geo",
           "hovertemplate": "<b>%{hovertext}</b><br><br>Year=1958<br>Country of asylum (ISO)=%{location}<br>Number of Refugees=%{z}<extra></extra>",
           "hovertext": [
            "Austria",
            "Belgium",
            "Denmark",
            "France",
            "Greece",
            "Italy",
            "Luxembourg",
            "Norway",
            "Sweden",
            "Switzerland"
           ],
           "locations": [
            "AUT",
            "BEL",
            "DNK",
            "FRA",
            "GRC",
            "ITA",
            "LUX",
            "NOR",
            "SWE",
            "CHE"
           ],
           "name": "",
           "type": "choropleth",
           "z": [
            53000,
            63000,
            2500,
            381152,
            15700,
            21000,
            1900,
            3300,
            31000,
            20000
           ]
          }
         ],
         "name": "1958"
        },
        {
         "data": [
          {
           "coloraxis": "coloraxis",
           "geo": "geo",
           "hovertemplate": "<b>%{hovertext}</b><br><br>Year=1959<br>Country of asylum (ISO)=%{location}<br>Number of Refugees=%{z}<extra></extra>",
           "hovertext": [
            "Austria",
            "Belgium",
            "Denmark",
            "France",
            "Greece",
            "Italy",
            "Luxembourg",
            "Norway",
            "Sweden",
            "Switzerland"
           ],
           "locations": [
            "AUT",
            "BEL",
            "DNK",
            "FRA",
            "GRC",
            "ITA",
            "LUX",
            "NOR",
            "SWE",
            "CHE"
           ],
           "name": "",
           "type": "choropleth",
           "z": [
            44000,
            58000,
            2400,
            387201,
            15500,
            18500,
            1900,
            3100,
            28000,
            20000
           ]
          }
         ],
         "name": "1959"
        },
        {
         "data": [
          {
           "coloraxis": "coloraxis",
           "geo": "geo",
           "hovertemplate": "<b>%{hovertext}</b><br><br>Year=1960<br>Country of asylum (ISO)=%{location}<br>Number of Refugees=%{z}<extra></extra>",
           "hovertext": [
            "Austria",
            "Belgium",
            "Denmark",
            "France",
            "Greece",
            "Italy",
            "Luxembourg",
            "Norway",
            "Sweden",
            "Switzerland"
           ],
           "locations": [
            "AUT",
            "BEL",
            "DNK",
            "FRA",
            "GRC",
            "ITA",
            "LUX",
            "NOR",
            "SWE",
            "CHE"
           ],
           "name": "",
           "type": "choropleth",
           "z": [
            39000,
            55000,
            2300,
            245935,
            15500,
            15500,
            1900,
            3000,
            26000,
            20000
           ]
          }
         ],
         "name": "1960"
        },
        {
         "data": [
          {
           "coloraxis": "coloraxis",
           "geo": "geo",
           "hovertemplate": "<b>%{hovertext}</b><br><br>Year=1961<br>Country of asylum (ISO)=%{location}<br>Number of Refugees=%{z}<extra></extra>",
           "hovertext": [
            "Austria",
            "Belgium",
            "Denmark",
            "France",
            "Greece",
            "Italy",
            "Luxembourg",
            "Norway",
            "Spain",
            "Sweden",
            "Switzerland"
           ],
           "locations": [
            "AUT",
            "BEL",
            "DNK",
            "FRA",
            "GRC",
            "ITA",
            "LUX",
            "NOR",
            "ESP",
            "SWE",
            "CHE"
           ],
           "name": "",
           "type": "choropleth",
           "z": [
            34000,
            53000,
            2200,
            253375,
            15200,
            14500,
            1900,
            3000,
            2000,
            26000,
            20000
           ]
          }
         ],
         "name": "1961"
        },
        {
         "data": [
          {
           "coloraxis": "coloraxis",
           "geo": "geo",
           "hovertemplate": "<b>%{hovertext}</b><br><br>Year=1962<br>Country of asylum (ISO)=%{location}<br>Number of Refugees=%{z}<extra></extra>",
           "hovertext": [
            "Austria",
            "Belgium",
            "Denmark",
            "France",
            "Greece",
            "Italy",
            "Luxembourg",
            "Norway",
            "Spain",
            "Sweden",
            "Switzerland"
           ],
           "locations": [
            "AUT",
            "BEL",
            "DNK",
            "FRA",
            "GRC",
            "ITA",
            "LUX",
            "NOR",
            "ESP",
            "SWE",
            "CHE"
           ],
           "name": "",
           "type": "choropleth",
           "z": [
            30000,
            51000,
            2200,
            259740,
            15700,
            14300,
            1900,
            3000,
            2000,
            26000,
            20000
           ]
          }
         ],
         "name": "1962"
        },
        {
         "data": [
          {
           "coloraxis": "coloraxis",
           "geo": "geo",
           "hovertemplate": "<b>%{hovertext}</b><br><br>Year=1963<br>Country of asylum (ISO)=%{location}<br>Number of Refugees=%{z}<extra></extra>",
           "hovertext": [
            "Austria",
            "Belgium",
            "Denmark",
            "France",
            "Greece",
            "Italy",
            "Luxembourg",
            "Norway",
            "Spain",
            "Sweden",
            "Switzerland"
           ],
           "locations": [
            "AUT",
            "BEL",
            "DNK",
            "FRA",
            "GRC",
            "ITA",
            "LUX",
            "NOR",
            "ESP",
            "SWE",
            "CHE"
           ],
           "name": "",
           "type": "choropleth",
           "z": [
            27000,
            50000,
            2200,
            174057,
            15400,
            14600,
            1900,
            3000,
            2000,
            26000,
            20000
           ]
          }
         ],
         "name": "1963"
        },
        {
         "data": [
          {
           "coloraxis": "coloraxis",
           "geo": "geo",
           "hovertemplate": "<b>%{hovertext}</b><br><br>Year=1964<br>Country of asylum (ISO)=%{location}<br>Number of Refugees=%{z}<extra></extra>",
           "hovertext": [
            "Austria",
            "Belgium",
            "France",
            "Greece",
            "Italy",
            "Spain",
            "Sweden",
            "Switzerland"
           ],
           "locations": [
            "AUT",
            "BEL",
            "FRA",
            "GRC",
            "ITA",
            "ESP",
            "SWE",
            "CHE"
           ],
           "name": "",
           "type": "choropleth",
           "z": [
            25000,
            47000,
            175861,
            16000,
            14000,
            14000,
            24000,
            20000
           ]
          }
         ],
         "name": "1964"
        },
        {
         "data": [
          {
           "coloraxis": "coloraxis",
           "geo": "geo",
           "hovertemplate": "<b>%{hovertext}</b><br><br>Year=1965<br>Country of asylum (ISO)=%{location}<br>Number of Refugees=%{z}<extra></extra>",
           "hovertext": [
            "Austria",
            "Belgium",
            "France",
            "Greece",
            "Italy",
            "Spain",
            "Sweden",
            "Switzerland"
           ],
           "locations": [
            "AUT",
            "BEL",
            "FRA",
            "GRC",
            "ITA",
            "ESP",
            "SWE",
            "CHE"
           ],
           "name": "",
           "type": "choropleth",
           "z": [
            25000,
            47000,
            177665,
            15560,
            15000,
            14000,
            22000,
            20000
           ]
          }
         ],
         "name": "1965"
        },
        {
         "data": [
          {
           "coloraxis": "coloraxis",
           "geo": "geo",
           "hovertemplate": "<b>%{hovertext}</b><br><br>Year=1966<br>Country of asylum (ISO)=%{location}<br>Number of Refugees=%{z}<extra></extra>",
           "hovertext": [
            "Austria",
            "Belgium",
            "France",
            "Greece",
            "Italy",
            "Spain",
            "Sweden",
            "Switzerland"
           ],
           "locations": [
            "AUT",
            "BEL",
            "FRA",
            "GRC",
            "ITA",
            "ESP",
            "SWE",
            "CHE"
           ],
           "name": "",
           "type": "choropleth",
           "z": [
            24500,
            40000,
            179468,
            15300,
            14000,
            17000,
            20000,
            20500
           ]
          }
         ],
         "name": "1966"
        },
        {
         "data": [
          {
           "coloraxis": "coloraxis",
           "geo": "geo",
           "hovertemplate": "<b>%{hovertext}</b><br><br>Year=1967<br>Country of asylum (ISO)=%{location}<br>Number of Refugees=%{z}<extra></extra>",
           "hovertext": [
            "Austria",
            "Belgium",
            "France",
            "Greece",
            "Italy",
            "Spain",
            "Sweden",
            "Switzerland"
           ],
           "locations": [
            "AUT",
            "BEL",
            "FRA",
            "GRC",
            "ITA",
            "ESP",
            "SWE",
            "CHE"
           ],
           "name": "",
           "type": "choropleth",
           "z": [
            24000,
            34000,
            177200,
            12270,
            13000,
            20000,
            18000,
            21000
           ]
          }
         ],
         "name": "1967"
        },
        {
         "data": [
          {
           "coloraxis": "coloraxis",
           "geo": "geo",
           "hovertemplate": "<b>%{hovertext}</b><br><br>Year=1968<br>Country of asylum (ISO)=%{location}<br>Number of Refugees=%{z}<extra></extra>",
           "hovertext": [
            "Austria",
            "Belgium",
            "Cyprus",
            "France",
            "Greece",
            "Italy",
            "Spain",
            "Sweden",
            "Switzerland"
           ],
           "locations": [
            "AUT",
            "BEL",
            "CYP",
            "FRA",
            "GRC",
            "ITA",
            "ESP",
            "SWE",
            "CHE"
           ],
           "name": "",
           "type": "choropleth",
           "z": [
            24000,
            33000,
            200,
            176736,
            8260,
            13000,
            20000,
            17000,
            26000
           ]
          }
         ],
         "name": "1968"
        },
        {
         "data": [
          {
           "coloraxis": "coloraxis",
           "geo": "geo",
           "hovertemplate": "<b>%{hovertext}</b><br><br>Year=1969<br>Country of asylum (ISO)=%{location}<br>Number of Refugees=%{z}<extra></extra>",
           "hovertext": [
            "Austria",
            "Belgium",
            "Cyprus",
            "France",
            "Greece",
            "Italy",
            "Spain",
            "Sweden",
            "Switzerland"
           ],
           "locations": [
            "AUT",
            "BEL",
            "CYP",
            "FRA",
            "GRC",
            "ITA",
            "ESP",
            "SWE",
            "CHE"
           ],
           "name": "",
           "type": "choropleth",
           "z": [
            25000,
            30000,
            200,
            175242,
            6330,
            14000,
            23000,
            17000,
            30000
           ]
          }
         ],
         "name": "1969"
        },
        {
         "data": [
          {
           "coloraxis": "coloraxis",
           "geo": "geo",
           "hovertemplate": "<b>%{hovertext}</b><br><br>Year=1970<br>Country of asylum (ISO)=%{location}<br>Number of Refugees=%{z}<extra></extra>",
           "hovertext": [
            "Austria",
            "Belgium",
            "Cyprus",
            "Denmark",
            "France",
            "Greece",
            "Italy",
            "Norway",
            "Spain",
            "Sweden",
            "Switzerland"
           ],
           "locations": [
            "AUT",
            "BEL",
            "CYP",
            "DNK",
            "FRA",
            "GRC",
            "ITA",
            "NOR",
            "ESP",
            "SWE",
            "CHE"
           ],
           "name": "",
           "type": "choropleth",
           "z": [
            25300,
            31500,
            200,
            2000,
            158543,
            5710,
            13000,
            2000,
            29500,
            20000,
            31000
           ]
          }
         ],
         "name": "1970"
        },
        {
         "data": [
          {
           "coloraxis": "coloraxis",
           "geo": "geo",
           "hovertemplate": "<b>%{hovertext}</b><br><br>Year=1971<br>Country of asylum (ISO)=%{location}<br>Number of Refugees=%{z}<extra></extra>",
           "hovertext": [
            "Austria",
            "Belgium",
            "Cyprus",
            "Denmark",
            "France",
            "Greece",
            "Italy",
            "Norway",
            "Spain",
            "Sweden",
            "Switzerland"
           ],
           "locations": [
            "AUT",
            "BEL",
            "CYP",
            "DNK",
            "FRA",
            "GRC",
            "ITA",
            "NOR",
            "ESP",
            "SWE",
            "CHE"
           ],
           "name": "",
           "type": "choropleth",
           "z": [
            25000,
            29000,
            200,
            4400,
            141844,
            5780,
            12700,
            3000,
            38000,
            20000,
            30000
           ]
          }
         ],
         "name": "1971"
        },
        {
         "data": [
          {
           "coloraxis": "coloraxis",
           "geo": "geo",
           "hovertemplate": "<b>%{hovertext}</b><br><br>Year=1972<br>Country of asylum (ISO)=%{location}<br>Number of Refugees=%{z}<extra></extra>",
           "hovertext": [
            "Austria",
            "Belgium",
            "Cyprus",
            "Denmark",
            "France",
            "Greece",
            "Italy",
            "Norway",
            "Spain",
            "Sweden",
            "Switzerland"
           ],
           "locations": [
            "AUT",
            "BEL",
            "CYP",
            "DNK",
            "FRA",
            "GRC",
            "ITA",
            "NOR",
            "ESP",
            "SWE",
            "CHE"
           ],
           "name": "",
           "type": "choropleth",
           "z": [
            25000,
            29000,
            200,
            3687,
            98900,
            3350,
            12600,
            3000,
            40000,
            20000,
            35000
           ]
          }
         ],
         "name": "1972"
        },
        {
         "data": [
          {
           "coloraxis": "coloraxis",
           "geo": "geo",
           "hovertemplate": "<b>%{hovertext}</b><br><br>Year=1973<br>Country of asylum (ISO)=%{location}<br>Number of Refugees=%{z}<extra></extra>",
           "hovertext": [
            "Austria",
            "Belgium",
            "Denmark",
            "France",
            "Greece",
            "Italy",
            "Norway",
            "Spain",
            "Sweden",
            "Switzerland"
           ],
           "locations": [
            "AUT",
            "BEL",
            "DNK",
            "FRA",
            "GRC",
            "ITA",
            "NOR",
            "ESP",
            "SWE",
            "CHE"
           ],
           "name": "",
           "type": "choropleth",
           "z": [
            25000,
            20000,
            3687,
            101830,
            2940,
            12600,
            3000,
            26000,
            20000,
            35000
           ]
          }
         ],
         "name": "1973"
        },
        {
         "data": [
          {
           "coloraxis": "coloraxis",
           "geo": "geo",
           "hovertemplate": "<b>%{hovertext}</b><br><br>Year=1974<br>Country of asylum (ISO)=%{location}<br>Number of Refugees=%{z}<extra></extra>",
           "hovertext": [
            "Austria",
            "Belgium",
            "Denmark",
            "France",
            "Greece",
            "Italy",
            "Norway",
            "Spain",
            "Sweden",
            "Switzerland"
           ],
           "locations": [
            "AUT",
            "BEL",
            "DNK",
            "FRA",
            "GRC",
            "ITA",
            "NOR",
            "ESP",
            "SWE",
            "CHE"
           ],
           "name": "",
           "type": "choropleth",
           "z": [
            25000,
            11100,
            2900,
            105538,
            2710,
            13000,
            3000,
            18000,
            20000,
            35000
           ]
          }
         ],
         "name": "1974"
        },
        {
         "data": [
          {
           "coloraxis": "coloraxis",
           "geo": "geo",
           "hovertemplate": "<b>%{hovertext}</b><br><br>Year=1975<br>Country of asylum (ISO)=%{location}<br>Number of Refugees=%{z}<extra></extra>",
           "hovertext": [
            "Austria",
            "Belgium",
            "Denmark",
            "France",
            "Greece",
            "Italy",
            "Norway",
            "Portugal",
            "Spain",
            "Sweden",
            "Switzerland"
           ],
           "locations": [
            "AUT",
            "BEL",
            "DNK",
            "FRA",
            "GRC",
            "ITA",
            "NOR",
            "PRT",
            "ESP",
            "SWE",
            "CHE"
           ],
           "name": "",
           "type": "choropleth",
           "z": [
            20000,
            16788,
            2125,
            109882,
            2600,
            11900,
            3000,
            150,
            16000,
            20000,
            35000
           ]
          }
         ],
         "name": "1975"
        },
        {
         "data": [
          {
           "coloraxis": "coloraxis",
           "geo": "geo",
           "hovertemplate": "<b>%{hovertext}</b><br><br>Year=1976<br>Country of asylum (ISO)=%{location}<br>Number of Refugees=%{z}<extra></extra>",
           "hovertext": [
            "Austria",
            "Belgium",
            "Denmark",
            "France",
            "Greece",
            "Italy",
            "Norway",
            "Spain",
            "Sweden",
            "Switzerland"
           ],
           "locations": [
            "AUT",
            "BEL",
            "DNK",
            "FRA",
            "GRC",
            "ITA",
            "NOR",
            "ESP",
            "SWE",
            "CHE"
           ],
           "name": "",
           "type": "choropleth",
           "z": [
            25000,
            17000,
            2100,
            114634,
            2560,
            11900,
            1000,
            16500,
            20000,
            35000
           ]
          }
         ],
         "name": "1976"
        },
        {
         "data": [
          {
           "coloraxis": "coloraxis",
           "geo": "geo",
           "hovertemplate": "<b>%{hovertext}</b><br><br>Year=1977<br>Country of asylum (ISO)=%{location}<br>Number of Refugees=%{z}<extra></extra>",
           "hovertext": [
            "Austria",
            "Belgium",
            "Cyprus",
            "Denmark",
            "France",
            "Greece",
            "Italy",
            "Norway",
            "Portugal",
            "Romania",
            "Spain",
            "Sweden",
            "Switzerland"
           ],
           "locations": [
            "AUT",
            "BEL",
            "CYP",
            "DNK",
            "FRA",
            "GRC",
            "ITA",
            "NOR",
            "PRT",
            "ROU",
            "ESP",
            "SWE",
            "CHE"
           ],
           "name": "",
           "type": "choropleth",
           "z": [
            20000,
            17000,
            700,
            1764,
            119413,
            2610,
            11700,
            6000,
            7500,
            1000,
            15000,
            20000,
            30000
           ]
          }
         ],
         "name": "1977"
        },
        {
         "data": [
          {
           "coloraxis": "coloraxis",
           "geo": "geo",
           "hovertemplate": "<b>%{hovertext}</b><br><br>Year=1978<br>Country of asylum (ISO)=%{location}<br>Number of Refugees=%{z}<extra></extra>",
           "hovertext": [
            "Austria",
            "Belgium",
            "Denmark",
            "France",
            "Greece",
            "Italy",
            "Norway",
            "Portugal",
            "Romania",
            "Spain",
            "Sweden",
            "Switzerland"
           ],
           "locations": [
            "AUT",
            "BEL",
            "DNK",
            "FRA",
            "GRC",
            "ITA",
            "NOR",
            "PRT",
            "ROU",
            "ESP",
            "SWE",
            "CHE"
           ],
           "name": "",
           "type": "choropleth",
           "z": [
            20000,
            17000,
            1800,
            126229,
            2520,
            11700,
            6000,
            7500,
            1000,
            15000,
            20000,
            30000
           ]
          }
         ],
         "name": "1978"
        },
        {
         "data": [
          {
           "coloraxis": "coloraxis",
           "geo": "geo",
           "hovertemplate": "<b>%{hovertext}</b><br><br>Year=1979<br>Country of asylum (ISO)=%{location}<br>Number of Refugees=%{z}<extra></extra>",
           "hovertext": [
            "Austria",
            "Belgium",
            "Denmark",
            "France",
            "Greece",
            "Italy",
            "Norway",
            "Portugal",
            "Romania",
            "Spain",
            "Sweden",
            "Switzerland"
           ],
           "locations": [
            "AUT",
            "BEL",
            "DNK",
            "FRA",
            "GRC",
            "ITA",
            "NOR",
            "PRT",
            "ROU",
            "ESP",
            "SWE",
            "CHE"
           ],
           "name": "",
           "type": "choropleth",
           "z": [
            25000,
            32000,
            1800,
            119489,
            3770,
            14100,
            6000,
            7600,
            1000,
            26000,
            20000,
            30000
           ]
          }
         ],
         "name": "1979"
        },
        {
         "data": [
          {
           "coloraxis": "coloraxis",
           "geo": "geo",
           "hovertemplate": "<b>%{hovertext}</b><br><br>Year=1980<br>Country of asylum (ISO)=%{location}<br>Number of Refugees=%{z}<extra></extra>",
           "hovertext": [
            "Austria",
            "Belgium",
            "Denmark",
            "France",
            "Greece",
            "Italy",
            "Norway",
            "Portugal",
            "Romania",
            "Spain",
            "Sweden",
            "Switzerland"
           ],
           "locations": [
            "AUT",
            "BEL",
            "DNK",
            "FRA",
            "GRC",
            "ITA",
            "NOR",
            "PRT",
            "ROU",
            "ESP",
            "SWE",
            "CHE"
           ],
           "name": "",
           "type": "choropleth",
           "z": [
            15525,
            33000,
            1800,
            121958,
            3750,
            21531,
            6000,
            7600,
            1000,
            21500,
            20000,
            32000
           ]
          }
         ],
         "name": "1980"
        },
        {
         "data": [
          {
           "coloraxis": "coloraxis",
           "geo": "geo",
           "hovertemplate": "<b>%{hovertext}</b><br><br>Year=1981<br>Country of asylum (ISO)=%{location}<br>Number of Refugees=%{z}<extra></extra>",
           "hovertext": [
            "Austria",
            "Belgium",
            "Denmark",
            "France",
            "Greece",
            "Italy",
            "Norway",
            "Portugal",
            "Romania",
            "Spain",
            "Sweden",
            "Switzerland"
           ],
           "locations": [
            "AUT",
            "BEL",
            "DNK",
            "FRA",
            "GRC",
            "ITA",
            "NOR",
            "PRT",
            "ROU",
            "ESP",
            "SWE",
            "CHE"
           ],
           "name": "",
           "type": "choropleth",
           "z": [
            17899,
            35000,
            1800,
            125597,
            3990,
            22601,
            6000,
            7600,
            1000,
            21500,
            20000,
            40000
           ]
          }
         ],
         "name": "1981"
        },
        {
         "data": [
          {
           "coloraxis": "coloraxis",
           "geo": "geo",
           "hovertemplate": "<b>%{hovertext}</b><br><br>Year=1982<br>Country of asylum (ISO)=%{location}<br>Number of Refugees=%{z}<extra></extra>",
           "hovertext": [
            "Austria",
            "Belgium",
            "Denmark",
            "France",
            "Greece",
            "Italy",
            "Norway",
            "Portugal",
            "Romania",
            "Spain",
            "Sweden",
            "Switzerland"
           ],
           "locations": [
            "AUT",
            "BEL",
            "DNK",
            "FRA",
            "GRC",
            "ITA",
            "NOR",
            "PRT",
            "ROU",
            "ESP",
            "SWE",
            "CHE"
           ],
           "name": "",
           "type": "choropleth",
           "z": [
            34963,
            21000,
            1800,
            152223,
            3950,
            22865,
            6000,
            7600,
            1000,
            23500,
            20000,
            33404
           ]
          }
         ],
         "name": "1982"
        },
        {
         "data": [
          {
           "coloraxis": "coloraxis",
           "geo": "geo",
           "hovertemplate": "<b>%{hovertext}</b><br><br>Year=1983<br>Country of asylum (ISO)=%{location}<br>Number of Refugees=%{z}<extra></extra>",
           "hovertext": [
            "Austria",
            "Belgium",
            "Denmark",
            "France",
            "Greece",
            "Italy",
            "Norway",
            "Portugal",
            "Romania",
            "Spain",
            "Sweden",
            "Switzerland"
           ],
           "locations": [
            "AUT",
            "BEL",
            "DNK",
            "FRA",
            "GRC",
            "ITA",
            "NOR",
            "PRT",
            "ROU",
            "ESP",
            "SWE",
            "CHE"
           ],
           "name": "",
           "type": "choropleth",
           "z": [
            37298,
            35000,
            3600,
            164113,
            4090,
            22062,
            10000,
            700,
            1000,
            23700,
            43000,
            32312
           ]
          }
         ],
         "name": "1983"
        },
        {
         "data": [
          {
           "coloraxis": "coloraxis",
           "geo": "geo",
           "hovertemplate": "<b>%{hovertext}</b><br><br>Year=1984<br>Country of asylum (ISO)=%{location}<br>Number of Refugees=%{z}<extra></extra>",
           "hovertext": [
            "Austria",
            "Belgium",
            "Denmark",
            "Finland",
            "France",
            "Greece",
            "Ireland",
            "Italy",
            "Norway",
            "Portugal",
            "Romania",
            "Spain",
            "Sweden",
            "Switzerland"
           ],
           "locations": [
            "AUT",
            "BEL",
            "DNK",
            "FIN",
            "FRA",
            "GRC",
            "IRL",
            "ITA",
            "NOR",
            "PRT",
            "ROU",
            "ESP",
            "SWE",
            "CHE"
           ],
           "name": "",
           "type": "choropleth",
           "z": [
            39099,
            36400,
            8500,
            500,
            169863,
            4320,
            500,
            21482,
            10000,
            600,
            1000,
            9900,
            90600,
            31201
           ]
          }
         ],
         "name": "1984"
        },
        {
         "data": [
          {
           "coloraxis": "coloraxis",
           "geo": "geo",
           "hovertemplate": "<b>%{hovertext}</b><br><br>Year=1985<br>Country of asylum (ISO)=%{location}<br>Number of Refugees=%{z}<extra></extra>",
           "hovertext": [
            "Austria",
            "Belgium",
            "Denmark",
            "Finland",
            "France",
            "Greece",
            "Ireland",
            "Italy",
            "Norway",
            "Portugal",
            "Spain",
            "Sweden",
            "Switzerland"
           ],
           "locations": [
            "AUT",
            "BEL",
            "DNK",
            "FIN",
            "FRA",
            "GRC",
            "IRL",
            "ITA",
            "NOR",
            "PRT",
            "ESP",
            "SWE",
            "CHE"
           ],
           "name": "",
           "type": "choropleth",
           "z": [
            40534,
            36600,
            8500,
            500,
            174213,
            4360,
            600,
            22386,
            11800,
            700,
            9300,
            90600,
            30726
           ]
          }
         ],
         "name": "1985"
        },
        {
         "data": [
          {
           "coloraxis": "coloraxis",
           "geo": "geo",
           "hovertemplate": "<b>%{hovertext}</b><br><br>Year=1986<br>Country of asylum (ISO)=%{location}<br>Number of Refugees=%{z}<extra></extra>",
           "hovertext": [
            "Austria",
            "Belgium",
            "Denmark",
            "Finland",
            "France",
            "Greece",
            "Ireland",
            "Italy",
            "Norway",
            "Portugal",
            "Spain",
            "Sweden",
            "Switzerland"
           ],
           "locations": [
            "AUT",
            "BEL",
            "DNK",
            "FIN",
            "FRA",
            "GRC",
            "IRL",
            "ITA",
            "NOR",
            "PRT",
            "ESP",
            "SWE",
            "CHE"
           ],
           "name": "",
           "type": "choropleth",
           "z": [
            41176,
            35900,
            23000,
            500,
            180258,
            3280,
            600,
            21505,
            13200,
            800,
            10200,
            120000,
            31343
           ]
          }
         ],
         "name": "1986"
        },
        {
         "data": [
          {
           "coloraxis": "coloraxis",
           "geo": "geo",
           "hovertemplate": "<b>%{hovertext}</b><br><br>Year=1987<br>Country of asylum (ISO)=%{location}<br>Number of Refugees=%{z}<extra></extra>",
           "hovertext": [
            "Austria",
            "Belgium",
            "Denmark",
            "Finland",
            "France",
            "Greece",
            "Ireland",
            "Italy",
            "Norway",
            "Portugal",
            "Spain",
            "Sweden",
            "Switzerland"
           ],
           "locations": [
            "AUT",
            "BEL",
            "DNK",
            "FIN",
            "FRA",
            "GRC",
            "IRL",
            "ITA",
            "NOR",
            "PRT",
            "ESP",
            "SWE",
            "CHE"
           ],
           "name": "",
           "type": "choropleth",
           "z": [
            41228,
            22000,
            30000,
            800,
            179306,
            4630,
            540,
            20413,
            15000,
            800,
            9200,
            130000,
            31707
           ]
          }
         ],
         "name": "1987"
        },
        {
         "data": [
          {
           "coloraxis": "coloraxis",
           "geo": "geo",
           "hovertemplate": "<b>%{hovertext}</b><br><br>Year=1988<br>Country of asylum (ISO)=%{location}<br>Number of Refugees=%{z}<extra></extra>",
           "hovertext": [
            "Austria",
            "Belgium",
            "Cyprus",
            "Denmark",
            "Finland",
            "France",
            "Greece",
            "Ireland",
            "Italy",
            "Norway",
            "Portugal",
            "Spain",
            "Sweden",
            "Switzerland"
           ],
           "locations": [
            "AUT",
            "BEL",
            "CYP",
            "DNK",
            "FIN",
            "FRA",
            "GRC",
            "IRL",
            "ITA",
            "NOR",
            "PRT",
            "ESP",
            "SWE",
            "CHE"
           ],
           "name": "",
           "type": "choropleth",
           "z": [
            39830,
            23117,
            60,
            27310,
            1065,
            183946,
            8262,
            480,
            19260,
            10952,
            789,
            8691,
            139783,
            31949
           ]
          }
         ],
         "name": "1988"
        },
        {
         "data": [
          {
           "coloraxis": "coloraxis",
           "geo": "geo",
           "hovertemplate": "<b>%{hovertext}</b><br><br>Year=1989<br>Country of asylum (ISO)=%{location}<br>Number of Refugees=%{z}<extra></extra>",
           "hovertext": [
            "Austria",
            "Belgium",
            "Denmark",
            "Finland",
            "France",
            "Greece",
            "Hungary",
            "Ireland",
            "Italy",
            "Norway",
            "Portugal",
            "Spain",
            "Sweden",
            "Switzerland"
           ],
           "locations": [
            "AUT",
            "BEL",
            "DNK",
            "FIN",
            "FRA",
            "GRC",
            "HUN",
            "IRL",
            "ITA",
            "NOR",
            "PRT",
            "ESP",
            "SWE",
            "CHE"
           ],
           "name": "",
           "type": "choropleth",
           "z": [
            39405,
            25531,
            30726,
            2000,
            180258,
            7490,
            27000,
            420,
            13893,
            18500,
            657,
            8676,
            139783,
            36763
           ]
          }
         ],
         "name": "1989"
        },
        {
         "data": [
          {
           "coloraxis": "coloraxis",
           "geo": "geo",
           "hovertemplate": "<b>%{hovertext}</b><br><br>Year=1990<br>Country of asylum (ISO)=%{location}<br>Number of Refugees=%{z}<extra></extra>",
           "hovertext": [
            "Austria",
            "Belgium",
            "Cyprus",
            "Denmark",
            "Finland",
            "France",
            "Greece",
            "Hungary",
            "Iceland",
            "Ireland",
            "Italy",
            "Luxembourg",
            "Norway",
            "Portugal",
            "Spain",
            "Sweden",
            "Switzerland"
           ],
           "locations": [
            "AUT",
            "BEL",
            "CYP",
            "DNK",
            "FIN",
            "FRA",
            "GRC",
            "HUN",
            "ISL",
            "IRL",
            "ITA",
            "LUX",
            "NOR",
            "PRT",
            "ESP",
            "SWE",
            "CHE"
           ],
           "name": "",
           "type": "choropleth",
           "z": [
            34938,
            25911,
            31,
            32887,
            2348,
            193000,
            8488,
            45123,
            85,
            360,
            10816,
            687,
            19581,
            867,
            8303,
            109654,
            40943
           ]
          }
         ],
         "name": "1990"
        },
        {
         "data": [
          {
           "coloraxis": "coloraxis",
           "geo": "geo",
           "hovertemplate": "<b>%{hovertext}</b><br><br>Year=1991<br>Country of asylum (ISO)=%{location}<br>Number of Refugees=%{z}<extra></extra>",
           "hovertext": [
            "Austria",
            "Belgium",
            "Cyprus",
            "Denmark",
            "Finland",
            "France",
            "Greece",
            "Hungary",
            "Iceland",
            "Ireland",
            "Italy",
            "Luxembourg",
            "Norway",
            "Poland",
            "Portugal",
            "Romania",
            "Spain",
            "Sweden",
            "Switzerland"
           ],
           "locations": [
            "AUT",
            "BEL",
            "CYP",
            "DNK",
            "FIN",
            "FRA",
            "GRC",
            "HUN",
            "ISL",
            "IRL",
            "ITA",
            "LUX",
            "NOR",
            "POL",
            "PRT",
            "ROU",
            "ESP",
            "SWE",
            "CHE"
           ],
           "name": "",
           "type": "choropleth",
           "z": [
            34508,
            24071,
            61,
            36100,
            4561,
            174756,
            8989,
            73838,
            141,
            300,
            9796,
            692,
            29054,
            550,
            998,
            651,
            4005,
            124457,
            45622
           ]
          }
         ],
         "name": "1991"
        },
        {
         "data": [
          {
           "coloraxis": "coloraxis",
           "geo": "geo",
           "hovertemplate": "<b>%{hovertext}</b><br><br>Year=1992<br>Country of asylum (ISO)=%{location}<br>Number of Refugees=%{z}<extra></extra>",
           "hovertext": [
            "Albania",
            "Austria",
            "Belgium",
            "Bulgaria",
            "Croatia",
            "Cyprus",
            "Denmark",
            "Finland",
            "France",
            "Greece",
            "Hungary",
            "Iceland",
            "Ireland",
            "Italy",
            "Luxembourg",
            "North Macedonia",
            "Norway",
            "Poland",
            "Portugal",
            "Romania",
            "Slovenia",
            "Spain",
            "Sweden",
            "Switzerland"
           ],
           "locations": [
            "ALB",
            "AUT",
            "BEL",
            "BGR",
            "HRV",
            "CYP",
            "DNK",
            "FIN",
            "FRA",
            "GRC",
            "HUN",
            "ISL",
            "IRL",
            "ITA",
            "LUX",
            "MKD",
            "NOR",
            "POL",
            "PRT",
            "ROU",
            "SVN",
            "ESP",
            "SWE",
            "CHE"
           ],
           "name": "",
           "type": "choropleth",
           "z": [
            3000,
            62355,
            24292,
            218,
            403000,
            80,
            39124,
            5950,
            156512,
            8456,
            32412,
            154,
            500,
            9242,
            2208,
            32000,
            29846,
            2719,
            1778,
            520,
            74100,
            4040,
            131069,
            51930
           ]
          }
         ],
         "name": "1992"
        },
        {
         "data": [
          {
           "coloraxis": "coloraxis",
           "geo": "geo",
           "hovertemplate": "<b>%{hovertext}</b><br><br>Year=1993<br>Country of asylum (ISO)=%{location}<br>Number of Refugees=%{z}<extra></extra>",
           "hovertext": [
            "Albania",
            "Austria",
            "Belgium",
            "Bosnia and Herzegovina",
            "Bulgaria",
            "Croatia",
            "Cyprus",
            "Denmark",
            "Finland",
            "France",
            "Greece",
            "Hungary",
            "Iceland",
            "Ireland",
            "Italy",
            "Luxembourg",
            "Malta",
            "North Macedonia",
            "Norway",
            "Poland",
            "Portugal",
            "Romania",
            "Slovakia",
            "Slovenia",
            "Spain",
            "Sweden",
            "Switzerland"
           ],
           "locations": [
            "ALB",
            "AUT",
            "BEL",
            "BIH",
            "BGR",
            "HRV",
            "CYP",
            "DNK",
            "FIN",
            "FRA",
            "GRC",
            "HUN",
            "ISL",
            "IRL",
            "ITA",
            "LUX",
            "MLT",
            "MKD",
            "NOR",
            "POL",
            "PRT",
            "ROU",
            "SVK",
            "SVN",
            "ESP",
            "SWE",
            "CHE"
           ],
           "name": "",
           "type": "choropleth",
           "z": [
            3000,
            57687,
            24908,
            0,
            443,
            287000,
            81,
            44570,
            8511,
            166269,
            7859,
            3019,
            160,
            119,
            50266,
            225,
            505,
            31452,
            38375,
            810,
            600,
            1170,
            1521,
            45000,
            4990,
            162386,
            56586
           ]
          }
         ],
         "name": "1993"
        },
        {
         "data": [
          {
           "coloraxis": "coloraxis",
           "geo": "geo",
           "hovertemplate": "<b>%{hovertext}</b><br><br>Year=1994<br>Country of asylum (ISO)=%{location}<br>Number of Refugees=%{z}<extra></extra>",
           "hovertext": [
            "Albania",
            "Austria",
            "Belarus",
            "Belgium",
            "Bosnia and Herzegovina",
            "Bulgaria",
            "Croatia",
            "Cyprus",
            "Denmark",
            "Finland",
            "France",
            "Greece",
            "Hungary",
            "Iceland",
            "Ireland",
            "Italy",
            "Luxembourg",
            "Malta",
            "North Macedonia",
            "Norway",
            "Poland",
            "Portugal",
            "Romania",
            "Slovakia",
            "Slovenia",
            "Spain",
            "Sweden",
            "Switzerland",
            "Ukraine"
           ],
           "locations": [
            "ALB",
            "AUT",
            "BLR",
            "BEL",
            "BIH",
            "BGR",
            "HRV",
            "CYP",
            "DNK",
            "FIN",
            "FRA",
            "GRC",
            "HUN",
            "ISL",
            "IRL",
            "ITA",
            "LUX",
            "MLT",
            "MKD",
            "NOR",
            "POL",
            "PRT",
            "ROU",
            "SVK",
            "SVN",
            "ESP",
            "SWE",
            "CHE",
            "UKR"
           ],
           "name": "",
           "type": "choropleth",
           "z": [
            3000,
            40703,
            1824,
            19497,
            0,
            1054,
            183600,
            67,
            49564,
            9511,
            195288,
            7773,
            2904,
            160,
            400,
            73058,
            300,
            424,
            14891,
            44617,
            393,
            248,
            1170,
            159,
            29156,
            5351,
            200774,
            75295,
            5193
           ]
          }
         ],
         "name": "1994"
        },
        {
         "data": [
          {
           "coloraxis": "coloraxis",
           "geo": "geo",
           "hovertemplate": "<b>%{hovertext}</b><br><br>Year=1995<br>Country of asylum (ISO)=%{location}<br>Number of Refugees=%{z}<extra></extra>",
           "hovertext": [
            "Albania",
            "Austria",
            "Belarus",
            "Belgium",
            "Bosnia and Herzegovina",
            "Bulgaria",
            "Croatia",
            "Cyprus",
            "Denmark",
            "Finland",
            "France",
            "Greece",
            "Hungary",
            "Iceland",
            "Ireland",
            "Italy",
            "Luxembourg",
            "Malta",
            "North Macedonia",
            "Norway",
            "Poland",
            "Portugal",
            "Romania",
            "Slovakia",
            "Slovenia",
            "Spain",
            "Sweden",
            "Switzerland",
            "Ukraine"
           ],
           "locations": [
            "ALB",
            "AUT",
            "BLR",
            "BEL",
            "BIH",
            "BGR",
            "HRV",
            "CYP",
            "DNK",
            "FIN",
            "FRA",
            "GRC",
            "HUN",
            "ISL",
            "IRL",
            "ITA",
            "LUX",
            "MLT",
            "MKD",
            "NOR",
            "POL",
            "PRT",
            "ROU",
            "SVK",
            "SVN",
            "ESP",
            "SWE",
            "CHE",
            "UKR"
           ],
           "name": "",
           "type": "choropleth",
           "z": [
            4721,
            34385,
            28988,
            31691,
            0,
            1318,
            198647,
            53,
            64850,
            10191,
            155240,
            4428,
            11394,
            197,
            400,
            74298,
            700,
            410,
            9048,
            47607,
            600,
            248,
            192,
            2339,
            22314,
            5840,
            199194,
            82943,
            5193
           ]
          }
         ],
         "name": "1995"
        },
        {
         "data": [
          {
           "coloraxis": "coloraxis",
           "geo": "geo",
           "hovertemplate": "<b>%{hovertext}</b><br><br>Year=1996<br>Country of asylum (ISO)=%{location}<br>Number of Refugees=%{z}<extra></extra>",
           "hovertext": [
            "Albania",
            "Austria",
            "Belarus",
            "Belgium",
            "Bosnia and Herzegovina",
            "Bulgaria",
            "Croatia",
            "Cyprus",
            "Denmark",
            "Finland",
            "France",
            "Greece",
            "Hungary",
            "Iceland",
            "Ireland",
            "Italy",
            "Luxembourg",
            "Malta",
            "North Macedonia",
            "Norway",
            "Poland",
            "Portugal",
            "Romania",
            "Slovakia",
            "Slovenia",
            "Spain",
            "Sweden",
            "Switzerland",
            "Ukraine"
           ],
           "locations": [
            "ALB",
            "AUT",
            "BLR",
            "BEL",
            "BIH",
            "BGR",
            "HRV",
            "CYP",
            "DNK",
            "FIN",
            "FRA",
            "GRC",
            "HUN",
            "ISL",
            "IRL",
            "ITA",
            "LUX",
            "MLT",
            "MKD",
            "NOR",
            "POL",
            "PRT",
            "ROU",
            "SVK",
            "SVN",
            "ESP",
            "SWE",
            "CHE",
            "UKR"
           ],
           "name": "",
           "type": "choropleth",
           "z": [
            4927,
            89116,
            30525,
            36060,
            0,
            1431,
            165395,
            45,
            66371,
            11382,
            151331,
            5780,
            7537,
            232,
            69,
            64712,
            700,
            357,
            5089,
            48409,
            600,
            297,
            261,
            1387,
            10014,
            5672,
            191159,
            84413,
            3585
           ]
          }
         ],
         "name": "1996"
        },
        {
         "data": [
          {
           "coloraxis": "coloraxis",
           "geo": "geo",
           "hovertemplate": "<b>%{hovertext}</b><br><br>Year=1997<br>Country of asylum (ISO)=%{location}<br>Number of Refugees=%{z}<extra></extra>",
           "hovertext": [
            "Albania",
            "Austria",
            "Belarus",
            "Belgium",
            "Bosnia and Herzegovina",
            "Bulgaria",
            "Croatia",
            "Cyprus",
            "Denmark",
            "Finland",
            "France",
            "Greece",
            "Hungary",
            "Iceland",
            "Ireland",
            "Italy",
            "Lithuania",
            "Luxembourg",
            "Malta",
            "North Macedonia",
            "Norway",
            "Poland",
            "Portugal",
            "Romania",
            "Slovakia",
            "Slovenia",
            "Spain",
            "Sweden",
            "Switzerland",
            "Ukraine"
           ],
           "locations": [
            "ALB",
            "AUT",
            "BLR",
            "BEL",
            "BIH",
            "BGR",
            "HRV",
            "CYP",
            "DNK",
            "FIN",
            "FRA",
            "GRC",
            "HUN",
            "ISL",
            "IRL",
            "ITA",
            "LTU",
            "LUX",
            "MLT",
            "MKD",
            "NOR",
            "POL",
            "PRT",
            "ROU",
            "SVK",
            "SVN",
            "ESP",
            "SWE",
            "CHE",
            "UKR"
           ],
           "name": "",
           "type": "choropleth",
           "z": [
            34,
            84394,
            50,
            36060,
            40000,
            382,
            68863,
            38,
            68106,
            12017,
            146558,
            5520,
            5890,
            252,
            430,
            66601,
            5,
            700,
            334,
            3500,
            47372,
            835,
            310,
            631,
            746,
            5133,
            5512,
            186719,
            83205,
            4566
           ]
          }
         ],
         "name": "1997"
        },
        {
         "data": [
          {
           "coloraxis": "coloraxis",
           "geo": "geo",
           "hovertemplate": "<b>%{hovertext}</b><br><br>Year=1998<br>Country of asylum (ISO)=%{location}<br>Number of Refugees=%{z}<extra></extra>",
           "hovertext": [
            "Albania",
            "Austria",
            "Belarus",
            "Belgium",
            "Bosnia and Herzegovina",
            "Bulgaria",
            "Croatia",
            "Cyprus",
            "Denmark",
            "Finland",
            "France",
            "Greece",
            "Hungary",
            "Iceland",
            "Ireland",
            "Italy",
            "Lithuania",
            "Luxembourg",
            "Malta",
            "North Macedonia",
            "Norway",
            "Poland",
            "Portugal",
            "Romania",
            "Slovakia",
            "Slovenia",
            "Spain",
            "Sweden",
            "Switzerland",
            "Ukraine"
           ],
           "locations": [
            "ALB",
            "AUT",
            "BLR",
            "BEL",
            "BIH",
            "BGR",
            "HRV",
            "CYP",
            "DNK",
            "FIN",
            "FRA",
            "GRC",
            "HUN",
            "ISL",
            "IRL",
            "ITA",
            "LTU",
            "LUX",
            "MLT",
            "MKD",
            "NOR",
            "POL",
            "PRT",
            "ROU",
            "SVK",
            "SVN",
            "ESP",
            "SWE",
            "CHE",
            "UKR"
           ],
           "name": "",
           "type": "choropleth",
           "z": [
            22334,
            80294,
            75,
            15501,
            40000,
            241,
            29027,
            77,
            68996,
            12288,
            140213,
            6145,
            3504,
            286,
            600,
            5440,
            30,
            700,
            291,
            1700,
            45325,
            895,
            329,
            983,
            418,
            3462,
            5918,
            178782,
            81875,
            6101
           ]
          }
         ],
         "name": "1998"
        },
        {
         "data": [
          {
           "coloraxis": "coloraxis",
           "geo": "geo",
           "hovertemplate": "<b>%{hovertext}</b><br><br>Year=1999<br>Country of asylum (ISO)=%{location}<br>Number of Refugees=%{z}<extra></extra>",
           "hovertext": [
            "Albania",
            "Austria",
            "Belarus",
            "Belgium",
            "Bosnia and Herzegovina",
            "Bulgaria",
            "Croatia",
            "Cyprus",
            "Denmark",
            "Finland",
            "France",
            "Greece",
            "Hungary",
            "Iceland",
            "Ireland",
            "Italy",
            "Latvia",
            "Lithuania",
            "Luxembourg",
            "Malta",
            "North Macedonia",
            "Norway",
            "Poland",
            "Portugal",
            "Romania",
            "Slovakia",
            "Slovenia",
            "Spain",
            "Sweden",
            "Switzerland",
            "Ukraine"
           ],
           "locations": [
            "ALB",
            "AUT",
            "BLR",
            "BEL",
            "BIH",
            "BGR",
            "HRV",
            "CYP",
            "DNK",
            "FIN",
            "FRA",
            "GRC",
            "HUN",
            "ISL",
            "IRL",
            "ITA",
            "LVA",
            "LTU",
            "LUX",
            "MLT",
            "MKD",
            "NOR",
            "POL",
            "PRT",
            "ROU",
            "SVK",
            "SVN",
            "ESP",
            "SWE",
            "CHE",
            "UKR"
           ],
           "name": "",
           "type": "choropleth",
           "z": [
            3932,
            82076,
            261,
            16747,
            65645,
            542,
            28374,
            112,
            68982,
            12866,
            129722,
            6283,
            4980,
            245,
            2829,
            6004,
            5,
            38,
            700,
            271,
            21200,
            43441,
            937,
            364,
            1234,
            436,
            4380,
            6708,
            159504,
            82273,
            2687
           ]
          }
         ],
         "name": "1999"
        },
        {
         "data": [
          {
           "coloraxis": "coloraxis",
           "geo": "geo",
           "hovertemplate": "<b>%{hovertext}</b><br><br>Year=2000<br>Country of asylum (ISO)=%{location}<br>Number of Refugees=%{z}<extra></extra>",
           "hovertext": [
            "Albania",
            "Austria",
            "Belarus",
            "Belgium",
            "Bosnia and Herzegovina",
            "Bulgaria",
            "Croatia",
            "Cyprus",
            "Denmark",
            "Estonia",
            "Finland",
            "France",
            "Greece",
            "Hungary",
            "Iceland",
            "Ireland",
            "Italy",
            "Latvia",
            "Liechtenstein",
            "Lithuania",
            "Luxembourg",
            "Malta",
            "North Macedonia",
            "Norway",
            "Poland",
            "Portugal",
            "Romania",
            "Slovakia",
            "Slovenia",
            "Spain",
            "Sweden",
            "Switzerland",
            "Ukraine"
           ],
           "locations": [
            "ALB",
            "AUT",
            "BLR",
            "BEL",
            "BIH",
            "BGR",
            "HRV",
            "CYP",
            "DNK",
            "EST",
            "FIN",
            "FRA",
            "GRC",
            "HUN",
            "ISL",
            "IRL",
            "ITA",
            "LVA",
            "LIE",
            "LTU",
            "LUX",
            "MLT",
            "MKD",
            "NOR",
            "POL",
            "PRT",
            "ROU",
            "SVK",
            "SVN",
            "ESP",
            "SWE",
            "CHE",
            "UKR"
           ],
           "name": "",
           "type": "choropleth",
           "z": [
            521,
            15493,
            453,
            18821,
            38150,
            1470,
            22437,
            73,
            71017,
            0,
            13271,
            132508,
            6653,
            5053,
            235,
            2530,
            6813,
            5,
            70,
            48,
            759,
            191,
            9048,
            47700,
            1011,
            416,
            1677,
            444,
            2814,
            6982,
            157206,
            57624,
            2927
           ]
          }
         ],
         "name": "2000"
        },
        {
         "data": [
          {
           "coloraxis": "coloraxis",
           "geo": "geo",
           "hovertemplate": "<b>%{hovertext}</b><br><br>Year=2001<br>Country of asylum (ISO)=%{location}<br>Number of Refugees=%{z}<extra></extra>",
           "hovertext": [
            "Albania",
            "Austria",
            "Belarus",
            "Belgium",
            "Bosnia and Herzegovina",
            "Bulgaria",
            "Croatia",
            "Cyprus",
            "Denmark",
            "Estonia",
            "Finland",
            "France",
            "Greece",
            "Hungary",
            "Iceland",
            "Ireland",
            "Italy",
            "Latvia",
            "Liechtenstein",
            "Lithuania",
            "Luxembourg",
            "Malta",
            "North Macedonia",
            "Norway",
            "Poland",
            "Portugal",
            "Romania",
            "Slovakia",
            "Slovenia",
            "Spain",
            "Sweden",
            "Switzerland",
            "Ukraine"
           ],
           "locations": [
            "ALB",
            "AUT",
            "BLR",
            "BEL",
            "BIH",
            "BGR",
            "HRV",
            "CYP",
            "DNK",
            "EST",
            "FIN",
            "FRA",
            "GRC",
            "HUN",
            "ISL",
            "IRL",
            "ITA",
            "LVA",
            "LIE",
            "LTU",
            "LUX",
            "MLT",
            "MKD",
            "NOR",
            "POL",
            "PRT",
            "ROU",
            "SVK",
            "SVN",
            "ESP",
            "SWE",
            "CHE",
            "UKR"
           ],
           "name": "",
           "type": "choropleth",
           "z": [
            291,
            14375,
            581,
            12252,
            32744,
            2984,
            21875,
            84,
            73284,
            6,
            12726,
            131601,
            6927,
            4700,
            204,
            3585,
            8541,
            5,
            140,
            283,
            1201,
            175,
            4362,
            50122,
            1295,
            444,
            1792,
            461,
            2411,
            6804,
            146480,
            58471,
            2958
           ]
          }
         ],
         "name": "2001"
        },
        {
         "data": [
          {
           "coloraxis": "coloraxis",
           "geo": "geo",
           "hovertemplate": "<b>%{hovertext}</b><br><br>Year=2002<br>Country of asylum (ISO)=%{location}<br>Number of Refugees=%{z}<extra></extra>",
           "hovertext": [
            "Albania",
            "Austria",
            "Belarus",
            "Belgium",
            "Bosnia and Herzegovina",
            "Bulgaria",
            "Croatia",
            "Cyprus",
            "Denmark",
            "Estonia",
            "Finland",
            "France",
            "Greece",
            "Hungary",
            "Iceland",
            "Ireland",
            "Italy",
            "Latvia",
            "Liechtenstein",
            "Lithuania",
            "Luxembourg",
            "Malta",
            "North Macedonia",
            "Norway",
            "Poland",
            "Portugal",
            "Romania",
            "Slovakia",
            "Slovenia",
            "Spain",
            "Sweden",
            "Switzerland",
            "Ukraine"
           ],
           "locations": [
            "ALB",
            "AUT",
            "BLR",
            "BEL",
            "BIH",
            "BGR",
            "HRV",
            "CYP",
            "DNK",
            "EST",
            "FIN",
            "FRA",
            "GRC",
            "HUN",
            "ISL",
            "IRL",
            "ITA",
            "LVA",
            "LIE",
            "LTU",
            "LUX",
            "MLT",
            "MKD",
            "NOR",
            "POL",
            "PRT",
            "ROU",
            "SVK",
            "SVN",
            "ESP",
            "SWE",
            "CHE",
            "UKR"
           ],
           "name": "",
           "type": "choropleth",
           "z": [
            18,
            14122,
            612,
            12560,
            28020,
            3642,
            8392,
            171,
            73600,
            6,
            12485,
            132182,
            2778,
            6075,
            197,
            5366,
            10031,
            5,
            126,
            363,
            1201,
            311,
            2815,
            50421,
            1586,
            460,
            1839,
            443,
            384,
            6783,
            142170,
            54081,
            2940
           ]
          }
         ],
         "name": "2002"
        },
        {
         "data": [
          {
           "coloraxis": "coloraxis",
           "geo": "geo",
           "hovertemplate": "<b>%{hovertext}</b><br><br>Year=2003<br>Country of asylum (ISO)=%{location}<br>Number of Refugees=%{z}<extra></extra>",
           "hovertext": [
            "Albania",
            "Austria",
            "Belarus",
            "Belgium",
            "Bosnia and Herzegovina",
            "Bulgaria",
            "Croatia",
            "Cyprus",
            "Denmark",
            "Estonia",
            "Finland",
            "France",
            "Greece",
            "Hungary",
            "Iceland",
            "Ireland",
            "Italy",
            "Latvia",
            "Liechtenstein",
            "Lithuania",
            "Luxembourg",
            "Malta",
            "North Macedonia",
            "Norway",
            "Poland",
            "Portugal",
            "Romania",
            "Slovakia",
            "Slovenia",
            "Spain",
            "Sweden",
            "Switzerland",
            "Ukraine"
           ],
           "locations": [
            "ALB",
            "AUT",
            "BLR",
            "BEL",
            "BIH",
            "BGR",
            "HRV",
            "CYP",
            "DNK",
            "EST",
            "FIN",
            "FRA",
            "GRC",
            "HUN",
            "ISL",
            "IRL",
            "ITA",
            "LVA",
            "LIE",
            "LTU",
            "LUX",
            "MLT",
            "MKD",
            "NOR",
            "POL",
            "PRT",
            "ROU",
            "SVK",
            "SVN",
            "ESP",
            "SWE",
            "CHE",
            "UKR"
           ],
           "name": "",
           "type": "choropleth",
           "z": [
            24,
            16097,
            631,
            12583,
            22515,
            4047,
            4385,
            339,
            69855,
            6,
            10835,
            130838,
            2762,
            7013,
            226,
            5971,
            12812,
            16,
            147,
            399,
            1201,
            894,
            191,
            46107,
            1822,
            414,
            1991,
            412,
            2065,
            5912,
            112148,
            50126,
            2851
           ]
          }
         ],
         "name": "2003"
        },
        {
         "data": [
          {
           "coloraxis": "coloraxis",
           "geo": "geo",
           "hovertemplate": "<b>%{hovertext}</b><br><br>Year=2004<br>Country of asylum (ISO)=%{location}<br>Number of Refugees=%{z}<extra></extra>",
           "hovertext": [
            "Albania",
            "Austria",
            "Belarus",
            "Belgium",
            "Bosnia and Herzegovina",
            "Bulgaria",
            "Croatia",
            "Cyprus",
            "Denmark",
            "Estonia",
            "Finland",
            "France",
            "Greece",
            "Hungary",
            "Iceland",
            "Ireland",
            "Italy",
            "Latvia",
            "Liechtenstein",
            "Lithuania",
            "Luxembourg",
            "Malta",
            "North Macedonia",
            "Norway",
            "Poland",
            "Portugal",
            "Romania",
            "Slovakia",
            "Slovenia",
            "Spain",
            "Sweden",
            "Switzerland",
            "Ukraine"
           ],
           "locations": [
            "ALB",
            "AUT",
            "BLR",
            "BEL",
            "BIH",
            "BGR",
            "HRV",
            "CYP",
            "DNK",
            "EST",
            "FIN",
            "FRA",
            "GRC",
            "HUN",
            "ISL",
            "IRL",
            "ITA",
            "LVA",
            "LIE",
            "LTU",
            "LUX",
            "MLT",
            "MKD",
            "NOR",
            "POL",
            "PRT",
            "ROU",
            "SVK",
            "SVN",
            "ESP",
            "SWE",
            "CHE",
            "UKR"
           ],
           "name": "",
           "type": "choropleth",
           "z": [
            49,
            17777,
            719,
            13522,
            22209,
            4676,
            3662,
            525,
            65305,
            6,
            11309,
            139852,
            2479,
            7702,
            226,
            6530,
            15668,
            10,
            147,
            469,
            1590,
            1561,
            1003,
            44031,
            2491,
            368,
            1610,
            396,
            299,
            5690,
            73383,
            47654,
            2442
           ]
          }
         ],
         "name": "2004"
        },
        {
         "data": [
          {
           "coloraxis": "coloraxis",
           "geo": "geo",
           "hovertemplate": "<b>%{hovertext}</b><br><br>Year=2005<br>Country of asylum (ISO)=%{location}<br>Number of Refugees=%{z}<extra></extra>",
           "hovertext": [
            "Albania",
            "Austria",
            "Belarus",
            "Belgium",
            "Bosnia and Herzegovina",
            "Bulgaria",
            "Croatia",
            "Cyprus",
            "Denmark",
            "Estonia",
            "Finland",
            "France",
            "Greece",
            "Hungary",
            "Iceland",
            "Ireland",
            "Italy",
            "Latvia",
            "Liechtenstein",
            "Lithuania",
            "Luxembourg",
            "Malta",
            "North Macedonia",
            "Norway",
            "Poland",
            "Portugal",
            "Romania",
            "Slovakia",
            "Slovenia",
            "Spain",
            "Sweden",
            "Switzerland",
            "Ukraine"
           ],
           "locations": [
            "ALB",
            "AUT",
            "BLR",
            "BEL",
            "BIH",
            "BGR",
            "HRV",
            "CYP",
            "DNK",
            "EST",
            "FIN",
            "FRA",
            "GRC",
            "HUN",
            "ISL",
            "IRL",
            "ITA",
            "LVA",
            "LIE",
            "LTU",
            "LUX",
            "MLT",
            "MKD",
            "NOR",
            "POL",
            "PRT",
            "ROU",
            "SVK",
            "SVN",
            "ESP",
            "SWE",
            "CHE",
            "UKR"
           ],
           "name": "",
           "type": "choropleth",
           "z": [
            53,
            21212,
            718,
            15277,
            10566,
            4388,
            2927,
            700,
            44362,
            0,
            11801,
            137316,
            2394,
            8040,
            284,
            7103,
            20674,
            10,
            148,
            527,
            1822,
            1942,
            1273,
            43015,
            4585,
            355,
            2040,
            352,
            243,
            5369,
            74889,
            48010,
            2334
           ]
          }
         ],
         "name": "2005"
        },
        {
         "data": [
          {
           "coloraxis": "coloraxis",
           "geo": "geo",
           "hovertemplate": "<b>%{hovertext}</b><br><br>Year=2006<br>Country of asylum (ISO)=%{location}<br>Number of Refugees=%{z}<extra></extra>",
           "hovertext": [
            "Albania",
            "Austria",
            "Belarus",
            "Belgium",
            "Bosnia and Herzegovina",
            "Bulgaria",
            "Croatia",
            "Cyprus",
            "Denmark",
            "Estonia",
            "Finland",
            "France",
            "Greece",
            "Hungary",
            "Iceland",
            "Ireland",
            "Italy",
            "Latvia",
            "Liechtenstein",
            "Lithuania",
            "Luxembourg",
            "Malta",
            "Montenegro",
            "North Macedonia",
            "Norway",
            "Poland",
            "Portugal",
            "Romania",
            "Slovakia",
            "Slovenia",
            "Spain",
            "Sweden",
            "Switzerland",
            "Ukraine"
           ],
           "locations": [
            "ALB",
            "AUT",
            "BLR",
            "BEL",
            "BIH",
            "BGR",
            "HRV",
            "CYP",
            "DNK",
            "EST",
            "FIN",
            "FRA",
            "GRC",
            "HUN",
            "ISL",
            "IRL",
            "ITA",
            "LVA",
            "LIE",
            "LTU",
            "LUX",
            "MLT",
            "MNE",
            "MKD",
            "NOR",
            "POL",
            "PRT",
            "ROU",
            "SVK",
            "SVN",
            "ESP",
            "SWE",
            "CHE",
            "UKR"
           ],
           "name": "",
           "type": "choropleth",
           "z": [
            56,
            25475,
            683,
            16811,
            10315,
            4479,
            2442,
            926,
            36650,
            0,
            11827,
            145996,
            2292,
            8068,
            254,
            7904,
            26870,
            22,
            274,
            527,
            2206,
            2407,
            6926,
            1239,
            43315,
            6786,
            322,
            1636,
            235,
            249,
            5269,
            79895,
            48508,
            2267
           ]
          }
         ],
         "name": "2006"
        },
        {
         "data": [
          {
           "coloraxis": "coloraxis",
           "geo": "geo",
           "hovertemplate": "<b>%{hovertext}</b><br><br>Year=2007<br>Country of asylum (ISO)=%{location}<br>Number of Refugees=%{z}<extra></extra>",
           "hovertext": [
            "Albania",
            "Austria",
            "Belarus",
            "Belgium",
            "Bosnia and Herzegovina",
            "Bulgaria",
            "Croatia",
            "Cyprus",
            "Denmark",
            "Estonia",
            "Finland",
            "France",
            "Greece",
            "Hungary",
            "Iceland",
            "Ireland",
            "Italy",
            "Latvia",
            "Liechtenstein",
            "Lithuania",
            "Luxembourg",
            "Malta",
            "Montenegro",
            "North Macedonia",
            "Norway",
            "Poland",
            "Portugal",
            "Romania",
            "Slovakia",
            "Slovenia",
            "Spain",
            "Sweden",
            "Switzerland",
            "Ukraine"
           ],
           "locations": [
            "ALB",
            "AUT",
            "BLR",
            "BEL",
            "BIH",
            "BGR",
            "HRV",
            "CYP",
            "DNK",
            "EST",
            "FIN",
            "FRA",
            "GRC",
            "HUN",
            "ISL",
            "IRL",
            "ITA",
            "LVA",
            "LIE",
            "LTU",
            "LUX",
            "MLT",
            "MNE",
            "MKD",
            "NOR",
            "POL",
            "PRT",
            "ROU",
            "SVK",
            "SVN",
            "ESP",
            "SWE",
            "CHE",
            "UKR"
           ],
           "name": "",
           "type": "choropleth",
           "z": [
            68,
            30767,
            643,
            17578,
            7364,
            4808,
            1641,
            1194,
            26779,
            6,
            6201,
            151789,
            2228,
            8124,
            41,
            9318,
            38061,
            27,
            278,
            688,
            2737,
            3003,
            8527,
            1234,
            34499,
            10037,
            346,
            1741,
            265,
            255,
            5143,
            75055,
            45642,
            7272
           ]
          }
         ],
         "name": "2007"
        },
        {
         "data": [
          {
           "coloraxis": "coloraxis",
           "geo": "geo",
           "hovertemplate": "<b>%{hovertext}</b><br><br>Year=2008<br>Country of asylum (ISO)=%{location}<br>Number of Refugees=%{z}<extra></extra>",
           "hovertext": [
            "Albania",
            "Austria",
            "Belarus",
            "Belgium",
            "Bosnia and Herzegovina",
            "Bulgaria",
            "Croatia",
            "Cyprus",
            "Denmark",
            "Estonia",
            "Finland",
            "France",
            "Greece",
            "Hungary",
            "Iceland",
            "Ireland",
            "Italy",
            "Latvia",
            "Liechtenstein",
            "Lithuania",
            "Luxembourg",
            "Malta",
            "Montenegro",
            "North Macedonia",
            "Norway",
            "Poland",
            "Portugal",
            "Romania",
            "Slovakia",
            "Slovenia",
            "Spain",
            "Sweden",
            "Switzerland",
            "Ukraine"
           ],
           "locations": [
            "ALB",
            "AUT",
            "BLR",
            "BEL",
            "BIH",
            "BGR",
            "HRV",
            "CYP",
            "DNK",
            "EST",
            "FIN",
            "FRA",
            "GRC",
            "HUN",
            "ISL",
            "IRL",
            "ITA",
            "LVA",
            "LIE",
            "LTU",
            "LUX",
            "MLT",
            "MNE",
            "MKD",
            "NOR",
            "POL",
            "PRT",
            "ROU",
            "SVK",
            "SVN",
            "ESP",
            "SWE",
            "CHE",
            "UKR"
           ],
           "name": "",
           "type": "choropleth",
           "z": [
            57,
            37546,
            602,
            17025,
            7254,
            5108,
            1591,
            1458,
            23385,
            16,
            6621,
            171206,
            2169,
            7740,
            39,
            9714,
            47059,
            27,
            84,
            749,
            3109,
            4329,
            24739,
            1671,
            36076,
            12761,
            393,
            1586,
            301,
            257,
            4649,
            77016,
            46131,
            7189
           ]
          }
         ],
         "name": "2008"
        },
        {
         "data": [
          {
           "coloraxis": "coloraxis",
           "geo": "geo",
           "hovertemplate": "<b>%{hovertext}</b><br><br>Year=2009<br>Country of asylum (ISO)=%{location}<br>Number of Refugees=%{z}<extra></extra>",
           "hovertext": [
            "Albania",
            "Austria",
            "Belarus",
            "Belgium",
            "Bosnia and Herzegovina",
            "Bulgaria",
            "Croatia",
            "Cyprus",
            "Denmark",
            "Estonia",
            "Finland",
            "France",
            "Greece",
            "Hungary",
            "Iceland",
            "Ireland",
            "Italy",
            "Latvia",
            "Liechtenstein",
            "Lithuania",
            "Luxembourg",
            "Malta",
            "Montenegro",
            "North Macedonia",
            "Norway",
            "Poland",
            "Portugal",
            "Romania",
            "Slovakia",
            "Slovenia",
            "Spain",
            "Sweden",
            "Switzerland",
            "Ukraine"
           ],
           "locations": [
            "ALB",
            "AUT",
            "BLR",
            "BEL",
            "BIH",
            "BGR",
            "HRV",
            "CYP",
            "DNK",
            "EST",
            "FIN",
            "FRA",
            "GRC",
            "HUN",
            "ISL",
            "IRL",
            "ITA",
            "LVA",
            "LIE",
            "LTU",
            "LUX",
            "MLT",
            "MNE",
            "MKD",
            "NOR",
            "POL",
            "PRT",
            "ROU",
            "SVK",
            "SVN",
            "ESP",
            "SWE",
            "CHE",
            "UKR"
           ],
           "name": "",
           "type": "choropleth",
           "z": [
            69,
            38895,
            578,
            15536,
            7130,
            5375,
            1240,
            2888,
            20340,
            16,
            7448,
            196364,
            1700,
            6041,
            58,
            9561,
            54962,
            40,
            86,
            790,
            3230,
            5951,
            24017,
            1541,
            37806,
            15299,
            383,
            1065,
            387,
            281,
            3960,
            81346,
            46204,
            7321
           ]
          }
         ],
         "name": "2009"
        },
        {
         "data": [
          {
           "coloraxis": "coloraxis",
           "geo": "geo",
           "hovertemplate": "<b>%{hovertext}</b><br><br>Year=2010<br>Country of asylum (ISO)=%{location}<br>Number of Refugees=%{z}<extra></extra>",
           "hovertext": [
            "Albania",
            "Austria",
            "Belarus",
            "Belgium",
            "Bosnia and Herzegovina",
            "Bulgaria",
            "Croatia",
            "Cyprus",
            "Denmark",
            "Estonia",
            "Finland",
            "France",
            "Greece",
            "Hungary",
            "Iceland",
            "Ireland",
            "Italy",
            "Latvia",
            "Liechtenstein",
            "Lithuania",
            "Luxembourg",
            "Malta",
            "Montenegro",
            "North Macedonia",
            "Norway",
            "Poland",
            "Portugal",
            "Romania",
            "Slovakia",
            "Slovenia",
            "Spain",
            "Sweden",
            "Switzerland",
            "Ukraine"
           ],
           "locations": [
            "ALB",
            "AUT",
            "BLR",
            "BEL",
            "BIH",
            "BGR",
            "HRV",
            "CYP",
            "DNK",
            "EST",
            "FIN",
            "FRA",
            "GRC",
            "HUN",
            "ISL",
            "IRL",
            "ITA",
            "LVA",
            "LIE",
            "LTU",
            "LUX",
            "MLT",
            "MNE",
            "MKD",
            "NOR",
            "POL",
            "PRT",
            "ROU",
            "SVK",
            "SVN",
            "ESP",
            "SWE",
            "CHE",
            "UKR"
           ],
           "name": "",
           "type": "choropleth",
           "z": [
            75,
            42613,
            587,
            17891,
            7014,
            5519,
            933,
            3397,
            17907,
            31,
            8721,
            200687,
            1443,
            5400,
            72,
            9099,
            56402,
            60,
            86,
            808,
            3254,
            6143,
            16363,
            1397,
            40245,
            15537,
            368,
            1019,
            451,
            315,
            3814,
            82620,
            48813,
            3016
           ]
          }
         ],
         "name": "2010"
        },
        {
         "data": [
          {
           "coloraxis": "coloraxis",
           "geo": "geo",
           "hovertemplate": "<b>%{hovertext}</b><br><br>Year=2011<br>Country of asylum (ISO)=%{location}<br>Number of Refugees=%{z}<extra></extra>",
           "hovertext": [
            "Albania",
            "Austria",
            "Belarus",
            "Belgium",
            "Bosnia and Herzegovina",
            "Bulgaria",
            "Croatia",
            "Cyprus",
            "Denmark",
            "Estonia",
            "Finland",
            "France",
            "Greece",
            "Hungary",
            "Iceland",
            "Ireland",
            "Italy",
            "Latvia",
            "Liechtenstein",
            "Lithuania",
            "Luxembourg",
            "Malta",
            "Monaco",
            "Montenegro",
            "North Macedonia",
            "Norway",
            "Poland",
            "Portugal",
            "Romania",
            "Slovakia",
            "Slovenia",
            "Spain",
            "Sweden",
            "Switzerland",
            "Ukraine"
           ],
           "locations": [
            "ALB",
            "AUT",
            "BLR",
            "BEL",
            "BIH",
            "BGR",
            "HRV",
            "CYP",
            "DNK",
            "EST",
            "FIN",
            "FRA",
            "GRC",
            "HUN",
            "ISL",
            "IRL",
            "ITA",
            "LVA",
            "LIE",
            "LTU",
            "LUX",
            "MLT",
            "MCO",
            "MNE",
            "MKD",
            "NOR",
            "POL",
            "PRT",
            "ROU",
            "SVK",
            "SVN",
            "ESP",
            "SWE",
            "CHE",
            "UKR"
           ],
           "name": "",
           "type": "choropleth",
           "z": [
            79,
            47055,
            594,
            22396,
            6932,
            5676,
            818,
            3498,
            13386,
            34,
            9170,
            210207,
            1566,
            5085,
            55,
            8234,
            58066,
            88,
            88,
            824,
            2855,
            6948,
            37,
            12871,
            1129,
            40671,
            15834,
            399,
            1003,
            535,
            134,
            4220,
            86603,
            50401,
            3168
           ]
          }
         ],
         "name": "2011"
        },
        {
         "data": [
          {
           "coloraxis": "coloraxis",
           "geo": "geo",
           "hovertemplate": "<b>%{hovertext}</b><br><br>Year=2012<br>Country of asylum (ISO)=%{location}<br>Number of Refugees=%{z}<extra></extra>",
           "hovertext": [
            "Albania",
            "Austria",
            "Belarus",
            "Belgium",
            "Bosnia and Herzegovina",
            "Bulgaria",
            "Croatia",
            "Cyprus",
            "Denmark",
            "Estonia",
            "Finland",
            "France",
            "Greece",
            "Hungary",
            "Iceland",
            "Ireland",
            "Italy",
            "Latvia",
            "Liechtenstein",
            "Lithuania",
            "Luxembourg",
            "Malta",
            "Monaco",
            "Montenegro",
            "North Macedonia",
            "Norway",
            "Poland",
            "Portugal",
            "Romania",
            "Slovakia",
            "Slovenia",
            "Spain",
            "Sweden",
            "Switzerland",
            "Ukraine"
           ],
           "locations": [
            "ALB",
            "AUT",
            "BLR",
            "BEL",
            "BIH",
            "BGR",
            "HRV",
            "CYP",
            "DNK",
            "EST",
            "FIN",
            "FRA",
            "GRC",
            "HUN",
            "ISL",
            "IRL",
            "ITA",
            "LVA",
            "LIE",
            "LTU",
            "LUX",
            "MLT",
            "MCO",
            "MNE",
            "MKD",
            "NOR",
            "POL",
            "PRT",
            "ROU",
            "SVK",
            "SVN",
            "ESP",
            "SWE",
            "CHE",
            "UKR"
           ],
           "name": "",
           "type": "choropleth",
           "z": [
            84,
            51707,
            572,
            22023,
            6904,
            2273,
            722,
            3627,
            11797,
            48,
            9910,
            217865,
            2090,
            4034,
            55,
            6309,
            64782,
            113,
            103,
            871,
            2910,
            8242,
            37,
            11193,
            1076,
            42805,
            15897,
            473,
            1263,
            650,
            169,
            4502,
            92869,
            50733,
            2790
           ]
          }
         ],
         "name": "2012"
        },
        {
         "data": [
          {
           "coloraxis": "coloraxis",
           "geo": "geo",
           "hovertemplate": "<b>%{hovertext}</b><br><br>Year=2013<br>Country of asylum (ISO)=%{location}<br>Number of Refugees=%{z}<extra></extra>",
           "hovertext": [
            "Albania",
            "Austria",
            "Belarus",
            "Belgium",
            "Bosnia and Herzegovina",
            "Bulgaria",
            "Croatia",
            "Cyprus",
            "Denmark",
            "Estonia",
            "Finland",
            "France",
            "Greece",
            "Hungary",
            "Iceland",
            "Ireland",
            "Italy",
            "Latvia",
            "Liechtenstein",
            "Lithuania",
            "Luxembourg",
            "Malta",
            "Monaco",
            "Montenegro",
            "North Macedonia",
            "Norway",
            "Poland",
            "Portugal",
            "Romania",
            "Slovakia",
            "Slovenia",
            "Spain",
            "Sweden",
            "Switzerland",
            "Ukraine"
           ],
           "locations": [
            "ALB",
            "AUT",
            "BLR",
            "BEL",
            "BIH",
            "BGR",
            "HRV",
            "CYP",
            "DNK",
            "EST",
            "FIN",
            "FRA",
            "GRC",
            "HUN",
            "ISL",
            "IRL",
            "ITA",
            "LVA",
            "LIE",
            "LTU",
            "LUX",
            "MLT",
            "MCO",
            "MNE",
            "MKD",
            "NOR",
            "POL",
            "PRT",
            "ROU",
            "SVK",
            "SVN",
            "ESP",
            "SWE",
            "CHE",
            "UKR"
           ],
           "name": "",
           "type": "choropleth",
           "z": [
            96,
            55575,
            599,
            25617,
            6924,
            4305,
            679,
            3879,
            13153,
            52,
            11242,
            232487,
            3468,
            2422,
            72,
            5991,
            76248,
            149,
            96,
            918,
            901,
            9900,
            34,
            8471,
            980,
            46088,
            16428,
            596,
            1747,
            691,
            202,
            4641,
            114172,
            52448,
            2956
           ]
          }
         ],
         "name": "2013"
        },
        {
         "data": [
          {
           "coloraxis": "coloraxis",
           "geo": "geo",
           "hovertemplate": "<b>%{hovertext}</b><br><br>Year=2014<br>Country of asylum (ISO)=%{location}<br>Number of Refugees=%{z}<extra></extra>",
           "hovertext": [
            "Albania",
            "Austria",
            "Belarus",
            "Belgium",
            "Bosnia and Herzegovina",
            "Bulgaria",
            "Croatia",
            "Cyprus",
            "Denmark",
            "Estonia",
            "Finland",
            "France",
            "Greece",
            "Hungary",
            "Iceland",
            "Ireland",
            "Italy",
            "Latvia",
            "Liechtenstein",
            "Lithuania",
            "Luxembourg",
            "Malta",
            "Monaco",
            "Montenegro",
            "North Macedonia",
            "Norway",
            "Poland",
            "Portugal",
            "Romania",
            "Slovakia",
            "Slovenia",
            "Spain",
            "Sweden",
            "Switzerland",
            "Ukraine"
           ],
           "locations": [
            "ALB",
            "AUT",
            "BLR",
            "BEL",
            "BIH",
            "BGR",
            "HRV",
            "CYP",
            "DNK",
            "EST",
            "FIN",
            "FRA",
            "GRC",
            "HUN",
            "ISL",
            "IRL",
            "ITA",
            "LVA",
            "LIE",
            "LTU",
            "LUX",
            "MLT",
            "MCO",
            "MNE",
            "MKD",
            "NOR",
            "POL",
            "PRT",
            "ROU",
            "SVK",
            "SVN",
            "ESP",
            "SWE",
            "CHE",
            "UKR"
           ],
           "name": "",
           "type": "choropleth",
           "z": [
            111,
            60724,
            919,
            29170,
            6883,
            11026,
            724,
            5120,
            17767,
            82,
            11783,
            252248,
            10292,
            2854,
            93,
            5832,
            93712,
            168,
            102,
            1007,
            1091,
            6095,
            33,
            6455,
            880,
            47025,
            15730,
            704,
            2171,
            791,
            251,
            5797,
            142197,
            62596,
            3206
           ]
          }
         ],
         "name": "2014"
        },
        {
         "data": [
          {
           "coloraxis": "coloraxis",
           "geo": "geo",
           "hovertemplate": "<b>%{hovertext}</b><br><br>Year=2015<br>Country of asylum (ISO)=%{location}<br>Number of Refugees=%{z}<extra></extra>",
           "hovertext": [
            "Albania",
            "Austria",
            "Belarus",
            "Belgium",
            "Bosnia and Herzegovina",
            "Bulgaria",
            "Croatia",
            "Cyprus",
            "Denmark",
            "Estonia",
            "Finland",
            "France",
            "Greece",
            "Hungary",
            "Iceland",
            "Ireland",
            "Italy",
            "Latvia",
            "Liechtenstein",
            "Lithuania",
            "Luxembourg",
            "Malta",
            "Monaco",
            "Montenegro",
            "North Macedonia",
            "Norway",
            "Poland",
            "Portugal",
            "Romania",
            "Slovakia",
            "Slovenia",
            "Spain",
            "Sweden",
            "Switzerland",
            "Ukraine"
           ],
           "locations": [
            "ALB",
            "AUT",
            "BLR",
            "BEL",
            "BIH",
            "BGR",
            "HRV",
            "CYP",
            "DNK",
            "EST",
            "FIN",
            "FRA",
            "GRC",
            "HUN",
            "ISL",
            "IRL",
            "ITA",
            "LVA",
            "LIE",
            "LTU",
            "LUX",
            "MLT",
            "MCO",
            "MNE",
            "MKD",
            "NOR",
            "POL",
            "PRT",
            "ROU",
            "SVK",
            "SVN",
            "ESP",
            "SWE",
            "CHE",
            "UKR"
           ],
           "name": "",
           "type": "choropleth",
           "z": [
            109,
            72198,
            1805,
            35302,
            6789,
            16543,
            517,
            7062,
            27312,
            158,
            12692,
            273117,
            24831,
            4383,
            170,
            6108,
            118036,
            193,
            146,
            1094,
            1306,
            7068,
            32,
            1762,
            697,
            50377,
            14057,
            851,
            2581,
            816,
            284,
            6447,
            169516,
            73326,
            3261
           ]
          }
         ],
         "name": "2015"
        },
        {
         "data": [
          {
           "coloraxis": "coloraxis",
           "geo": "geo",
           "hovertemplate": "<b>%{hovertext}</b><br><br>Year=2016<br>Country of asylum (ISO)=%{location}<br>Number of Refugees=%{z}<extra></extra>",
           "hovertext": [
            "Albania",
            "Austria",
            "Belarus",
            "Belgium",
            "Bosnia and Herzegovina",
            "Bulgaria",
            "Croatia",
            "Cyprus",
            "Denmark",
            "Estonia",
            "Finland",
            "France",
            "Greece",
            "Hungary",
            "Iceland",
            "Ireland",
            "Italy",
            "Latvia",
            "Liechtenstein",
            "Lithuania",
            "Luxembourg",
            "Malta",
            "Monaco",
            "Montenegro",
            "North Macedonia",
            "Norway",
            "Poland",
            "Portugal",
            "Romania",
            "Slovakia",
            "Slovenia",
            "Spain",
            "Sweden",
            "Switzerland",
            "Ukraine"
           ],
           "locations": [
            "ALB",
            "AUT",
            "BLR",
            "BEL",
            "BIH",
            "BGR",
            "HRV",
            "CYP",
            "DNK",
            "EST",
            "FIN",
            "FRA",
            "GRC",
            "HUN",
            "ISL",
            "IRL",
            "ITA",
            "LVA",
            "LIE",
            "LTU",
            "LUX",
            "MLT",
            "MCO",
            "MNE",
            "MKD",
            "NOR",
            "POL",
            "PRT",
            "ROU",
            "SVK",
            "SVN",
            "ESP",
            "SWE",
            "CHE",
            "UKR"
           ],
           "name": "",
           "type": "choropleth",
           "z": [
            141,
            93242,
            1647,
            42158,
            5266,
            17794,
            300,
            8478,
            33501,
            312,
            18402,
            304527,
            46411,
            4736,
            245,
            5720,
            147362,
            340,
            161,
            1284,
            2020,
            7941,
            27,
            970,
            634,
            59512,
            11738,
            1189,
            2880,
            980,
            454,
            12983,
            230158,
            82668,
            3292
           ]
          }
         ],
         "name": "2016"
        },
        {
         "data": [
          {
           "coloraxis": "coloraxis",
           "geo": "geo",
           "hovertemplate": "<b>%{hovertext}</b><br><br>Year=2017<br>Country of asylum (ISO)=%{location}<br>Number of Refugees=%{z}<extra></extra>",
           "hovertext": [
            "Albania",
            "Austria",
            "Belarus",
            "Belgium",
            "Bosnia and Herzegovina",
            "Bulgaria",
            "Croatia",
            "Cyprus",
            "Denmark",
            "Estonia",
            "Finland",
            "France",
            "Greece",
            "Hungary",
            "Iceland",
            "Ireland",
            "Italy",
            "Latvia",
            "Liechtenstein",
            "Lithuania",
            "Luxembourg",
            "Malta",
            "Monaco",
            "Montenegro",
            "North Macedonia",
            "Norway",
            "Poland",
            "Portugal",
            "Romania",
            "Slovakia",
            "Slovenia",
            "Spain",
            "Sweden",
            "Switzerland",
            "Ukraine"
           ],
           "locations": [
            "ALB",
            "AUT",
            "BLR",
            "BEL",
            "BIH",
            "BGR",
            "HRV",
            "CYP",
            "DNK",
            "EST",
            "FIN",
            "FRA",
            "GRC",
            "HUN",
            "ISL",
            "IRL",
            "ITA",
            "LVA",
            "LIE",
            "LTU",
            "LUX",
            "MLT",
            "MCO",
            "MNE",
            "MKD",
            "NOR",
            "POL",
            "PRT",
            "ROU",
            "SVK",
            "SVN",
            "ESP",
            "SWE",
            "CHE",
            "UKR"
           ],
           "name": "",
           "type": "choropleth",
           "z": [
            124,
            115252,
            2155,
            42158,
            5224,
            19166,
            508,
            9790,
            35668,
            405,
            20793,
            337158,
            38988,
            5671,
            361,
            6394,
            167330,
            653,
            164,
            1577,
            2020,
            7994,
            25,
            794,
            414,
            59230,
            12225,
            1619,
            3911,
            912,
            611,
            17541,
            240954,
            93030,
            3241
           ]
          }
         ],
         "name": "2017"
        },
        {
         "data": [
          {
           "coloraxis": "coloraxis",
           "geo": "geo",
           "hovertemplate": "<b>%{hovertext}</b><br><br>Year=2018<br>Country of asylum (ISO)=%{location}<br>Number of Refugees=%{z}<extra></extra>",
           "hovertext": [
            "Albania",
            "Austria",
            "Belarus",
            "Belgium",
            "Bosnia and Herzegovina",
            "Bulgaria",
            "Croatia",
            "Cyprus",
            "Denmark",
            "Estonia",
            "Finland",
            "France",
            "Greece",
            "Hungary",
            "Iceland",
            "Ireland",
            "Italy",
            "Latvia",
            "Liechtenstein",
            "Lithuania",
            "Luxembourg",
            "Malta",
            "Monaco",
            "Montenegro",
            "North Macedonia",
            "Norway",
            "Poland",
            "Portugal",
            "Romania",
            "Slovakia",
            "Slovenia",
            "Spain",
            "Sweden",
            "Switzerland",
            "Ukraine"
           ],
           "locations": [
            "ALB",
            "AUT",
            "BLR",
            "BEL",
            "BIH",
            "BGR",
            "HRV",
            "CYP",
            "DNK",
            "EST",
            "FIN",
            "FRA",
            "GRC",
            "HUN",
            "ISL",
            "IRL",
            "ITA",
            "LVA",
            "LIE",
            "LTU",
            "LUX",
            "MLT",
            "MCO",
            "MNE",
            "MKD",
            "NOR",
            "POL",
            "PRT",
            "ROU",
            "SVK",
            "SVN",
            "ESP",
            "SWE",
            "CHE",
            "UKR"
           ],
           "name": "",
           "type": "choropleth",
           "z": [
            132,
            128779,
            2225,
            42158,
            5227,
            19906,
            787,
            11002,
            36623,
            319,
            22287,
            368345,
            61446,
            6019,
            549,
            6012,
            189227,
            664,
            166,
            1731,
            2020,
            8579,
            25,
            727,
            413,
            57004,
            12495,
            2130,
            4134,
            938,
            746,
            20437,
            248210,
            104011,
            2606
           ]
          }
         ],
         "name": "2018"
        },
        {
         "data": [
          {
           "coloraxis": "coloraxis",
           "geo": "geo",
           "hovertemplate": "<b>%{hovertext}</b><br><br>Year=2019<br>Country of asylum (ISO)=%{location}<br>Number of Refugees=%{z}<extra></extra>",
           "hovertext": [
            "Albania",
            "Austria",
            "Belarus",
            "Belgium",
            "Bosnia and Herzegovina",
            "Bulgaria",
            "Croatia",
            "Cyprus",
            "Denmark",
            "Estonia",
            "Finland",
            "France",
            "Greece",
            "Hungary",
            "Iceland",
            "Ireland",
            "Italy",
            "Latvia",
            "Liechtenstein",
            "Lithuania",
            "Luxembourg",
            "Malta",
            "Monaco",
            "Montenegro",
            "North Macedonia",
            "Norway",
            "Poland",
            "Portugal",
            "Romania",
            "Slovakia",
            "Slovenia",
            "Spain",
            "Sweden",
            "Switzerland",
            "Ukraine"
           ],
           "locations": [
            "ALB",
            "AUT",
            "BLR",
            "BEL",
            "BIH",
            "BGR",
            "HRV",
            "CYP",
            "DNK",
            "EST",
            "FIN",
            "FRA",
            "GRC",
            "HUN",
            "ISL",
            "IRL",
            "ITA",
            "LVA",
            "LIE",
            "LTU",
            "LUX",
            "MLT",
            "MCO",
            "MNE",
            "MKD",
            "NOR",
            "POL",
            "PRT",
            "ROU",
            "SVK",
            "SVN",
            "ESP",
            "SWE",
            "CHE",
            "UKR"
           ],
           "name": "",
           "type": "choropleth",
           "z": [
            120,
            135951,
            2725,
            61662,
            5241,
            20438,
            916,
            12311,
            37533,
            331,
            23458,
            407915,
            80454,
            5750,
            894,
            7795,
            207602,
            665,
            125,
            1822,
            2548,
            8908,
            22,
            653,
            354,
            53882,
            12658,
            2375,
            3860,
            965,
            741,
            57751,
            253787,
            110162,
            2166
           ]
          }
         ],
         "name": "2019"
        },
        {
         "data": [
          {
           "coloraxis": "coloraxis",
           "geo": "geo",
           "hovertemplate": "<b>%{hovertext}</b><br><br>Year=2020<br>Country of asylum (ISO)=%{location}<br>Number of Refugees=%{z}<extra></extra>",
           "hovertext": [
            "Albania",
            "Austria",
            "Belarus",
            "Belgium",
            "Bosnia and Herzegovina",
            "Bulgaria",
            "Croatia",
            "Cyprus",
            "Denmark",
            "Estonia",
            "Finland",
            "France",
            "Greece",
            "Hungary",
            "Iceland",
            "Ireland",
            "Italy",
            "Latvia",
            "Liechtenstein",
            "Lithuania",
            "Luxembourg",
            "Malta",
            "Monaco",
            "Montenegro",
            "North Macedonia",
            "Norway",
            "Poland",
            "Portugal",
            "Romania",
            "Slovakia",
            "Slovenia",
            "Spain",
            "Sweden",
            "Switzerland",
            "Ukraine"
           ],
           "locations": [
            "ALB",
            "AUT",
            "BLR",
            "BEL",
            "BIH",
            "BGR",
            "HRV",
            "CYP",
            "DNK",
            "EST",
            "FIN",
            "FRA",
            "GRC",
            "HUN",
            "ISL",
            "IRL",
            "ITA",
            "LVA",
            "LIE",
            "LTU",
            "LUX",
            "MLT",
            "MCO",
            "MNE",
            "MKD",
            "NOR",
            "POL",
            "PRT",
            "ROU",
            "SVK",
            "SVN",
            "ESP",
            "SWE",
            "CHE",
            "UKR"
           ],
           "name": "",
           "type": "choropleth",
           "z": [
            105,
            141816,
            2900,
            64973,
            5232,
            21113,
            956,
            13997,
            36643,
            277,
            23428,
            436055,
            103101,
            5838,
            1460,
            9035,
            128033,
            637,
            129,
            1880,
            5158,
            9168,
            22,
            166,
            303,
            49653,
            2771,
            2405,
            3581,
            1006,
            823,
            103624,
            248372,
            115798,
            2249
           ]
          }
         ],
         "name": "2020"
        },
        {
         "data": [
          {
           "coloraxis": "coloraxis",
           "geo": "geo",
           "hovertemplate": "<b>%{hovertext}</b><br><br>Year=2021<br>Country of asylum (ISO)=%{location}<br>Number of Refugees=%{z}<extra></extra>",
           "hovertext": [
            "Albania",
            "Austria",
            "Belarus",
            "Belgium",
            "Bosnia and Herzegovina",
            "Bulgaria",
            "Croatia",
            "Cyprus",
            "Denmark",
            "Estonia",
            "Finland",
            "France",
            "Greece",
            "Hungary",
            "Iceland",
            "Ireland",
            "Italy",
            "Latvia",
            "Liechtenstein",
            "Lithuania",
            "Luxembourg",
            "Malta",
            "Monaco",
            "Montenegro",
            "North Macedonia",
            "Norway",
            "Poland",
            "Portugal",
            "Romania",
            "Slovakia",
            "Slovenia",
            "Spain",
            "Sweden",
            "Switzerland",
            "Ukraine"
           ],
           "locations": [
            "ALB",
            "AUT",
            "BLR",
            "BEL",
            "BIH",
            "BGR",
            "HRV",
            "CYP",
            "DNK",
            "EST",
            "FIN",
            "FRA",
            "GRC",
            "HUN",
            "ISL",
            "IRL",
            "ITA",
            "LVA",
            "LIE",
            "LTU",
            "LUX",
            "MLT",
            "MCO",
            "MNE",
            "MKD",
            "NOR",
            "POL",
            "PRT",
            "ROU",
            "SVK",
            "SVN",
            "ESP",
            "SWE",
            "CHE",
            "UKR"
           ],
           "name": "",
           "type": "choropleth",
           "z": [
            109,
            152514,
            2729,
            74063,
            240,
            22830,
            1020,
            16277,
            36023,
            321,
            24078,
            499914,
            119650,
            5676,
            1830,
            9571,
            144862,
            705,
            133,
            1880,
            6011,
            9335,
            17,
            175,
            292,
            46042,
            4875,
            2651,
            4200,
            1046,
            839,
            122539,
            240854,
            118829,
            2382
           ]
          }
         ],
         "name": "2021"
        },
        {
         "data": [
          {
           "coloraxis": "coloraxis",
           "geo": "geo",
           "hovertemplate": "<b>%{hovertext}</b><br><br>Year=2022<br>Country of asylum (ISO)=%{location}<br>Number of Refugees=%{z}<extra></extra>",
           "hovertext": [
            "Albania",
            "Austria",
            "Belarus",
            "Belgium",
            "Bosnia and Herzegovina",
            "Bulgaria",
            "Croatia",
            "Cyprus",
            "Denmark",
            "Estonia",
            "Finland",
            "France",
            "Greece",
            "Hungary",
            "Iceland",
            "Ireland",
            "Italy",
            "Latvia",
            "Liechtenstein",
            "Lithuania",
            "Luxembourg",
            "Malta",
            "Monaco",
            "Montenegro",
            "North Macedonia",
            "Norway",
            "Poland",
            "Portugal",
            "Romania",
            "Slovakia",
            "Slovenia",
            "Spain",
            "Sweden",
            "Switzerland",
            "Ukraine"
           ],
           "locations": [
            "ALB",
            "AUT",
            "BLR",
            "BEL",
            "BIH",
            "BGR",
            "HRV",
            "CYP",
            "DNK",
            "EST",
            "FIN",
            "FRA",
            "GRC",
            "HUN",
            "ISL",
            "IRL",
            "ITA",
            "LVA",
            "LIE",
            "LTU",
            "LUX",
            "MLT",
            "MCO",
            "MNE",
            "MKD",
            "NOR",
            "POL",
            "PRT",
            "ROU",
            "SVK",
            "SVN",
            "ESP",
            "SWE",
            "CHE",
            "UKR"
           ],
           "name": "",
           "type": "choropleth",
           "z": [
            2676,
            258613,
            19715,
            150713,
            274,
            176297,
            20638,
            29280,
            67772,
            40806,
            69553,
            612934,
            160761,
            35370,
            5240,
            81256,
            296181,
            39055,
            524,
            67638,
            11952,
            11098,
            17,
            32438,
            7065,
            75311,
            971129,
            59777,
            105621,
            96563,
            8705,
            314490,
            277726,
            182474,
            2520
           ]
          }
         ],
         "name": "2022"
        },
        {
         "data": [
          {
           "coloraxis": "coloraxis",
           "geo": "geo",
           "hovertemplate": "<b>%{hovertext}</b><br><br>Year=2023<br>Country of asylum (ISO)=%{location}<br>Number of Refugees=%{z}<extra></extra>",
           "hovertext": [
            "Albania",
            "Austria",
            "Belarus",
            "Belgium",
            "Bosnia and Herzegovina",
            "Bulgaria",
            "Croatia",
            "Cyprus",
            "Denmark",
            "Estonia",
            "Finland",
            "France",
            "Greece",
            "Hungary",
            "Iceland",
            "Ireland",
            "Italy",
            "Latvia",
            "Liechtenstein",
            "Lithuania",
            "Luxembourg",
            "Malta",
            "Monaco",
            "Montenegro",
            "North Macedonia",
            "Norway",
            "Poland",
            "Portugal",
            "Romania",
            "Slovakia",
            "Slovenia",
            "Spain",
            "Sweden",
            "Switzerland",
            "Ukraine"
           ],
           "locations": [
            "ALB",
            "AUT",
            "BLR",
            "BEL",
            "BIH",
            "BGR",
            "HRV",
            "CYP",
            "DNK",
            "EST",
            "FIN",
            "FRA",
            "GRC",
            "HUN",
            "ISL",
            "IRL",
            "ITA",
            "LVA",
            "LIE",
            "LTU",
            "LUX",
            "MLT",
            "MCO",
            "MNE",
            "MKD",
            "NOR",
            "POL",
            "PRT",
            "ROU",
            "SVK",
            "SVN",
            "ESP",
            "SWE",
            "CHE",
            "UKR"
           ],
           "name": "",
           "type": "choropleth",
           "z": [
            3828,
            277158,
            31602,
            156921,
            310,
            189577,
            23789,
            33872,
            69337,
            40371,
            80189,
            641626,
            169393,
            57939,
            6193,
            99048,
            308663,
            45237,
            605,
            73170,
            10639,
            11413,
            17,
            40597,
            8252,
            86449,
            989877,
            59311,
            139081,
            105104,
            10684,
            369722,
            258117,
            189100,
            2532
           ]
          }
         ],
         "name": "2023"
        }
       ],
       "layout": {
        "coloraxis": {
         "colorbar": {
          "title": {
           "text": "Number of Refugees"
          }
         },
         "colorscale": [
          [
           0,
           "#0d0887"
          ],
          [
           0.1111111111111111,
           "#46039f"
          ],
          [
           0.2222222222222222,
           "#7201a8"
          ],
          [
           0.3333333333333333,
           "#9c179e"
          ],
          [
           0.4444444444444444,
           "#bd3786"
          ],
          [
           0.5555555555555556,
           "#d8576b"
          ],
          [
           0.6666666666666666,
           "#ed7953"
          ],
          [
           0.7777777777777778,
           "#fb9f3a"
          ],
          [
           0.8888888888888888,
           "#fdca26"
          ],
          [
           1,
           "#f0f921"
          ]
         ]
        },
        "geo": {
         "center": {},
         "domain": {
          "x": [
           0,
           1
          ],
          "y": [
           0,
           1
          ]
         },
         "lataxis": {
          "range": [
           25,
           80
          ]
         },
         "lonaxis": {
          "range": [
           -35,
           65
          ]
         },
         "projection": {
          "type": "equirectangular"
         },
         "showcoastlines": false,
         "showframe": false
        },
        "height": 800,
        "legend": {
         "tracegroupgap": 0
        },
        "sliders": [
         {
          "active": 0,
          "currentvalue": {
           "prefix": "Year="
          },
          "len": 0.9,
          "pad": {
           "b": 10,
           "t": 60
          },
          "steps": [
           {
            "args": [
             [
              "1951"
             ],
             {
              "frame": {
               "duration": 0,
               "redraw": true
              },
              "fromcurrent": true,
              "mode": "immediate",
              "transition": {
               "duration": 0,
               "easing": "linear"
              }
             }
            ],
            "label": "1951",
            "method": "animate"
           },
           {
            "args": [
             [
              "1952"
             ],
             {
              "frame": {
               "duration": 0,
               "redraw": true
              },
              "fromcurrent": true,
              "mode": "immediate",
              "transition": {
               "duration": 0,
               "easing": "linear"
              }
             }
            ],
            "label": "1952",
            "method": "animate"
           },
           {
            "args": [
             [
              "1953"
             ],
             {
              "frame": {
               "duration": 0,
               "redraw": true
              },
              "fromcurrent": true,
              "mode": "immediate",
              "transition": {
               "duration": 0,
               "easing": "linear"
              }
             }
            ],
            "label": "1953",
            "method": "animate"
           },
           {
            "args": [
             [
              "1954"
             ],
             {
              "frame": {
               "duration": 0,
               "redraw": true
              },
              "fromcurrent": true,
              "mode": "immediate",
              "transition": {
               "duration": 0,
               "easing": "linear"
              }
             }
            ],
            "label": "1954",
            "method": "animate"
           },
           {
            "args": [
             [
              "1955"
             ],
             {
              "frame": {
               "duration": 0,
               "redraw": true
              },
              "fromcurrent": true,
              "mode": "immediate",
              "transition": {
               "duration": 0,
               "easing": "linear"
              }
             }
            ],
            "label": "1955",
            "method": "animate"
           },
           {
            "args": [
             [
              "1956"
             ],
             {
              "frame": {
               "duration": 0,
               "redraw": true
              },
              "fromcurrent": true,
              "mode": "immediate",
              "transition": {
               "duration": 0,
               "easing": "linear"
              }
             }
            ],
            "label": "1956",
            "method": "animate"
           },
           {
            "args": [
             [
              "1957"
             ],
             {
              "frame": {
               "duration": 0,
               "redraw": true
              },
              "fromcurrent": true,
              "mode": "immediate",
              "transition": {
               "duration": 0,
               "easing": "linear"
              }
             }
            ],
            "label": "1957",
            "method": "animate"
           },
           {
            "args": [
             [
              "1958"
             ],
             {
              "frame": {
               "duration": 0,
               "redraw": true
              },
              "fromcurrent": true,
              "mode": "immediate",
              "transition": {
               "duration": 0,
               "easing": "linear"
              }
             }
            ],
            "label": "1958",
            "method": "animate"
           },
           {
            "args": [
             [
              "1959"
             ],
             {
              "frame": {
               "duration": 0,
               "redraw": true
              },
              "fromcurrent": true,
              "mode": "immediate",
              "transition": {
               "duration": 0,
               "easing": "linear"
              }
             }
            ],
            "label": "1959",
            "method": "animate"
           },
           {
            "args": [
             [
              "1960"
             ],
             {
              "frame": {
               "duration": 0,
               "redraw": true
              },
              "fromcurrent": true,
              "mode": "immediate",
              "transition": {
               "duration": 0,
               "easing": "linear"
              }
             }
            ],
            "label": "1960",
            "method": "animate"
           },
           {
            "args": [
             [
              "1961"
             ],
             {
              "frame": {
               "duration": 0,
               "redraw": true
              },
              "fromcurrent": true,
              "mode": "immediate",
              "transition": {
               "duration": 0,
               "easing": "linear"
              }
             }
            ],
            "label": "1961",
            "method": "animate"
           },
           {
            "args": [
             [
              "1962"
             ],
             {
              "frame": {
               "duration": 0,
               "redraw": true
              },
              "fromcurrent": true,
              "mode": "immediate",
              "transition": {
               "duration": 0,
               "easing": "linear"
              }
             }
            ],
            "label": "1962",
            "method": "animate"
           },
           {
            "args": [
             [
              "1963"
             ],
             {
              "frame": {
               "duration": 0,
               "redraw": true
              },
              "fromcurrent": true,
              "mode": "immediate",
              "transition": {
               "duration": 0,
               "easing": "linear"
              }
             }
            ],
            "label": "1963",
            "method": "animate"
           },
           {
            "args": [
             [
              "1964"
             ],
             {
              "frame": {
               "duration": 0,
               "redraw": true
              },
              "fromcurrent": true,
              "mode": "immediate",
              "transition": {
               "duration": 0,
               "easing": "linear"
              }
             }
            ],
            "label": "1964",
            "method": "animate"
           },
           {
            "args": [
             [
              "1965"
             ],
             {
              "frame": {
               "duration": 0,
               "redraw": true
              },
              "fromcurrent": true,
              "mode": "immediate",
              "transition": {
               "duration": 0,
               "easing": "linear"
              }
             }
            ],
            "label": "1965",
            "method": "animate"
           },
           {
            "args": [
             [
              "1966"
             ],
             {
              "frame": {
               "duration": 0,
               "redraw": true
              },
              "fromcurrent": true,
              "mode": "immediate",
              "transition": {
               "duration": 0,
               "easing": "linear"
              }
             }
            ],
            "label": "1966",
            "method": "animate"
           },
           {
            "args": [
             [
              "1967"
             ],
             {
              "frame": {
               "duration": 0,
               "redraw": true
              },
              "fromcurrent": true,
              "mode": "immediate",
              "transition": {
               "duration": 0,
               "easing": "linear"
              }
             }
            ],
            "label": "1967",
            "method": "animate"
           },
           {
            "args": [
             [
              "1968"
             ],
             {
              "frame": {
               "duration": 0,
               "redraw": true
              },
              "fromcurrent": true,
              "mode": "immediate",
              "transition": {
               "duration": 0,
               "easing": "linear"
              }
             }
            ],
            "label": "1968",
            "method": "animate"
           },
           {
            "args": [
             [
              "1969"
             ],
             {
              "frame": {
               "duration": 0,
               "redraw": true
              },
              "fromcurrent": true,
              "mode": "immediate",
              "transition": {
               "duration": 0,
               "easing": "linear"
              }
             }
            ],
            "label": "1969",
            "method": "animate"
           },
           {
            "args": [
             [
              "1970"
             ],
             {
              "frame": {
               "duration": 0,
               "redraw": true
              },
              "fromcurrent": true,
              "mode": "immediate",
              "transition": {
               "duration": 0,
               "easing": "linear"
              }
             }
            ],
            "label": "1970",
            "method": "animate"
           },
           {
            "args": [
             [
              "1971"
             ],
             {
              "frame": {
               "duration": 0,
               "redraw": true
              },
              "fromcurrent": true,
              "mode": "immediate",
              "transition": {
               "duration": 0,
               "easing": "linear"
              }
             }
            ],
            "label": "1971",
            "method": "animate"
           },
           {
            "args": [
             [
              "1972"
             ],
             {
              "frame": {
               "duration": 0,
               "redraw": true
              },
              "fromcurrent": true,
              "mode": "immediate",
              "transition": {
               "duration": 0,
               "easing": "linear"
              }
             }
            ],
            "label": "1972",
            "method": "animate"
           },
           {
            "args": [
             [
              "1973"
             ],
             {
              "frame": {
               "duration": 0,
               "redraw": true
              },
              "fromcurrent": true,
              "mode": "immediate",
              "transition": {
               "duration": 0,
               "easing": "linear"
              }
             }
            ],
            "label": "1973",
            "method": "animate"
           },
           {
            "args": [
             [
              "1974"
             ],
             {
              "frame": {
               "duration": 0,
               "redraw": true
              },
              "fromcurrent": true,
              "mode": "immediate",
              "transition": {
               "duration": 0,
               "easing": "linear"
              }
             }
            ],
            "label": "1974",
            "method": "animate"
           },
           {
            "args": [
             [
              "1975"
             ],
             {
              "frame": {
               "duration": 0,
               "redraw": true
              },
              "fromcurrent": true,
              "mode": "immediate",
              "transition": {
               "duration": 0,
               "easing": "linear"
              }
             }
            ],
            "label": "1975",
            "method": "animate"
           },
           {
            "args": [
             [
              "1976"
             ],
             {
              "frame": {
               "duration": 0,
               "redraw": true
              },
              "fromcurrent": true,
              "mode": "immediate",
              "transition": {
               "duration": 0,
               "easing": "linear"
              }
             }
            ],
            "label": "1976",
            "method": "animate"
           },
           {
            "args": [
             [
              "1977"
             ],
             {
              "frame": {
               "duration": 0,
               "redraw": true
              },
              "fromcurrent": true,
              "mode": "immediate",
              "transition": {
               "duration": 0,
               "easing": "linear"
              }
             }
            ],
            "label": "1977",
            "method": "animate"
           },
           {
            "args": [
             [
              "1978"
             ],
             {
              "frame": {
               "duration": 0,
               "redraw": true
              },
              "fromcurrent": true,
              "mode": "immediate",
              "transition": {
               "duration": 0,
               "easing": "linear"
              }
             }
            ],
            "label": "1978",
            "method": "animate"
           },
           {
            "args": [
             [
              "1979"
             ],
             {
              "frame": {
               "duration": 0,
               "redraw": true
              },
              "fromcurrent": true,
              "mode": "immediate",
              "transition": {
               "duration": 0,
               "easing": "linear"
              }
             }
            ],
            "label": "1979",
            "method": "animate"
           },
           {
            "args": [
             [
              "1980"
             ],
             {
              "frame": {
               "duration": 0,
               "redraw": true
              },
              "fromcurrent": true,
              "mode": "immediate",
              "transition": {
               "duration": 0,
               "easing": "linear"
              }
             }
            ],
            "label": "1980",
            "method": "animate"
           },
           {
            "args": [
             [
              "1981"
             ],
             {
              "frame": {
               "duration": 0,
               "redraw": true
              },
              "fromcurrent": true,
              "mode": "immediate",
              "transition": {
               "duration": 0,
               "easing": "linear"
              }
             }
            ],
            "label": "1981",
            "method": "animate"
           },
           {
            "args": [
             [
              "1982"
             ],
             {
              "frame": {
               "duration": 0,
               "redraw": true
              },
              "fromcurrent": true,
              "mode": "immediate",
              "transition": {
               "duration": 0,
               "easing": "linear"
              }
             }
            ],
            "label": "1982",
            "method": "animate"
           },
           {
            "args": [
             [
              "1983"
             ],
             {
              "frame": {
               "duration": 0,
               "redraw": true
              },
              "fromcurrent": true,
              "mode": "immediate",
              "transition": {
               "duration": 0,
               "easing": "linear"
              }
             }
            ],
            "label": "1983",
            "method": "animate"
           },
           {
            "args": [
             [
              "1984"
             ],
             {
              "frame": {
               "duration": 0,
               "redraw": true
              },
              "fromcurrent": true,
              "mode": "immediate",
              "transition": {
               "duration": 0,
               "easing": "linear"
              }
             }
            ],
            "label": "1984",
            "method": "animate"
           },
           {
            "args": [
             [
              "1985"
             ],
             {
              "frame": {
               "duration": 0,
               "redraw": true
              },
              "fromcurrent": true,
              "mode": "immediate",
              "transition": {
               "duration": 0,
               "easing": "linear"
              }
             }
            ],
            "label": "1985",
            "method": "animate"
           },
           {
            "args": [
             [
              "1986"
             ],
             {
              "frame": {
               "duration": 0,
               "redraw": true
              },
              "fromcurrent": true,
              "mode": "immediate",
              "transition": {
               "duration": 0,
               "easing": "linear"
              }
             }
            ],
            "label": "1986",
            "method": "animate"
           },
           {
            "args": [
             [
              "1987"
             ],
             {
              "frame": {
               "duration": 0,
               "redraw": true
              },
              "fromcurrent": true,
              "mode": "immediate",
              "transition": {
               "duration": 0,
               "easing": "linear"
              }
             }
            ],
            "label": "1987",
            "method": "animate"
           },
           {
            "args": [
             [
              "1988"
             ],
             {
              "frame": {
               "duration": 0,
               "redraw": true
              },
              "fromcurrent": true,
              "mode": "immediate",
              "transition": {
               "duration": 0,
               "easing": "linear"
              }
             }
            ],
            "label": "1988",
            "method": "animate"
           },
           {
            "args": [
             [
              "1989"
             ],
             {
              "frame": {
               "duration": 0,
               "redraw": true
              },
              "fromcurrent": true,
              "mode": "immediate",
              "transition": {
               "duration": 0,
               "easing": "linear"
              }
             }
            ],
            "label": "1989",
            "method": "animate"
           },
           {
            "args": [
             [
              "1990"
             ],
             {
              "frame": {
               "duration": 0,
               "redraw": true
              },
              "fromcurrent": true,
              "mode": "immediate",
              "transition": {
               "duration": 0,
               "easing": "linear"
              }
             }
            ],
            "label": "1990",
            "method": "animate"
           },
           {
            "args": [
             [
              "1991"
             ],
             {
              "frame": {
               "duration": 0,
               "redraw": true
              },
              "fromcurrent": true,
              "mode": "immediate",
              "transition": {
               "duration": 0,
               "easing": "linear"
              }
             }
            ],
            "label": "1991",
            "method": "animate"
           },
           {
            "args": [
             [
              "1992"
             ],
             {
              "frame": {
               "duration": 0,
               "redraw": true
              },
              "fromcurrent": true,
              "mode": "immediate",
              "transition": {
               "duration": 0,
               "easing": "linear"
              }
             }
            ],
            "label": "1992",
            "method": "animate"
           },
           {
            "args": [
             [
              "1993"
             ],
             {
              "frame": {
               "duration": 0,
               "redraw": true
              },
              "fromcurrent": true,
              "mode": "immediate",
              "transition": {
               "duration": 0,
               "easing": "linear"
              }
             }
            ],
            "label": "1993",
            "method": "animate"
           },
           {
            "args": [
             [
              "1994"
             ],
             {
              "frame": {
               "duration": 0,
               "redraw": true
              },
              "fromcurrent": true,
              "mode": "immediate",
              "transition": {
               "duration": 0,
               "easing": "linear"
              }
             }
            ],
            "label": "1994",
            "method": "animate"
           },
           {
            "args": [
             [
              "1995"
             ],
             {
              "frame": {
               "duration": 0,
               "redraw": true
              },
              "fromcurrent": true,
              "mode": "immediate",
              "transition": {
               "duration": 0,
               "easing": "linear"
              }
             }
            ],
            "label": "1995",
            "method": "animate"
           },
           {
            "args": [
             [
              "1996"
             ],
             {
              "frame": {
               "duration": 0,
               "redraw": true
              },
              "fromcurrent": true,
              "mode": "immediate",
              "transition": {
               "duration": 0,
               "easing": "linear"
              }
             }
            ],
            "label": "1996",
            "method": "animate"
           },
           {
            "args": [
             [
              "1997"
             ],
             {
              "frame": {
               "duration": 0,
               "redraw": true
              },
              "fromcurrent": true,
              "mode": "immediate",
              "transition": {
               "duration": 0,
               "easing": "linear"
              }
             }
            ],
            "label": "1997",
            "method": "animate"
           },
           {
            "args": [
             [
              "1998"
             ],
             {
              "frame": {
               "duration": 0,
               "redraw": true
              },
              "fromcurrent": true,
              "mode": "immediate",
              "transition": {
               "duration": 0,
               "easing": "linear"
              }
             }
            ],
            "label": "1998",
            "method": "animate"
           },
           {
            "args": [
             [
              "1999"
             ],
             {
              "frame": {
               "duration": 0,
               "redraw": true
              },
              "fromcurrent": true,
              "mode": "immediate",
              "transition": {
               "duration": 0,
               "easing": "linear"
              }
             }
            ],
            "label": "1999",
            "method": "animate"
           },
           {
            "args": [
             [
              "2000"
             ],
             {
              "frame": {
               "duration": 0,
               "redraw": true
              },
              "fromcurrent": true,
              "mode": "immediate",
              "transition": {
               "duration": 0,
               "easing": "linear"
              }
             }
            ],
            "label": "2000",
            "method": "animate"
           },
           {
            "args": [
             [
              "2001"
             ],
             {
              "frame": {
               "duration": 0,
               "redraw": true
              },
              "fromcurrent": true,
              "mode": "immediate",
              "transition": {
               "duration": 0,
               "easing": "linear"
              }
             }
            ],
            "label": "2001",
            "method": "animate"
           },
           {
            "args": [
             [
              "2002"
             ],
             {
              "frame": {
               "duration": 0,
               "redraw": true
              },
              "fromcurrent": true,
              "mode": "immediate",
              "transition": {
               "duration": 0,
               "easing": "linear"
              }
             }
            ],
            "label": "2002",
            "method": "animate"
           },
           {
            "args": [
             [
              "2003"
             ],
             {
              "frame": {
               "duration": 0,
               "redraw": true
              },
              "fromcurrent": true,
              "mode": "immediate",
              "transition": {
               "duration": 0,
               "easing": "linear"
              }
             }
            ],
            "label": "2003",
            "method": "animate"
           },
           {
            "args": [
             [
              "2004"
             ],
             {
              "frame": {
               "duration": 0,
               "redraw": true
              },
              "fromcurrent": true,
              "mode": "immediate",
              "transition": {
               "duration": 0,
               "easing": "linear"
              }
             }
            ],
            "label": "2004",
            "method": "animate"
           },
           {
            "args": [
             [
              "2005"
             ],
             {
              "frame": {
               "duration": 0,
               "redraw": true
              },
              "fromcurrent": true,
              "mode": "immediate",
              "transition": {
               "duration": 0,
               "easing": "linear"
              }
             }
            ],
            "label": "2005",
            "method": "animate"
           },
           {
            "args": [
             [
              "2006"
             ],
             {
              "frame": {
               "duration": 0,
               "redraw": true
              },
              "fromcurrent": true,
              "mode": "immediate",
              "transition": {
               "duration": 0,
               "easing": "linear"
              }
             }
            ],
            "label": "2006",
            "method": "animate"
           },
           {
            "args": [
             [
              "2007"
             ],
             {
              "frame": {
               "duration": 0,
               "redraw": true
              },
              "fromcurrent": true,
              "mode": "immediate",
              "transition": {
               "duration": 0,
               "easing": "linear"
              }
             }
            ],
            "label": "2007",
            "method": "animate"
           },
           {
            "args": [
             [
              "2008"
             ],
             {
              "frame": {
               "duration": 0,
               "redraw": true
              },
              "fromcurrent": true,
              "mode": "immediate",
              "transition": {
               "duration": 0,
               "easing": "linear"
              }
             }
            ],
            "label": "2008",
            "method": "animate"
           },
           {
            "args": [
             [
              "2009"
             ],
             {
              "frame": {
               "duration": 0,
               "redraw": true
              },
              "fromcurrent": true,
              "mode": "immediate",
              "transition": {
               "duration": 0,
               "easing": "linear"
              }
             }
            ],
            "label": "2009",
            "method": "animate"
           },
           {
            "args": [
             [
              "2010"
             ],
             {
              "frame": {
               "duration": 0,
               "redraw": true
              },
              "fromcurrent": true,
              "mode": "immediate",
              "transition": {
               "duration": 0,
               "easing": "linear"
              }
             }
            ],
            "label": "2010",
            "method": "animate"
           },
           {
            "args": [
             [
              "2011"
             ],
             {
              "frame": {
               "duration": 0,
               "redraw": true
              },
              "fromcurrent": true,
              "mode": "immediate",
              "transition": {
               "duration": 0,
               "easing": "linear"
              }
             }
            ],
            "label": "2011",
            "method": "animate"
           },
           {
            "args": [
             [
              "2012"
             ],
             {
              "frame": {
               "duration": 0,
               "redraw": true
              },
              "fromcurrent": true,
              "mode": "immediate",
              "transition": {
               "duration": 0,
               "easing": "linear"
              }
             }
            ],
            "label": "2012",
            "method": "animate"
           },
           {
            "args": [
             [
              "2013"
             ],
             {
              "frame": {
               "duration": 0,
               "redraw": true
              },
              "fromcurrent": true,
              "mode": "immediate",
              "transition": {
               "duration": 0,
               "easing": "linear"
              }
             }
            ],
            "label": "2013",
            "method": "animate"
           },
           {
            "args": [
             [
              "2014"
             ],
             {
              "frame": {
               "duration": 0,
               "redraw": true
              },
              "fromcurrent": true,
              "mode": "immediate",
              "transition": {
               "duration": 0,
               "easing": "linear"
              }
             }
            ],
            "label": "2014",
            "method": "animate"
           },
           {
            "args": [
             [
              "2015"
             ],
             {
              "frame": {
               "duration": 0,
               "redraw": true
              },
              "fromcurrent": true,
              "mode": "immediate",
              "transition": {
               "duration": 0,
               "easing": "linear"
              }
             }
            ],
            "label": "2015",
            "method": "animate"
           },
           {
            "args": [
             [
              "2016"
             ],
             {
              "frame": {
               "duration": 0,
               "redraw": true
              },
              "fromcurrent": true,
              "mode": "immediate",
              "transition": {
               "duration": 0,
               "easing": "linear"
              }
             }
            ],
            "label": "2016",
            "method": "animate"
           },
           {
            "args": [
             [
              "2017"
             ],
             {
              "frame": {
               "duration": 0,
               "redraw": true
              },
              "fromcurrent": true,
              "mode": "immediate",
              "transition": {
               "duration": 0,
               "easing": "linear"
              }
             }
            ],
            "label": "2017",
            "method": "animate"
           },
           {
            "args": [
             [
              "2018"
             ],
             {
              "frame": {
               "duration": 0,
               "redraw": true
              },
              "fromcurrent": true,
              "mode": "immediate",
              "transition": {
               "duration": 0,
               "easing": "linear"
              }
             }
            ],
            "label": "2018",
            "method": "animate"
           },
           {
            "args": [
             [
              "2019"
             ],
             {
              "frame": {
               "duration": 0,
               "redraw": true
              },
              "fromcurrent": true,
              "mode": "immediate",
              "transition": {
               "duration": 0,
               "easing": "linear"
              }
             }
            ],
            "label": "2019",
            "method": "animate"
           },
           {
            "args": [
             [
              "2020"
             ],
             {
              "frame": {
               "duration": 0,
               "redraw": true
              },
              "fromcurrent": true,
              "mode": "immediate",
              "transition": {
               "duration": 0,
               "easing": "linear"
              }
             }
            ],
            "label": "2020",
            "method": "animate"
           },
           {
            "args": [
             [
              "2021"
             ],
             {
              "frame": {
               "duration": 0,
               "redraw": true
              },
              "fromcurrent": true,
              "mode": "immediate",
              "transition": {
               "duration": 0,
               "easing": "linear"
              }
             }
            ],
            "label": "2021",
            "method": "animate"
           },
           {
            "args": [
             [
              "2022"
             ],
             {
              "frame": {
               "duration": 0,
               "redraw": true
              },
              "fromcurrent": true,
              "mode": "immediate",
              "transition": {
               "duration": 0,
               "easing": "linear"
              }
             }
            ],
            "label": "2022",
            "method": "animate"
           },
           {
            "args": [
             [
              "2023"
             ],
             {
              "frame": {
               "duration": 0,
               "redraw": true
              },
              "fromcurrent": true,
              "mode": "immediate",
              "transition": {
               "duration": 0,
               "easing": "linear"
              }
             }
            ],
            "label": "2023",
            "method": "animate"
           }
          ],
          "x": 0.1,
          "xanchor": "left",
          "y": 0,
          "yanchor": "top"
         }
        ],
        "template": {
         "data": {
          "bar": [
           {
            "error_x": {
             "color": "#2a3f5f"
            },
            "error_y": {
             "color": "#2a3f5f"
            },
            "marker": {
             "line": {
              "color": "#E5ECF6",
              "width": 0.5
             },
             "pattern": {
              "fillmode": "overlay",
              "size": 10,
              "solidity": 0.2
             }
            },
            "type": "bar"
           }
          ],
          "barpolar": [
           {
            "marker": {
             "line": {
              "color": "#E5ECF6",
              "width": 0.5
             },
             "pattern": {
              "fillmode": "overlay",
              "size": 10,
              "solidity": 0.2
             }
            },
            "type": "barpolar"
           }
          ],
          "carpet": [
           {
            "aaxis": {
             "endlinecolor": "#2a3f5f",
             "gridcolor": "white",
             "linecolor": "white",
             "minorgridcolor": "white",
             "startlinecolor": "#2a3f5f"
            },
            "baxis": {
             "endlinecolor": "#2a3f5f",
             "gridcolor": "white",
             "linecolor": "white",
             "minorgridcolor": "white",
             "startlinecolor": "#2a3f5f"
            },
            "type": "carpet"
           }
          ],
          "choropleth": [
           {
            "colorbar": {
             "outlinewidth": 0,
             "ticks": ""
            },
            "type": "choropleth"
           }
          ],
          "contour": [
           {
            "colorbar": {
             "outlinewidth": 0,
             "ticks": ""
            },
            "colorscale": [
             [
              0,
              "#0d0887"
             ],
             [
              0.1111111111111111,
              "#46039f"
             ],
             [
              0.2222222222222222,
              "#7201a8"
             ],
             [
              0.3333333333333333,
              "#9c179e"
             ],
             [
              0.4444444444444444,
              "#bd3786"
             ],
             [
              0.5555555555555556,
              "#d8576b"
             ],
             [
              0.6666666666666666,
              "#ed7953"
             ],
             [
              0.7777777777777778,
              "#fb9f3a"
             ],
             [
              0.8888888888888888,
              "#fdca26"
             ],
             [
              1,
              "#f0f921"
             ]
            ],
            "type": "contour"
           }
          ],
          "contourcarpet": [
           {
            "colorbar": {
             "outlinewidth": 0,
             "ticks": ""
            },
            "type": "contourcarpet"
           }
          ],
          "heatmap": [
           {
            "colorbar": {
             "outlinewidth": 0,
             "ticks": ""
            },
            "colorscale": [
             [
              0,
              "#0d0887"
             ],
             [
              0.1111111111111111,
              "#46039f"
             ],
             [
              0.2222222222222222,
              "#7201a8"
             ],
             [
              0.3333333333333333,
              "#9c179e"
             ],
             [
              0.4444444444444444,
              "#bd3786"
             ],
             [
              0.5555555555555556,
              "#d8576b"
             ],
             [
              0.6666666666666666,
              "#ed7953"
             ],
             [
              0.7777777777777778,
              "#fb9f3a"
             ],
             [
              0.8888888888888888,
              "#fdca26"
             ],
             [
              1,
              "#f0f921"
             ]
            ],
            "type": "heatmap"
           }
          ],
          "heatmapgl": [
           {
            "colorbar": {
             "outlinewidth": 0,
             "ticks": ""
            },
            "colorscale": [
             [
              0,
              "#0d0887"
             ],
             [
              0.1111111111111111,
              "#46039f"
             ],
             [
              0.2222222222222222,
              "#7201a8"
             ],
             [
              0.3333333333333333,
              "#9c179e"
             ],
             [
              0.4444444444444444,
              "#bd3786"
             ],
             [
              0.5555555555555556,
              "#d8576b"
             ],
             [
              0.6666666666666666,
              "#ed7953"
             ],
             [
              0.7777777777777778,
              "#fb9f3a"
             ],
             [
              0.8888888888888888,
              "#fdca26"
             ],
             [
              1,
              "#f0f921"
             ]
            ],
            "type": "heatmapgl"
           }
          ],
          "histogram": [
           {
            "marker": {
             "pattern": {
              "fillmode": "overlay",
              "size": 10,
              "solidity": 0.2
             }
            },
            "type": "histogram"
           }
          ],
          "histogram2d": [
           {
            "colorbar": {
             "outlinewidth": 0,
             "ticks": ""
            },
            "colorscale": [
             [
              0,
              "#0d0887"
             ],
             [
              0.1111111111111111,
              "#46039f"
             ],
             [
              0.2222222222222222,
              "#7201a8"
             ],
             [
              0.3333333333333333,
              "#9c179e"
             ],
             [
              0.4444444444444444,
              "#bd3786"
             ],
             [
              0.5555555555555556,
              "#d8576b"
             ],
             [
              0.6666666666666666,
              "#ed7953"
             ],
             [
              0.7777777777777778,
              "#fb9f3a"
             ],
             [
              0.8888888888888888,
              "#fdca26"
             ],
             [
              1,
              "#f0f921"
             ]
            ],
            "type": "histogram2d"
           }
          ],
          "histogram2dcontour": [
           {
            "colorbar": {
             "outlinewidth": 0,
             "ticks": ""
            },
            "colorscale": [
             [
              0,
              "#0d0887"
             ],
             [
              0.1111111111111111,
              "#46039f"
             ],
             [
              0.2222222222222222,
              "#7201a8"
             ],
             [
              0.3333333333333333,
              "#9c179e"
             ],
             [
              0.4444444444444444,
              "#bd3786"
             ],
             [
              0.5555555555555556,
              "#d8576b"
             ],
             [
              0.6666666666666666,
              "#ed7953"
             ],
             [
              0.7777777777777778,
              "#fb9f3a"
             ],
             [
              0.8888888888888888,
              "#fdca26"
             ],
             [
              1,
              "#f0f921"
             ]
            ],
            "type": "histogram2dcontour"
           }
          ],
          "mesh3d": [
           {
            "colorbar": {
             "outlinewidth": 0,
             "ticks": ""
            },
            "type": "mesh3d"
           }
          ],
          "parcoords": [
           {
            "line": {
             "colorbar": {
              "outlinewidth": 0,
              "ticks": ""
             }
            },
            "type": "parcoords"
           }
          ],
          "pie": [
           {
            "automargin": true,
            "type": "pie"
           }
          ],
          "scatter": [
           {
            "fillpattern": {
             "fillmode": "overlay",
             "size": 10,
             "solidity": 0.2
            },
            "type": "scatter"
           }
          ],
          "scatter3d": [
           {
            "line": {
             "colorbar": {
              "outlinewidth": 0,
              "ticks": ""
             }
            },
            "marker": {
             "colorbar": {
              "outlinewidth": 0,
              "ticks": ""
             }
            },
            "type": "scatter3d"
           }
          ],
          "scattercarpet": [
           {
            "marker": {
             "colorbar": {
              "outlinewidth": 0,
              "ticks": ""
             }
            },
            "type": "scattercarpet"
           }
          ],
          "scattergeo": [
           {
            "marker": {
             "colorbar": {
              "outlinewidth": 0,
              "ticks": ""
             }
            },
            "type": "scattergeo"
           }
          ],
          "scattergl": [
           {
            "marker": {
             "colorbar": {
              "outlinewidth": 0,
              "ticks": ""
             }
            },
            "type": "scattergl"
           }
          ],
          "scattermapbox": [
           {
            "marker": {
             "colorbar": {
              "outlinewidth": 0,
              "ticks": ""
             }
            },
            "type": "scattermapbox"
           }
          ],
          "scatterpolar": [
           {
            "marker": {
             "colorbar": {
              "outlinewidth": 0,
              "ticks": ""
             }
            },
            "type": "scatterpolar"
           }
          ],
          "scatterpolargl": [
           {
            "marker": {
             "colorbar": {
              "outlinewidth": 0,
              "ticks": ""
             }
            },
            "type": "scatterpolargl"
           }
          ],
          "scatterternary": [
           {
            "marker": {
             "colorbar": {
              "outlinewidth": 0,
              "ticks": ""
             }
            },
            "type": "scatterternary"
           }
          ],
          "surface": [
           {
            "colorbar": {
             "outlinewidth": 0,
             "ticks": ""
            },
            "colorscale": [
             [
              0,
              "#0d0887"
             ],
             [
              0.1111111111111111,
              "#46039f"
             ],
             [
              0.2222222222222222,
              "#7201a8"
             ],
             [
              0.3333333333333333,
              "#9c179e"
             ],
             [
              0.4444444444444444,
              "#bd3786"
             ],
             [
              0.5555555555555556,
              "#d8576b"
             ],
             [
              0.6666666666666666,
              "#ed7953"
             ],
             [
              0.7777777777777778,
              "#fb9f3a"
             ],
             [
              0.8888888888888888,
              "#fdca26"
             ],
             [
              1,
              "#f0f921"
             ]
            ],
            "type": "surface"
           }
          ],
          "table": [
           {
            "cells": {
             "fill": {
              "color": "#EBF0F8"
             },
             "line": {
              "color": "white"
             }
            },
            "header": {
             "fill": {
              "color": "#C8D4E3"
             },
             "line": {
              "color": "white"
             }
            },
            "type": "table"
           }
          ]
         },
         "layout": {
          "annotationdefaults": {
           "arrowcolor": "#2a3f5f",
           "arrowhead": 0,
           "arrowwidth": 1
          },
          "autotypenumbers": "strict",
          "coloraxis": {
           "colorbar": {
            "outlinewidth": 0,
            "ticks": ""
           }
          },
          "colorscale": {
           "diverging": [
            [
             0,
             "#8e0152"
            ],
            [
             0.1,
             "#c51b7d"
            ],
            [
             0.2,
             "#de77ae"
            ],
            [
             0.3,
             "#f1b6da"
            ],
            [
             0.4,
             "#fde0ef"
            ],
            [
             0.5,
             "#f7f7f7"
            ],
            [
             0.6,
             "#e6f5d0"
            ],
            [
             0.7,
             "#b8e186"
            ],
            [
             0.8,
             "#7fbc41"
            ],
            [
             0.9,
             "#4d9221"
            ],
            [
             1,
             "#276419"
            ]
           ],
           "sequential": [
            [
             0,
             "#0d0887"
            ],
            [
             0.1111111111111111,
             "#46039f"
            ],
            [
             0.2222222222222222,
             "#7201a8"
            ],
            [
             0.3333333333333333,
             "#9c179e"
            ],
            [
             0.4444444444444444,
             "#bd3786"
            ],
            [
             0.5555555555555556,
             "#d8576b"
            ],
            [
             0.6666666666666666,
             "#ed7953"
            ],
            [
             0.7777777777777778,
             "#fb9f3a"
            ],
            [
             0.8888888888888888,
             "#fdca26"
            ],
            [
             1,
             "#f0f921"
            ]
           ],
           "sequentialminus": [
            [
             0,
             "#0d0887"
            ],
            [
             0.1111111111111111,
             "#46039f"
            ],
            [
             0.2222222222222222,
             "#7201a8"
            ],
            [
             0.3333333333333333,
             "#9c179e"
            ],
            [
             0.4444444444444444,
             "#bd3786"
            ],
            [
             0.5555555555555556,
             "#d8576b"
            ],
            [
             0.6666666666666666,
             "#ed7953"
            ],
            [
             0.7777777777777778,
             "#fb9f3a"
            ],
            [
             0.8888888888888888,
             "#fdca26"
            ],
            [
             1,
             "#f0f921"
            ]
           ]
          },
          "colorway": [
           "#636efa",
           "#EF553B",
           "#00cc96",
           "#ab63fa",
           "#FFA15A",
           "#19d3f3",
           "#FF6692",
           "#B6E880",
           "#FF97FF",
           "#FECB52"
          ],
          "font": {
           "color": "#2a3f5f"
          },
          "geo": {
           "bgcolor": "white",
           "lakecolor": "white",
           "landcolor": "#E5ECF6",
           "showlakes": true,
           "showland": true,
           "subunitcolor": "white"
          },
          "hoverlabel": {
           "align": "left"
          },
          "hovermode": "closest",
          "mapbox": {
           "style": "light"
          },
          "paper_bgcolor": "white",
          "plot_bgcolor": "#E5ECF6",
          "polar": {
           "angularaxis": {
            "gridcolor": "white",
            "linecolor": "white",
            "ticks": ""
           },
           "bgcolor": "#E5ECF6",
           "radialaxis": {
            "gridcolor": "white",
            "linecolor": "white",
            "ticks": ""
           }
          },
          "scene": {
           "xaxis": {
            "backgroundcolor": "#E5ECF6",
            "gridcolor": "white",
            "gridwidth": 2,
            "linecolor": "white",
            "showbackground": true,
            "ticks": "",
            "zerolinecolor": "white"
           },
           "yaxis": {
            "backgroundcolor": "#E5ECF6",
            "gridcolor": "white",
            "gridwidth": 2,
            "linecolor": "white",
            "showbackground": true,
            "ticks": "",
            "zerolinecolor": "white"
           },
           "zaxis": {
            "backgroundcolor": "#E5ECF6",
            "gridcolor": "white",
            "gridwidth": 2,
            "linecolor": "white",
            "showbackground": true,
            "ticks": "",
            "zerolinecolor": "white"
           }
          },
          "shapedefaults": {
           "line": {
            "color": "#2a3f5f"
           }
          },
          "ternary": {
           "aaxis": {
            "gridcolor": "white",
            "linecolor": "white",
            "ticks": ""
           },
           "baxis": {
            "gridcolor": "white",
            "linecolor": "white",
            "ticks": ""
           },
           "bgcolor": "#E5ECF6",
           "caxis": {
            "gridcolor": "white",
            "linecolor": "white",
            "ticks": ""
           }
          },
          "title": {
           "x": 0.05
          },
          "xaxis": {
           "automargin": true,
           "gridcolor": "white",
           "linecolor": "white",
           "ticks": "",
           "title": {
            "standoff": 15
           },
           "zerolinecolor": "white",
           "zerolinewidth": 2
          },
          "yaxis": {
           "automargin": true,
           "gridcolor": "white",
           "linecolor": "white",
           "ticks": "",
           "title": {
            "standoff": 15
           },
           "zerolinecolor": "white",
           "zerolinewidth": 2
          }
         }
        },
        "title": {
         "text": "Number of Refugees under UNHCR's Mandate by Country Over Time (Excluding Germany)"
        },
        "updatemenus": [
         {
          "buttons": [
           {
            "args": [
             null,
             {
              "frame": {
               "duration": 500,
               "redraw": true
              },
              "fromcurrent": true,
              "mode": "immediate",
              "transition": {
               "duration": 500,
               "easing": "linear"
              }
             }
            ],
            "label": "&#9654;",
            "method": "animate"
           },
           {
            "args": [
             [
              null
             ],
             {
              "frame": {
               "duration": 0,
               "redraw": true
              },
              "fromcurrent": true,
              "mode": "immediate",
              "transition": {
               "duration": 0,
               "easing": "linear"
              }
             }
            ],
            "label": "&#9724;",
            "method": "animate"
           }
          ],
          "direction": "left",
          "pad": {
           "r": 10,
           "t": 70
          },
          "showactive": false,
          "type": "buttons",
          "x": 0.1,
          "xanchor": "right",
          "y": 0,
          "yanchor": "top"
         }
        ],
        "width": 1200
       }
      },
      "image/png": "[encoded data removed]",
      "text/html": [
       "<div>                            <div id=\"db9a74e4-171d-4b39-bb71-1b2f0e99e305\" class=\"plotly-graph-div\" style=\"height:800px; width:1200px;\"></div>            <script type=\"text/javascript\">                require([\"plotly\"], function(Plotly) {                    window.PLOTLYENV=window.PLOTLYENV || {};                                    if (document.getElementById(\"db9a74e4-171d-4b39-bb71-1b2f0e99e305\")) {                    Plotly.newPlot(                        \"db9a74e4-171d-4b39-bb71-1b2f0e99e305\",                        [{\"coloraxis\":\"coloraxis\",\"geo\":\"geo\",\"hovertemplate\":\"\\u003cb\\u003e%{hovertext}\\u003c\\u002fb\\u003e\\u003cbr\\u003e\\u003cbr\\u003eYear=1951\\u003cbr\\u003eCountry of asylum (ISO)=%{location}\\u003cbr\\u003eNumber of Refugees=%{z}\\u003cextra\\u003e\\u003c\\u002fextra\\u003e\",\"hovertext\":[\"Austria\",\"Belgium\",\"Denmark\",\"France\",\"Greece\",\"Italy\",\"Luxembourg\",\"Norway\",\"Spain\",\"Sweden\",\"Switzerland\"],\"locations\":[\"AUT\",\"BEL\",\"DNK\",\"FRA\",\"GRC\",\"ITA\",\"LUX\",\"NOR\",\"ESP\",\"SWE\",\"CHE\"],\"name\":\"\",\"z\":[282000,55000,2000,290000,18000,26500,1800,2500,2000,44000,10000],\"type\":\"choropleth\"}],                        {\"template\":{\"data\":{\"histogram2dcontour\":[{\"type\":\"histogram2dcontour\",\"colorbar\":{\"outlinewidth\":0,\"ticks\":\"\"},\"colorscale\":[[0.0,\"#0d0887\"],[0.1111111111111111,\"#46039f\"],[0.2222222222222222,\"#7201a8\"],[0.3333333333333333,\"#9c179e\"],[0.4444444444444444,\"#bd3786\"],[0.5555555555555556,\"#d8576b\"],[0.6666666666666666,\"#ed7953\"],[0.7777777777777778,\"#fb9f3a\"],[0.8888888888888888,\"#fdca26\"],[1.0,\"#f0f921\"]]}],\"choropleth\":[{\"type\":\"choropleth\",\"colorbar\":{\"outlinewidth\":0,\"ticks\":\"\"}}],\"histogram2d\":[{\"type\":\"histogram2d\",\"colorbar\":{\"outlinewidth\":0,\"ticks\":\"\"},\"colorscale\":[[0.0,\"#0d0887\"],[0.1111111111111111,\"#46039f\"],[0.2222222222222222,\"#7201a8\"],[0.3333333333333333,\"#9c179e\"],[0.4444444444444444,\"#bd3786\"],[0.5555555555555556,\"#d8576b\"],[0.6666666666666666,\"#ed7953\"],[0.7777777777777778,\"#fb9f3a\"],[0.8888888888888888,\"#fdca26\"],[1.0,\"#f0f921\"]]}],\"heatmap\":[{\"type\":\"heatmap\",\"colorbar\":{\"outlinewidth\":0,\"ticks\":\"\"},\"colorscale\":[[0.0,\"#0d0887\"],[0.1111111111111111,\"#46039f\"],[0.2222222222222222,\"#7201a8\"],[0.3333333333333333,\"#9c179e\"],[0.4444444444444444,\"#bd3786\"],[0.5555555555555556,\"#d8576b\"],[0.6666666666666666,\"#ed7953\"],[0.7777777777777778,\"#fb9f3a\"],[0.8888888888888888,\"#fdca26\"],[1.0,\"#f0f921\"]]}],\"heatmapgl\":[{\"type\":\"heatmapgl\",\"colorbar\":{\"outlinewidth\":0,\"ticks\":\"\"},\"colorscale\":[[0.0,\"#0d0887\"],[0.1111111111111111,\"#46039f\"],[0.2222222222222222,\"#7201a8\"],[0.3333333333333333,\"#9c179e\"],[0.4444444444444444,\"#bd3786\"],[0.5555555555555556,\"#d8576b\"],[0.6666666666666666,\"#ed7953\"],[0.7777777777777778,\"#fb9f3a\"],[0.8888888888888888,\"#fdca26\"],[1.0,\"#f0f921\"]]}],\"contourcarpet\":[{\"type\":\"contourcarpet\",\"colorbar\":{\"outlinewidth\":0,\"ticks\":\"\"}}],\"contour\":[{\"type\":\"contour\",\"colorbar\":{\"outlinewidth\":0,\"ticks\":\"\"},\"colorscale\":[[0.0,\"#0d0887\"],[0.1111111111111111,\"#46039f\"],[0.2222222222222222,\"#7201a8\"],[0.3333333333333333,\"#9c179e\"],[0.4444444444444444,\"#bd3786\"],[0.5555555555555556,\"#d8576b\"],[0.6666666666666666,\"#ed7953\"],[0.7777777777777778,\"#fb9f3a\"],[0.8888888888888888,\"#fdca26\"],[1.0,\"#f0f921\"]]}],\"surface\":[{\"type\":\"surface\",\"colorbar\":{\"outlinewidth\":0,\"ticks\":\"\"},\"colorscale\":[[0.0,\"#0d0887\"],[0.1111111111111111,\"#46039f\"],[0.2222222222222222,\"#7201a8\"],[0.3333333333333333,\"#9c179e\"],[0.4444444444444444,\"#bd3786\"],[0.5555555555555556,\"#d8576b\"],[0.6666666666666666,\"#ed7953\"],[0.7777777777777778,\"#fb9f3a\"],[0.8888888888888888,\"#fdca26\"],[1.0,\"#f0f921\"]]}],\"mesh3d\":[{\"type\":\"mesh3d\",\"colorbar\":{\"outlinewidth\":0,\"ticks\":\"\"}}],\"scatter\":[{\"fillpattern\":{\"fillmode\":\"overlay\",\"size\":10,\"solidity\":0.2},\"type\":\"scatter\"}],\"parcoords\":[{\"type\":\"parcoords\",\"line\":{\"colorbar\":{\"outlinewidth\":0,\"ticks\":\"\"}}}],\"scatterpolargl\":[{\"type\":\"scatterpolargl\",\"marker\":{\"colorbar\":{\"outlinewidth\":0,\"ticks\":\"\"}}}],\"bar\":[{\"error_x\":{\"color\":\"#2a3f5f\"},\"error_y\":{\"color\":\"#2a3f5f\"},\"marker\":{\"line\":{\"color\":\"#E5ECF6\",\"width\":0.5},\"pattern\":{\"fillmode\":\"overlay\",\"size\":10,\"solidity\":0.2}},\"type\":\"bar\"}],\"scattergeo\":[{\"type\":\"scattergeo\",\"marker\":{\"colorbar\":{\"outlinewidth\":0,\"ticks\":\"\"}}}],\"scatterpolar\":[{\"type\":\"scatterpolar\",\"marker\":{\"colorbar\":{\"outlinewidth\":0,\"ticks\":\"\"}}}],\"histogram\":[{\"marker\":{\"pattern\":{\"fillmode\":\"overlay\",\"size\":10,\"solidity\":0.2}},\"type\":\"histogram\"}],\"scattergl\":[{\"type\":\"scattergl\",\"marker\":{\"colorbar\":{\"outlinewidth\":0,\"ticks\":\"\"}}}],\"scatter3d\":[{\"type\":\"scatter3d\",\"line\":{\"colorbar\":{\"outlinewidth\":0,\"ticks\":\"\"}},\"marker\":{\"colorbar\":{\"outlinewidth\":0,\"ticks\":\"\"}}}],\"scattermapbox\":[{\"type\":\"scattermapbox\",\"marker\":{\"colorbar\":{\"outlinewidth\":0,\"ticks\":\"\"}}}],\"scatterternary\":[{\"type\":\"scatterternary\",\"marker\":{\"colorbar\":{\"outlinewidth\":0,\"ticks\":\"\"}}}],\"scattercarpet\":[{\"type\":\"scattercarpet\",\"marker\":{\"colorbar\":{\"outlinewidth\":0,\"ticks\":\"\"}}}],\"carpet\":[{\"aaxis\":{\"endlinecolor\":\"#2a3f5f\",\"gridcolor\":\"white\",\"linecolor\":\"white\",\"minorgridcolor\":\"white\",\"startlinecolor\":\"#2a3f5f\"},\"baxis\":{\"endlinecolor\":\"#2a3f5f\",\"gridcolor\":\"white\",\"linecolor\":\"white\",\"minorgridcolor\":\"white\",\"startlinecolor\":\"#2a3f5f\"},\"type\":\"carpet\"}],\"table\":[{\"cells\":{\"fill\":{\"color\":\"#EBF0F8\"},\"line\":{\"color\":\"white\"}},\"header\":{\"fill\":{\"color\":\"#C8D4E3\"},\"line\":{\"color\":\"white\"}},\"type\":\"table\"}],\"barpolar\":[{\"marker\":{\"line\":{\"color\":\"#E5ECF6\",\"width\":0.5},\"pattern\":{\"fillmode\":\"overlay\",\"size\":10,\"solidity\":0.2}},\"type\":\"barpolar\"}],\"pie\":[{\"automargin\":true,\"type\":\"pie\"}]},\"layout\":{\"autotypenumbers\":\"strict\",\"colorway\":[\"#636efa\",\"#EF553B\",\"#00cc96\",\"#ab63fa\",\"#FFA15A\",\"#19d3f3\",\"#FF6692\",\"#B6E880\",\"#FF97FF\",\"#FECB52\"],\"font\":{\"color\":\"#2a3f5f\"},\"hovermode\":\"closest\",\"hoverlabel\":{\"align\":\"left\"},\"paper_bgcolor\":\"white\",\"plot_bgcolor\":\"#E5ECF6\",\"polar\":{\"bgcolor\":\"#E5ECF6\",\"angularaxis\":{\"gridcolor\":\"white\",\"linecolor\":\"white\",\"ticks\":\"\"},\"radialaxis\":{\"gridcolor\":\"white\",\"linecolor\":\"white\",\"ticks\":\"\"}},\"ternary\":{\"bgcolor\":\"#E5ECF6\",\"aaxis\":{\"gridcolor\":\"white\",\"linecolor\":\"white\",\"ticks\":\"\"},\"baxis\":{\"gridcolor\":\"white\",\"linecolor\":\"white\",\"ticks\":\"\"},\"caxis\":{\"gridcolor\":\"white\",\"linecolor\":\"white\",\"ticks\":\"\"}},\"coloraxis\":{\"colorbar\":{\"outlinewidth\":0,\"ticks\":\"\"}},\"colorscale\":{\"sequential\":[[0.0,\"#0d0887\"],[0.1111111111111111,\"#46039f\"],[0.2222222222222222,\"#7201a8\"],[0.3333333333333333,\"#9c179e\"],[0.4444444444444444,\"#bd3786\"],[0.5555555555555556,\"#d8576b\"],[0.6666666666666666,\"#ed7953\"],[0.7777777777777778,\"#fb9f3a\"],[0.8888888888888888,\"#fdca26\"],[1.0,\"#f0f921\"]],\"sequentialminus\":[[0.0,\"#0d0887\"],[0.1111111111111111,\"#46039f\"],[0.2222222222222222,\"#7201a8\"],[0.3333333333333333,\"#9c179e\"],[0.4444444444444444,\"#bd3786\"],[0.5555555555555556,\"#d8576b\"],[0.6666666666666666,\"#ed7953\"],[0.7777777777777778,\"#fb9f3a\"],[0.8888888888888888,\"#fdca26\"],[1.0,\"#f0f921\"]],\"diverging\":[[0,\"#8e0152\"],[0.1,\"#c51b7d\"],[0.2,\"#de77ae\"],[0.3,\"#f1b6da\"],[0.4,\"#fde0ef\"],[0.5,\"#f7f7f7\"],[0.6,\"#e6f5d0\"],[0.7,\"#b8e186\"],[0.8,\"#7fbc41\"],[0.9,\"#4d9221\"],[1,\"#276419\"]]},\"xaxis\":{\"gridcolor\":\"white\",\"linecolor\":\"white\",\"ticks\":\"\",\"title\":{\"standoff\":15},\"zerolinecolor\":\"white\",\"automargin\":true,\"zerolinewidth\":2},\"yaxis\":{\"gridcolor\":\"white\",\"linecolor\":\"white\",\"ticks\":\"\",\"title\":{\"standoff\":15},\"zerolinecolor\":\"white\",\"automargin\":true,\"zerolinewidth\":2},\"scene\":{\"xaxis\":{\"backgroundcolor\":\"#E5ECF6\",\"gridcolor\":\"white\",\"linecolor\":\"white\",\"showbackground\":true,\"ticks\":\"\",\"zerolinecolor\":\"white\",\"gridwidth\":2},\"yaxis\":{\"backgroundcolor\":\"#E5ECF6\",\"gridcolor\":\"white\",\"linecolor\":\"white\",\"showbackground\":true,\"ticks\":\"\",\"zerolinecolor\":\"white\",\"gridwidth\":2},\"zaxis\":{\"backgroundcolor\":\"#E5ECF6\",\"gridcolor\":\"white\",\"linecolor\":\"white\",\"showbackground\":true,\"ticks\":\"\",\"zerolinecolor\":\"white\",\"gridwidth\":2}},\"shapedefaults\":{\"line\":{\"color\":\"#2a3f5f\"}},\"annotationdefaults\":{\"arrowcolor\":\"#2a3f5f\",\"arrowhead\":0,\"arrowwidth\":1},\"geo\":{\"bgcolor\":\"white\",\"landcolor\":\"#E5ECF6\",\"subunitcolor\":\"white\",\"showland\":true,\"showlakes\":true,\"lakecolor\":\"white\"},\"title\":{\"x\":0.05},\"mapbox\":{\"style\":\"light\"}}},\"geo\":{\"domain\":{\"x\":[0.0,1.0],\"y\":[0.0,1.0]},\"center\":{},\"projection\":{\"type\":\"equirectangular\"},\"lataxis\":{\"range\":[25,80]},\"lonaxis\":{\"range\":[-35,65]},\"showframe\":false,\"showcoastlines\":false},\"coloraxis\":{\"colorbar\":{\"title\":{\"text\":\"Number of Refugees\"}},\"colorscale\":[[0.0,\"#0d0887\"],[0.1111111111111111,\"#46039f\"],[0.2222222222222222,\"#7201a8\"],[0.3333333333333333,\"#9c179e\"],[0.4444444444444444,\"#bd3786\"],[0.5555555555555556,\"#d8576b\"],[0.6666666666666666,\"#ed7953\"],[0.7777777777777778,\"#fb9f3a\"],[0.8888888888888888,\"#fdca26\"],[1.0,\"#f0f921\"]]},\"legend\":{\"tracegroupgap\":0},\"title\":{\"text\":\"Number of Refugees under UNHCR's Mandate by Country Over Time (Excluding Germany)\"},\"updatemenus\":[{\"buttons\":[{\"args\":[null,{\"frame\":{\"duration\":500,\"redraw\":true},\"mode\":\"immediate\",\"fromcurrent\":true,\"transition\":{\"duration\":500,\"easing\":\"linear\"}}],\"label\":\"&#9654;\",\"method\":\"animate\"},{\"args\":[[null],{\"frame\":{\"duration\":0,\"redraw\":true},\"mode\":\"immediate\",\"fromcurrent\":true,\"transition\":{\"duration\":0,\"easing\":\"linear\"}}],\"label\":\"&#9724;\",\"method\":\"animate\"}],\"direction\":\"left\",\"pad\":{\"r\":10,\"t\":70},\"showactive\":false,\"type\":\"buttons\",\"x\":0.1,\"xanchor\":\"right\",\"y\":0,\"yanchor\":\"top\"}],\"sliders\":[{\"active\":0,\"currentvalue\":{\"prefix\":\"Year=\"},\"len\":0.9,\"pad\":{\"b\":10,\"t\":60},\"steps\":[{\"args\":[[\"1951\"],{\"frame\":{\"duration\":0,\"redraw\":true},\"mode\":\"immediate\",\"fromcurrent\":true,\"transition\":{\"duration\":0,\"easing\":\"linear\"}}],\"label\":\"1951\",\"method\":\"animate\"},{\"args\":[[\"1952\"],{\"frame\":{\"duration\":0,\"redraw\":true},\"mode\":\"immediate\",\"fromcurrent\":true,\"transition\":{\"duration\":0,\"easing\":\"linear\"}}],\"label\":\"1952\",\"method\":\"animate\"},{\"args\":[[\"1953\"],{\"frame\":{\"duration\":0,\"redraw\":true},\"mode\":\"immediate\",\"fromcurrent\":true,\"transition\":{\"duration\":0,\"easing\":\"linear\"}}],\"label\":\"1953\",\"method\":\"animate\"},{\"args\":[[\"1954\"],{\"frame\":{\"duration\":0,\"redraw\":true},\"mode\":\"immediate\",\"fromcurrent\":true,\"transition\":{\"duration\":0,\"easing\":\"linear\"}}],\"label\":\"1954\",\"method\":\"animate\"},{\"args\":[[\"1955\"],{\"frame\":{\"duration\":0,\"redraw\":true},\"mode\":\"immediate\",\"fromcurrent\":true,\"transition\":{\"duration\":0,\"easing\":\"linear\"}}],\"label\":\"1955\",\"method\":\"animate\"},{\"args\":[[\"1956\"],{\"frame\":{\"duration\":0,\"redraw\":true},\"mode\":\"immediate\",\"fromcurrent\":true,\"transition\":{\"duration\":0,\"easing\":\"linear\"}}],\"label\":\"1956\",\"method\":\"animate\"},{\"args\":[[\"1957\"],{\"frame\":{\"duration\":0,\"redraw\":true},\"mode\":\"immediate\",\"fromcurrent\":true,\"transition\":{\"duration\":0,\"easing\":\"linear\"}}],\"label\":\"1957\",\"method\":\"animate\"},{\"args\":[[\"1958\"],{\"frame\":{\"duration\":0,\"redraw\":true},\"mode\":\"immediate\",\"fromcurrent\":true,\"transition\":{\"duration\":0,\"easing\":\"linear\"}}],\"label\":\"1958\",\"method\":\"animate\"},{\"args\":[[\"1959\"],{\"frame\":{\"duration\":0,\"redraw\":true},\"mode\":\"immediate\",\"fromcurrent\":true,\"transition\":{\"duration\":0,\"easing\":\"linear\"}}],\"label\":\"1959\",\"method\":\"animate\"},{\"args\":[[\"1960\"],{\"frame\":{\"duration\":0,\"redraw\":true},\"mode\":\"immediate\",\"fromcurrent\":true,\"transition\":{\"duration\":0,\"easing\":\"linear\"}}],\"label\":\"1960\",\"method\":\"animate\"},{\"args\":[[\"1961\"],{\"frame\":{\"duration\":0,\"redraw\":true},\"mode\":\"immediate\",\"fromcurrent\":true,\"transition\":{\"duration\":0,\"easing\":\"linear\"}}],\"label\":\"1961\",\"method\":\"animate\"},{\"args\":[[\"1962\"],{\"frame\":{\"duration\":0,\"redraw\":true},\"mode\":\"immediate\",\"fromcurrent\":true,\"transition\":{\"duration\":0,\"easing\":\"linear\"}}],\"label\":\"1962\",\"method\":\"animate\"},{\"args\":[[\"1963\"],{\"frame\":{\"duration\":0,\"redraw\":true},\"mode\":\"immediate\",\"fromcurrent\":true,\"transition\":{\"duration\":0,\"easing\":\"linear\"}}],\"label\":\"1963\",\"method\":\"animate\"},{\"args\":[[\"1964\"],{\"frame\":{\"duration\":0,\"redraw\":true},\"mode\":\"immediate\",\"fromcurrent\":true,\"transition\":{\"duration\":0,\"easing\":\"linear\"}}],\"label\":\"1964\",\"method\":\"animate\"},{\"args\":[[\"1965\"],{\"frame\":{\"duration\":0,\"redraw\":true},\"mode\":\"immediate\",\"fromcurrent\":true,\"transition\":{\"duration\":0,\"easing\":\"linear\"}}],\"label\":\"1965\",\"method\":\"animate\"},{\"args\":[[\"1966\"],{\"frame\":{\"duration\":0,\"redraw\":true},\"mode\":\"immediate\",\"fromcurrent\":true,\"transition\":{\"duration\":0,\"easing\":\"linear\"}}],\"label\":\"1966\",\"method\":\"animate\"},{\"args\":[[\"1967\"],{\"frame\":{\"duration\":0,\"redraw\":true},\"mode\":\"immediate\",\"fromcurrent\":true,\"transition\":{\"duration\":0,\"easing\":\"linear\"}}],\"label\":\"1967\",\"method\":\"animate\"},{\"args\":[[\"1968\"],{\"frame\":{\"duration\":0,\"redraw\":true},\"mode\":\"immediate\",\"fromcurrent\":true,\"transition\":{\"duration\":0,\"easing\":\"linear\"}}],\"label\":\"1968\",\"method\":\"animate\"},{\"args\":[[\"1969\"],{\"frame\":{\"duration\":0,\"redraw\":true},\"mode\":\"immediate\",\"fromcurrent\":true,\"transition\":{\"duration\":0,\"easing\":\"linear\"}}],\"label\":\"1969\",\"method\":\"animate\"},{\"args\":[[\"1970\"],{\"frame\":{\"duration\":0,\"redraw\":true},\"mode\":\"immediate\",\"fromcurrent\":true,\"transition\":{\"duration\":0,\"easing\":\"linear\"}}],\"label\":\"1970\",\"method\":\"animate\"},{\"args\":[[\"1971\"],{\"frame\":{\"duration\":0,\"redraw\":true},\"mode\":\"immediate\",\"fromcurrent\":true,\"transition\":{\"duration\":0,\"easing\":\"linear\"}}],\"label\":\"1971\",\"method\":\"animate\"},{\"args\":[[\"1972\"],{\"frame\":{\"duration\":0,\"redraw\":true},\"mode\":\"immediate\",\"fromcurrent\":true,\"transition\":{\"duration\":0,\"easing\":\"linear\"}}],\"label\":\"1972\",\"method\":\"animate\"},{\"args\":[[\"1973\"],{\"frame\":{\"duration\":0,\"redraw\":true},\"mode\":\"immediate\",\"fromcurrent\":true,\"transition\":{\"duration\":0,\"easing\":\"linear\"}}],\"label\":\"1973\",\"method\":\"animate\"},{\"args\":[[\"1974\"],{\"frame\":{\"duration\":0,\"redraw\":true},\"mode\":\"immediate\",\"fromcurrent\":true,\"transition\":{\"duration\":0,\"easing\":\"linear\"}}],\"label\":\"1974\",\"method\":\"animate\"},{\"args\":[[\"1975\"],{\"frame\":{\"duration\":0,\"redraw\":true},\"mode\":\"immediate\",\"fromcurrent\":true,\"transition\":{\"duration\":0,\"easing\":\"linear\"}}],\"label\":\"1975\",\"method\":\"animate\"},{\"args\":[[\"1976\"],{\"frame\":{\"duration\":0,\"redraw\":true},\"mode\":\"immediate\",\"fromcurrent\":true,\"transition\":{\"duration\":0,\"easing\":\"linear\"}}],\"label\":\"1976\",\"method\":\"animate\"},{\"args\":[[\"1977\"],{\"frame\":{\"duration\":0,\"redraw\":true},\"mode\":\"immediate\",\"fromcurrent\":true,\"transition\":{\"duration\":0,\"easing\":\"linear\"}}],\"label\":\"1977\",\"method\":\"animate\"},{\"args\":[[\"1978\"],{\"frame\":{\"duration\":0,\"redraw\":true},\"mode\":\"immediate\",\"fromcurrent\":true,\"transition\":{\"duration\":0,\"easing\":\"linear\"}}],\"label\":\"1978\",\"method\":\"animate\"},{\"args\":[[\"1979\"],{\"frame\":{\"duration\":0,\"redraw\":true},\"mode\":\"immediate\",\"fromcurrent\":true,\"transition\":{\"duration\":0,\"easing\":\"linear\"}}],\"label\":\"1979\",\"method\":\"animate\"},{\"args\":[[\"1980\"],{\"frame\":{\"duration\":0,\"redraw\":true},\"mode\":\"immediate\",\"fromcurrent\":true,\"transition\":{\"duration\":0,\"easing\":\"linear\"}}],\"label\":\"1980\",\"method\":\"animate\"},{\"args\":[[\"1981\"],{\"frame\":{\"duration\":0,\"redraw\":true},\"mode\":\"immediate\",\"fromcurrent\":true,\"transition\":{\"duration\":0,\"easing\":\"linear\"}}],\"label\":\"1981\",\"method\":\"animate\"},{\"args\":[[\"1982\"],{\"frame\":{\"duration\":0,\"redraw\":true},\"mode\":\"immediate\",\"fromcurrent\":true,\"transition\":{\"duration\":0,\"easing\":\"linear\"}}],\"label\":\"1982\",\"method\":\"animate\"},{\"args\":[[\"1983\"],{\"frame\":{\"duration\":0,\"redraw\":true},\"mode\":\"immediate\",\"fromcurrent\":true,\"transition\":{\"duration\":0,\"easing\":\"linear\"}}],\"label\":\"1983\",\"method\":\"animate\"},{\"args\":[[\"1984\"],{\"frame\":{\"duration\":0,\"redraw\":true},\"mode\":\"immediate\",\"fromcurrent\":true,\"transition\":{\"duration\":0,\"easing\":\"linear\"}}],\"label\":\"1984\",\"method\":\"animate\"},{\"args\":[[\"1985\"],{\"frame\":{\"duration\":0,\"redraw\":true},\"mode\":\"immediate\",\"fromcurrent\":true,\"transition\":{\"duration\":0,\"easing\":\"linear\"}}],\"label\":\"1985\",\"method\":\"animate\"},{\"args\":[[\"1986\"],{\"frame\":{\"duration\":0,\"redraw\":true},\"mode\":\"immediate\",\"fromcurrent\":true,\"transition\":{\"duration\":0,\"easing\":\"linear\"}}],\"label\":\"1986\",\"method\":\"animate\"},{\"args\":[[\"1987\"],{\"frame\":{\"duration\":0,\"redraw\":true},\"mode\":\"immediate\",\"fromcurrent\":true,\"transition\":{\"duration\":0,\"easing\":\"linear\"}}],\"label\":\"1987\",\"method\":\"animate\"},{\"args\":[[\"1988\"],{\"frame\":{\"duration\":0,\"redraw\":true},\"mode\":\"immediate\",\"fromcurrent\":true,\"transition\":{\"duration\":0,\"easing\":\"linear\"}}],\"label\":\"1988\",\"method\":\"animate\"},{\"args\":[[\"1989\"],{\"frame\":{\"duration\":0,\"redraw\":true},\"mode\":\"immediate\",\"fromcurrent\":true,\"transition\":{\"duration\":0,\"easing\":\"linear\"}}],\"label\":\"1989\",\"method\":\"animate\"},{\"args\":[[\"1990\"],{\"frame\":{\"duration\":0,\"redraw\":true},\"mode\":\"immediate\",\"fromcurrent\":true,\"transition\":{\"duration\":0,\"easing\":\"linear\"}}],\"label\":\"1990\",\"method\":\"animate\"},{\"args\":[[\"1991\"],{\"frame\":{\"duration\":0,\"redraw\":true},\"mode\":\"immediate\",\"fromcurrent\":true,\"transition\":{\"duration\":0,\"easing\":\"linear\"}}],\"label\":\"1991\",\"method\":\"animate\"},{\"args\":[[\"1992\"],{\"frame\":{\"duration\":0,\"redraw\":true},\"mode\":\"immediate\",\"fromcurrent\":true,\"transition\":{\"duration\":0,\"easing\":\"linear\"}}],\"label\":\"1992\",\"method\":\"animate\"},{\"args\":[[\"1993\"],{\"frame\":{\"duration\":0,\"redraw\":true},\"mode\":\"immediate\",\"fromcurrent\":true,\"transition\":{\"duration\":0,\"easing\":\"linear\"}}],\"label\":\"1993\",\"method\":\"animate\"},{\"args\":[[\"1994\"],{\"frame\":{\"duration\":0,\"redraw\":true},\"mode\":\"immediate\",\"fromcurrent\":true,\"transition\":{\"duration\":0,\"easing\":\"linear\"}}],\"label\":\"1994\",\"method\":\"animate\"},{\"args\":[[\"1995\"],{\"frame\":{\"duration\":0,\"redraw\":true},\"mode\":\"immediate\",\"fromcurrent\":true,\"transition\":{\"duration\":0,\"easing\":\"linear\"}}],\"label\":\"1995\",\"method\":\"animate\"},{\"args\":[[\"1996\"],{\"frame\":{\"duration\":0,\"redraw\":true},\"mode\":\"immediate\",\"fromcurrent\":true,\"transition\":{\"duration\":0,\"easing\":\"linear\"}}],\"label\":\"1996\",\"method\":\"animate\"},{\"args\":[[\"1997\"],{\"frame\":{\"duration\":0,\"redraw\":true},\"mode\":\"immediate\",\"fromcurrent\":true,\"transition\":{\"duration\":0,\"easing\":\"linear\"}}],\"label\":\"1997\",\"method\":\"animate\"},{\"args\":[[\"1998\"],{\"frame\":{\"duration\":0,\"redraw\":true},\"mode\":\"immediate\",\"fromcurrent\":true,\"transition\":{\"duration\":0,\"easing\":\"linear\"}}],\"label\":\"1998\",\"method\":\"animate\"},{\"args\":[[\"1999\"],{\"frame\":{\"duration\":0,\"redraw\":true},\"mode\":\"immediate\",\"fromcurrent\":true,\"transition\":{\"duration\":0,\"easing\":\"linear\"}}],\"label\":\"1999\",\"method\":\"animate\"},{\"args\":[[\"2000\"],{\"frame\":{\"duration\":0,\"redraw\":true},\"mode\":\"immediate\",\"fromcurrent\":true,\"transition\":{\"duration\":0,\"easing\":\"linear\"}}],\"label\":\"2000\",\"method\":\"animate\"},{\"args\":[[\"2001\"],{\"frame\":{\"duration\":0,\"redraw\":true},\"mode\":\"immediate\",\"fromcurrent\":true,\"transition\":{\"duration\":0,\"easing\":\"linear\"}}],\"label\":\"2001\",\"method\":\"animate\"},{\"args\":[[\"2002\"],{\"frame\":{\"duration\":0,\"redraw\":true},\"mode\":\"immediate\",\"fromcurrent\":true,\"transition\":{\"duration\":0,\"easing\":\"linear\"}}],\"label\":\"2002\",\"method\":\"animate\"},{\"args\":[[\"2003\"],{\"frame\":{\"duration\":0,\"redraw\":true},\"mode\":\"immediate\",\"fromcurrent\":true,\"transition\":{\"duration\":0,\"easing\":\"linear\"}}],\"label\":\"2003\",\"method\":\"animate\"},{\"args\":[[\"2004\"],{\"frame\":{\"duration\":0,\"redraw\":true},\"mode\":\"immediate\",\"fromcurrent\":true,\"transition\":{\"duration\":0,\"easing\":\"linear\"}}],\"label\":\"2004\",\"method\":\"animate\"},{\"args\":[[\"2005\"],{\"frame\":{\"duration\":0,\"redraw\":true},\"mode\":\"immediate\",\"fromcurrent\":true,\"transition\":{\"duration\":0,\"easing\":\"linear\"}}],\"label\":\"2005\",\"method\":\"animate\"},{\"args\":[[\"2006\"],{\"frame\":{\"duration\":0,\"redraw\":true},\"mode\":\"immediate\",\"fromcurrent\":true,\"transition\":{\"duration\":0,\"easing\":\"linear\"}}],\"label\":\"2006\",\"method\":\"animate\"},{\"args\":[[\"2007\"],{\"frame\":{\"duration\":0,\"redraw\":true},\"mode\":\"immediate\",\"fromcurrent\":true,\"transition\":{\"duration\":0,\"easing\":\"linear\"}}],\"label\":\"2007\",\"method\":\"animate\"},{\"args\":[[\"2008\"],{\"frame\":{\"duration\":0,\"redraw\":true},\"mode\":\"immediate\",\"fromcurrent\":true,\"transition\":{\"duration\":0,\"easing\":\"linear\"}}],\"label\":\"2008\",\"method\":\"animate\"},{\"args\":[[\"2009\"],{\"frame\":{\"duration\":0,\"redraw\":true},\"mode\":\"immediate\",\"fromcurrent\":true,\"transition\":{\"duration\":0,\"easing\":\"linear\"}}],\"label\":\"2009\",\"method\":\"animate\"},{\"args\":[[\"2010\"],{\"frame\":{\"duration\":0,\"redraw\":true},\"mode\":\"immediate\",\"fromcurrent\":true,\"transition\":{\"duration\":0,\"easing\":\"linear\"}}],\"label\":\"2010\",\"method\":\"animate\"},{\"args\":[[\"2011\"],{\"frame\":{\"duration\":0,\"redraw\":true},\"mode\":\"immediate\",\"fromcurrent\":true,\"transition\":{\"duration\":0,\"easing\":\"linear\"}}],\"label\":\"2011\",\"method\":\"animate\"},{\"args\":[[\"2012\"],{\"frame\":{\"duration\":0,\"redraw\":true},\"mode\":\"immediate\",\"fromcurrent\":true,\"transition\":{\"duration\":0,\"easing\":\"linear\"}}],\"label\":\"2012\",\"method\":\"animate\"},{\"args\":[[\"2013\"],{\"frame\":{\"duration\":0,\"redraw\":true},\"mode\":\"immediate\",\"fromcurrent\":true,\"transition\":{\"duration\":0,\"easing\":\"linear\"}}],\"label\":\"2013\",\"method\":\"animate\"},{\"args\":[[\"2014\"],{\"frame\":{\"duration\":0,\"redraw\":true},\"mode\":\"immediate\",\"fromcurrent\":true,\"transition\":{\"duration\":0,\"easing\":\"linear\"}}],\"label\":\"2014\",\"method\":\"animate\"},{\"args\":[[\"2015\"],{\"frame\":{\"duration\":0,\"redraw\":true},\"mode\":\"immediate\",\"fromcurrent\":true,\"transition\":{\"duration\":0,\"easing\":\"linear\"}}],\"label\":\"2015\",\"method\":\"animate\"},{\"args\":[[\"2016\"],{\"frame\":{\"duration\":0,\"redraw\":true},\"mode\":\"immediate\",\"fromcurrent\":true,\"transition\":{\"duration\":0,\"easing\":\"linear\"}}],\"label\":\"2016\",\"method\":\"animate\"},{\"args\":[[\"2017\"],{\"frame\":{\"duration\":0,\"redraw\":true},\"mode\":\"immediate\",\"fromcurrent\":true,\"transition\":{\"duration\":0,\"easing\":\"linear\"}}],\"label\":\"2017\",\"method\":\"animate\"},{\"args\":[[\"2018\"],{\"frame\":{\"duration\":0,\"redraw\":true},\"mode\":\"immediate\",\"fromcurrent\":true,\"transition\":{\"duration\":0,\"easing\":\"linear\"}}],\"label\":\"2018\",\"method\":\"animate\"},{\"args\":[[\"2019\"],{\"frame\":{\"duration\":0,\"redraw\":true},\"mode\":\"immediate\",\"fromcurrent\":true,\"transition\":{\"duration\":0,\"easing\":\"linear\"}}],\"label\":\"2019\",\"method\":\"animate\"},{\"args\":[[\"2020\"],{\"frame\":{\"duration\":0,\"redraw\":true},\"mode\":\"immediate\",\"fromcurrent\":true,\"transition\":{\"duration\":0,\"easing\":\"linear\"}}],\"label\":\"2020\",\"method\":\"animate\"},{\"args\":[[\"2021\"],{\"frame\":{\"duration\":0,\"redraw\":true},\"mode\":\"immediate\",\"fromcurrent\":true,\"transition\":{\"duration\":0,\"easing\":\"linear\"}}],\"label\":\"2021\",\"method\":\"animate\"},{\"args\":[[\"2022\"],{\"frame\":{\"duration\":0,\"redraw\":true},\"mode\":\"immediate\",\"fromcurrent\":true,\"transition\":{\"duration\":0,\"easing\":\"linear\"}}],\"label\":\"2022\",\"method\":\"animate\"},{\"args\":[[\"2023\"],{\"frame\":{\"duration\":0,\"redraw\":true},\"mode\":\"immediate\",\"fromcurrent\":true,\"transition\":{\"duration\":0,\"easing\":\"linear\"}}],\"label\":\"2023\",\"method\":\"animate\"}],\"x\":0.1,\"xanchor\":\"left\",\"y\":0,\"yanchor\":\"top\"}],\"width\":1200,\"height\":800},                        {\"responsive\": true}                    ).then(function(){\n",
       "                            Plotly.addFrames('db9a74e4-171d-4b39-bb71-1b2f0e99e305', [{\"data\":[{\"coloraxis\":\"coloraxis\",\"geo\":\"geo\",\"hovertemplate\":\"\\u003cb\\u003e%{hovertext}\\u003c\\u002fb\\u003e\\u003cbr\\u003e\\u003cbr\\u003eYear=1951\\u003cbr\\u003eCountry of asylum (ISO)=%{location}\\u003cbr\\u003eNumber of Refugees=%{z}\\u003cextra\\u003e\\u003c\\u002fextra\\u003e\",\"hovertext\":[\"Austria\",\"Belgium\",\"Denmark\",\"France\",\"Greece\",\"Italy\",\"Luxembourg\",\"Norway\",\"Spain\",\"Sweden\",\"Switzerland\"],\"locations\":[\"AUT\",\"BEL\",\"DNK\",\"FRA\",\"GRC\",\"ITA\",\"LUX\",\"NOR\",\"ESP\",\"SWE\",\"CHE\"],\"name\":\"\",\"z\":[282000,55000,2000,290000,18000,26500,1800,2500,2000,44000,10000],\"type\":\"choropleth\"}],\"name\":\"1951\"},{\"data\":[{\"coloraxis\":\"coloraxis\",\"geo\":\"geo\",\"hovertemplate\":\"\\u003cb\\u003e%{hovertext}\\u003c\\u002fb\\u003e\\u003cbr\\u003e\\u003cbr\\u003eYear=1952\\u003cbr\\u003eCountry of asylum (ISO)=%{location}\\u003cbr\\u003eNumber of Refugees=%{z}\\u003cextra\\u003e\\u003c\\u002fextra\\u003e\",\"hovertext\":[\"Austria\",\"Belgium\",\"Denmark\",\"France\",\"Greece\",\"Italy\",\"Luxembourg\",\"Norway\",\"Sweden\",\"Switzerland\"],\"locations\":[\"AUT\",\"BEL\",\"DNK\",\"FRA\",\"GRC\",\"ITA\",\"LUX\",\"NOR\",\"SWE\",\"CHE\"],\"name\":\"\",\"z\":[238200,53500,1800,280000,19000,25500,1800,2500,42000,9800],\"type\":\"choropleth\"}],\"name\":\"1952\"},{\"data\":[{\"coloraxis\":\"coloraxis\",\"geo\":\"geo\",\"hovertemplate\":\"\\u003cb\\u003e%{hovertext}\\u003c\\u002fb\\u003e\\u003cbr\\u003e\\u003cbr\\u003eYear=1953\\u003cbr\\u003eCountry of asylum (ISO)=%{location}\\u003cbr\\u003eNumber of Refugees=%{z}\\u003cextra\\u003e\\u003c\\u002fextra\\u003e\",\"hovertext\":[\"Austria\",\"Belgium\",\"Denmark\",\"France\",\"Greece\",\"Italy\",\"Luxembourg\",\"Norway\",\"Sweden\",\"Switzerland\"],\"locations\":[\"AUT\",\"BEL\",\"DNK\",\"FRA\",\"GRC\",\"ITA\",\"LUX\",\"NOR\",\"SWE\",\"CHE\"],\"name\":\"\",\"z\":[215200,53000,1600,270000,18500,24500,1800,2500,37000,9500],\"type\":\"choropleth\"}],\"name\":\"1953\"},{\"data\":[{\"coloraxis\":\"coloraxis\",\"geo\":\"geo\",\"hovertemplate\":\"\\u003cb\\u003e%{hovertext}\\u003c\\u002fb\\u003e\\u003cbr\\u003e\\u003cbr\\u003eYear=1954\\u003cbr\\u003eCountry of asylum (ISO)=%{location}\\u003cbr\\u003eNumber of Refugees=%{z}\\u003cextra\\u003e\\u003c\\u002fextra\\u003e\",\"hovertext\":[\"Austria\",\"Belgium\",\"Denmark\",\"France\",\"Greece\",\"Italy\",\"Luxembourg\",\"Norway\",\"Spain\",\"Sweden\",\"Switzerland\"],\"locations\":[\"AUT\",\"BEL\",\"DNK\",\"FRA\",\"GRC\",\"ITA\",\"LUX\",\"NOR\",\"ESP\",\"SWE\",\"CHE\"],\"name\":\"\",\"z\":[150000,53000,1400,263000,19000,21500,1800,2300,2000,33000,9400],\"type\":\"choropleth\"}],\"name\":\"1954\"},{\"data\":[{\"coloraxis\":\"coloraxis\",\"geo\":\"geo\",\"hovertemplate\":\"\\u003cb\\u003e%{hovertext}\\u003c\\u002fb\\u003e\\u003cbr\\u003e\\u003cbr\\u003eYear=1955\\u003cbr\\u003eCountry of asylum (ISO)=%{location}\\u003cbr\\u003eNumber of Refugees=%{z}\\u003cextra\\u003e\\u003c\\u002fextra\\u003e\",\"hovertext\":[\"Austria\",\"Belgium\",\"Denmark\",\"France\",\"Greece\",\"Italy\",\"Luxembourg\",\"Norway\",\"Sweden\",\"Switzerland\"],\"locations\":[\"AUT\",\"BEL\",\"DNK\",\"FRA\",\"GRC\",\"ITA\",\"LUX\",\"NOR\",\"SWE\",\"CHE\"],\"name\":\"\",\"z\":[110000,53000,1300,345415,17400,18500,1800,2300,28000,9200],\"type\":\"choropleth\"}],\"name\":\"1955\"},{\"data\":[{\"coloraxis\":\"coloraxis\",\"geo\":\"geo\",\"hovertemplate\":\"\\u003cb\\u003e%{hovertext}\\u003c\\u002fb\\u003e\\u003cbr\\u003e\\u003cbr\\u003eYear=1956\\u003cbr\\u003eCountry of asylum (ISO)=%{location}\\u003cbr\\u003eNumber of Refugees=%{z}\\u003cextra\\u003e\\u003c\\u002fextra\\u003e\",\"hovertext\":[\"Austria\",\"Belgium\",\"Denmark\",\"France\",\"Greece\",\"Italy\",\"Luxembourg\",\"Norway\",\"Sweden\",\"Switzerland\"],\"locations\":[\"AUT\",\"BEL\",\"DNK\",\"FRA\",\"GRC\",\"ITA\",\"LUX\",\"NOR\",\"SWE\",\"CHE\"],\"name\":\"\",\"z\":[140000,65000,2500,363290,16000,21500,1900,2800,31000,20700],\"type\":\"choropleth\"}],\"name\":\"1956\"},{\"data\":[{\"coloraxis\":\"coloraxis\",\"geo\":\"geo\",\"hovertemplate\":\"\\u003cb\\u003e%{hovertext}\\u003c\\u002fb\\u003e\\u003cbr\\u003e\\u003cbr\\u003eYear=1957\\u003cbr\\u003eCountry of asylum (ISO)=%{location}\\u003cbr\\u003eNumber of Refugees=%{z}\\u003cextra\\u003e\\u003c\\u002fextra\\u003e\",\"hovertext\":[\"Austria\",\"Belgium\",\"Denmark\",\"France\",\"Greece\",\"Italy\",\"Luxembourg\",\"Norway\",\"Sweden\",\"Switzerland\"],\"locations\":[\"AUT\",\"BEL\",\"DNK\",\"FRA\",\"GRC\",\"ITA\",\"LUX\",\"NOR\",\"SWE\",\"CHE\"],\"name\":\"\",\"z\":[68000,69000,2500,389480,16000,21000,1900,3400,33000,20500],\"type\":\"choropleth\"}],\"name\":\"1957\"},{\"data\":[{\"coloraxis\":\"coloraxis\",\"geo\":\"geo\",\"hovertemplate\":\"\\u003cb\\u003e%{hovertext}\\u003c\\u002fb\\u003e\\u003cbr\\u003e\\u003cbr\\u003eYear=1958\\u003cbr\\u003eCountry of asylum (ISO)=%{location}\\u003cbr\\u003eNumber of Refugees=%{z}\\u003cextra\\u003e\\u003c\\u002fextra\\u003e\",\"hovertext\":[\"Austria\",\"Belgium\",\"Denmark\",\"France\",\"Greece\",\"Italy\",\"Luxembourg\",\"Norway\",\"Sweden\",\"Switzerland\"],\"locations\":[\"AUT\",\"BEL\",\"DNK\",\"FRA\",\"GRC\",\"ITA\",\"LUX\",\"NOR\",\"SWE\",\"CHE\"],\"name\":\"\",\"z\":[53000,63000,2500,381152,15700,21000,1900,3300,31000,20000],\"type\":\"choropleth\"}],\"name\":\"1958\"},{\"data\":[{\"coloraxis\":\"coloraxis\",\"geo\":\"geo\",\"hovertemplate\":\"\\u003cb\\u003e%{hovertext}\\u003c\\u002fb\\u003e\\u003cbr\\u003e\\u003cbr\\u003eYear=1959\\u003cbr\\u003eCountry of asylum (ISO)=%{location}\\u003cbr\\u003eNumber of Refugees=%{z}\\u003cextra\\u003e\\u003c\\u002fextra\\u003e\",\"hovertext\":[\"Austria\",\"Belgium\",\"Denmark\",\"France\",\"Greece\",\"Italy\",\"Luxembourg\",\"Norway\",\"Sweden\",\"Switzerland\"],\"locations\":[\"AUT\",\"BEL\",\"DNK\",\"FRA\",\"GRC\",\"ITA\",\"LUX\",\"NOR\",\"SWE\",\"CHE\"],\"name\":\"\",\"z\":[44000,58000,2400,387201,15500,18500,1900,3100,28000,20000],\"type\":\"choropleth\"}],\"name\":\"1959\"},{\"data\":[{\"coloraxis\":\"coloraxis\",\"geo\":\"geo\",\"hovertemplate\":\"\\u003cb\\u003e%{hovertext}\\u003c\\u002fb\\u003e\\u003cbr\\u003e\\u003cbr\\u003eYear=1960\\u003cbr\\u003eCountry of asylum (ISO)=%{location}\\u003cbr\\u003eNumber of Refugees=%{z}\\u003cextra\\u003e\\u003c\\u002fextra\\u003e\",\"hovertext\":[\"Austria\",\"Belgium\",\"Denmark\",\"France\",\"Greece\",\"Italy\",\"Luxembourg\",\"Norway\",\"Sweden\",\"Switzerland\"],\"locations\":[\"AUT\",\"BEL\",\"DNK\",\"FRA\",\"GRC\",\"ITA\",\"LUX\",\"NOR\",\"SWE\",\"CHE\"],\"name\":\"\",\"z\":[39000,55000,2300,245935,15500,15500,1900,3000,26000,20000],\"type\":\"choropleth\"}],\"name\":\"1960\"},{\"data\":[{\"coloraxis\":\"coloraxis\",\"geo\":\"geo\",\"hovertemplate\":\"\\u003cb\\u003e%{hovertext}\\u003c\\u002fb\\u003e\\u003cbr\\u003e\\u003cbr\\u003eYear=1961\\u003cbr\\u003eCountry of asylum (ISO)=%{location}\\u003cbr\\u003eNumber of Refugees=%{z}\\u003cextra\\u003e\\u003c\\u002fextra\\u003e\",\"hovertext\":[\"Austria\",\"Belgium\",\"Denmark\",\"France\",\"Greece\",\"Italy\",\"Luxembourg\",\"Norway\",\"Spain\",\"Sweden\",\"Switzerland\"],\"locations\":[\"AUT\",\"BEL\",\"DNK\",\"FRA\",\"GRC\",\"ITA\",\"LUX\",\"NOR\",\"ESP\",\"SWE\",\"CHE\"],\"name\":\"\",\"z\":[34000,53000,2200,253375,15200,14500,1900,3000,2000,26000,20000],\"type\":\"choropleth\"}],\"name\":\"1961\"},{\"data\":[{\"coloraxis\":\"coloraxis\",\"geo\":\"geo\",\"hovertemplate\":\"\\u003cb\\u003e%{hovertext}\\u003c\\u002fb\\u003e\\u003cbr\\u003e\\u003cbr\\u003eYear=1962\\u003cbr\\u003eCountry of asylum (ISO)=%{location}\\u003cbr\\u003eNumber of Refugees=%{z}\\u003cextra\\u003e\\u003c\\u002fextra\\u003e\",\"hovertext\":[\"Austria\",\"Belgium\",\"Denmark\",\"France\",\"Greece\",\"Italy\",\"Luxembourg\",\"Norway\",\"Spain\",\"Sweden\",\"Switzerland\"],\"locations\":[\"AUT\",\"BEL\",\"DNK\",\"FRA\",\"GRC\",\"ITA\",\"LUX\",\"NOR\",\"ESP\",\"SWE\",\"CHE\"],\"name\":\"\",\"z\":[30000,51000,2200,259740,15700,14300,1900,3000,2000,26000,20000],\"type\":\"choropleth\"}],\"name\":\"1962\"},{\"data\":[{\"coloraxis\":\"coloraxis\",\"geo\":\"geo\",\"hovertemplate\":\"\\u003cb\\u003e%{hovertext}\\u003c\\u002fb\\u003e\\u003cbr\\u003e\\u003cbr\\u003eYear=1963\\u003cbr\\u003eCountry of asylum (ISO)=%{location}\\u003cbr\\u003eNumber of Refugees=%{z}\\u003cextra\\u003e\\u003c\\u002fextra\\u003e\",\"hovertext\":[\"Austria\",\"Belgium\",\"Denmark\",\"France\",\"Greece\",\"Italy\",\"Luxembourg\",\"Norway\",\"Spain\",\"Sweden\",\"Switzerland\"],\"locations\":[\"AUT\",\"BEL\",\"DNK\",\"FRA\",\"GRC\",\"ITA\",\"LUX\",\"NOR\",\"ESP\",\"SWE\",\"CHE\"],\"name\":\"\",\"z\":[27000,50000,2200,174057,15400,14600,1900,3000,2000,26000,20000],\"type\":\"choropleth\"}],\"name\":\"1963\"},{\"data\":[{\"coloraxis\":\"coloraxis\",\"geo\":\"geo\",\"hovertemplate\":\"\\u003cb\\u003e%{hovertext}\\u003c\\u002fb\\u003e\\u003cbr\\u003e\\u003cbr\\u003eYear=1964\\u003cbr\\u003eCountry of asylum (ISO)=%{location}\\u003cbr\\u003eNumber of Refugees=%{z}\\u003cextra\\u003e\\u003c\\u002fextra\\u003e\",\"hovertext\":[\"Austria\",\"Belgium\",\"France\",\"Greece\",\"Italy\",\"Spain\",\"Sweden\",\"Switzerland\"],\"locations\":[\"AUT\",\"BEL\",\"FRA\",\"GRC\",\"ITA\",\"ESP\",\"SWE\",\"CHE\"],\"name\":\"\",\"z\":[25000,47000,175861,16000,14000,14000,24000,20000],\"type\":\"choropleth\"}],\"name\":\"1964\"},{\"data\":[{\"coloraxis\":\"coloraxis\",\"geo\":\"geo\",\"hovertemplate\":\"\\u003cb\\u003e%{hovertext}\\u003c\\u002fb\\u003e\\u003cbr\\u003e\\u003cbr\\u003eYear=1965\\u003cbr\\u003eCountry of asylum (ISO)=%{location}\\u003cbr\\u003eNumber of Refugees=%{z}\\u003cextra\\u003e\\u003c\\u002fextra\\u003e\",\"hovertext\":[\"Austria\",\"Belgium\",\"France\",\"Greece\",\"Italy\",\"Spain\",\"Sweden\",\"Switzerland\"],\"locations\":[\"AUT\",\"BEL\",\"FRA\",\"GRC\",\"ITA\",\"ESP\",\"SWE\",\"CHE\"],\"name\":\"\",\"z\":[25000,47000,177665,15560,15000,14000,22000,20000],\"type\":\"choropleth\"}],\"name\":\"1965\"},{\"data\":[{\"coloraxis\":\"coloraxis\",\"geo\":\"geo\",\"hovertemplate\":\"\\u003cb\\u003e%{hovertext}\\u003c\\u002fb\\u003e\\u003cbr\\u003e\\u003cbr\\u003eYear=1966\\u003cbr\\u003eCountry of asylum (ISO)=%{location}\\u003cbr\\u003eNumber of Refugees=%{z}\\u003cextra\\u003e\\u003c\\u002fextra\\u003e\",\"hovertext\":[\"Austria\",\"Belgium\",\"France\",\"Greece\",\"Italy\",\"Spain\",\"Sweden\",\"Switzerland\"],\"locations\":[\"AUT\",\"BEL\",\"FRA\",\"GRC\",\"ITA\",\"ESP\",\"SWE\",\"CHE\"],\"name\":\"\",\"z\":[24500,40000,179468,15300,14000,17000,20000,20500],\"type\":\"choropleth\"}],\"name\":\"1966\"},{\"data\":[{\"coloraxis\":\"coloraxis\",\"geo\":\"geo\",\"hovertemplate\":\"\\u003cb\\u003e%{hovertext}\\u003c\\u002fb\\u003e\\u003cbr\\u003e\\u003cbr\\u003eYear=1967\\u003cbr\\u003eCountry of asylum (ISO)=%{location}\\u003cbr\\u003eNumber of Refugees=%{z}\\u003cextra\\u003e\\u003c\\u002fextra\\u003e\",\"hovertext\":[\"Austria\",\"Belgium\",\"France\",\"Greece\",\"Italy\",\"Spain\",\"Sweden\",\"Switzerland\"],\"locations\":[\"AUT\",\"BEL\",\"FRA\",\"GRC\",\"ITA\",\"ESP\",\"SWE\",\"CHE\"],\"name\":\"\",\"z\":[24000,34000,177200,12270,13000,20000,18000,21000],\"type\":\"choropleth\"}],\"name\":\"1967\"},{\"data\":[{\"coloraxis\":\"coloraxis\",\"geo\":\"geo\",\"hovertemplate\":\"\\u003cb\\u003e%{hovertext}\\u003c\\u002fb\\u003e\\u003cbr\\u003e\\u003cbr\\u003eYear=1968\\u003cbr\\u003eCountry of asylum (ISO)=%{location}\\u003cbr\\u003eNumber of Refugees=%{z}\\u003cextra\\u003e\\u003c\\u002fextra\\u003e\",\"hovertext\":[\"Austria\",\"Belgium\",\"Cyprus\",\"France\",\"Greece\",\"Italy\",\"Spain\",\"Sweden\",\"Switzerland\"],\"locations\":[\"AUT\",\"BEL\",\"CYP\",\"FRA\",\"GRC\",\"ITA\",\"ESP\",\"SWE\",\"CHE\"],\"name\":\"\",\"z\":[24000,33000,200,176736,8260,13000,20000,17000,26000],\"type\":\"choropleth\"}],\"name\":\"1968\"},{\"data\":[{\"coloraxis\":\"coloraxis\",\"geo\":\"geo\",\"hovertemplate\":\"\\u003cb\\u003e%{hovertext}\\u003c\\u002fb\\u003e\\u003cbr\\u003e\\u003cbr\\u003eYear=1969\\u003cbr\\u003eCountry of asylum (ISO)=%{location}\\u003cbr\\u003eNumber of Refugees=%{z}\\u003cextra\\u003e\\u003c\\u002fextra\\u003e\",\"hovertext\":[\"Austria\",\"Belgium\",\"Cyprus\",\"France\",\"Greece\",\"Italy\",\"Spain\",\"Sweden\",\"Switzerland\"],\"locations\":[\"AUT\",\"BEL\",\"CYP\",\"FRA\",\"GRC\",\"ITA\",\"ESP\",\"SWE\",\"CHE\"],\"name\":\"\",\"z\":[25000,30000,200,175242,6330,14000,23000,17000,30000],\"type\":\"choropleth\"}],\"name\":\"1969\"},{\"data\":[{\"coloraxis\":\"coloraxis\",\"geo\":\"geo\",\"hovertemplate\":\"\\u003cb\\u003e%{hovertext}\\u003c\\u002fb\\u003e\\u003cbr\\u003e\\u003cbr\\u003eYear=1970\\u003cbr\\u003eCountry of asylum (ISO)=%{location}\\u003cbr\\u003eNumber of Refugees=%{z}\\u003cextra\\u003e\\u003c\\u002fextra\\u003e\",\"hovertext\":[\"Austria\",\"Belgium\",\"Cyprus\",\"Denmark\",\"France\",\"Greece\",\"Italy\",\"Norway\",\"Spain\",\"Sweden\",\"Switzerland\"],\"locations\":[\"AUT\",\"BEL\",\"CYP\",\"DNK\",\"FRA\",\"GRC\",\"ITA\",\"NOR\",\"ESP\",\"SWE\",\"CHE\"],\"name\":\"\",\"z\":[25300,31500,200,2000,158543,5710,13000,2000,29500,20000,31000],\"type\":\"choropleth\"}],\"name\":\"1970\"},{\"data\":[{\"coloraxis\":\"coloraxis\",\"geo\":\"geo\",\"hovertemplate\":\"\\u003cb\\u003e%{hovertext}\\u003c\\u002fb\\u003e\\u003cbr\\u003e\\u003cbr\\u003eYear=1971\\u003cbr\\u003eCountry of asylum (ISO)=%{location}\\u003cbr\\u003eNumber of Refugees=%{z}\\u003cextra\\u003e\\u003c\\u002fextra\\u003e\",\"hovertext\":[\"Austria\",\"Belgium\",\"Cyprus\",\"Denmark\",\"France\",\"Greece\",\"Italy\",\"Norway\",\"Spain\",\"Sweden\",\"Switzerland\"],\"locations\":[\"AUT\",\"BEL\",\"CYP\",\"DNK\",\"FRA\",\"GRC\",\"ITA\",\"NOR\",\"ESP\",\"SWE\",\"CHE\"],\"name\":\"\",\"z\":[25000,29000,200,4400,141844,5780,12700,3000,38000,20000,30000],\"type\":\"choropleth\"}],\"name\":\"1971\"},{\"data\":[{\"coloraxis\":\"coloraxis\",\"geo\":\"geo\",\"hovertemplate\":\"\\u003cb\\u003e%{hovertext}\\u003c\\u002fb\\u003e\\u003cbr\\u003e\\u003cbr\\u003eYear=1972\\u003cbr\\u003eCountry of asylum (ISO)=%{location}\\u003cbr\\u003eNumber of Refugees=%{z}\\u003cextra\\u003e\\u003c\\u002fextra\\u003e\",\"hovertext\":[\"Austria\",\"Belgium\",\"Cyprus\",\"Denmark\",\"France\",\"Greece\",\"Italy\",\"Norway\",\"Spain\",\"Sweden\",\"Switzerland\"],\"locations\":[\"AUT\",\"BEL\",\"CYP\",\"DNK\",\"FRA\",\"GRC\",\"ITA\",\"NOR\",\"ESP\",\"SWE\",\"CHE\"],\"name\":\"\",\"z\":[25000,29000,200,3687,98900,3350,12600,3000,40000,20000,35000],\"type\":\"choropleth\"}],\"name\":\"1972\"},{\"data\":[{\"coloraxis\":\"coloraxis\",\"geo\":\"geo\",\"hovertemplate\":\"\\u003cb\\u003e%{hovertext}\\u003c\\u002fb\\u003e\\u003cbr\\u003e\\u003cbr\\u003eYear=1973\\u003cbr\\u003eCountry of asylum (ISO)=%{location}\\u003cbr\\u003eNumber of Refugees=%{z}\\u003cextra\\u003e\\u003c\\u002fextra\\u003e\",\"hovertext\":[\"Austria\",\"Belgium\",\"Denmark\",\"France\",\"Greece\",\"Italy\",\"Norway\",\"Spain\",\"Sweden\",\"Switzerland\"],\"locations\":[\"AUT\",\"BEL\",\"DNK\",\"FRA\",\"GRC\",\"ITA\",\"NOR\",\"ESP\",\"SWE\",\"CHE\"],\"name\":\"\",\"z\":[25000,20000,3687,101830,2940,12600,3000,26000,20000,35000],\"type\":\"choropleth\"}],\"name\":\"1973\"},{\"data\":[{\"coloraxis\":\"coloraxis\",\"geo\":\"geo\",\"hovertemplate\":\"\\u003cb\\u003e%{hovertext}\\u003c\\u002fb\\u003e\\u003cbr\\u003e\\u003cbr\\u003eYear=1974\\u003cbr\\u003eCountry of asylum (ISO)=%{location}\\u003cbr\\u003eNumber of Refugees=%{z}\\u003cextra\\u003e\\u003c\\u002fextra\\u003e\",\"hovertext\":[\"Austria\",\"Belgium\",\"Denmark\",\"France\",\"Greece\",\"Italy\",\"Norway\",\"Spain\",\"Sweden\",\"Switzerland\"],\"locations\":[\"AUT\",\"BEL\",\"DNK\",\"FRA\",\"GRC\",\"ITA\",\"NOR\",\"ESP\",\"SWE\",\"CHE\"],\"name\":\"\",\"z\":[25000,11100,2900,105538,2710,13000,3000,18000,20000,35000],\"type\":\"choropleth\"}],\"name\":\"1974\"},{\"data\":[{\"coloraxis\":\"coloraxis\",\"geo\":\"geo\",\"hovertemplate\":\"\\u003cb\\u003e%{hovertext}\\u003c\\u002fb\\u003e\\u003cbr\\u003e\\u003cbr\\u003eYear=1975\\u003cbr\\u003eCountry of asylum (ISO)=%{location}\\u003cbr\\u003eNumber of Refugees=%{z}\\u003cextra\\u003e\\u003c\\u002fextra\\u003e\",\"hovertext\":[\"Austria\",\"Belgium\",\"Denmark\",\"France\",\"Greece\",\"Italy\",\"Norway\",\"Portugal\",\"Spain\",\"Sweden\",\"Switzerland\"],\"locations\":[\"AUT\",\"BEL\",\"DNK\",\"FRA\",\"GRC\",\"ITA\",\"NOR\",\"PRT\",\"ESP\",\"SWE\",\"CHE\"],\"name\":\"\",\"z\":[20000,16788,2125,109882,2600,11900,3000,150,16000,20000,35000],\"type\":\"choropleth\"}],\"name\":\"1975\"},{\"data\":[{\"coloraxis\":\"coloraxis\",\"geo\":\"geo\",\"hovertemplate\":\"\\u003cb\\u003e%{hovertext}\\u003c\\u002fb\\u003e\\u003cbr\\u003e\\u003cbr\\u003eYear=1976\\u003cbr\\u003eCountry of asylum (ISO)=%{location}\\u003cbr\\u003eNumber of Refugees=%{z}\\u003cextra\\u003e\\u003c\\u002fextra\\u003e\",\"hovertext\":[\"Austria\",\"Belgium\",\"Denmark\",\"France\",\"Greece\",\"Italy\",\"Norway\",\"Spain\",\"Sweden\",\"Switzerland\"],\"locations\":[\"AUT\",\"BEL\",\"DNK\",\"FRA\",\"GRC\",\"ITA\",\"NOR\",\"ESP\",\"SWE\",\"CHE\"],\"name\":\"\",\"z\":[25000,17000,2100,114634,2560,11900,1000,16500,20000,35000],\"type\":\"choropleth\"}],\"name\":\"1976\"},{\"data\":[{\"coloraxis\":\"coloraxis\",\"geo\":\"geo\",\"hovertemplate\":\"\\u003cb\\u003e%{hovertext}\\u003c\\u002fb\\u003e\\u003cbr\\u003e\\u003cbr\\u003eYear=1977\\u003cbr\\u003eCountry of asylum (ISO)=%{location}\\u003cbr\\u003eNumber of Refugees=%{z}\\u003cextra\\u003e\\u003c\\u002fextra\\u003e\",\"hovertext\":[\"Austria\",\"Belgium\",\"Cyprus\",\"Denmark\",\"France\",\"Greece\",\"Italy\",\"Norway\",\"Portugal\",\"Romania\",\"Spain\",\"Sweden\",\"Switzerland\"],\"locations\":[\"AUT\",\"BEL\",\"CYP\",\"DNK\",\"FRA\",\"GRC\",\"ITA\",\"NOR\",\"PRT\",\"ROU\",\"ESP\",\"SWE\",\"CHE\"],\"name\":\"\",\"z\":[20000,17000,700,1764,119413,2610,11700,6000,7500,1000,15000,20000,30000],\"type\":\"choropleth\"}],\"name\":\"1977\"},{\"data\":[{\"coloraxis\":\"coloraxis\",\"geo\":\"geo\",\"hovertemplate\":\"\\u003cb\\u003e%{hovertext}\\u003c\\u002fb\\u003e\\u003cbr\\u003e\\u003cbr\\u003eYear=1978\\u003cbr\\u003eCountry of asylum (ISO)=%{location}\\u003cbr\\u003eNumber of Refugees=%{z}\\u003cextra\\u003e\\u003c\\u002fextra\\u003e\",\"hovertext\":[\"Austria\",\"Belgium\",\"Denmark\",\"France\",\"Greece\",\"Italy\",\"Norway\",\"Portugal\",\"Romania\",\"Spain\",\"Sweden\",\"Switzerland\"],\"locations\":[\"AUT\",\"BEL\",\"DNK\",\"FRA\",\"GRC\",\"ITA\",\"NOR\",\"PRT\",\"ROU\",\"ESP\",\"SWE\",\"CHE\"],\"name\":\"\",\"z\":[20000,17000,1800,126229,2520,11700,6000,7500,1000,15000,20000,30000],\"type\":\"choropleth\"}],\"name\":\"1978\"},{\"data\":[{\"coloraxis\":\"coloraxis\",\"geo\":\"geo\",\"hovertemplate\":\"\\u003cb\\u003e%{hovertext}\\u003c\\u002fb\\u003e\\u003cbr\\u003e\\u003cbr\\u003eYear=1979\\u003cbr\\u003eCountry of asylum (ISO)=%{location}\\u003cbr\\u003eNumber of Refugees=%{z}\\u003cextra\\u003e\\u003c\\u002fextra\\u003e\",\"hovertext\":[\"Austria\",\"Belgium\",\"Denmark\",\"France\",\"Greece\",\"Italy\",\"Norway\",\"Portugal\",\"Romania\",\"Spain\",\"Sweden\",\"Switzerland\"],\"locations\":[\"AUT\",\"BEL\",\"DNK\",\"FRA\",\"GRC\",\"ITA\",\"NOR\",\"PRT\",\"ROU\",\"ESP\",\"SWE\",\"CHE\"],\"name\":\"\",\"z\":[25000,32000,1800,119489,3770,14100,6000,7600,1000,26000,20000,30000],\"type\":\"choropleth\"}],\"name\":\"1979\"},{\"data\":[{\"coloraxis\":\"coloraxis\",\"geo\":\"geo\",\"hovertemplate\":\"\\u003cb\\u003e%{hovertext}\\u003c\\u002fb\\u003e\\u003cbr\\u003e\\u003cbr\\u003eYear=1980\\u003cbr\\u003eCountry of asylum (ISO)=%{location}\\u003cbr\\u003eNumber of Refugees=%{z}\\u003cextra\\u003e\\u003c\\u002fextra\\u003e\",\"hovertext\":[\"Austria\",\"Belgium\",\"Denmark\",\"France\",\"Greece\",\"Italy\",\"Norway\",\"Portugal\",\"Romania\",\"Spain\",\"Sweden\",\"Switzerland\"],\"locations\":[\"AUT\",\"BEL\",\"DNK\",\"FRA\",\"GRC\",\"ITA\",\"NOR\",\"PRT\",\"ROU\",\"ESP\",\"SWE\",\"CHE\"],\"name\":\"\",\"z\":[15525,33000,1800,121958,3750,21531,6000,7600,1000,21500,20000,32000],\"type\":\"choropleth\"}],\"name\":\"1980\"},{\"data\":[{\"coloraxis\":\"coloraxis\",\"geo\":\"geo\",\"hovertemplate\":\"\\u003cb\\u003e%{hovertext}\\u003c\\u002fb\\u003e\\u003cbr\\u003e\\u003cbr\\u003eYear=1981\\u003cbr\\u003eCountry of asylum (ISO)=%{location}\\u003cbr\\u003eNumber of Refugees=%{z}\\u003cextra\\u003e\\u003c\\u002fextra\\u003e\",\"hovertext\":[\"Austria\",\"Belgium\",\"Denmark\",\"France\",\"Greece\",\"Italy\",\"Norway\",\"Portugal\",\"Romania\",\"Spain\",\"Sweden\",\"Switzerland\"],\"locations\":[\"AUT\",\"BEL\",\"DNK\",\"FRA\",\"GRC\",\"ITA\",\"NOR\",\"PRT\",\"ROU\",\"ESP\",\"SWE\",\"CHE\"],\"name\":\"\",\"z\":[17899,35000,1800,125597,3990,22601,6000,7600,1000,21500,20000,40000],\"type\":\"choropleth\"}],\"name\":\"1981\"},{\"data\":[{\"coloraxis\":\"coloraxis\",\"geo\":\"geo\",\"hovertemplate\":\"\\u003cb\\u003e%{hovertext}\\u003c\\u002fb\\u003e\\u003cbr\\u003e\\u003cbr\\u003eYear=1982\\u003cbr\\u003eCountry of asylum (ISO)=%{location}\\u003cbr\\u003eNumber of Refugees=%{z}\\u003cextra\\u003e\\u003c\\u002fextra\\u003e\",\"hovertext\":[\"Austria\",\"Belgium\",\"Denmark\",\"France\",\"Greece\",\"Italy\",\"Norway\",\"Portugal\",\"Romania\",\"Spain\",\"Sweden\",\"Switzerland\"],\"locations\":[\"AUT\",\"BEL\",\"DNK\",\"FRA\",\"GRC\",\"ITA\",\"NOR\",\"PRT\",\"ROU\",\"ESP\",\"SWE\",\"CHE\"],\"name\":\"\",\"z\":[34963,21000,1800,152223,3950,22865,6000,7600,1000,23500,20000,33404],\"type\":\"choropleth\"}],\"name\":\"1982\"},{\"data\":[{\"coloraxis\":\"coloraxis\",\"geo\":\"geo\",\"hovertemplate\":\"\\u003cb\\u003e%{hovertext}\\u003c\\u002fb\\u003e\\u003cbr\\u003e\\u003cbr\\u003eYear=1983\\u003cbr\\u003eCountry of asylum (ISO)=%{location}\\u003cbr\\u003eNumber of Refugees=%{z}\\u003cextra\\u003e\\u003c\\u002fextra\\u003e\",\"hovertext\":[\"Austria\",\"Belgium\",\"Denmark\",\"France\",\"Greece\",\"Italy\",\"Norway\",\"Portugal\",\"Romania\",\"Spain\",\"Sweden\",\"Switzerland\"],\"locations\":[\"AUT\",\"BEL\",\"DNK\",\"FRA\",\"GRC\",\"ITA\",\"NOR\",\"PRT\",\"ROU\",\"ESP\",\"SWE\",\"CHE\"],\"name\":\"\",\"z\":[37298,35000,3600,164113,4090,22062,10000,700,1000,23700,43000,32312],\"type\":\"choropleth\"}],\"name\":\"1983\"},{\"data\":[{\"coloraxis\":\"coloraxis\",\"geo\":\"geo\",\"hovertemplate\":\"\\u003cb\\u003e%{hovertext}\\u003c\\u002fb\\u003e\\u003cbr\\u003e\\u003cbr\\u003eYear=1984\\u003cbr\\u003eCountry of asylum (ISO)=%{location}\\u003cbr\\u003eNumber of Refugees=%{z}\\u003cextra\\u003e\\u003c\\u002fextra\\u003e\",\"hovertext\":[\"Austria\",\"Belgium\",\"Denmark\",\"Finland\",\"France\",\"Greece\",\"Ireland\",\"Italy\",\"Norway\",\"Portugal\",\"Romania\",\"Spain\",\"Sweden\",\"Switzerland\"],\"locations\":[\"AUT\",\"BEL\",\"DNK\",\"FIN\",\"FRA\",\"GRC\",\"IRL\",\"ITA\",\"NOR\",\"PRT\",\"ROU\",\"ESP\",\"SWE\",\"CHE\"],\"name\":\"\",\"z\":[39099,36400,8500,500,169863,4320,500,21482,10000,600,1000,9900,90600,31201],\"type\":\"choropleth\"}],\"name\":\"1984\"},{\"data\":[{\"coloraxis\":\"coloraxis\",\"geo\":\"geo\",\"hovertemplate\":\"\\u003cb\\u003e%{hovertext}\\u003c\\u002fb\\u003e\\u003cbr\\u003e\\u003cbr\\u003eYear=1985\\u003cbr\\u003eCountry of asylum (ISO)=%{location}\\u003cbr\\u003eNumber of Refugees=%{z}\\u003cextra\\u003e\\u003c\\u002fextra\\u003e\",\"hovertext\":[\"Austria\",\"Belgium\",\"Denmark\",\"Finland\",\"France\",\"Greece\",\"Ireland\",\"Italy\",\"Norway\",\"Portugal\",\"Spain\",\"Sweden\",\"Switzerland\"],\"locations\":[\"AUT\",\"BEL\",\"DNK\",\"FIN\",\"FRA\",\"GRC\",\"IRL\",\"ITA\",\"NOR\",\"PRT\",\"ESP\",\"SWE\",\"CHE\"],\"name\":\"\",\"z\":[40534,36600,8500,500,174213,4360,600,22386,11800,700,9300,90600,30726],\"type\":\"choropleth\"}],\"name\":\"1985\"},{\"data\":[{\"coloraxis\":\"coloraxis\",\"geo\":\"geo\",\"hovertemplate\":\"\\u003cb\\u003e%{hovertext}\\u003c\\u002fb\\u003e\\u003cbr\\u003e\\u003cbr\\u003eYear=1986\\u003cbr\\u003eCountry of asylum (ISO)=%{location}\\u003cbr\\u003eNumber of Refugees=%{z}\\u003cextra\\u003e\\u003c\\u002fextra\\u003e\",\"hovertext\":[\"Austria\",\"Belgium\",\"Denmark\",\"Finland\",\"France\",\"Greece\",\"Ireland\",\"Italy\",\"Norway\",\"Portugal\",\"Spain\",\"Sweden\",\"Switzerland\"],\"locations\":[\"AUT\",\"BEL\",\"DNK\",\"FIN\",\"FRA\",\"GRC\",\"IRL\",\"ITA\",\"NOR\",\"PRT\",\"ESP\",\"SWE\",\"CHE\"],\"name\":\"\",\"z\":[41176,35900,23000,500,180258,3280,600,21505,13200,800,10200,120000,31343],\"type\":\"choropleth\"}],\"name\":\"1986\"},{\"data\":[{\"coloraxis\":\"coloraxis\",\"geo\":\"geo\",\"hovertemplate\":\"\\u003cb\\u003e%{hovertext}\\u003c\\u002fb\\u003e\\u003cbr\\u003e\\u003cbr\\u003eYear=1987\\u003cbr\\u003eCountry of asylum (ISO)=%{location}\\u003cbr\\u003eNumber of Refugees=%{z}\\u003cextra\\u003e\\u003c\\u002fextra\\u003e\",\"hovertext\":[\"Austria\",\"Belgium\",\"Denmark\",\"Finland\",\"France\",\"Greece\",\"Ireland\",\"Italy\",\"Norway\",\"Portugal\",\"Spain\",\"Sweden\",\"Switzerland\"],\"locations\":[\"AUT\",\"BEL\",\"DNK\",\"FIN\",\"FRA\",\"GRC\",\"IRL\",\"ITA\",\"NOR\",\"PRT\",\"ESP\",\"SWE\",\"CHE\"],\"name\":\"\",\"z\":[41228,22000,30000,800,179306,4630,540,20413,15000,800,9200,130000,31707],\"type\":\"choropleth\"}],\"name\":\"1987\"},{\"data\":[{\"coloraxis\":\"coloraxis\",\"geo\":\"geo\",\"hovertemplate\":\"\\u003cb\\u003e%{hovertext}\\u003c\\u002fb\\u003e\\u003cbr\\u003e\\u003cbr\\u003eYear=1988\\u003cbr\\u003eCountry of asylum (ISO)=%{location}\\u003cbr\\u003eNumber of Refugees=%{z}\\u003cextra\\u003e\\u003c\\u002fextra\\u003e\",\"hovertext\":[\"Austria\",\"Belgium\",\"Cyprus\",\"Denmark\",\"Finland\",\"France\",\"Greece\",\"Ireland\",\"Italy\",\"Norway\",\"Portugal\",\"Spain\",\"Sweden\",\"Switzerland\"],\"locations\":[\"AUT\",\"BEL\",\"CYP\",\"DNK\",\"FIN\",\"FRA\",\"GRC\",\"IRL\",\"ITA\",\"NOR\",\"PRT\",\"ESP\",\"SWE\",\"CHE\"],\"name\":\"\",\"z\":[39830,23117,60,27310,1065,183946,8262,480,19260,10952,789,8691,139783,31949],\"type\":\"choropleth\"}],\"name\":\"1988\"},{\"data\":[{\"coloraxis\":\"coloraxis\",\"geo\":\"geo\",\"hovertemplate\":\"\\u003cb\\u003e%{hovertext}\\u003c\\u002fb\\u003e\\u003cbr\\u003e\\u003cbr\\u003eYear=1989\\u003cbr\\u003eCountry of asylum (ISO)=%{location}\\u003cbr\\u003eNumber of Refugees=%{z}\\u003cextra\\u003e\\u003c\\u002fextra\\u003e\",\"hovertext\":[\"Austria\",\"Belgium\",\"Denmark\",\"Finland\",\"France\",\"Greece\",\"Hungary\",\"Ireland\",\"Italy\",\"Norway\",\"Portugal\",\"Spain\",\"Sweden\",\"Switzerland\"],\"locations\":[\"AUT\",\"BEL\",\"DNK\",\"FIN\",\"FRA\",\"GRC\",\"HUN\",\"IRL\",\"ITA\",\"NOR\",\"PRT\",\"ESP\",\"SWE\",\"CHE\"],\"name\":\"\",\"z\":[39405,25531,30726,2000,180258,7490,27000,420,13893,18500,657,8676,139783,36763],\"type\":\"choropleth\"}],\"name\":\"1989\"},{\"data\":[{\"coloraxis\":\"coloraxis\",\"geo\":\"geo\",\"hovertemplate\":\"\\u003cb\\u003e%{hovertext}\\u003c\\u002fb\\u003e\\u003cbr\\u003e\\u003cbr\\u003eYear=1990\\u003cbr\\u003eCountry of asylum (ISO)=%{location}\\u003cbr\\u003eNumber of Refugees=%{z}\\u003cextra\\u003e\\u003c\\u002fextra\\u003e\",\"hovertext\":[\"Austria\",\"Belgium\",\"Cyprus\",\"Denmark\",\"Finland\",\"France\",\"Greece\",\"Hungary\",\"Iceland\",\"Ireland\",\"Italy\",\"Luxembourg\",\"Norway\",\"Portugal\",\"Spain\",\"Sweden\",\"Switzerland\"],\"locations\":[\"AUT\",\"BEL\",\"CYP\",\"DNK\",\"FIN\",\"FRA\",\"GRC\",\"HUN\",\"ISL\",\"IRL\",\"ITA\",\"LUX\",\"NOR\",\"PRT\",\"ESP\",\"SWE\",\"CHE\"],\"name\":\"\",\"z\":[34938,25911,31,32887,2348,193000,8488,45123,85,360,10816,687,19581,867,8303,109654,40943],\"type\":\"choropleth\"}],\"name\":\"1990\"},{\"data\":[{\"coloraxis\":\"coloraxis\",\"geo\":\"geo\",\"hovertemplate\":\"\\u003cb\\u003e%{hovertext}\\u003c\\u002fb\\u003e\\u003cbr\\u003e\\u003cbr\\u003eYear=1991\\u003cbr\\u003eCountry of asylum (ISO)=%{location}\\u003cbr\\u003eNumber of Refugees=%{z}\\u003cextra\\u003e\\u003c\\u002fextra\\u003e\",\"hovertext\":[\"Austria\",\"Belgium\",\"Cyprus\",\"Denmark\",\"Finland\",\"France\",\"Greece\",\"Hungary\",\"Iceland\",\"Ireland\",\"Italy\",\"Luxembourg\",\"Norway\",\"Poland\",\"Portugal\",\"Romania\",\"Spain\",\"Sweden\",\"Switzerland\"],\"locations\":[\"AUT\",\"BEL\",\"CYP\",\"DNK\",\"FIN\",\"FRA\",\"GRC\",\"HUN\",\"ISL\",\"IRL\",\"ITA\",\"LUX\",\"NOR\",\"POL\",\"PRT\",\"ROU\",\"ESP\",\"SWE\",\"CHE\"],\"name\":\"\",\"z\":[34508,24071,61,36100,4561,174756,8989,73838,141,300,9796,692,29054,550,998,651,4005,124457,45622],\"type\":\"choropleth\"}],\"name\":\"1991\"},{\"data\":[{\"coloraxis\":\"coloraxis\",\"geo\":\"geo\",\"hovertemplate\":\"\\u003cb\\u003e%{hovertext}\\u003c\\u002fb\\u003e\\u003cbr\\u003e\\u003cbr\\u003eYear=1992\\u003cbr\\u003eCountry of asylum (ISO)=%{location}\\u003cbr\\u003eNumber of Refugees=%{z}\\u003cextra\\u003e\\u003c\\u002fextra\\u003e\",\"hovertext\":[\"Albania\",\"Austria\",\"Belgium\",\"Bulgaria\",\"Croatia\",\"Cyprus\",\"Denmark\",\"Finland\",\"France\",\"Greece\",\"Hungary\",\"Iceland\",\"Ireland\",\"Italy\",\"Luxembourg\",\"North Macedonia\",\"Norway\",\"Poland\",\"Portugal\",\"Romania\",\"Slovenia\",\"Spain\",\"Sweden\",\"Switzerland\"],\"locations\":[\"ALB\",\"AUT\",\"BEL\",\"BGR\",\"HRV\",\"CYP\",\"DNK\",\"FIN\",\"FRA\",\"GRC\",\"HUN\",\"ISL\",\"IRL\",\"ITA\",\"LUX\",\"MKD\",\"NOR\",\"POL\",\"PRT\",\"ROU\",\"SVN\",\"ESP\",\"SWE\",\"CHE\"],\"name\":\"\",\"z\":[3000,62355,24292,218,403000,80,39124,5950,156512,8456,32412,154,500,9242,2208,32000,29846,2719,1778,520,74100,4040,131069,51930],\"type\":\"choropleth\"}],\"name\":\"1992\"},{\"data\":[{\"coloraxis\":\"coloraxis\",\"geo\":\"geo\",\"hovertemplate\":\"\\u003cb\\u003e%{hovertext}\\u003c\\u002fb\\u003e\\u003cbr\\u003e\\u003cbr\\u003eYear=1993\\u003cbr\\u003eCountry of asylum (ISO)=%{location}\\u003cbr\\u003eNumber of Refugees=%{z}\\u003cextra\\u003e\\u003c\\u002fextra\\u003e\",\"hovertext\":[\"Albania\",\"Austria\",\"Belgium\",\"Bosnia and Herzegovina\",\"Bulgaria\",\"Croatia\",\"Cyprus\",\"Denmark\",\"Finland\",\"France\",\"Greece\",\"Hungary\",\"Iceland\",\"Ireland\",\"Italy\",\"Luxembourg\",\"Malta\",\"North Macedonia\",\"Norway\",\"Poland\",\"Portugal\",\"Romania\",\"Slovakia\",\"Slovenia\",\"Spain\",\"Sweden\",\"Switzerland\"],\"locations\":[\"ALB\",\"AUT\",\"BEL\",\"BIH\",\"BGR\",\"HRV\",\"CYP\",\"DNK\",\"FIN\",\"FRA\",\"GRC\",\"HUN\",\"ISL\",\"IRL\",\"ITA\",\"LUX\",\"MLT\",\"MKD\",\"NOR\",\"POL\",\"PRT\",\"ROU\",\"SVK\",\"SVN\",\"ESP\",\"SWE\",\"CHE\"],\"name\":\"\",\"z\":[3000,57687,24908,0,443,287000,81,44570,8511,166269,7859,3019,160,119,50266,225,505,31452,38375,810,600,1170,1521,45000,4990,162386,56586],\"type\":\"choropleth\"}],\"name\":\"1993\"},{\"data\":[{\"coloraxis\":\"coloraxis\",\"geo\":\"geo\",\"hovertemplate\":\"\\u003cb\\u003e%{hovertext}\\u003c\\u002fb\\u003e\\u003cbr\\u003e\\u003cbr\\u003eYear=1994\\u003cbr\\u003eCountry of asylum (ISO)=%{location}\\u003cbr\\u003eNumber of Refugees=%{z}\\u003cextra\\u003e\\u003c\\u002fextra\\u003e\",\"hovertext\":[\"Albania\",\"Austria\",\"Belarus\",\"Belgium\",\"Bosnia and Herzegovina\",\"Bulgaria\",\"Croatia\",\"Cyprus\",\"Denmark\",\"Finland\",\"France\",\"Greece\",\"Hungary\",\"Iceland\",\"Ireland\",\"Italy\",\"Luxembourg\",\"Malta\",\"North Macedonia\",\"Norway\",\"Poland\",\"Portugal\",\"Romania\",\"Slovakia\",\"Slovenia\",\"Spain\",\"Sweden\",\"Switzerland\",\"Ukraine\"],\"locations\":[\"ALB\",\"AUT\",\"BLR\",\"BEL\",\"BIH\",\"BGR\",\"HRV\",\"CYP\",\"DNK\",\"FIN\",\"FRA\",\"GRC\",\"HUN\",\"ISL\",\"IRL\",\"ITA\",\"LUX\",\"MLT\",\"MKD\",\"NOR\",\"POL\",\"PRT\",\"ROU\",\"SVK\",\"SVN\",\"ESP\",\"SWE\",\"CHE\",\"UKR\"],\"name\":\"\",\"z\":[3000,40703,1824,19497,0,1054,183600,67,49564,9511,195288,7773,2904,160,400,73058,300,424,14891,44617,393,248,1170,159,29156,5351,200774,75295,5193],\"type\":\"choropleth\"}],\"name\":\"1994\"},{\"data\":[{\"coloraxis\":\"coloraxis\",\"geo\":\"geo\",\"hovertemplate\":\"\\u003cb\\u003e%{hovertext}\\u003c\\u002fb\\u003e\\u003cbr\\u003e\\u003cbr\\u003eYear=1995\\u003cbr\\u003eCountry of asylum (ISO)=%{location}\\u003cbr\\u003eNumber of Refugees=%{z}\\u003cextra\\u003e\\u003c\\u002fextra\\u003e\",\"hovertext\":[\"Albania\",\"Austria\",\"Belarus\",\"Belgium\",\"Bosnia and Herzegovina\",\"Bulgaria\",\"Croatia\",\"Cyprus\",\"Denmark\",\"Finland\",\"France\",\"Greece\",\"Hungary\",\"Iceland\",\"Ireland\",\"Italy\",\"Luxembourg\",\"Malta\",\"North Macedonia\",\"Norway\",\"Poland\",\"Portugal\",\"Romania\",\"Slovakia\",\"Slovenia\",\"Spain\",\"Sweden\",\"Switzerland\",\"Ukraine\"],\"locations\":[\"ALB\",\"AUT\",\"BLR\",\"BEL\",\"BIH\",\"BGR\",\"HRV\",\"CYP\",\"DNK\",\"FIN\",\"FRA\",\"GRC\",\"HUN\",\"ISL\",\"IRL\",\"ITA\",\"LUX\",\"MLT\",\"MKD\",\"NOR\",\"POL\",\"PRT\",\"ROU\",\"SVK\",\"SVN\",\"ESP\",\"SWE\",\"CHE\",\"UKR\"],\"name\":\"\",\"z\":[4721,34385,28988,31691,0,1318,198647,53,64850,10191,155240,4428,11394,197,400,74298,700,410,9048,47607,600,248,192,2339,22314,5840,199194,82943,5193],\"type\":\"choropleth\"}],\"name\":\"1995\"},{\"data\":[{\"coloraxis\":\"coloraxis\",\"geo\":\"geo\",\"hovertemplate\":\"\\u003cb\\u003e%{hovertext}\\u003c\\u002fb\\u003e\\u003cbr\\u003e\\u003cbr\\u003eYear=1996\\u003cbr\\u003eCountry of asylum (ISO)=%{location}\\u003cbr\\u003eNumber of Refugees=%{z}\\u003cextra\\u003e\\u003c\\u002fextra\\u003e\",\"hovertext\":[\"Albania\",\"Austria\",\"Belarus\",\"Belgium\",\"Bosnia and Herzegovina\",\"Bulgaria\",\"Croatia\",\"Cyprus\",\"Denmark\",\"Finland\",\"France\",\"Greece\",\"Hungary\",\"Iceland\",\"Ireland\",\"Italy\",\"Luxembourg\",\"Malta\",\"North Macedonia\",\"Norway\",\"Poland\",\"Portugal\",\"Romania\",\"Slovakia\",\"Slovenia\",\"Spain\",\"Sweden\",\"Switzerland\",\"Ukraine\"],\"locations\":[\"ALB\",\"AUT\",\"BLR\",\"BEL\",\"BIH\",\"BGR\",\"HRV\",\"CYP\",\"DNK\",\"FIN\",\"FRA\",\"GRC\",\"HUN\",\"ISL\",\"IRL\",\"ITA\",\"LUX\",\"MLT\",\"MKD\",\"NOR\",\"POL\",\"PRT\",\"ROU\",\"SVK\",\"SVN\",\"ESP\",\"SWE\",\"CHE\",\"UKR\"],\"name\":\"\",\"z\":[4927,89116,30525,36060,0,1431,165395,45,66371,11382,151331,5780,7537,232,69,64712,700,357,5089,48409,600,297,261,1387,10014,5672,191159,84413,3585],\"type\":\"choropleth\"}],\"name\":\"1996\"},{\"data\":[{\"coloraxis\":\"coloraxis\",\"geo\":\"geo\",\"hovertemplate\":\"\\u003cb\\u003e%{hovertext}\\u003c\\u002fb\\u003e\\u003cbr\\u003e\\u003cbr\\u003eYear=1997\\u003cbr\\u003eCountry of asylum (ISO)=%{location}\\u003cbr\\u003eNumber of Refugees=%{z}\\u003cextra\\u003e\\u003c\\u002fextra\\u003e\",\"hovertext\":[\"Albania\",\"Austria\",\"Belarus\",\"Belgium\",\"Bosnia and Herzegovina\",\"Bulgaria\",\"Croatia\",\"Cyprus\",\"Denmark\",\"Finland\",\"France\",\"Greece\",\"Hungary\",\"Iceland\",\"Ireland\",\"Italy\",\"Lithuania\",\"Luxembourg\",\"Malta\",\"North Macedonia\",\"Norway\",\"Poland\",\"Portugal\",\"Romania\",\"Slovakia\",\"Slovenia\",\"Spain\",\"Sweden\",\"Switzerland\",\"Ukraine\"],\"locations\":[\"ALB\",\"AUT\",\"BLR\",\"BEL\",\"BIH\",\"BGR\",\"HRV\",\"CYP\",\"DNK\",\"FIN\",\"FRA\",\"GRC\",\"HUN\",\"ISL\",\"IRL\",\"ITA\",\"LTU\",\"LUX\",\"MLT\",\"MKD\",\"NOR\",\"POL\",\"PRT\",\"ROU\",\"SVK\",\"SVN\",\"ESP\",\"SWE\",\"CHE\",\"UKR\"],\"name\":\"\",\"z\":[34,84394,50,36060,40000,382,68863,38,68106,12017,146558,5520,5890,252,430,66601,5,700,334,3500,47372,835,310,631,746,5133,5512,186719,83205,4566],\"type\":\"choropleth\"}],\"name\":\"1997\"},{\"data\":[{\"coloraxis\":\"coloraxis\",\"geo\":\"geo\",\"hovertemplate\":\"\\u003cb\\u003e%{hovertext}\\u003c\\u002fb\\u003e\\u003cbr\\u003e\\u003cbr\\u003eYear=1998\\u003cbr\\u003eCountry of asylum (ISO)=%{location}\\u003cbr\\u003eNumber of Refugees=%{z}\\u003cextra\\u003e\\u003c\\u002fextra\\u003e\",\"hovertext\":[\"Albania\",\"Austria\",\"Belarus\",\"Belgium\",\"Bosnia and Herzegovina\",\"Bulgaria\",\"Croatia\",\"Cyprus\",\"Denmark\",\"Finland\",\"France\",\"Greece\",\"Hungary\",\"Iceland\",\"Ireland\",\"Italy\",\"Lithuania\",\"Luxembourg\",\"Malta\",\"North Macedonia\",\"Norway\",\"Poland\",\"Portugal\",\"Romania\",\"Slovakia\",\"Slovenia\",\"Spain\",\"Sweden\",\"Switzerland\",\"Ukraine\"],\"locations\":[\"ALB\",\"AUT\",\"BLR\",\"BEL\",\"BIH\",\"BGR\",\"HRV\",\"CYP\",\"DNK\",\"FIN\",\"FRA\",\"GRC\",\"HUN\",\"ISL\",\"IRL\",\"ITA\",\"LTU\",\"LUX\",\"MLT\",\"MKD\",\"NOR\",\"POL\",\"PRT\",\"ROU\",\"SVK\",\"SVN\",\"ESP\",\"SWE\",\"CHE\",\"UKR\"],\"name\":\"\",\"z\":[22334,80294,75,15501,40000,241,29027,77,68996,12288,140213,6145,3504,286,600,5440,30,700,291,1700,45325,895,329,983,418,3462,5918,178782,81875,6101],\"type\":\"choropleth\"}],\"name\":\"1998\"},{\"data\":[{\"coloraxis\":\"coloraxis\",\"geo\":\"geo\",\"hovertemplate\":\"\\u003cb\\u003e%{hovertext}\\u003c\\u002fb\\u003e\\u003cbr\\u003e\\u003cbr\\u003eYear=1999\\u003cbr\\u003eCountry of asylum (ISO)=%{location}\\u003cbr\\u003eNumber of Refugees=%{z}\\u003cextra\\u003e\\u003c\\u002fextra\\u003e\",\"hovertext\":[\"Albania\",\"Austria\",\"Belarus\",\"Belgium\",\"Bosnia and Herzegovina\",\"Bulgaria\",\"Croatia\",\"Cyprus\",\"Denmark\",\"Finland\",\"France\",\"Greece\",\"Hungary\",\"Iceland\",\"Ireland\",\"Italy\",\"Latvia\",\"Lithuania\",\"Luxembourg\",\"Malta\",\"North Macedonia\",\"Norway\",\"Poland\",\"Portugal\",\"Romania\",\"Slovakia\",\"Slovenia\",\"Spain\",\"Sweden\",\"Switzerland\",\"Ukraine\"],\"locations\":[\"ALB\",\"AUT\",\"BLR\",\"BEL\",\"BIH\",\"BGR\",\"HRV\",\"CYP\",\"DNK\",\"FIN\",\"FRA\",\"GRC\",\"HUN\",\"ISL\",\"IRL\",\"ITA\",\"LVA\",\"LTU\",\"LUX\",\"MLT\",\"MKD\",\"NOR\",\"POL\",\"PRT\",\"ROU\",\"SVK\",\"SVN\",\"ESP\",\"SWE\",\"CHE\",\"UKR\"],\"name\":\"\",\"z\":[3932,82076,261,16747,65645,542,28374,112,68982,12866,129722,6283,4980,245,2829,6004,5,38,700,271,21200,43441,937,364,1234,436,4380,6708,159504,82273,2687],\"type\":\"choropleth\"}],\"name\":\"1999\"},{\"data\":[{\"coloraxis\":\"coloraxis\",\"geo\":\"geo\",\"hovertemplate\":\"\\u003cb\\u003e%{hovertext}\\u003c\\u002fb\\u003e\\u003cbr\\u003e\\u003cbr\\u003eYear=2000\\u003cbr\\u003eCountry of asylum (ISO)=%{location}\\u003cbr\\u003eNumber of Refugees=%{z}\\u003cextra\\u003e\\u003c\\u002fextra\\u003e\",\"hovertext\":[\"Albania\",\"Austria\",\"Belarus\",\"Belgium\",\"Bosnia and Herzegovina\",\"Bulgaria\",\"Croatia\",\"Cyprus\",\"Denmark\",\"Estonia\",\"Finland\",\"France\",\"Greece\",\"Hungary\",\"Iceland\",\"Ireland\",\"Italy\",\"Latvia\",\"Liechtenstein\",\"Lithuania\",\"Luxembourg\",\"Malta\",\"North Macedonia\",\"Norway\",\"Poland\",\"Portugal\",\"Romania\",\"Slovakia\",\"Slovenia\",\"Spain\",\"Sweden\",\"Switzerland\",\"Ukraine\"],\"locations\":[\"ALB\",\"AUT\",\"BLR\",\"BEL\",\"BIH\",\"BGR\",\"HRV\",\"CYP\",\"DNK\",\"EST\",\"FIN\",\"FRA\",\"GRC\",\"HUN\",\"ISL\",\"IRL\",\"ITA\",\"LVA\",\"LIE\",\"LTU\",\"LUX\",\"MLT\",\"MKD\",\"NOR\",\"POL\",\"PRT\",\"ROU\",\"SVK\",\"SVN\",\"ESP\",\"SWE\",\"CHE\",\"UKR\"],\"name\":\"\",\"z\":[521,15493,453,18821,38150,1470,22437,73,71017,0,13271,132508,6653,5053,235,2530,6813,5,70,48,759,191,9048,47700,1011,416,1677,444,2814,6982,157206,57624,2927],\"type\":\"choropleth\"}],\"name\":\"2000\"},{\"data\":[{\"coloraxis\":\"coloraxis\",\"geo\":\"geo\",\"hovertemplate\":\"\\u003cb\\u003e%{hovertext}\\u003c\\u002fb\\u003e\\u003cbr\\u003e\\u003cbr\\u003eYear=2001\\u003cbr\\u003eCountry of asylum (ISO)=%{location}\\u003cbr\\u003eNumber of Refugees=%{z}\\u003cextra\\u003e\\u003c\\u002fextra\\u003e\",\"hovertext\":[\"Albania\",\"Austria\",\"Belarus\",\"Belgium\",\"Bosnia and Herzegovina\",\"Bulgaria\",\"Croatia\",\"Cyprus\",\"Denmark\",\"Estonia\",\"Finland\",\"France\",\"Greece\",\"Hungary\",\"Iceland\",\"Ireland\",\"Italy\",\"Latvia\",\"Liechtenstein\",\"Lithuania\",\"Luxembourg\",\"Malta\",\"North Macedonia\",\"Norway\",\"Poland\",\"Portugal\",\"Romania\",\"Slovakia\",\"Slovenia\",\"Spain\",\"Sweden\",\"Switzerland\",\"Ukraine\"],\"locations\":[\"ALB\",\"AUT\",\"BLR\",\"BEL\",\"BIH\",\"BGR\",\"HRV\",\"CYP\",\"DNK\",\"EST\",\"FIN\",\"FRA\",\"GRC\",\"HUN\",\"ISL\",\"IRL\",\"ITA\",\"LVA\",\"LIE\",\"LTU\",\"LUX\",\"MLT\",\"MKD\",\"NOR\",\"POL\",\"PRT\",\"ROU\",\"SVK\",\"SVN\",\"ESP\",\"SWE\",\"CHE\",\"UKR\"],\"name\":\"\",\"z\":[291,14375,581,12252,32744,2984,21875,84,73284,6,12726,131601,6927,4700,204,3585,8541,5,140,283,1201,175,4362,50122,1295,444,1792,461,2411,6804,146480,58471,2958],\"type\":\"choropleth\"}],\"name\":\"2001\"},{\"data\":[{\"coloraxis\":\"coloraxis\",\"geo\":\"geo\",\"hovertemplate\":\"\\u003cb\\u003e%{hovertext}\\u003c\\u002fb\\u003e\\u003cbr\\u003e\\u003cbr\\u003eYear=2002\\u003cbr\\u003eCountry of asylum (ISO)=%{location}\\u003cbr\\u003eNumber of Refugees=%{z}\\u003cextra\\u003e\\u003c\\u002fextra\\u003e\",\"hovertext\":[\"Albania\",\"Austria\",\"Belarus\",\"Belgium\",\"Bosnia and Herzegovina\",\"Bulgaria\",\"Croatia\",\"Cyprus\",\"Denmark\",\"Estonia\",\"Finland\",\"France\",\"Greece\",\"Hungary\",\"Iceland\",\"Ireland\",\"Italy\",\"Latvia\",\"Liechtenstein\",\"Lithuania\",\"Luxembourg\",\"Malta\",\"North Macedonia\",\"Norway\",\"Poland\",\"Portugal\",\"Romania\",\"Slovakia\",\"Slovenia\",\"Spain\",\"Sweden\",\"Switzerland\",\"Ukraine\"],\"locations\":[\"ALB\",\"AUT\",\"BLR\",\"BEL\",\"BIH\",\"BGR\",\"HRV\",\"CYP\",\"DNK\",\"EST\",\"FIN\",\"FRA\",\"GRC\",\"HUN\",\"ISL\",\"IRL\",\"ITA\",\"LVA\",\"LIE\",\"LTU\",\"LUX\",\"MLT\",\"MKD\",\"NOR\",\"POL\",\"PRT\",\"ROU\",\"SVK\",\"SVN\",\"ESP\",\"SWE\",\"CHE\",\"UKR\"],\"name\":\"\",\"z\":[18,14122,612,12560,28020,3642,8392,171,73600,6,12485,132182,2778,6075,197,5366,10031,5,126,363,1201,311,2815,50421,1586,460,1839,443,384,6783,142170,54081,2940],\"type\":\"choropleth\"}],\"name\":\"2002\"},{\"data\":[{\"coloraxis\":\"coloraxis\",\"geo\":\"geo\",\"hovertemplate\":\"\\u003cb\\u003e%{hovertext}\\u003c\\u002fb\\u003e\\u003cbr\\u003e\\u003cbr\\u003eYear=2003\\u003cbr\\u003eCountry of asylum (ISO)=%{location}\\u003cbr\\u003eNumber of Refugees=%{z}\\u003cextra\\u003e\\u003c\\u002fextra\\u003e\",\"hovertext\":[\"Albania\",\"Austria\",\"Belarus\",\"Belgium\",\"Bosnia and Herzegovina\",\"Bulgaria\",\"Croatia\",\"Cyprus\",\"Denmark\",\"Estonia\",\"Finland\",\"France\",\"Greece\",\"Hungary\",\"Iceland\",\"Ireland\",\"Italy\",\"Latvia\",\"Liechtenstein\",\"Lithuania\",\"Luxembourg\",\"Malta\",\"North Macedonia\",\"Norway\",\"Poland\",\"Portugal\",\"Romania\",\"Slovakia\",\"Slovenia\",\"Spain\",\"Sweden\",\"Switzerland\",\"Ukraine\"],\"locations\":[\"ALB\",\"AUT\",\"BLR\",\"BEL\",\"BIH\",\"BGR\",\"HRV\",\"CYP\",\"DNK\",\"EST\",\"FIN\",\"FRA\",\"GRC\",\"HUN\",\"ISL\",\"IRL\",\"ITA\",\"LVA\",\"LIE\",\"LTU\",\"LUX\",\"MLT\",\"MKD\",\"NOR\",\"POL\",\"PRT\",\"ROU\",\"SVK\",\"SVN\",\"ESP\",\"SWE\",\"CHE\",\"UKR\"],\"name\":\"\",\"z\":[24,16097,631,12583,22515,4047,4385,339,69855,6,10835,130838,2762,7013,226,5971,12812,16,147,399,1201,894,191,46107,1822,414,1991,412,2065,5912,112148,50126,2851],\"type\":\"choropleth\"}],\"name\":\"2003\"},{\"data\":[{\"coloraxis\":\"coloraxis\",\"geo\":\"geo\",\"hovertemplate\":\"\\u003cb\\u003e%{hovertext}\\u003c\\u002fb\\u003e\\u003cbr\\u003e\\u003cbr\\u003eYear=2004\\u003cbr\\u003eCountry of asylum (ISO)=%{location}\\u003cbr\\u003eNumber of Refugees=%{z}\\u003cextra\\u003e\\u003c\\u002fextra\\u003e\",\"hovertext\":[\"Albania\",\"Austria\",\"Belarus\",\"Belgium\",\"Bosnia and Herzegovina\",\"Bulgaria\",\"Croatia\",\"Cyprus\",\"Denmark\",\"Estonia\",\"Finland\",\"France\",\"Greece\",\"Hungary\",\"Iceland\",\"Ireland\",\"Italy\",\"Latvia\",\"Liechtenstein\",\"Lithuania\",\"Luxembourg\",\"Malta\",\"North Macedonia\",\"Norway\",\"Poland\",\"Portugal\",\"Romania\",\"Slovakia\",\"Slovenia\",\"Spain\",\"Sweden\",\"Switzerland\",\"Ukraine\"],\"locations\":[\"ALB\",\"AUT\",\"BLR\",\"BEL\",\"BIH\",\"BGR\",\"HRV\",\"CYP\",\"DNK\",\"EST\",\"FIN\",\"FRA\",\"GRC\",\"HUN\",\"ISL\",\"IRL\",\"ITA\",\"LVA\",\"LIE\",\"LTU\",\"LUX\",\"MLT\",\"MKD\",\"NOR\",\"POL\",\"PRT\",\"ROU\",\"SVK\",\"SVN\",\"ESP\",\"SWE\",\"CHE\",\"UKR\"],\"name\":\"\",\"z\":[49,17777,719,13522,22209,4676,3662,525,65305,6,11309,139852,2479,7702,226,6530,15668,10,147,469,1590,1561,1003,44031,2491,368,1610,396,299,5690,73383,47654,2442],\"type\":\"choropleth\"}],\"name\":\"2004\"},{\"data\":[{\"coloraxis\":\"coloraxis\",\"geo\":\"geo\",\"hovertemplate\":\"\\u003cb\\u003e%{hovertext}\\u003c\\u002fb\\u003e\\u003cbr\\u003e\\u003cbr\\u003eYear=2005\\u003cbr\\u003eCountry of asylum (ISO)=%{location}\\u003cbr\\u003eNumber of Refugees=%{z}\\u003cextra\\u003e\\u003c\\u002fextra\\u003e\",\"hovertext\":[\"Albania\",\"Austria\",\"Belarus\",\"Belgium\",\"Bosnia and Herzegovina\",\"Bulgaria\",\"Croatia\",\"Cyprus\",\"Denmark\",\"Estonia\",\"Finland\",\"France\",\"Greece\",\"Hungary\",\"Iceland\",\"Ireland\",\"Italy\",\"Latvia\",\"Liechtenstein\",\"Lithuania\",\"Luxembourg\",\"Malta\",\"North Macedonia\",\"Norway\",\"Poland\",\"Portugal\",\"Romania\",\"Slovakia\",\"Slovenia\",\"Spain\",\"Sweden\",\"Switzerland\",\"Ukraine\"],\"locations\":[\"ALB\",\"AUT\",\"BLR\",\"BEL\",\"BIH\",\"BGR\",\"HRV\",\"CYP\",\"DNK\",\"EST\",\"FIN\",\"FRA\",\"GRC\",\"HUN\",\"ISL\",\"IRL\",\"ITA\",\"LVA\",\"LIE\",\"LTU\",\"LUX\",\"MLT\",\"MKD\",\"NOR\",\"POL\",\"PRT\",\"ROU\",\"SVK\",\"SVN\",\"ESP\",\"SWE\",\"CHE\",\"UKR\"],\"name\":\"\",\"z\":[53,21212,718,15277,10566,4388,2927,700,44362,0,11801,137316,2394,8040,284,7103,20674,10,148,527,1822,1942,1273,43015,4585,355,2040,352,243,5369,74889,48010,2334],\"type\":\"choropleth\"}],\"name\":\"2005\"},{\"data\":[{\"coloraxis\":\"coloraxis\",\"geo\":\"geo\",\"hovertemplate\":\"\\u003cb\\u003e%{hovertext}\\u003c\\u002fb\\u003e\\u003cbr\\u003e\\u003cbr\\u003eYear=2006\\u003cbr\\u003eCountry of asylum (ISO)=%{location}\\u003cbr\\u003eNumber of Refugees=%{z}\\u003cextra\\u003e\\u003c\\u002fextra\\u003e\",\"hovertext\":[\"Albania\",\"Austria\",\"Belarus\",\"Belgium\",\"Bosnia and Herzegovina\",\"Bulgaria\",\"Croatia\",\"Cyprus\",\"Denmark\",\"Estonia\",\"Finland\",\"France\",\"Greece\",\"Hungary\",\"Iceland\",\"Ireland\",\"Italy\",\"Latvia\",\"Liechtenstein\",\"Lithuania\",\"Luxembourg\",\"Malta\",\"Montenegro\",\"North Macedonia\",\"Norway\",\"Poland\",\"Portugal\",\"Romania\",\"Slovakia\",\"Slovenia\",\"Spain\",\"Sweden\",\"Switzerland\",\"Ukraine\"],\"locations\":[\"ALB\",\"AUT\",\"BLR\",\"BEL\",\"BIH\",\"BGR\",\"HRV\",\"CYP\",\"DNK\",\"EST\",\"FIN\",\"FRA\",\"GRC\",\"HUN\",\"ISL\",\"IRL\",\"ITA\",\"LVA\",\"LIE\",\"LTU\",\"LUX\",\"MLT\",\"MNE\",\"MKD\",\"NOR\",\"POL\",\"PRT\",\"ROU\",\"SVK\",\"SVN\",\"ESP\",\"SWE\",\"CHE\",\"UKR\"],\"name\":\"\",\"z\":[56,25475,683,16811,10315,4479,2442,926,36650,0,11827,145996,2292,8068,254,7904,26870,22,274,527,2206,2407,6926,1239,43315,6786,322,1636,235,249,5269,79895,48508,2267],\"type\":\"choropleth\"}],\"name\":\"2006\"},{\"data\":[{\"coloraxis\":\"coloraxis\",\"geo\":\"geo\",\"hovertemplate\":\"\\u003cb\\u003e%{hovertext}\\u003c\\u002fb\\u003e\\u003cbr\\u003e\\u003cbr\\u003eYear=2007\\u003cbr\\u003eCountry of asylum (ISO)=%{location}\\u003cbr\\u003eNumber of Refugees=%{z}\\u003cextra\\u003e\\u003c\\u002fextra\\u003e\",\"hovertext\":[\"Albania\",\"Austria\",\"Belarus\",\"Belgium\",\"Bosnia and Herzegovina\",\"Bulgaria\",\"Croatia\",\"Cyprus\",\"Denmark\",\"Estonia\",\"Finland\",\"France\",\"Greece\",\"Hungary\",\"Iceland\",\"Ireland\",\"Italy\",\"Latvia\",\"Liechtenstein\",\"Lithuania\",\"Luxembourg\",\"Malta\",\"Montenegro\",\"North Macedonia\",\"Norway\",\"Poland\",\"Portugal\",\"Romania\",\"Slovakia\",\"Slovenia\",\"Spain\",\"Sweden\",\"Switzerland\",\"Ukraine\"],\"locations\":[\"ALB\",\"AUT\",\"BLR\",\"BEL\",\"BIH\",\"BGR\",\"HRV\",\"CYP\",\"DNK\",\"EST\",\"FIN\",\"FRA\",\"GRC\",\"HUN\",\"ISL\",\"IRL\",\"ITA\",\"LVA\",\"LIE\",\"LTU\",\"LUX\",\"MLT\",\"MNE\",\"MKD\",\"NOR\",\"POL\",\"PRT\",\"ROU\",\"SVK\",\"SVN\",\"ESP\",\"SWE\",\"CHE\",\"UKR\"],\"name\":\"\",\"z\":[68,30767,643,17578,7364,4808,1641,1194,26779,6,6201,151789,2228,8124,41,9318,38061,27,278,688,2737,3003,8527,1234,34499,10037,346,1741,265,255,5143,75055,45642,7272],\"type\":\"choropleth\"}],\"name\":\"2007\"},{\"data\":[{\"coloraxis\":\"coloraxis\",\"geo\":\"geo\",\"hovertemplate\":\"\\u003cb\\u003e%{hovertext}\\u003c\\u002fb\\u003e\\u003cbr\\u003e\\u003cbr\\u003eYear=2008\\u003cbr\\u003eCountry of asylum (ISO)=%{location}\\u003cbr\\u003eNumber of Refugees=%{z}\\u003cextra\\u003e\\u003c\\u002fextra\\u003e\",\"hovertext\":[\"Albania\",\"Austria\",\"Belarus\",\"Belgium\",\"Bosnia and Herzegovina\",\"Bulgaria\",\"Croatia\",\"Cyprus\",\"Denmark\",\"Estonia\",\"Finland\",\"France\",\"Greece\",\"Hungary\",\"Iceland\",\"Ireland\",\"Italy\",\"Latvia\",\"Liechtenstein\",\"Lithuania\",\"Luxembourg\",\"Malta\",\"Montenegro\",\"North Macedonia\",\"Norway\",\"Poland\",\"Portugal\",\"Romania\",\"Slovakia\",\"Slovenia\",\"Spain\",\"Sweden\",\"Switzerland\",\"Ukraine\"],\"locations\":[\"ALB\",\"AUT\",\"BLR\",\"BEL\",\"BIH\",\"BGR\",\"HRV\",\"CYP\",\"DNK\",\"EST\",\"FIN\",\"FRA\",\"GRC\",\"HUN\",\"ISL\",\"IRL\",\"ITA\",\"LVA\",\"LIE\",\"LTU\",\"LUX\",\"MLT\",\"MNE\",\"MKD\",\"NOR\",\"POL\",\"PRT\",\"ROU\",\"SVK\",\"SVN\",\"ESP\",\"SWE\",\"CHE\",\"UKR\"],\"name\":\"\",\"z\":[57,37546,602,17025,7254,5108,1591,1458,23385,16,6621,171206,2169,7740,39,9714,47059,27,84,749,3109,4329,24739,1671,36076,12761,393,1586,301,257,4649,77016,46131,7189],\"type\":\"choropleth\"}],\"name\":\"2008\"},{\"data\":[{\"coloraxis\":\"coloraxis\",\"geo\":\"geo\",\"hovertemplate\":\"\\u003cb\\u003e%{hovertext}\\u003c\\u002fb\\u003e\\u003cbr\\u003e\\u003cbr\\u003eYear=2009\\u003cbr\\u003eCountry of asylum (ISO)=%{location}\\u003cbr\\u003eNumber of Refugees=%{z}\\u003cextra\\u003e\\u003c\\u002fextra\\u003e\",\"hovertext\":[\"Albania\",\"Austria\",\"Belarus\",\"Belgium\",\"Bosnia and Herzegovina\",\"Bulgaria\",\"Croatia\",\"Cyprus\",\"Denmark\",\"Estonia\",\"Finland\",\"France\",\"Greece\",\"Hungary\",\"Iceland\",\"Ireland\",\"Italy\",\"Latvia\",\"Liechtenstein\",\"Lithuania\",\"Luxembourg\",\"Malta\",\"Montenegro\",\"North Macedonia\",\"Norway\",\"Poland\",\"Portugal\",\"Romania\",\"Slovakia\",\"Slovenia\",\"Spain\",\"Sweden\",\"Switzerland\",\"Ukraine\"],\"locations\":[\"ALB\",\"AUT\",\"BLR\",\"BEL\",\"BIH\",\"BGR\",\"HRV\",\"CYP\",\"DNK\",\"EST\",\"FIN\",\"FRA\",\"GRC\",\"HUN\",\"ISL\",\"IRL\",\"ITA\",\"LVA\",\"LIE\",\"LTU\",\"LUX\",\"MLT\",\"MNE\",\"MKD\",\"NOR\",\"POL\",\"PRT\",\"ROU\",\"SVK\",\"SVN\",\"ESP\",\"SWE\",\"CHE\",\"UKR\"],\"name\":\"\",\"z\":[69,38895,578,15536,7130,5375,1240,2888,20340,16,7448,196364,1700,6041,58,9561,54962,40,86,790,3230,5951,24017,1541,37806,15299,383,1065,387,281,3960,81346,46204,7321],\"type\":\"choropleth\"}],\"name\":\"2009\"},{\"data\":[{\"coloraxis\":\"coloraxis\",\"geo\":\"geo\",\"hovertemplate\":\"\\u003cb\\u003e%{hovertext}\\u003c\\u002fb\\u003e\\u003cbr\\u003e\\u003cbr\\u003eYear=2010\\u003cbr\\u003eCountry of asylum (ISO)=%{location}\\u003cbr\\u003eNumber of Refugees=%{z}\\u003cextra\\u003e\\u003c\\u002fextra\\u003e\",\"hovertext\":[\"Albania\",\"Austria\",\"Belarus\",\"Belgium\",\"Bosnia and Herzegovina\",\"Bulgaria\",\"Croatia\",\"Cyprus\",\"Denmark\",\"Estonia\",\"Finland\",\"France\",\"Greece\",\"Hungary\",\"Iceland\",\"Ireland\",\"Italy\",\"Latvia\",\"Liechtenstein\",\"Lithuania\",\"Luxembourg\",\"Malta\",\"Montenegro\",\"North Macedonia\",\"Norway\",\"Poland\",\"Portugal\",\"Romania\",\"Slovakia\",\"Slovenia\",\"Spain\",\"Sweden\",\"Switzerland\",\"Ukraine\"],\"locations\":[\"ALB\",\"AUT\",\"BLR\",\"BEL\",\"BIH\",\"BGR\",\"HRV\",\"CYP\",\"DNK\",\"EST\",\"FIN\",\"FRA\",\"GRC\",\"HUN\",\"ISL\",\"IRL\",\"ITA\",\"LVA\",\"LIE\",\"LTU\",\"LUX\",\"MLT\",\"MNE\",\"MKD\",\"NOR\",\"POL\",\"PRT\",\"ROU\",\"SVK\",\"SVN\",\"ESP\",\"SWE\",\"CHE\",\"UKR\"],\"name\":\"\",\"z\":[75,42613,587,17891,7014,5519,933,3397,17907,31,8721,200687,1443,5400,72,9099,56402,60,86,808,3254,6143,16363,1397,40245,15537,368,1019,451,315,3814,82620,48813,3016],\"type\":\"choropleth\"}],\"name\":\"2010\"},{\"data\":[{\"coloraxis\":\"coloraxis\",\"geo\":\"geo\",\"hovertemplate\":\"\\u003cb\\u003e%{hovertext}\\u003c\\u002fb\\u003e\\u003cbr\\u003e\\u003cbr\\u003eYear=2011\\u003cbr\\u003eCountry of asylum (ISO)=%{location}\\u003cbr\\u003eNumber of Refugees=%{z}\\u003cextra\\u003e\\u003c\\u002fextra\\u003e\",\"hovertext\":[\"Albania\",\"Austria\",\"Belarus\",\"Belgium\",\"Bosnia and Herzegovina\",\"Bulgaria\",\"Croatia\",\"Cyprus\",\"Denmark\",\"Estonia\",\"Finland\",\"France\",\"Greece\",\"Hungary\",\"Iceland\",\"Ireland\",\"Italy\",\"Latvia\",\"Liechtenstein\",\"Lithuania\",\"Luxembourg\",\"Malta\",\"Monaco\",\"Montenegro\",\"North Macedonia\",\"Norway\",\"Poland\",\"Portugal\",\"Romania\",\"Slovakia\",\"Slovenia\",\"Spain\",\"Sweden\",\"Switzerland\",\"Ukraine\"],\"locations\":[\"ALB\",\"AUT\",\"BLR\",\"BEL\",\"BIH\",\"BGR\",\"HRV\",\"CYP\",\"DNK\",\"EST\",\"FIN\",\"FRA\",\"GRC\",\"HUN\",\"ISL\",\"IRL\",\"ITA\",\"LVA\",\"LIE\",\"LTU\",\"LUX\",\"MLT\",\"MCO\",\"MNE\",\"MKD\",\"NOR\",\"POL\",\"PRT\",\"ROU\",\"SVK\",\"SVN\",\"ESP\",\"SWE\",\"CHE\",\"UKR\"],\"name\":\"\",\"z\":[79,47055,594,22396,6932,5676,818,3498,13386,34,9170,210207,1566,5085,55,8234,58066,88,88,824,2855,6948,37,12871,1129,40671,15834,399,1003,535,134,4220,86603,50401,3168],\"type\":\"choropleth\"}],\"name\":\"2011\"},{\"data\":[{\"coloraxis\":\"coloraxis\",\"geo\":\"geo\",\"hovertemplate\":\"\\u003cb\\u003e%{hovertext}\\u003c\\u002fb\\u003e\\u003cbr\\u003e\\u003cbr\\u003eYear=2012\\u003cbr\\u003eCountry of asylum (ISO)=%{location}\\u003cbr\\u003eNumber of Refugees=%{z}\\u003cextra\\u003e\\u003c\\u002fextra\\u003e\",\"hovertext\":[\"Albania\",\"Austria\",\"Belarus\",\"Belgium\",\"Bosnia and Herzegovina\",\"Bulgaria\",\"Croatia\",\"Cyprus\",\"Denmark\",\"Estonia\",\"Finland\",\"France\",\"Greece\",\"Hungary\",\"Iceland\",\"Ireland\",\"Italy\",\"Latvia\",\"Liechtenstein\",\"Lithuania\",\"Luxembourg\",\"Malta\",\"Monaco\",\"Montenegro\",\"North Macedonia\",\"Norway\",\"Poland\",\"Portugal\",\"Romania\",\"Slovakia\",\"Slovenia\",\"Spain\",\"Sweden\",\"Switzerland\",\"Ukraine\"],\"locations\":[\"ALB\",\"AUT\",\"BLR\",\"BEL\",\"BIH\",\"BGR\",\"HRV\",\"CYP\",\"DNK\",\"EST\",\"FIN\",\"FRA\",\"GRC\",\"HUN\",\"ISL\",\"IRL\",\"ITA\",\"LVA\",\"LIE\",\"LTU\",\"LUX\",\"MLT\",\"MCO\",\"MNE\",\"MKD\",\"NOR\",\"POL\",\"PRT\",\"ROU\",\"SVK\",\"SVN\",\"ESP\",\"SWE\",\"CHE\",\"UKR\"],\"name\":\"\",\"z\":[84,51707,572,22023,6904,2273,722,3627,11797,48,9910,217865,2090,4034,55,6309,64782,113,103,871,2910,8242,37,11193,1076,42805,15897,473,1263,650,169,4502,92869,50733,2790],\"type\":\"choropleth\"}],\"name\":\"2012\"},{\"data\":[{\"coloraxis\":\"coloraxis\",\"geo\":\"geo\",\"hovertemplate\":\"\\u003cb\\u003e%{hovertext}\\u003c\\u002fb\\u003e\\u003cbr\\u003e\\u003cbr\\u003eYear=2013\\u003cbr\\u003eCountry of asylum (ISO)=%{location}\\u003cbr\\u003eNumber of Refugees=%{z}\\u003cextra\\u003e\\u003c\\u002fextra\\u003e\",\"hovertext\":[\"Albania\",\"Austria\",\"Belarus\",\"Belgium\",\"Bosnia and Herzegovina\",\"Bulgaria\",\"Croatia\",\"Cyprus\",\"Denmark\",\"Estonia\",\"Finland\",\"France\",\"Greece\",\"Hungary\",\"Iceland\",\"Ireland\",\"Italy\",\"Latvia\",\"Liechtenstein\",\"Lithuania\",\"Luxembourg\",\"Malta\",\"Monaco\",\"Montenegro\",\"North Macedonia\",\"Norway\",\"Poland\",\"Portugal\",\"Romania\",\"Slovakia\",\"Slovenia\",\"Spain\",\"Sweden\",\"Switzerland\",\"Ukraine\"],\"locations\":[\"ALB\",\"AUT\",\"BLR\",\"BEL\",\"BIH\",\"BGR\",\"HRV\",\"CYP\",\"DNK\",\"EST\",\"FIN\",\"FRA\",\"GRC\",\"HUN\",\"ISL\",\"IRL\",\"ITA\",\"LVA\",\"LIE\",\"LTU\",\"LUX\",\"MLT\",\"MCO\",\"MNE\",\"MKD\",\"NOR\",\"POL\",\"PRT\",\"ROU\",\"SVK\",\"SVN\",\"ESP\",\"SWE\",\"CHE\",\"UKR\"],\"name\":\"\",\"z\":[96,55575,599,25617,6924,4305,679,3879,13153,52,11242,232487,3468,2422,72,5991,76248,149,96,918,901,9900,34,8471,980,46088,16428,596,1747,691,202,4641,114172,52448,2956],\"type\":\"choropleth\"}],\"name\":\"2013\"},{\"data\":[{\"coloraxis\":\"coloraxis\",\"geo\":\"geo\",\"hovertemplate\":\"\\u003cb\\u003e%{hovertext}\\u003c\\u002fb\\u003e\\u003cbr\\u003e\\u003cbr\\u003eYear=2014\\u003cbr\\u003eCountry of asylum (ISO)=%{location}\\u003cbr\\u003eNumber of Refugees=%{z}\\u003cextra\\u003e\\u003c\\u002fextra\\u003e\",\"hovertext\":[\"Albania\",\"Austria\",\"Belarus\",\"Belgium\",\"Bosnia and Herzegovina\",\"Bulgaria\",\"Croatia\",\"Cyprus\",\"Denmark\",\"Estonia\",\"Finland\",\"France\",\"Greece\",\"Hungary\",\"Iceland\",\"Ireland\",\"Italy\",\"Latvia\",\"Liechtenstein\",\"Lithuania\",\"Luxembourg\",\"Malta\",\"Monaco\",\"Montenegro\",\"North Macedonia\",\"Norway\",\"Poland\",\"Portugal\",\"Romania\",\"Slovakia\",\"Slovenia\",\"Spain\",\"Sweden\",\"Switzerland\",\"Ukraine\"],\"locations\":[\"ALB\",\"AUT\",\"BLR\",\"BEL\",\"BIH\",\"BGR\",\"HRV\",\"CYP\",\"DNK\",\"EST\",\"FIN\",\"FRA\",\"GRC\",\"HUN\",\"ISL\",\"IRL\",\"ITA\",\"LVA\",\"LIE\",\"LTU\",\"LUX\",\"MLT\",\"MCO\",\"MNE\",\"MKD\",\"NOR\",\"POL\",\"PRT\",\"ROU\",\"SVK\",\"SVN\",\"ESP\",\"SWE\",\"CHE\",\"UKR\"],\"name\":\"\",\"z\":[111,60724,919,29170,6883,11026,724,5120,17767,82,11783,252248,10292,2854,93,5832,93712,168,102,1007,1091,6095,33,6455,880,47025,15730,704,2171,791,251,5797,142197,62596,3206],\"type\":\"choropleth\"}],\"name\":\"2014\"},{\"data\":[{\"coloraxis\":\"coloraxis\",\"geo\":\"geo\",\"hovertemplate\":\"\\u003cb\\u003e%{hovertext}\\u003c\\u002fb\\u003e\\u003cbr\\u003e\\u003cbr\\u003eYear=2015\\u003cbr\\u003eCountry of asylum (ISO)=%{location}\\u003cbr\\u003eNumber of Refugees=%{z}\\u003cextra\\u003e\\u003c\\u002fextra\\u003e\",\"hovertext\":[\"Albania\",\"Austria\",\"Belarus\",\"Belgium\",\"Bosnia and Herzegovina\",\"Bulgaria\",\"Croatia\",\"Cyprus\",\"Denmark\",\"Estonia\",\"Finland\",\"France\",\"Greece\",\"Hungary\",\"Iceland\",\"Ireland\",\"Italy\",\"Latvia\",\"Liechtenstein\",\"Lithuania\",\"Luxembourg\",\"Malta\",\"Monaco\",\"Montenegro\",\"North Macedonia\",\"Norway\",\"Poland\",\"Portugal\",\"Romania\",\"Slovakia\",\"Slovenia\",\"Spain\",\"Sweden\",\"Switzerland\",\"Ukraine\"],\"locations\":[\"ALB\",\"AUT\",\"BLR\",\"BEL\",\"BIH\",\"BGR\",\"HRV\",\"CYP\",\"DNK\",\"EST\",\"FIN\",\"FRA\",\"GRC\",\"HUN\",\"ISL\",\"IRL\",\"ITA\",\"LVA\",\"LIE\",\"LTU\",\"LUX\",\"MLT\",\"MCO\",\"MNE\",\"MKD\",\"NOR\",\"POL\",\"PRT\",\"ROU\",\"SVK\",\"SVN\",\"ESP\",\"SWE\",\"CHE\",\"UKR\"],\"name\":\"\",\"z\":[109,72198,1805,35302,6789,16543,517,7062,27312,158,12692,273117,24831,4383,170,6108,118036,193,146,1094,1306,7068,32,1762,697,50377,14057,851,2581,816,284,6447,169516,73326,3261],\"type\":\"choropleth\"}],\"name\":\"2015\"},{\"data\":[{\"coloraxis\":\"coloraxis\",\"geo\":\"geo\",\"hovertemplate\":\"\\u003cb\\u003e%{hovertext}\\u003c\\u002fb\\u003e\\u003cbr\\u003e\\u003cbr\\u003eYear=2016\\u003cbr\\u003eCountry of asylum (ISO)=%{location}\\u003cbr\\u003eNumber of Refugees=%{z}\\u003cextra\\u003e\\u003c\\u002fextra\\u003e\",\"hovertext\":[\"Albania\",\"Austria\",\"Belarus\",\"Belgium\",\"Bosnia and Herzegovina\",\"Bulgaria\",\"Croatia\",\"Cyprus\",\"Denmark\",\"Estonia\",\"Finland\",\"France\",\"Greece\",\"Hungary\",\"Iceland\",\"Ireland\",\"Italy\",\"Latvia\",\"Liechtenstein\",\"Lithuania\",\"Luxembourg\",\"Malta\",\"Monaco\",\"Montenegro\",\"North Macedonia\",\"Norway\",\"Poland\",\"Portugal\",\"Romania\",\"Slovakia\",\"Slovenia\",\"Spain\",\"Sweden\",\"Switzerland\",\"Ukraine\"],\"locations\":[\"ALB\",\"AUT\",\"BLR\",\"BEL\",\"BIH\",\"BGR\",\"HRV\",\"CYP\",\"DNK\",\"EST\",\"FIN\",\"FRA\",\"GRC\",\"HUN\",\"ISL\",\"IRL\",\"ITA\",\"LVA\",\"LIE\",\"LTU\",\"LUX\",\"MLT\",\"MCO\",\"MNE\",\"MKD\",\"NOR\",\"POL\",\"PRT\",\"ROU\",\"SVK\",\"SVN\",\"ESP\",\"SWE\",\"CHE\",\"UKR\"],\"name\":\"\",\"z\":[141,93242,1647,42158,5266,17794,300,8478,33501,312,18402,304527,46411,4736,245,5720,147362,340,161,1284,2020,7941,27,970,634,59512,11738,1189,2880,980,454,12983,230158,82668,3292],\"type\":\"choropleth\"}],\"name\":\"2016\"},{\"data\":[{\"coloraxis\":\"coloraxis\",\"geo\":\"geo\",\"hovertemplate\":\"\\u003cb\\u003e%{hovertext}\\u003c\\u002fb\\u003e\\u003cbr\\u003e\\u003cbr\\u003eYear=2017\\u003cbr\\u003eCountry of asylum (ISO)=%{location}\\u003cbr\\u003eNumber of Refugees=%{z}\\u003cextra\\u003e\\u003c\\u002fextra\\u003e\",\"hovertext\":[\"Albania\",\"Austria\",\"Belarus\",\"Belgium\",\"Bosnia and Herzegovina\",\"Bulgaria\",\"Croatia\",\"Cyprus\",\"Denmark\",\"Estonia\",\"Finland\",\"France\",\"Greece\",\"Hungary\",\"Iceland\",\"Ireland\",\"Italy\",\"Latvia\",\"Liechtenstein\",\"Lithuania\",\"Luxembourg\",\"Malta\",\"Monaco\",\"Montenegro\",\"North Macedonia\",\"Norway\",\"Poland\",\"Portugal\",\"Romania\",\"Slovakia\",\"Slovenia\",\"Spain\",\"Sweden\",\"Switzerland\",\"Ukraine\"],\"locations\":[\"ALB\",\"AUT\",\"BLR\",\"BEL\",\"BIH\",\"BGR\",\"HRV\",\"CYP\",\"DNK\",\"EST\",\"FIN\",\"FRA\",\"GRC\",\"HUN\",\"ISL\",\"IRL\",\"ITA\",\"LVA\",\"LIE\",\"LTU\",\"LUX\",\"MLT\",\"MCO\",\"MNE\",\"MKD\",\"NOR\",\"POL\",\"PRT\",\"ROU\",\"SVK\",\"SVN\",\"ESP\",\"SWE\",\"CHE\",\"UKR\"],\"name\":\"\",\"z\":[124,115252,2155,42158,5224,19166,508,9790,35668,405,20793,337158,38988,5671,361,6394,167330,653,164,1577,2020,7994,25,794,414,59230,12225,1619,3911,912,611,17541,240954,93030,3241],\"type\":\"choropleth\"}],\"name\":\"2017\"},{\"data\":[{\"coloraxis\":\"coloraxis\",\"geo\":\"geo\",\"hovertemplate\":\"\\u003cb\\u003e%{hovertext}\\u003c\\u002fb\\u003e\\u003cbr\\u003e\\u003cbr\\u003eYear=2018\\u003cbr\\u003eCountry of asylum (ISO)=%{location}\\u003cbr\\u003eNumber of Refugees=%{z}\\u003cextra\\u003e\\u003c\\u002fextra\\u003e\",\"hovertext\":[\"Albania\",\"Austria\",\"Belarus\",\"Belgium\",\"Bosnia and Herzegovina\",\"Bulgaria\",\"Croatia\",\"Cyprus\",\"Denmark\",\"Estonia\",\"Finland\",\"France\",\"Greece\",\"Hungary\",\"Iceland\",\"Ireland\",\"Italy\",\"Latvia\",\"Liechtenstein\",\"Lithuania\",\"Luxembourg\",\"Malta\",\"Monaco\",\"Montenegro\",\"North Macedonia\",\"Norway\",\"Poland\",\"Portugal\",\"Romania\",\"Slovakia\",\"Slovenia\",\"Spain\",\"Sweden\",\"Switzerland\",\"Ukraine\"],\"locations\":[\"ALB\",\"AUT\",\"BLR\",\"BEL\",\"BIH\",\"BGR\",\"HRV\",\"CYP\",\"DNK\",\"EST\",\"FIN\",\"FRA\",\"GRC\",\"HUN\",\"ISL\",\"IRL\",\"ITA\",\"LVA\",\"LIE\",\"LTU\",\"LUX\",\"MLT\",\"MCO\",\"MNE\",\"MKD\",\"NOR\",\"POL\",\"PRT\",\"ROU\",\"SVK\",\"SVN\",\"ESP\",\"SWE\",\"CHE\",\"UKR\"],\"name\":\"\",\"z\":[132,128779,2225,42158,5227,19906,787,11002,36623,319,22287,368345,61446,6019,549,6012,189227,664,166,1731,2020,8579,25,727,413,57004,12495,2130,4134,938,746,20437,248210,104011,2606],\"type\":\"choropleth\"}],\"name\":\"2018\"},{\"data\":[{\"coloraxis\":\"coloraxis\",\"geo\":\"geo\",\"hovertemplate\":\"\\u003cb\\u003e%{hovertext}\\u003c\\u002fb\\u003e\\u003cbr\\u003e\\u003cbr\\u003eYear=2019\\u003cbr\\u003eCountry of asylum (ISO)=%{location}\\u003cbr\\u003eNumber of Refugees=%{z}\\u003cextra\\u003e\\u003c\\u002fextra\\u003e\",\"hovertext\":[\"Albania\",\"Austria\",\"Belarus\",\"Belgium\",\"Bosnia and Herzegovina\",\"Bulgaria\",\"Croatia\",\"Cyprus\",\"Denmark\",\"Estonia\",\"Finland\",\"France\",\"Greece\",\"Hungary\",\"Iceland\",\"Ireland\",\"Italy\",\"Latvia\",\"Liechtenstein\",\"Lithuania\",\"Luxembourg\",\"Malta\",\"Monaco\",\"Montenegro\",\"North Macedonia\",\"Norway\",\"Poland\",\"Portugal\",\"Romania\",\"Slovakia\",\"Slovenia\",\"Spain\",\"Sweden\",\"Switzerland\",\"Ukraine\"],\"locations\":[\"ALB\",\"AUT\",\"BLR\",\"BEL\",\"BIH\",\"BGR\",\"HRV\",\"CYP\",\"DNK\",\"EST\",\"FIN\",\"FRA\",\"GRC\",\"HUN\",\"ISL\",\"IRL\",\"ITA\",\"LVA\",\"LIE\",\"LTU\",\"LUX\",\"MLT\",\"MCO\",\"MNE\",\"MKD\",\"NOR\",\"POL\",\"PRT\",\"ROU\",\"SVK\",\"SVN\",\"ESP\",\"SWE\",\"CHE\",\"UKR\"],\"name\":\"\",\"z\":[120,135951,2725,61662,5241,20438,916,12311,37533,331,23458,407915,80454,5750,894,7795,207602,665,125,1822,2548,8908,22,653,354,53882,12658,2375,3860,965,741,57751,253787,110162,2166],\"type\":\"choropleth\"}],\"name\":\"2019\"},{\"data\":[{\"coloraxis\":\"coloraxis\",\"geo\":\"geo\",\"hovertemplate\":\"\\u003cb\\u003e%{hovertext}\\u003c\\u002fb\\u003e\\u003cbr\\u003e\\u003cbr\\u003eYear=2020\\u003cbr\\u003eCountry of asylum (ISO)=%{location}\\u003cbr\\u003eNumber of Refugees=%{z}\\u003cextra\\u003e\\u003c\\u002fextra\\u003e\",\"hovertext\":[\"Albania\",\"Austria\",\"Belarus\",\"Belgium\",\"Bosnia and Herzegovina\",\"Bulgaria\",\"Croatia\",\"Cyprus\",\"Denmark\",\"Estonia\",\"Finland\",\"France\",\"Greece\",\"Hungary\",\"Iceland\",\"Ireland\",\"Italy\",\"Latvia\",\"Liechtenstein\",\"Lithuania\",\"Luxembourg\",\"Malta\",\"Monaco\",\"Montenegro\",\"North Macedonia\",\"Norway\",\"Poland\",\"Portugal\",\"Romania\",\"Slovakia\",\"Slovenia\",\"Spain\",\"Sweden\",\"Switzerland\",\"Ukraine\"],\"locations\":[\"ALB\",\"AUT\",\"BLR\",\"BEL\",\"BIH\",\"BGR\",\"HRV\",\"CYP\",\"DNK\",\"EST\",\"FIN\",\"FRA\",\"GRC\",\"HUN\",\"ISL\",\"IRL\",\"ITA\",\"LVA\",\"LIE\",\"LTU\",\"LUX\",\"MLT\",\"MCO\",\"MNE\",\"MKD\",\"NOR\",\"POL\",\"PRT\",\"ROU\",\"SVK\",\"SVN\",\"ESP\",\"SWE\",\"CHE\",\"UKR\"],\"name\":\"\",\"z\":[105,141816,2900,64973,5232,21113,956,13997,36643,277,23428,436055,103101,5838,1460,9035,128033,637,129,1880,5158,9168,22,166,303,49653,2771,2405,3581,1006,823,103624,248372,115798,2249],\"type\":\"choropleth\"}],\"name\":\"2020\"},{\"data\":[{\"coloraxis\":\"coloraxis\",\"geo\":\"geo\",\"hovertemplate\":\"\\u003cb\\u003e%{hovertext}\\u003c\\u002fb\\u003e\\u003cbr\\u003e\\u003cbr\\u003eYear=2021\\u003cbr\\u003eCountry of asylum (ISO)=%{location}\\u003cbr\\u003eNumber of Refugees=%{z}\\u003cextra\\u003e\\u003c\\u002fextra\\u003e\",\"hovertext\":[\"Albania\",\"Austria\",\"Belarus\",\"Belgium\",\"Bosnia and Herzegovina\",\"Bulgaria\",\"Croatia\",\"Cyprus\",\"Denmark\",\"Estonia\",\"Finland\",\"France\",\"Greece\",\"Hungary\",\"Iceland\",\"Ireland\",\"Italy\",\"Latvia\",\"Liechtenstein\",\"Lithuania\",\"Luxembourg\",\"Malta\",\"Monaco\",\"Montenegro\",\"North Macedonia\",\"Norway\",\"Poland\",\"Portugal\",\"Romania\",\"Slovakia\",\"Slovenia\",\"Spain\",\"Sweden\",\"Switzerland\",\"Ukraine\"],\"locations\":[\"ALB\",\"AUT\",\"BLR\",\"BEL\",\"BIH\",\"BGR\",\"HRV\",\"CYP\",\"DNK\",\"EST\",\"FIN\",\"FRA\",\"GRC\",\"HUN\",\"ISL\",\"IRL\",\"ITA\",\"LVA\",\"LIE\",\"LTU\",\"LUX\",\"MLT\",\"MCO\",\"MNE\",\"MKD\",\"NOR\",\"POL\",\"PRT\",\"ROU\",\"SVK\",\"SVN\",\"ESP\",\"SWE\",\"CHE\",\"UKR\"],\"name\":\"\",\"z\":[109,152514,2729,74063,240,22830,1020,16277,36023,321,24078,499914,119650,5676,1830,9571,144862,705,133,1880,6011,9335,17,175,292,46042,4875,2651,4200,1046,839,122539,240854,118829,2382],\"type\":\"choropleth\"}],\"name\":\"2021\"},{\"data\":[{\"coloraxis\":\"coloraxis\",\"geo\":\"geo\",\"hovertemplate\":\"\\u003cb\\u003e%{hovertext}\\u003c\\u002fb\\u003e\\u003cbr\\u003e\\u003cbr\\u003eYear=2022\\u003cbr\\u003eCountry of asylum (ISO)=%{location}\\u003cbr\\u003eNumber of Refugees=%{z}\\u003cextra\\u003e\\u003c\\u002fextra\\u003e\",\"hovertext\":[\"Albania\",\"Austria\",\"Belarus\",\"Belgium\",\"Bosnia and Herzegovina\",\"Bulgaria\",\"Croatia\",\"Cyprus\",\"Denmark\",\"Estonia\",\"Finland\",\"France\",\"Greece\",\"Hungary\",\"Iceland\",\"Ireland\",\"Italy\",\"Latvia\",\"Liechtenstein\",\"Lithuania\",\"Luxembourg\",\"Malta\",\"Monaco\",\"Montenegro\",\"North Macedonia\",\"Norway\",\"Poland\",\"Portugal\",\"Romania\",\"Slovakia\",\"Slovenia\",\"Spain\",\"Sweden\",\"Switzerland\",\"Ukraine\"],\"locations\":[\"ALB\",\"AUT\",\"BLR\",\"BEL\",\"BIH\",\"BGR\",\"HRV\",\"CYP\",\"DNK\",\"EST\",\"FIN\",\"FRA\",\"GRC\",\"HUN\",\"ISL\",\"IRL\",\"ITA\",\"LVA\",\"LIE\",\"LTU\",\"LUX\",\"MLT\",\"MCO\",\"MNE\",\"MKD\",\"NOR\",\"POL\",\"PRT\",\"ROU\",\"SVK\",\"SVN\",\"ESP\",\"SWE\",\"CHE\",\"UKR\"],\"name\":\"\",\"z\":[2676,258613,19715,150713,274,176297,20638,29280,67772,40806,69553,612934,160761,35370,5240,81256,296181,39055,524,67638,11952,11098,17,32438,7065,75311,971129,59777,105621,96563,8705,314490,277726,182474,2520],\"type\":\"choropleth\"}],\"name\":\"2022\"},{\"data\":[{\"coloraxis\":\"coloraxis\",\"geo\":\"geo\",\"hovertemplate\":\"\\u003cb\\u003e%{hovertext}\\u003c\\u002fb\\u003e\\u003cbr\\u003e\\u003cbr\\u003eYear=2023\\u003cbr\\u003eCountry of asylum (ISO)=%{location}\\u003cbr\\u003eNumber of Refugees=%{z}\\u003cextra\\u003e\\u003c\\u002fextra\\u003e\",\"hovertext\":[\"Albania\",\"Austria\",\"Belarus\",\"Belgium\",\"Bosnia and Herzegovina\",\"Bulgaria\",\"Croatia\",\"Cyprus\",\"Denmark\",\"Estonia\",\"Finland\",\"France\",\"Greece\",\"Hungary\",\"Iceland\",\"Ireland\",\"Italy\",\"Latvia\",\"Liechtenstein\",\"Lithuania\",\"Luxembourg\",\"Malta\",\"Monaco\",\"Montenegro\",\"North Macedonia\",\"Norway\",\"Poland\",\"Portugal\",\"Romania\",\"Slovakia\",\"Slovenia\",\"Spain\",\"Sweden\",\"Switzerland\",\"Ukraine\"],\"locations\":[\"ALB\",\"AUT\",\"BLR\",\"BEL\",\"BIH\",\"BGR\",\"HRV\",\"CYP\",\"DNK\",\"EST\",\"FIN\",\"FRA\",\"GRC\",\"HUN\",\"ISL\",\"IRL\",\"ITA\",\"LVA\",\"LIE\",\"LTU\",\"LUX\",\"MLT\",\"MCO\",\"MNE\",\"MKD\",\"NOR\",\"POL\",\"PRT\",\"ROU\",\"SVK\",\"SVN\",\"ESP\",\"SWE\",\"CHE\",\"UKR\"],\"name\":\"\",\"z\":[3828,277158,31602,156921,310,189577,23789,33872,69337,40371,80189,641626,169393,57939,6193,99048,308663,45237,605,73170,10639,11413,17,40597,8252,86449,989877,59311,139081,105104,10684,369722,258117,189100,2532],\"type\":\"choropleth\"}],\"name\":\"2023\"}]);\n",
       "                        }).then(function(){\n",
       "                            \n",
       "var gd = document.getElementById('db9a74e4-171d-4b39-bb71-1b2f0e99e305');\n",
       "var x = new MutationObserver(function (mutations, observer) {{\n",
       "        var display = window.getComputedStyle(gd).display;\n",
       "        if (!display || display === 'none') {{\n",
       "            console.log([gd, 'removed!']);\n",
       "            Plotly.purge(gd);\n",
       "            observer.disconnect();\n",
       "        }}\n",
       "}});\n",
       "\n",
       "// Listen for the removal of the full notebook cells\n",
       "var notebookContainer = gd.closest('#notebook-container');\n",
       "if (notebookContainer) {{\n",
       "    x.observe(notebookContainer, {childList: true});\n",
       "}}\n",
       "\n",
       "// Listen for the clearing of the current output cell\n",
       "var outputEl = gd.closest('.output');\n",
       "if (outputEl) {{\n",
       "    x.observe(outputEl, {childList: true});\n",
       "}}\n",
       "\n",
       "                        })                };                });            </script>        </div>"
      ]
     },
     "metadata": {},
     "output_type": "display_data"
    }
   ],
   "source": [
    "\n",
    "# Aggregate the data by Country of asylum and Year\n",
    "agg_df = df.groupby(['Year', 'Country of asylum', 'Country of asylum (ISO)'])['Refugees under UNHCR\\'s mandate'].sum().reset_index()\n",
    "\n",
    "# Create the choropleth map\n",
    "fig = px.choropleth(\n",
    "    agg_df,\n",
    "    locations=\"Country of asylum (ISO)\",\n",
    "    color=\"Refugees under UNHCR's mandate\",\n",
    "    hover_name=\"Country of asylum\",\n",
    "    animation_frame=\"Year\",\n",
    "    color_continuous_scale=px.colors.sequential.Plasma,\n",
    "    title=\"Number of Refugees under UNHCR's Mandate by Country Over Time\",\n",
    "    labels={'Refugees under UNHCR\\'s mandate': 'Number of Refugees'}\n",
    ")\n",
    "\n",
    "# Update layout for better visualization\n",
    "fig.update_layout(\n",
    "    geo=dict(\n",
    "        showframe=False,\n",
    "        showcoastlines=False,\n",
    "        projection_type='equirectangular',\n",
    "        lataxis=dict(range=[25, 80]), \n",
    "        lonaxis=dict(range=[-35, 65])\n",
    "    ),\n",
    "    coloraxis_colorbar=dict(\n",
    "        title=\"Number of Refugees\"\n",
    "    ),\n",
    "    width=1200,  # Set the width of the figure\n",
    "    height=800   # Set the height of the figure\n",
    ")\n",
    "\n",
    "fig.show()\n",
    "\n",
    "#zonder duitsland\n",
    "# Exclude Germany from the dataset\n",
    "df_excl_germany = df[df['Country of asylum'] != 'Germany']\n",
    "\n",
    "# Aggregate the data by Country of asylum and Year\n",
    "agg_df_excl_germany = df_excl_germany.groupby(['Year', 'Country of asylum', 'Country of asylum (ISO)'])['Refugees under UNHCR\\'s mandate'].sum().reset_index()\n",
    "\n",
    "fig_excl_germany = px.choropleth(\n",
    "    agg_df_excl_germany,\n",
    "    locations=\"Country of asylum (ISO)\",\n",
    "    color=\"Refugees under UNHCR's mandate\",\n",
    "    hover_name=\"Country of asylum\",\n",
    "    animation_frame=\"Year\",\n",
    "    color_continuous_scale=px.colors.sequential.Plasma,\n",
    "    title=\"Number of Refugees under UNHCR's Mandate by Country Over Time (Excluding Germany)\",\n",
    "    labels={'Refugees under UNHCR\\'s mandate': 'Number of Refugees'}\n",
    ")\n",
    "\n",
    "# Update layout for better visualization\n",
    "fig_excl_germany.update_layout(\n",
    "    geo=dict(\n",
    "        showframe=False,\n",
    "        showcoastlines=False,\n",
    "        projection_type='equirectangular',\n",
    "        lataxis=dict(range=[25, 80]), \n",
    "        lonaxis=dict(range=[-35, 65])\n",
    "    ),\n",
    "    coloraxis_colorbar=dict(\n",
    "        title=\"Number of Refugees\"\n",
    "    ),\n",
    "    width=1200,  # Set the width of the figure\n",
    "    height=800   # Set the height of the figure\n",
    ")\n",
    "\n",
    "fig_excl_germany.show()"
   ]
  },
  {
   "cell_type": "code",
   "execution_count": null,
   "metadata": {},
   "outputs": [],
   "source": []
  }
 ],
 "metadata": {
  "kernelspec": {
   "display_name": "Python 3 (ipykernel)",
   "language": "python",
   "name": "python3"
  },
  "language_info": {
   "codemirror_mode": {
    "name": "ipython",
    "version": 3
   },
   "file_extension": ".py",
   "mimetype": "text/x-python",
   "name": "python",
   "nbconvert_exporter": "python",
   "pygments_lexer": "ipython3",
   "version": "3.10.12"
  }
 },
 "nbformat": 4,
 "nbformat_minor": 4
}
